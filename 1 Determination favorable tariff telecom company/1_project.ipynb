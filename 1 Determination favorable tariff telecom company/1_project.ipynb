{
 "cells": [
  {
   "cell_type": "markdown",
   "metadata": {},
   "source": [
    "# Тема: Определение перспективного тарифа для телеком компании"
   ]
  },
  {
   "cell_type": "markdown",
   "metadata": {},
   "source": [
    "# Целевая установка:  \n",
    "\n",
    "Провести анализ тарифов «Смарт»,  «Ультра» и по результатам сделать вывод — какой тариф лучше."
   ]
  },
  {
   "cell_type": "markdown",
   "metadata": {
    "toc": true
   },
   "source": [
    "<h1>Table of Contents<span class=\"tocSkip\"></span></h1>\n",
    "<div class=\"toc\"><ul class=\"toc-item\"><li><span><a href=\"#Изучение-данных\" data-toc-modified-id=\"Изучение-данных-1\"><span class=\"toc-item-num\">1&nbsp;&nbsp;</span>Изучение данных</a></span><ul class=\"toc-item\"><li><span><a href=\"#Таблица-'Пользователи'\" data-toc-modified-id=\"Таблица-'Пользователи'-1.1\"><span class=\"toc-item-num\">1.1&nbsp;&nbsp;</span>Таблица 'Пользователи'</a></span></li><li><span><a href=\"#Информация-по-звонкам\" data-toc-modified-id=\"Информация-по-звонкам-1.2\"><span class=\"toc-item-num\">1.2&nbsp;&nbsp;</span>Информация по звонкам</a></span></li><li><span><a href=\"#Информация-о-сообщениях\" data-toc-modified-id=\"Информация-о-сообщениях-1.3\"><span class=\"toc-item-num\">1.3&nbsp;&nbsp;</span>Информация о сообщениях</a></span></li><li><span><a href=\"#Таблица-'Интернет'\" data-toc-modified-id=\"Таблица-'Интернет'-1.4\"><span class=\"toc-item-num\">1.4&nbsp;&nbsp;</span>Таблица 'Интернет'</a></span></li><li><span><a href=\"#Информация-о-тарифах\" data-toc-modified-id=\"Информация-о-тарифах-1.5\"><span class=\"toc-item-num\">1.5&nbsp;&nbsp;</span>Информация о тарифах</a></span></li><li><span><a href=\"#Вывод-по-результатам-изучения-данных\" data-toc-modified-id=\"Вывод-по-результатам-изучения-данных-1.6\"><span class=\"toc-item-num\">1.6&nbsp;&nbsp;</span>Вывод по результатам изучения данных</a></span></li></ul></li><li><span><a href=\"#Предобработка-данных\" data-toc-modified-id=\"Предобработка-данных-2\"><span class=\"toc-item-num\">2&nbsp;&nbsp;</span>Предобработка данных</a></span><ul class=\"toc-item\"><li><span><a href=\"#Таблица-'Пользователи'\" data-toc-modified-id=\"Таблица-'Пользователи'-2.1\"><span class=\"toc-item-num\">2.1&nbsp;&nbsp;</span>Таблица 'Пользователи'</a></span></li><li><span><a href=\"#Таблица-'Звонки'\" data-toc-modified-id=\"Таблица-'Звонки'-2.2\"><span class=\"toc-item-num\">2.2&nbsp;&nbsp;</span>Таблица 'Звонки'</a></span></li><li><span><a href=\"#Таблица-'Сообщения'\" data-toc-modified-id=\"Таблица-'Сообщения'-2.3\"><span class=\"toc-item-num\">2.3&nbsp;&nbsp;</span>Таблица 'Сообщения'</a></span></li><li><span><a href=\"#Таблица-'Интернет'\" data-toc-modified-id=\"Таблица-'Интернет'-2.4\"><span class=\"toc-item-num\">2.4&nbsp;&nbsp;</span>Таблица 'Интернет'</a></span></li><li><span><a href=\"#Вывод-после--предобработки-данных\" data-toc-modified-id=\"Вывод-после--предобработки-данных-2.5\"><span class=\"toc-item-num\">2.5&nbsp;&nbsp;</span>Вывод после  предобработки данных</a></span></li></ul></li><li><span><a href=\"#Исправление-ошибок\" data-toc-modified-id=\"Исправление-ошибок-3\"><span class=\"toc-item-num\">3&nbsp;&nbsp;</span>Исправление ошибок</a></span></li><li><span><a href=\"#Расчеты-и-добавление-данных\" data-toc-modified-id=\"Расчеты-и-добавление-данных-4\"><span class=\"toc-item-num\">4&nbsp;&nbsp;</span>Расчеты и добавление данных</a></span></li><li><span><a href=\"#-Комментарий-ревьюера-2\" data-toc-modified-id=\"-Комментарий-ревьюера-2-5\"><span class=\"toc-item-num\">5&nbsp;&nbsp;</span> Комментарий ревьюера 2</a></span></li><li><span><a href=\"#-Комментарий-ревьюера-2\" data-toc-modified-id=\"-Комментарий-ревьюера-2-6\"><span class=\"toc-item-num\">6&nbsp;&nbsp;</span> Комментарий ревьюера 2</a></span></li><li><span><a href=\"#-Комментарий-ревьюера-2\" data-toc-modified-id=\"-Комментарий-ревьюера-2-7\"><span class=\"toc-item-num\">7&nbsp;&nbsp;</span> Комментарий ревьюера 2</a></span></li><li><span><a href=\"#Анализ-тарифов\" data-toc-modified-id=\"Анализ-тарифов-8\"><span class=\"toc-item-num\">8&nbsp;&nbsp;</span>Анализ тарифов</a></span><ul class=\"toc-item\"><li><span><a href=\"#Тариф-'ultra'\" data-toc-modified-id=\"Тариф-'ultra'-8.1\"><span class=\"toc-item-num\">8.1&nbsp;&nbsp;</span>Тариф 'ultra'</a></span></li><li><span><a href=\"#Тариф-'smart'\" data-toc-modified-id=\"Тариф-'smart'-8.2\"><span class=\"toc-item-num\">8.2&nbsp;&nbsp;</span>Тариф 'smart'</a></span></li><li><span><a href=\"#Вывод-из-анализа-тарифов\" data-toc-modified-id=\"Вывод-из-анализа-тарифов-8.3\"><span class=\"toc-item-num\">8.3&nbsp;&nbsp;</span>Вывод из анализа тарифов</a></span></li></ul></li><li><span><a href=\"#Проверка-гипотез\" data-toc-modified-id=\"Проверка-гипотез-9\"><span class=\"toc-item-num\">9&nbsp;&nbsp;</span>Проверка гипотез</a></span><ul class=\"toc-item\"><li><span><a href=\"#Гипотеза-№-1\" data-toc-modified-id=\"Гипотеза-№-1-9.1\"><span class=\"toc-item-num\">9.1&nbsp;&nbsp;</span>Гипотеза № 1</a></span></li><li><span><a href=\"#Гипотеза-№-2\" data-toc-modified-id=\"Гипотеза-№-2-9.2\"><span class=\"toc-item-num\">9.2&nbsp;&nbsp;</span>Гипотеза № 2</a></span></li></ul></li><li><span><a href=\"#Общий-вывод\" data-toc-modified-id=\"Общий-вывод-10\"><span class=\"toc-item-num\">10&nbsp;&nbsp;</span>Общий вывод</a></span></li></ul></div>"
   ]
  },
  {
   "cell_type": "markdown",
   "metadata": {},
   "source": [
    "## Изучение данных"
   ]
  },
  {
   "cell_type": "markdown",
   "metadata": {},
   "source": [
    "### Таблица 'Пользователи'"
   ]
  },
  {
   "cell_type": "code",
   "execution_count": 1,
   "metadata": {},
   "outputs": [],
   "source": [
    "import pandas as pd\n",
    "import numpy as np\n",
    "from scipy import stats as st"
   ]
  },
  {
   "cell_type": "code",
   "execution_count": 2,
   "metadata": {},
   "outputs": [
    {
     "data": {
      "text/plain": [
       "(500, 8)"
      ]
     },
     "execution_count": 2,
     "metadata": {},
     "output_type": "execute_result"
    }
   ],
   "source": [
    "data_users = pd.read_csv('/datasets/users.csv')\n",
    "data_users.shape"
   ]
  },
  {
   "cell_type": "code",
   "execution_count": 3,
   "metadata": {},
   "outputs": [
    {
     "data": {
      "text/html": [
       "<div>\n",
       "<style scoped>\n",
       "    .dataframe tbody tr th:only-of-type {\n",
       "        vertical-align: middle;\n",
       "    }\n",
       "\n",
       "    .dataframe tbody tr th {\n",
       "        vertical-align: top;\n",
       "    }\n",
       "\n",
       "    .dataframe thead th {\n",
       "        text-align: right;\n",
       "    }\n",
       "</style>\n",
       "<table border=\"1\" class=\"dataframe\">\n",
       "  <thead>\n",
       "    <tr style=\"text-align: right;\">\n",
       "      <th></th>\n",
       "      <th>user_id</th>\n",
       "      <th>age</th>\n",
       "      <th>churn_date</th>\n",
       "      <th>city</th>\n",
       "      <th>first_name</th>\n",
       "      <th>last_name</th>\n",
       "      <th>reg_date</th>\n",
       "      <th>tariff</th>\n",
       "    </tr>\n",
       "  </thead>\n",
       "  <tbody>\n",
       "    <tr>\n",
       "      <td>0</td>\n",
       "      <td>1000</td>\n",
       "      <td>52</td>\n",
       "      <td>NaN</td>\n",
       "      <td>Краснодар</td>\n",
       "      <td>Рафаил</td>\n",
       "      <td>Верещагин</td>\n",
       "      <td>2018-05-25</td>\n",
       "      <td>ultra</td>\n",
       "    </tr>\n",
       "    <tr>\n",
       "      <td>1</td>\n",
       "      <td>1001</td>\n",
       "      <td>41</td>\n",
       "      <td>NaN</td>\n",
       "      <td>Москва</td>\n",
       "      <td>Иван</td>\n",
       "      <td>Ежов</td>\n",
       "      <td>2018-11-01</td>\n",
       "      <td>smart</td>\n",
       "    </tr>\n",
       "    <tr>\n",
       "      <td>2</td>\n",
       "      <td>1002</td>\n",
       "      <td>59</td>\n",
       "      <td>NaN</td>\n",
       "      <td>Стерлитамак</td>\n",
       "      <td>Евгений</td>\n",
       "      <td>Абрамович</td>\n",
       "      <td>2018-06-17</td>\n",
       "      <td>smart</td>\n",
       "    </tr>\n",
       "    <tr>\n",
       "      <td>3</td>\n",
       "      <td>1003</td>\n",
       "      <td>23</td>\n",
       "      <td>NaN</td>\n",
       "      <td>Москва</td>\n",
       "      <td>Белла</td>\n",
       "      <td>Белякова</td>\n",
       "      <td>2018-08-17</td>\n",
       "      <td>ultra</td>\n",
       "    </tr>\n",
       "    <tr>\n",
       "      <td>4</td>\n",
       "      <td>1004</td>\n",
       "      <td>68</td>\n",
       "      <td>NaN</td>\n",
       "      <td>Новокузнецк</td>\n",
       "      <td>Татьяна</td>\n",
       "      <td>Авдеенко</td>\n",
       "      <td>2018-05-14</td>\n",
       "      <td>ultra</td>\n",
       "    </tr>\n",
       "  </tbody>\n",
       "</table>\n",
       "</div>"
      ],
      "text/plain": [
       "   user_id  age churn_date         city first_name  last_name    reg_date  \\\n",
       "0     1000   52        NaN    Краснодар     Рафаил  Верещагин  2018-05-25   \n",
       "1     1001   41        NaN       Москва       Иван       Ежов  2018-11-01   \n",
       "2     1002   59        NaN  Стерлитамак    Евгений  Абрамович  2018-06-17   \n",
       "3     1003   23        NaN       Москва      Белла   Белякова  2018-08-17   \n",
       "4     1004   68        NaN  Новокузнецк    Татьяна   Авдеенко  2018-05-14   \n",
       "\n",
       "  tariff  \n",
       "0  ultra  \n",
       "1  smart  \n",
       "2  smart  \n",
       "3  ultra  \n",
       "4  ultra  "
      ]
     },
     "execution_count": 3,
     "metadata": {},
     "output_type": "execute_result"
    }
   ],
   "source": [
    "data_users.head()"
   ]
  },
  {
   "cell_type": "code",
   "execution_count": 4,
   "metadata": {},
   "outputs": [
    {
     "name": "stdout",
     "output_type": "stream",
     "text": [
      "<class 'pandas.core.frame.DataFrame'>\n",
      "RangeIndex: 500 entries, 0 to 499\n",
      "Data columns (total 8 columns):\n",
      "user_id       500 non-null int64\n",
      "age           500 non-null int64\n",
      "churn_date    38 non-null object\n",
      "city          500 non-null object\n",
      "first_name    500 non-null object\n",
      "last_name     500 non-null object\n",
      "reg_date      500 non-null object\n",
      "tariff        500 non-null object\n",
      "dtypes: int64(2), object(6)\n",
      "memory usage: 31.4+ KB\n"
     ]
    }
   ],
   "source": [
    "data_users.info()"
   ]
  },
  {
   "cell_type": "markdown",
   "metadata": {},
   "source": [
    "Таблица data_users содержит информацию о пользователях.   \n",
    "500 - строчек, 8 столбцов.   \n",
    "В столбцах указаны данные:   \n",
    "**'user_id'**\t- идентификатор пользователя (тип данных int); **<span style=\"color:green\">данные необходимы для объединения таблиц</span>**;   \n",
    "**'age'**\t- количество лет пользователя (тип данных int), **<span style=\"color:red\">данные для анализа не используются</span>**;   \n",
    "**'churn_date'** - дата прекращения пользования тарифом (тип данных object, **а должен datetime**). Пропуски означают, что на момент выгрузки данных тариф еще действовал; **<span style=\"color:green\">данные необходимы для анализа</span>**;    \n",
    "**'city'** - \tгород проживания пользователя (тип данных object); **<span style=\"color:green\">данные необходимы для сравнения тарифов по регионам</span>**;   \n",
    "**'first_name'** - имя пользователя\t(тип данных object), **<span style=\"color:red\">данные для анализа не используются</span>**;   \n",
    "**'last_name'** - фамилия пользователя\t(тип данных object), **<span style=\"color:red\">данные для анализа не используются</span>**;      \n",
    "**'reg_date'** - дата подключения тарифа (день, месяц, год)\t- (тип данных object, **а должен datetime**), **<span style=\"color:green\">данные необходимы для анализа</span>**;   \n",
    "**'tariff'** - название тарифного плана (тип данных object); **<span style=\"color:green\">данные необходимы для объединения таблиц</span>**  "
   ]
  },
  {
   "cell_type": "markdown",
   "metadata": {},
   "source": [
    "**Вывод:**\n",
    "В таблице **'data_users'**:   \n",
    "в столбце <span style=\"color:red\">'churn_date'</span> нужно заменить тип данных и пропуски;   \n",
    "в столбце <span style=\"color:red\">'reg_date'</span> нужно заменить тип данных;   \n",
    "столбцы <span style=\"color:red\">'age', 'first_name', 'last_name'</span> не используем."
   ]
  },
  {
   "cell_type": "markdown",
   "metadata": {},
   "source": [
    "### Информация по звонкам "
   ]
  },
  {
   "cell_type": "code",
   "execution_count": 5,
   "metadata": {},
   "outputs": [
    {
     "data": {
      "text/plain": [
       "(202607, 4)"
      ]
     },
     "execution_count": 5,
     "metadata": {},
     "output_type": "execute_result"
    }
   ],
   "source": [
    "data_calls = pd.read_csv('/datasets/calls.csv')\n",
    "data_calls.shape"
   ]
  },
  {
   "cell_type": "code",
   "execution_count": 6,
   "metadata": {},
   "outputs": [
    {
     "data": {
      "text/html": [
       "<div>\n",
       "<style scoped>\n",
       "    .dataframe tbody tr th:only-of-type {\n",
       "        vertical-align: middle;\n",
       "    }\n",
       "\n",
       "    .dataframe tbody tr th {\n",
       "        vertical-align: top;\n",
       "    }\n",
       "\n",
       "    .dataframe thead th {\n",
       "        text-align: right;\n",
       "    }\n",
       "</style>\n",
       "<table border=\"1\" class=\"dataframe\">\n",
       "  <thead>\n",
       "    <tr style=\"text-align: right;\">\n",
       "      <th></th>\n",
       "      <th>id</th>\n",
       "      <th>call_date</th>\n",
       "      <th>duration</th>\n",
       "      <th>user_id</th>\n",
       "    </tr>\n",
       "  </thead>\n",
       "  <tbody>\n",
       "    <tr>\n",
       "      <td>0</td>\n",
       "      <td>1000_0</td>\n",
       "      <td>2018-07-25</td>\n",
       "      <td>0.00</td>\n",
       "      <td>1000</td>\n",
       "    </tr>\n",
       "    <tr>\n",
       "      <td>1</td>\n",
       "      <td>1000_1</td>\n",
       "      <td>2018-08-17</td>\n",
       "      <td>0.00</td>\n",
       "      <td>1000</td>\n",
       "    </tr>\n",
       "    <tr>\n",
       "      <td>2</td>\n",
       "      <td>1000_2</td>\n",
       "      <td>2018-06-11</td>\n",
       "      <td>2.85</td>\n",
       "      <td>1000</td>\n",
       "    </tr>\n",
       "    <tr>\n",
       "      <td>3</td>\n",
       "      <td>1000_3</td>\n",
       "      <td>2018-09-21</td>\n",
       "      <td>13.80</td>\n",
       "      <td>1000</td>\n",
       "    </tr>\n",
       "    <tr>\n",
       "      <td>4</td>\n",
       "      <td>1000_4</td>\n",
       "      <td>2018-12-15</td>\n",
       "      <td>5.18</td>\n",
       "      <td>1000</td>\n",
       "    </tr>\n",
       "  </tbody>\n",
       "</table>\n",
       "</div>"
      ],
      "text/plain": [
       "       id   call_date  duration  user_id\n",
       "0  1000_0  2018-07-25      0.00     1000\n",
       "1  1000_1  2018-08-17      0.00     1000\n",
       "2  1000_2  2018-06-11      2.85     1000\n",
       "3  1000_3  2018-09-21     13.80     1000\n",
       "4  1000_4  2018-12-15      5.18     1000"
      ]
     },
     "execution_count": 6,
     "metadata": {},
     "output_type": "execute_result"
    }
   ],
   "source": [
    "data_calls.head()"
   ]
  },
  {
   "cell_type": "code",
   "execution_count": 7,
   "metadata": {},
   "outputs": [
    {
     "name": "stdout",
     "output_type": "stream",
     "text": [
      "<class 'pandas.core.frame.DataFrame'>\n",
      "RangeIndex: 202607 entries, 0 to 202606\n",
      "Data columns (total 4 columns):\n",
      "id           202607 non-null object\n",
      "call_date    202607 non-null object\n",
      "duration     202607 non-null float64\n",
      "user_id      202607 non-null int64\n",
      "dtypes: float64(1), int64(1), object(2)\n",
      "memory usage: 6.2+ MB\n"
     ]
    }
   ],
   "source": [
    "data_calls.info()"
   ]
  },
  {
   "cell_type": "markdown",
   "metadata": {},
   "source": [
    "Таблица data_calls содержит информацию по звонкам.   \n",
    "202607 - строчек, 4 столбца.   \n",
    "В столбцах указаны данные:   \n",
    "**'id'**\t- уникальный номер звонка (тип данных object)- **<span style=\"color:red\">данные для анализа не используются</span>**;   \n",
    "**'call_date'**\t- дата звонка (тип данных object, **а должен datetime**);**<span style=\"color:green\">данные необходимы для анализа</span>**    \n",
    "**'duration'** - длительность звонка в минутах (тип данных float для удобства работы **нужно перевести в int**); **<span style=\"color:green\">данные необходимы для анализа</span>**;    \n",
    "**'user_id'** - \tидентификатор пользователя (тип данных int); **<span style=\"color:green\">данные нужны для объединения таблиц</span>**;    \n",
    "Пропусков в таблице нет.   \n",
    "**Изучим** числовые данные столбца **'duration'**"
   ]
  },
  {
   "cell_type": "code",
   "execution_count": 8,
   "metadata": {},
   "outputs": [
    {
     "data": {
      "text/plain": [
       "count    202607.000000\n",
       "mean          6.755887\n",
       "std           5.843365\n",
       "min           0.000000\n",
       "25%           1.300000\n",
       "50%           6.000000\n",
       "75%          10.700000\n",
       "max          38.000000\n",
       "Name: duration, dtype: float64"
      ]
     },
     "execution_count": 8,
     "metadata": {},
     "output_type": "execute_result"
    }
   ],
   "source": [
    "data_calls['duration'].describe()"
   ]
  },
  {
   "cell_type": "code",
   "execution_count": 9,
   "metadata": {},
   "outputs": [
    {
     "data": {
      "text/plain": [
       "0.00    39613\n",
       "4.49      142\n",
       "5.50      142\n",
       "6.15      141\n",
       "6.38      141\n",
       "Name: duration, dtype: int64"
      ]
     },
     "execution_count": 9,
     "metadata": {},
     "output_type": "execute_result"
    }
   ],
   "source": [
    "data_calls['duration'].value_counts().head()"
   ]
  },
  {
   "cell_type": "markdown",
   "metadata": {},
   "source": [
    "Количество звонков (с нулевой продолжительностью) 39613 (19.5%). Удаление их повлияет на качество исследования, поэтому нужно определить сущность их появления.   "
   ]
  },
  {
   "cell_type": "markdown",
   "metadata": {},
   "source": [
    "**Вывод:**\n",
    "В таблице **'data_calls'**:      \n",
    "в столбце <span style=\"color:red\">'call_date'</span> нужно заменить тип данных;   \n",
    "в столбце <span style=\"color:red\">'duration'</span> нужно заменить тип данных и разобраться с \"нулевой\" продолжительностью звонка;   \n",
    "столбец <span style=\"color:red\">'id'</span> не используем."
   ]
  },
  {
   "cell_type": "markdown",
   "metadata": {},
   "source": [
    "### Информация о сообщениях"
   ]
  },
  {
   "cell_type": "code",
   "execution_count": 10,
   "metadata": {},
   "outputs": [
    {
     "data": {
      "text/plain": [
       "(123036, 3)"
      ]
     },
     "execution_count": 10,
     "metadata": {},
     "output_type": "execute_result"
    }
   ],
   "source": [
    "data_messages = pd.read_csv('/datasets/messages.csv')\n",
    "data_messages.shape"
   ]
  },
  {
   "cell_type": "code",
   "execution_count": 11,
   "metadata": {},
   "outputs": [
    {
     "data": {
      "text/html": [
       "<div>\n",
       "<style scoped>\n",
       "    .dataframe tbody tr th:only-of-type {\n",
       "        vertical-align: middle;\n",
       "    }\n",
       "\n",
       "    .dataframe tbody tr th {\n",
       "        vertical-align: top;\n",
       "    }\n",
       "\n",
       "    .dataframe thead th {\n",
       "        text-align: right;\n",
       "    }\n",
       "</style>\n",
       "<table border=\"1\" class=\"dataframe\">\n",
       "  <thead>\n",
       "    <tr style=\"text-align: right;\">\n",
       "      <th></th>\n",
       "      <th>id</th>\n",
       "      <th>message_date</th>\n",
       "      <th>user_id</th>\n",
       "    </tr>\n",
       "  </thead>\n",
       "  <tbody>\n",
       "    <tr>\n",
       "      <td>0</td>\n",
       "      <td>1000_0</td>\n",
       "      <td>2018-06-27</td>\n",
       "      <td>1000</td>\n",
       "    </tr>\n",
       "    <tr>\n",
       "      <td>1</td>\n",
       "      <td>1000_1</td>\n",
       "      <td>2018-10-08</td>\n",
       "      <td>1000</td>\n",
       "    </tr>\n",
       "    <tr>\n",
       "      <td>2</td>\n",
       "      <td>1000_2</td>\n",
       "      <td>2018-08-04</td>\n",
       "      <td>1000</td>\n",
       "    </tr>\n",
       "    <tr>\n",
       "      <td>3</td>\n",
       "      <td>1000_3</td>\n",
       "      <td>2018-06-16</td>\n",
       "      <td>1000</td>\n",
       "    </tr>\n",
       "    <tr>\n",
       "      <td>4</td>\n",
       "      <td>1000_4</td>\n",
       "      <td>2018-12-05</td>\n",
       "      <td>1000</td>\n",
       "    </tr>\n",
       "  </tbody>\n",
       "</table>\n",
       "</div>"
      ],
      "text/plain": [
       "       id message_date  user_id\n",
       "0  1000_0   2018-06-27     1000\n",
       "1  1000_1   2018-10-08     1000\n",
       "2  1000_2   2018-08-04     1000\n",
       "3  1000_3   2018-06-16     1000\n",
       "4  1000_4   2018-12-05     1000"
      ]
     },
     "execution_count": 11,
     "metadata": {},
     "output_type": "execute_result"
    }
   ],
   "source": [
    "data_messages.head()"
   ]
  },
  {
   "cell_type": "code",
   "execution_count": 12,
   "metadata": {},
   "outputs": [
    {
     "name": "stdout",
     "output_type": "stream",
     "text": [
      "<class 'pandas.core.frame.DataFrame'>\n",
      "RangeIndex: 123036 entries, 0 to 123035\n",
      "Data columns (total 3 columns):\n",
      "id              123036 non-null object\n",
      "message_date    123036 non-null object\n",
      "user_id         123036 non-null int64\n",
      "dtypes: int64(1), object(2)\n",
      "memory usage: 2.8+ MB\n"
     ]
    }
   ],
   "source": [
    "data_messages.info()"
   ]
  },
  {
   "cell_type": "markdown",
   "metadata": {},
   "source": [
    "Таблица data_messages содержит информацию о сообщениях   \n",
    "123036 - строчек, 3 столбца.   \n",
    "В столбцах указаны данные:   \n",
    "**'id'**\t- уникальный номер сообщения (тип данных object); **<span style=\"color:red\">данные для анализа не используются</span>**;   \n",
    "**'message_date'**\t- дата сообщения (тип данных object, **а должен datetime**);**<span style=\"color:green\">данные необходимы для анализа</span>**    \n",
    "**'user_id'** - \tидентификатор пользователя (тип данных int); **<span style=\"color:green\">данные необходимы для объединения таблиц</span>**;              \n",
    "Пропусков в таблице нет."
   ]
  },
  {
   "cell_type": "markdown",
   "metadata": {},
   "source": [
    "**Вывод:**   \n",
    "В таблице **'data_messages'**:   \n",
    "в столбце <span style=\"color:red\">'message_date'</span> нужно заменить тип данных;   \n",
    "столбец <span style=\"color:red\">'id'</span> не используем."
   ]
  },
  {
   "cell_type": "markdown",
   "metadata": {},
   "source": [
    "### Таблица 'Интернет'"
   ]
  },
  {
   "cell_type": "code",
   "execution_count": 13,
   "metadata": {},
   "outputs": [
    {
     "data": {
      "text/plain": [
       "(149396, 5)"
      ]
     },
     "execution_count": 13,
     "metadata": {},
     "output_type": "execute_result"
    }
   ],
   "source": [
    "data_internets = pd.read_csv('/datasets/internet.csv')\n",
    "data_internets.shape"
   ]
  },
  {
   "cell_type": "code",
   "execution_count": 14,
   "metadata": {},
   "outputs": [
    {
     "data": {
      "text/html": [
       "<div>\n",
       "<style scoped>\n",
       "    .dataframe tbody tr th:only-of-type {\n",
       "        vertical-align: middle;\n",
       "    }\n",
       "\n",
       "    .dataframe tbody tr th {\n",
       "        vertical-align: top;\n",
       "    }\n",
       "\n",
       "    .dataframe thead th {\n",
       "        text-align: right;\n",
       "    }\n",
       "</style>\n",
       "<table border=\"1\" class=\"dataframe\">\n",
       "  <thead>\n",
       "    <tr style=\"text-align: right;\">\n",
       "      <th></th>\n",
       "      <th>Unnamed: 0</th>\n",
       "      <th>id</th>\n",
       "      <th>mb_used</th>\n",
       "      <th>session_date</th>\n",
       "      <th>user_id</th>\n",
       "    </tr>\n",
       "  </thead>\n",
       "  <tbody>\n",
       "    <tr>\n",
       "      <td>0</td>\n",
       "      <td>0</td>\n",
       "      <td>1000_0</td>\n",
       "      <td>112.95</td>\n",
       "      <td>2018-11-25</td>\n",
       "      <td>1000</td>\n",
       "    </tr>\n",
       "    <tr>\n",
       "      <td>1</td>\n",
       "      <td>1</td>\n",
       "      <td>1000_1</td>\n",
       "      <td>1052.81</td>\n",
       "      <td>2018-09-07</td>\n",
       "      <td>1000</td>\n",
       "    </tr>\n",
       "    <tr>\n",
       "      <td>2</td>\n",
       "      <td>2</td>\n",
       "      <td>1000_2</td>\n",
       "      <td>1197.26</td>\n",
       "      <td>2018-06-25</td>\n",
       "      <td>1000</td>\n",
       "    </tr>\n",
       "    <tr>\n",
       "      <td>3</td>\n",
       "      <td>3</td>\n",
       "      <td>1000_3</td>\n",
       "      <td>550.27</td>\n",
       "      <td>2018-08-22</td>\n",
       "      <td>1000</td>\n",
       "    </tr>\n",
       "    <tr>\n",
       "      <td>4</td>\n",
       "      <td>4</td>\n",
       "      <td>1000_4</td>\n",
       "      <td>302.56</td>\n",
       "      <td>2018-09-24</td>\n",
       "      <td>1000</td>\n",
       "    </tr>\n",
       "  </tbody>\n",
       "</table>\n",
       "</div>"
      ],
      "text/plain": [
       "   Unnamed: 0      id  mb_used session_date  user_id\n",
       "0           0  1000_0   112.95   2018-11-25     1000\n",
       "1           1  1000_1  1052.81   2018-09-07     1000\n",
       "2           2  1000_2  1197.26   2018-06-25     1000\n",
       "3           3  1000_3   550.27   2018-08-22     1000\n",
       "4           4  1000_4   302.56   2018-09-24     1000"
      ]
     },
     "execution_count": 14,
     "metadata": {},
     "output_type": "execute_result"
    }
   ],
   "source": [
    "data_internets.head()"
   ]
  },
  {
   "cell_type": "code",
   "execution_count": 15,
   "metadata": {},
   "outputs": [
    {
     "name": "stdout",
     "output_type": "stream",
     "text": [
      "<class 'pandas.core.frame.DataFrame'>\n",
      "RangeIndex: 149396 entries, 0 to 149395\n",
      "Data columns (total 5 columns):\n",
      "Unnamed: 0      149396 non-null int64\n",
      "id              149396 non-null object\n",
      "mb_used         149396 non-null float64\n",
      "session_date    149396 non-null object\n",
      "user_id         149396 non-null int64\n",
      "dtypes: float64(1), int64(2), object(2)\n",
      "memory usage: 5.7+ MB\n"
     ]
    }
   ],
   "source": [
    "data_internets.info()"
   ]
  },
  {
   "cell_type": "markdown",
   "metadata": {},
   "source": [
    "Таблица data_internets содержит информацию об интернет-сессиях   \n",
    "149396 - строчек, 5 столбцов.   \n",
    "В столбцах указаны данные:    \n",
    "**'Unnamed: 0'** - номер индекса (тип данных int); **<span style=\"color:red\">данные для анализа не используются</span>**;    \n",
    "**'id'**\t- уникальный номер сессии (тип данных object); **<span style=\"color:red\">данные для анализа не используются</span>**;       \n",
    "**'mb_used'** - объем потраченного за сессию трафика (в мегабайтах) (тип данных float, для удобства работы **нужно перевести в int**); **<span style=\"color:green\">данные необходимы для анализа</span>**    \n",
    "**'session_date'**\t- дата интернет-сессии (тип данных object, **а должен datetime**); **<span style=\"color:green\">данные необходимы для анализа</span>**     \n",
    "**'user_id'** - \tидентификатор пользователя (тип данных int); **<span style=\"color:green\">данные необходимы для объединения таблиц</span>**;     \n",
    "Пропусков в таблице нет.  \n",
    "**Изучим** числовые данные столбца **'mb_used'**"
   ]
  },
  {
   "cell_type": "code",
   "execution_count": 16,
   "metadata": {},
   "outputs": [
    {
     "data": {
      "text/plain": [
       "count    149396.000000\n",
       "mean        370.192426\n",
       "std         278.300951\n",
       "min           0.000000\n",
       "25%         138.187500\n",
       "50%         348.015000\n",
       "75%         559.552500\n",
       "max        1724.830000\n",
       "Name: mb_used, dtype: float64"
      ]
     },
     "execution_count": 16,
     "metadata": {},
     "output_type": "execute_result"
    }
   ],
   "source": [
    "data_internets['mb_used'].describe()"
   ]
  },
  {
   "cell_type": "code",
   "execution_count": 17,
   "metadata": {},
   "outputs": [
    {
     "data": {
      "text/plain": [
       "0.00      19598\n",
       "197.56        9\n",
       "447.30        9\n",
       "335.91        9\n",
       "108.95        8\n",
       "Name: mb_used, dtype: int64"
      ]
     },
     "execution_count": 17,
     "metadata": {},
     "output_type": "execute_result"
    }
   ],
   "source": [
    "data_internets['mb_used'].value_counts().head()"
   ]
  },
  {
   "cell_type": "markdown",
   "metadata": {},
   "source": [
    "Количество значений с \"нулевым\" объёмом потраченного трафика 19598 (13.1%). Удаление их повлияет на качество исследования, поэтому нужно определить сущность их появления.   "
   ]
  },
  {
   "cell_type": "markdown",
   "metadata": {},
   "source": [
    "**Вывод:**   \n",
    "В таблице **'data_internets**:      \n",
    "в столбце <span style=\"color:red\">'session_date'</span> нужно заменить тип данных;   \n",
    "в столбце <span style=\"color:red\">'mb_used'</span> изменить тип данных на int и нужно разобраться с \"нулевыми\" значениями;    \n",
    "столбцы <span style=\"color:red\">'Unnamed: 0', 'id'</span> не используем"
   ]
  },
  {
   "cell_type": "markdown",
   "metadata": {},
   "source": [
    "### Информация о тарифах"
   ]
  },
  {
   "cell_type": "code",
   "execution_count": 18,
   "metadata": {},
   "outputs": [
    {
     "data": {
      "text/plain": [
       "(2, 8)"
      ]
     },
     "execution_count": 18,
     "metadata": {},
     "output_type": "execute_result"
    }
   ],
   "source": [
    "data_tariffs = pd.read_csv('/datasets/tariffs.csv')\n",
    "data_tariffs.shape"
   ]
  },
  {
   "cell_type": "code",
   "execution_count": 19,
   "metadata": {},
   "outputs": [
    {
     "data": {
      "text/html": [
       "<div>\n",
       "<style scoped>\n",
       "    .dataframe tbody tr th:only-of-type {\n",
       "        vertical-align: middle;\n",
       "    }\n",
       "\n",
       "    .dataframe tbody tr th {\n",
       "        vertical-align: top;\n",
       "    }\n",
       "\n",
       "    .dataframe thead th {\n",
       "        text-align: right;\n",
       "    }\n",
       "</style>\n",
       "<table border=\"1\" class=\"dataframe\">\n",
       "  <thead>\n",
       "    <tr style=\"text-align: right;\">\n",
       "      <th></th>\n",
       "      <th>messages_included</th>\n",
       "      <th>mb_per_month_included</th>\n",
       "      <th>minutes_included</th>\n",
       "      <th>rub_monthly_fee</th>\n",
       "      <th>rub_per_gb</th>\n",
       "      <th>rub_per_message</th>\n",
       "      <th>rub_per_minute</th>\n",
       "      <th>tariff_name</th>\n",
       "    </tr>\n",
       "  </thead>\n",
       "  <tbody>\n",
       "    <tr>\n",
       "      <td>0</td>\n",
       "      <td>50</td>\n",
       "      <td>15360</td>\n",
       "      <td>500</td>\n",
       "      <td>550</td>\n",
       "      <td>200</td>\n",
       "      <td>3</td>\n",
       "      <td>3</td>\n",
       "      <td>smart</td>\n",
       "    </tr>\n",
       "    <tr>\n",
       "      <td>1</td>\n",
       "      <td>1000</td>\n",
       "      <td>30720</td>\n",
       "      <td>3000</td>\n",
       "      <td>1950</td>\n",
       "      <td>150</td>\n",
       "      <td>1</td>\n",
       "      <td>1</td>\n",
       "      <td>ultra</td>\n",
       "    </tr>\n",
       "  </tbody>\n",
       "</table>\n",
       "</div>"
      ],
      "text/plain": [
       "   messages_included  mb_per_month_included  minutes_included  \\\n",
       "0                 50                  15360               500   \n",
       "1               1000                  30720              3000   \n",
       "\n",
       "   rub_monthly_fee  rub_per_gb  rub_per_message  rub_per_minute tariff_name  \n",
       "0              550         200                3               3       smart  \n",
       "1             1950         150                1               1       ultra  "
      ]
     },
     "execution_count": 19,
     "metadata": {},
     "output_type": "execute_result"
    }
   ],
   "source": [
    "data_tariffs.head()"
   ]
  },
  {
   "cell_type": "code",
   "execution_count": 20,
   "metadata": {},
   "outputs": [
    {
     "name": "stdout",
     "output_type": "stream",
     "text": [
      "<class 'pandas.core.frame.DataFrame'>\n",
      "RangeIndex: 2 entries, 0 to 1\n",
      "Data columns (total 8 columns):\n",
      "messages_included        2 non-null int64\n",
      "mb_per_month_included    2 non-null int64\n",
      "minutes_included         2 non-null int64\n",
      "rub_monthly_fee          2 non-null int64\n",
      "rub_per_gb               2 non-null int64\n",
      "rub_per_message          2 non-null int64\n",
      "rub_per_minute           2 non-null int64\n",
      "tariff_name              2 non-null object\n",
      "dtypes: int64(7), object(1)\n",
      "memory usage: 256.0+ bytes\n"
     ]
    }
   ],
   "source": [
    "data_tariffs.info()"
   ]
  },
  {
   "cell_type": "markdown",
   "metadata": {},
   "source": [
    "Таблица data_tariffs содержит информацию о трафиках   \n",
    "2 - строчки, 8 столбцов.   \n",
    "В столбцах указаны данные:    \n",
    "**'messages_included'** - количество сообщений в месяц, включённых в абонентскую плату(тип данных int); **<span style=\"color:green\">данные необходимы для анализа</span>**       \n",
    "**'mb_per_month_included'** - объём интернет-трафика, включённого в абонентскую плату (в мегабайтах)(тип данных int); **<span style=\"color:green\">данные необходимы для анализа</span>**   \n",
    "**'minutes_included'** - количество минут разговора в месяц, включённых в абонентскую плату(тип данных int); **<span style=\"color:green\">данные необходимы для анализа</span>**   \n",
    "**'rub_monthly_fee'** - ежемесячная абонентская плата в рублях (тип данных int); **<span style=\"color:green\">данные необходимы для анализа</span>**   \n",
    "**'rub_per_gb'** - стоимость дополнительного гигабайта интернет-трафика сверх тарифного пакета (тип \n",
    "данных   \n",
    "int); **<span style=\"color:green\">данные необходимы для анализа</span>**    \n",
    "**'rub_per_message'** - стоимость отправки сообщения сверх тарифного пакета(тип данных int); **<span style=\"color:green\">данные необходимы для анализа</span>**    \n",
    "**'rub_per_minute'** - стоимость минуты разговора сверх тарифного пакета(тип данных int); **<span style=\"color:green\">данные необходимы для анализа</span>**   \n",
    "**'tariff_name'** - название тарифа (тип данных object); **<span style=\"color:green\">данные необходимы для объединения таблиц</span>**, при этом привести к единому названию."
   ]
  },
  {
   "cell_type": "markdown",
   "metadata": {},
   "source": [
    "**Вывод:**   \n",
    "Название столбцов 'tariff' и 'tariff_name' в таблицах **'data_users'** и **'data_tariffs'** перед объединением необходимо привести к единому.   "
   ]
  },
  {
   "cell_type": "markdown",
   "metadata": {},
   "source": [
    "### Вывод по результатам изучения данных"
   ]
  },
  {
   "cell_type": "markdown",
   "metadata": {},
   "source": [
    "По результатам изучения данных необходимо:   \n",
    "- 1. **Исключить** не используемые столбцы\n",
    "- 2. **Переименовать** в таблице **'data_users'** столбец 'tariff' на 'tariff_name'\n",
    "- 3. **Удалить пропуски** в столбце 'churn_date'\n",
    "- 4. **Изменить тип данных** в столбцах:   \n",
    "'churn_date', 'reg_date', 'call_date', 'message_date', 'session_date' на тип **datetime**;   \n",
    "'duration', 'mb_used'  на тип **int**\n",
    "- 5. **Разобраться с \"нулевыми\" значениями** в столбцах 'duration', 'mb_used'"
   ]
  },
  {
   "cell_type": "markdown",
   "metadata": {},
   "source": [
    "## Предобработка данных"
   ]
  },
  {
   "cell_type": "markdown",
   "metadata": {},
   "source": [
    "### Таблица 'Пользователи'"
   ]
  },
  {
   "cell_type": "markdown",
   "metadata": {},
   "source": [
    "Исключим не используемые столбцы и поменяем название столбца 'tariff' на 'tariff_name' в таблице data_users"
   ]
  },
  {
   "cell_type": "code",
   "execution_count": 21,
   "metadata": {},
   "outputs": [],
   "source": [
    "data_user = data_users.drop(\n",
    "    ['age', 'first_name', 'last_name'], axis = 1\n",
    ").rename(\n",
    "    columns={'tariff': 'tariff_name'}\n",
    ")"
   ]
  },
  {
   "cell_type": "markdown",
   "metadata": {},
   "source": [
    "Пропуски в столбце 'churn_date' означают, что на момент выгрузки данных тариф еще действовал. С учетом этого, и то что исследование проводим только за 2018 год,  заменим их на 31 декабря 2018 г.    \n",
    "Переведем данные в столбцах 'churn_date', 'reg_date' на тип datetime."
   ]
  },
  {
   "cell_type": "code",
   "execution_count": 22,
   "metadata": {},
   "outputs": [],
   "source": [
    "data_user['churn_date'] = data_user['churn_date'].fillna('2018-12-31')"
   ]
  },
  {
   "cell_type": "code",
   "execution_count": 23,
   "metadata": {},
   "outputs": [],
   "source": [
    "data_user['churn_date'] = pd.DatetimeIndex(data_user['churn_date'])\n",
    "data_user['reg_date'] = pd.DatetimeIndex(data_user['reg_date'])"
   ]
  },
  {
   "cell_type": "markdown",
   "metadata": {},
   "source": [
    "### Таблица 'Звонки' "
   ]
  },
  {
   "cell_type": "markdown",
   "metadata": {},
   "source": [
    "Исключим не используемый столбец 'id'"
   ]
  },
  {
   "cell_type": "code",
   "execution_count": 24,
   "metadata": {},
   "outputs": [],
   "source": [
    "data_call = data_calls.drop(['id'], axis = 1)"
   ]
  },
  {
   "cell_type": "markdown",
   "metadata": {},
   "source": [
    "Изменим тип данных в столбце 'call_date'"
   ]
  },
  {
   "cell_type": "code",
   "execution_count": 25,
   "metadata": {},
   "outputs": [],
   "source": [
    "data_call['call_date'] = pd.DatetimeIndex(data_call['call_date'])"
   ]
  },
  {
   "cell_type": "markdown",
   "metadata": {},
   "source": [
    "Перед тем как изменить тип данных на int в столбце 'duration' округлим данные в большую сторону.   \n",
    "**<span style=\"color:blue\">(\"Мегалайн\" всегда округляет вверх значения минут и мегабайтов. Если пользователь проговорил всего одну секунду, в тарифе засчитывается целая минута)</span>**"
   ]
  },
  {
   "cell_type": "code",
   "execution_count": 26,
   "metadata": {},
   "outputs": [],
   "source": [
    "data_call['duration'] = data_call['duration'].apply(np.ceil).astype('int')"
   ]
  },
  {
   "cell_type": "markdown",
   "metadata": {},
   "source": [
    "### Таблица 'Сообщения'"
   ]
  },
  {
   "cell_type": "markdown",
   "metadata": {},
   "source": [
    "Исключим не используемый столбец 'id'"
   ]
  },
  {
   "cell_type": "code",
   "execution_count": 27,
   "metadata": {},
   "outputs": [],
   "source": [
    "data_message = data_messages.drop(['id'], axis = 1)"
   ]
  },
  {
   "cell_type": "markdown",
   "metadata": {},
   "source": [
    "Изменим тип данных в столбце 'message_date'"
   ]
  },
  {
   "cell_type": "code",
   "execution_count": 28,
   "metadata": {},
   "outputs": [],
   "source": [
    "data_message['message_date'] = pd.DatetimeIndex(data_message['message_date'])"
   ]
  },
  {
   "cell_type": "markdown",
   "metadata": {},
   "source": [
    "### Таблица 'Интернет'"
   ]
  },
  {
   "cell_type": "markdown",
   "metadata": {},
   "source": [
    "Исключим не используемые столбцы 'Unnamed: 0', 'id'"
   ]
  },
  {
   "cell_type": "code",
   "execution_count": 29,
   "metadata": {},
   "outputs": [],
   "source": [
    "data_internet = data_internets.drop(['Unnamed: 0', 'id'], axis = 1)"
   ]
  },
  {
   "cell_type": "markdown",
   "metadata": {},
   "source": [
    "Изменим тип данных в столбце 'session_date'"
   ]
  },
  {
   "cell_type": "code",
   "execution_count": 30,
   "metadata": {},
   "outputs": [],
   "source": [
    "data_internet['session_date'] = pd.DatetimeIndex(data_internet['session_date'])"
   ]
  },
  {
   "cell_type": "markdown",
   "metadata": {},
   "source": [
    "Перед тем как изменить тип данных на int в столбце 'mb_used' округлим данные в большую сторону.   \n",
    "**<span style=\"color:blue\">По причине аналогичной продолжительности звонков</span>**"
   ]
  },
  {
   "cell_type": "code",
   "execution_count": 31,
   "metadata": {},
   "outputs": [],
   "source": [
    "data_internet['mb_used'] = data_internet['mb_used'].apply(np.ceil).astype('int')"
   ]
  },
  {
   "cell_type": "markdown",
   "metadata": {},
   "source": [
    "### Вывод после  предобработки данных"
   ]
  },
  {
   "cell_type": "markdown",
   "metadata": {},
   "source": [
    "По результатам предобработки:   \n",
    "пропуски в столбце 'churn_date' таблицы data_users заменены;   \n",
    "исключены не используемые столбцы;   \n",
    "изменены тип даных на datetime в столбцах с датами;      \n",
    "данные о количестве минут в звонках и объеме потраченного за сессию трафика округлены в большую сторону и приведены к типу данных int.   \n",
    "**Данные готовы к обработке**, но сначала надо убрать ошибки с \"нулевыми\" значениями продолжительности звонков и  объеме потраченного за сессию трафика. \n",
    "'"
   ]
  },
  {
   "cell_type": "markdown",
   "metadata": {},
   "source": [
    "## Исправление ошибок"
   ]
  },
  {
   "cell_type": "markdown",
   "metadata": {},
   "source": [
    "Разберемся с \"нулевыми\" по продолжительности звонками.   \n",
    "Построим гистограмму продолжительности звонков."
   ]
  },
  {
   "cell_type": "code",
   "execution_count": 32,
   "metadata": {},
   "outputs": [
    {
     "data": {
      "text/plain": [
       "<matplotlib.axes._subplots.AxesSubplot at 0x7f8d58793fd0>"
      ]
     },
     "execution_count": 32,
     "metadata": {},
     "output_type": "execute_result"
    },
    {
     "data": {
      "image/png": "[encoded data removed]",
      "text/plain": [
       "<Figure size 1080x576 with 1 Axes>"
      ]
     },
     "metadata": {
      "needs_background": "light"
     },
     "output_type": "display_data"
    }
   ],
   "source": [
    "data_call['duration'].hist(bins=100, figsize=(15,8))"
   ]
  },
  {
   "cell_type": "markdown",
   "metadata": {},
   "source": [
    "Как видно из гистограммы продолжительность звонков распределяется согласно распределению Пуассона. При этом виден всплеск \"нулевых\" звонков. **Чем они вызваны и от чего зависят? И самое главное их учитывать или нет?**\n",
    "Рассчитаем отдельным столбцом месяц звонков ('month'). И построим график зависимости количества \"нулевых\" звонков от месяца."
   ]
  },
  {
   "cell_type": "code",
   "execution_count": 33,
   "metadata": {},
   "outputs": [],
   "source": [
    "data_call['month'] = data_call['call_date'].dt.month"
   ]
  },
  {
   "cell_type": "code",
   "execution_count": 34,
   "metadata": {},
   "outputs": [
    {
     "data": {
      "text/plain": [
       "<matplotlib.axes._subplots.AxesSubplot at 0x7f8d58a19790>"
      ]
     },
     "execution_count": 34,
     "metadata": {},
     "output_type": "execute_result"
    },
    {
     "data": {
      "image/png": "[encoded data removed]",
      "text/plain": [
       "<Figure size 1080x576 with 1 Axes>"
      ]
     },
     "metadata": {
      "needs_background": "light"
     },
     "output_type": "display_data"
    }
   ],
   "source": [
    "data_call.query('duration == 0').pivot_table(\n",
    "    index='month', values='duration', aggfunc='count'\n",
    ").plot(y='duration',\n",
    "       style='o',\n",
    "       label='Количество \"нулевых\" звонков',\n",
    "       grid=True, \n",
    "       figsize=(15, 8))\n"
   ]
  },
  {
   "cell_type": "markdown",
   "metadata": {},
   "source": [
    "С каждым месяцем количество \"нулевых\" звонков растет.   \n",
    "Посмотрим как \"нулевые\" звонки связаны с общим количеством звонков по месяцам. Построим график зависимости общего количества звонков от месяца."
   ]
  },
  {
   "cell_type": "code",
   "execution_count": 35,
   "metadata": {},
   "outputs": [
    {
     "data": {
      "text/plain": [
       "<matplotlib.axes._subplots.AxesSubplot at 0x7f8d4ef81610>"
      ]
     },
     "execution_count": 35,
     "metadata": {},
     "output_type": "execute_result"
    },
    {
     "data": {
      "image/png": "[encoded data removed]",
      "text/plain": [
       "<Figure size 1080x576 with 1 Axes>"
      ]
     },
     "metadata": {
      "needs_background": "light"
     },
     "output_type": "display_data"
    }
   ],
   "source": [
    "data_call.pivot_table(\n",
    "    index='month', \n",
    "    values='duration', \n",
    "    aggfunc='count'\n",
    ").plot(y='duration',\n",
    "       style='o',\n",
    "       label='Количество всего звонков',\n",
    "       grid=True, \n",
    "       figsize=(15, 8)) "
   ]
  },
  {
   "cell_type": "markdown",
   "metadata": {},
   "source": [
    "Как видим график общего количества звонков аналогичен графику \"нулевых\" звонков. \n",
    "Следовательно и количество \"нулевых\" звонков прямо пропорционально общему количеству (чем больше звонков тем больше \"нулевых\").  \"Нулевые\" звонки не случайны, их появление системное.   \n",
    "В большей степени \"нулевые\" звонки похожи на звонки с прослушиванием автоответчика. Например: \"... абонент находится вне зоны действия сети\". При этом, как утверждает большинство операторов снимают со счета деньги за прослушивание автоответчика *(сведения получены из интернета)*.   \n",
    "**Вывод:**    \n",
    "\"Нулевые\" звонки **будем учитывать** при подсчете расхода лимита, как звонки продолжительностью в 1 минуту, а при выходе за лимит - будем считаь, что за них взята плата за 1 минуту.   \n",
    "Заменин в столбце 'duration' 0 на 1."
   ]
  },
  {
   "cell_type": "code",
   "execution_count": 36,
   "metadata": {},
   "outputs": [],
   "source": [
    "data_call['duration'] = data_call['duration'].replace(0, 1)"
   ]
  },
  {
   "cell_type": "markdown",
   "metadata": {},
   "source": [
    "Аналогично проверим зависимости \"нулевого\" объеме потраченного за сессию трафика."
   ]
  },
  {
   "cell_type": "markdown",
   "metadata": {},
   "source": [
    "Рассчитаем отдельным столбцом месяц использования трафика ('month_session'). Построим графики зависимости количества \"нулевого\" объема потраченного трафика и количества сессий от месяца "
   ]
  },
  {
   "cell_type": "code",
   "execution_count": 37,
   "metadata": {},
   "outputs": [
    {
     "data": {
      "text/plain": [
       "<matplotlib.axes._subplots.AxesSubplot at 0x7f8d4eeebf10>"
      ]
     },
     "execution_count": 37,
     "metadata": {},
     "output_type": "execute_result"
    },
    {
     "data": {
      "image/png": "[encoded data removed]",
      "text/plain": [
       "<Figure size 1080x576 with 1 Axes>"
      ]
     },
     "metadata": {
      "needs_background": "light"
     },
     "output_type": "display_data"
    }
   ],
   "source": [
    "data_internet['month'] = data_internet['session_date'].dt.month\n",
    "data_internet.query('mb_used == 0').pivot_table(\n",
    "    index='month', values='mb_used', aggfunc='count'\n",
    ").plot(y='mb_used',\n",
    "       style='o',\n",
    "       label='Количество \"нулевых\" объемов потраченного трафика',\n",
    "       grid=True, \n",
    "       figsize=(15, 8)) "
   ]
  },
  {
   "cell_type": "code",
   "execution_count": 38,
   "metadata": {},
   "outputs": [
    {
     "data": {
      "text/plain": [
       "<matplotlib.axes._subplots.AxesSubplot at 0x7f8d4ee6fe10>"
      ]
     },
     "execution_count": 38,
     "metadata": {},
     "output_type": "execute_result"
    },
    {
     "data": {
      "image/png": "[encoded data removed]",
      "text/plain": [
       "<Figure size 1080x576 with 1 Axes>"
      ]
     },
     "metadata": {
      "needs_background": "light"
     },
     "output_type": "display_data"
    }
   ],
   "source": [
    "data_internet.pivot_table(\n",
    "    index='month', \n",
    "    values='mb_used', \n",
    "    aggfunc='count'\n",
    ").plot(y='mb_used',\n",
    "       style='o',\n",
    "       label='Количество сессий',\n",
    "       grid=True, \n",
    "       figsize=(15, 8)) "
   ]
  },
  {
   "cell_type": "markdown",
   "metadata": {},
   "source": [
    "Зависимости аналогичны продолжительности звонков. Следовательно данные сессии были, а что говорит интернет? А интернет говорит: \"Все, что меньше 10 кБ будет отображаться как 0 МБ\". Следовательно в столбце 'mb_used' заменим 0 на 1 и будем считать их подлежащих к оплате. "
   ]
  },
  {
   "cell_type": "code",
   "execution_count": 39,
   "metadata": {},
   "outputs": [],
   "source": [
    "data_internet['mb_used'] = data_internet['mb_used'].replace(0, 1)"
   ]
  },
  {
   "cell_type": "markdown",
   "metadata": {},
   "source": [
    "**Вывод:**   \n",
    "\"Нулевая\" продолжительность звонка и \"нулевой\" объем потраченного трафика - не случайные величины, а имеют системный характер и прямо пропорциональны общему количеству звонков и сессий.\n",
    "По этому они должны учитываться при определении выручки."
   ]
  },
  {
   "cell_type": "markdown",
   "metadata": {},
   "source": [
    "## Расчеты и добавление данных"
   ]
  },
  {
   "cell_type": "markdown",
   "metadata": {},
   "source": [
    "Сделаем сводную таблицу звонков, посчитаем для каждого пользователя количество и продолжительность их по месяцам."
   ]
  },
  {
   "cell_type": "code",
   "execution_count": 40,
   "metadata": {},
   "outputs": [],
   "source": [
    "call_total = data_call.pivot_table(\n",
    "    index=['user_id', 'month'], \n",
    "    values='duration', \n",
    "    aggfunc='sum')"
   ]
  },
  {
   "cell_type": "markdown",
   "metadata": {},
   "source": [
    "Поменяем название столбца на call_duration (продолжительность звонков)"
   ]
  },
  {
   "cell_type": "code",
   "execution_count": 42,
   "metadata": {},
   "outputs": [],
   "source": [
    "call_total.columns = ['call_duration']"
   ]
  },
  {
   "cell_type": "markdown",
   "metadata": {},
   "source": [
    "Аналогично создадим сводные таблицы сообщений и интернета, при этом в таблице сообщений предварительно добавим столбец месяца. "
   ]
  },
  {
   "cell_type": "code",
   "execution_count": 43,
   "metadata": {},
   "outputs": [],
   "source": [
    "data_message['month'] = data_message['message_date'].dt.month\n",
    "message_total = data_message.pivot_table(\n",
    "    index=['user_id', 'month'], \n",
    "    values='message_date', \n",
    "    aggfunc='count')\n",
    "message_total.columns = ['number_messages']"
   ]
  },
  {
   "cell_type": "code",
   "execution_count": 44,
   "metadata": {},
   "outputs": [],
   "source": [
    "internet_total = data_internet.pivot_table(\n",
    "    index=['user_id', 'month'], \n",
    "    values='mb_used', \n",
    "    aggfunc='sum')\n",
    "internet_total.columns = ['sum_mb_used']"
   ]
  },
  {
   "cell_type": "code",
   "execution_count": 45,
   "metadata": {},
   "outputs": [
    {
     "data": {
      "text/plain": [
       "call_duration       40\n",
       "number_messages    497\n",
       "sum_mb_used         11\n",
       "dtype: int64"
      ]
     },
     "execution_count": 45,
     "metadata": {},
     "output_type": "execute_result"
    }
   ],
   "source": [
    "data_joint = call_total.join(message_total, how='outer')\n",
    "data_joint = data_joint.join(internet_total, how='outer')  \n",
    "data_joint.isna().sum()"
   ]
  },
  {
   "cell_type": "markdown",
   "metadata": {},
   "source": [
    "При объединении появились пропуски:   \n",
    "в продолжительности звонков (причина - данный пользователь в этот месяц не звонил)   \n",
    "в количестве сообщений (причина - данный пользователь в этот месяц не посылал сообщения)   \n",
    "в объеме используемого трафика (причина аналогична)   \n",
    "Заменим пропуски на 0 и тип данных на int"
   ]
  },
  {
   "cell_type": "code",
   "execution_count": 46,
   "metadata": {},
   "outputs": [],
   "source": [
    "data_joint['call_duration'] = data_joint['call_duration'].fillna(0).astype('int')\n",
    "data_joint['number_messages'] = data_joint['number_messages'].fillna(0).astype('int')\n",
    "data_joint['sum_mb_used'] = data_joint['sum_mb_used'].fillna(0).astype('int')"
   ]
  },
  {
   "cell_type": "markdown",
   "metadata": {},
   "source": [
    "Объединим данные таблицы \"Пользователи\" (data_user) и таблицы о тарифах (data_tariffs) по ключу 'tariff_name'.   \n",
    "Сведем все данные в общую таблицу data_joint."
   ]
  },
  {
   "cell_type": "code",
   "execution_count": 47,
   "metadata": {
    "scrolled": true
   },
   "outputs": [],
   "source": [
    "tariff_total = data_user.merge(\n",
    "    data_tariffs, on='tariff_name', how='inner'\n",
    ") "
   ]
  },
  {
   "cell_type": "code",
   "execution_count": 48,
   "metadata": {},
   "outputs": [],
   "source": [
    "data_joint = data_joint.join(tariff_total.set_index('user_id'))"
   ]
  },
  {
   "cell_type": "markdown",
   "metadata": {},
   "source": [
    "Дополнительный трафик оплачивается за Гб, а не за Мб, поэтому переведем в Гб."
   ]
  },
  {
   "cell_type": "code",
   "execution_count": 49,
   "metadata": {},
   "outputs": [],
   "source": [
    "data_joint['sum_mb_used'] = data_joint['sum_mb_used']/1024\n",
    "data_joint['sum_mb_used'] = data_joint['sum_mb_used'].apply(np.ceil).astype('int')"
   ]
  },
  {
   "cell_type": "markdown",
   "metadata": {},
   "source": [
    "Посчитаем помесячную выручку с каждого пользователя (столбец 'gain'). Для этого создадим функцию gain(row) для расчета выручки в зависимости от превышения лимита по длительности звонков, количества сообщений, и объема трафика."
   ]
  },
  {
   "cell_type": "code",
   "execution_count": 50,
   "metadata": {},
   "outputs": [],
   "source": [
    "def gain(row):\n",
    "    gain = row['rub_monthly_fee']\n",
    "    if row['call_duration'] > row['minutes_included']:\n",
    "        gain = row['rub_monthly_fee'] +\\\n",
    "        (row['call_duration'] - row['minutes_included'])*row['rub_per_minute']\n",
    "    else:\n",
    "        gain = row['rub_monthly_fee']\n",
    "    if row['number_messages'] > row['messages_included']:\n",
    "        gain = gain +\\\n",
    "        (row['number_messages'] - row['messages_included'])*row['rub_per_message']\n",
    "    if row['sum_mb_used'] > row['mb_per_month_included']:\n",
    "        gain = gain +\\\n",
    "        (row['sum_mb_used'] - row['mb_per_month_included'])*row['rub_per_gb']\n",
    "    return gain"
   ]
  },
  {
   "cell_type": "code",
   "execution_count": 51,
   "metadata": {},
   "outputs": [],
   "source": [
    "data_joint['gain'] = data_joint.apply(gain, axis=1)\n",
    "data_joint['gain'] = data_joint['gain'].apply(np.ceil).astype('int')\n"
   ]
  },
  {
   "cell_type": "code",
   "execution_count": 52,
   "metadata": {},
   "outputs": [
    {
     "data": {
      "text/html": [
       "<div>\n",
       "<style scoped>\n",
       "    .dataframe tbody tr th:only-of-type {\n",
       "        vertical-align: middle;\n",
       "    }\n",
       "\n",
       "    .dataframe tbody tr th {\n",
       "        vertical-align: top;\n",
       "    }\n",
       "\n",
       "    .dataframe thead th {\n",
       "        text-align: right;\n",
       "    }\n",
       "</style>\n",
       "<table border=\"1\" class=\"dataframe\">\n",
       "  <thead>\n",
       "    <tr style=\"text-align: right;\">\n",
       "      <th></th>\n",
       "      <th></th>\n",
       "      <th>call_duration</th>\n",
       "      <th>number_messages</th>\n",
       "      <th>sum_mb_used</th>\n",
       "      <th>churn_date</th>\n",
       "      <th>city</th>\n",
       "      <th>reg_date</th>\n",
       "      <th>tariff_name</th>\n",
       "      <th>messages_included</th>\n",
       "      <th>mb_per_month_included</th>\n",
       "      <th>minutes_included</th>\n",
       "      <th>rub_monthly_fee</th>\n",
       "      <th>rub_per_gb</th>\n",
       "      <th>rub_per_message</th>\n",
       "      <th>rub_per_minute</th>\n",
       "      <th>gain</th>\n",
       "    </tr>\n",
       "    <tr>\n",
       "      <th>user_id</th>\n",
       "      <th>month</th>\n",
       "      <th></th>\n",
       "      <th></th>\n",
       "      <th></th>\n",
       "      <th></th>\n",
       "      <th></th>\n",
       "      <th></th>\n",
       "      <th></th>\n",
       "      <th></th>\n",
       "      <th></th>\n",
       "      <th></th>\n",
       "      <th></th>\n",
       "      <th></th>\n",
       "      <th></th>\n",
       "      <th></th>\n",
       "      <th></th>\n",
       "    </tr>\n",
       "  </thead>\n",
       "  <tbody>\n",
       "    <tr>\n",
       "      <td rowspan=\"5\" valign=\"top\">1000</td>\n",
       "      <td>5</td>\n",
       "      <td>164</td>\n",
       "      <td>22</td>\n",
       "      <td>3</td>\n",
       "      <td>2018-12-31</td>\n",
       "      <td>Краснодар</td>\n",
       "      <td>2018-05-25</td>\n",
       "      <td>ultra</td>\n",
       "      <td>1000</td>\n",
       "      <td>30720</td>\n",
       "      <td>3000</td>\n",
       "      <td>1950</td>\n",
       "      <td>150</td>\n",
       "      <td>1</td>\n",
       "      <td>1</td>\n",
       "      <td>1950</td>\n",
       "    </tr>\n",
       "    <tr>\n",
       "      <td>6</td>\n",
       "      <td>187</td>\n",
       "      <td>60</td>\n",
       "      <td>23</td>\n",
       "      <td>2018-12-31</td>\n",
       "      <td>Краснодар</td>\n",
       "      <td>2018-05-25</td>\n",
       "      <td>ultra</td>\n",
       "      <td>1000</td>\n",
       "      <td>30720</td>\n",
       "      <td>3000</td>\n",
       "      <td>1950</td>\n",
       "      <td>150</td>\n",
       "      <td>1</td>\n",
       "      <td>1</td>\n",
       "      <td>1950</td>\n",
       "    </tr>\n",
       "    <tr>\n",
       "      <td>7</td>\n",
       "      <td>346</td>\n",
       "      <td>75</td>\n",
       "      <td>14</td>\n",
       "      <td>2018-12-31</td>\n",
       "      <td>Краснодар</td>\n",
       "      <td>2018-05-25</td>\n",
       "      <td>ultra</td>\n",
       "      <td>1000</td>\n",
       "      <td>30720</td>\n",
       "      <td>3000</td>\n",
       "      <td>1950</td>\n",
       "      <td>150</td>\n",
       "      <td>1</td>\n",
       "      <td>1</td>\n",
       "      <td>1950</td>\n",
       "    </tr>\n",
       "    <tr>\n",
       "      <td>8</td>\n",
       "      <td>418</td>\n",
       "      <td>81</td>\n",
       "      <td>14</td>\n",
       "      <td>2018-12-31</td>\n",
       "      <td>Краснодар</td>\n",
       "      <td>2018-05-25</td>\n",
       "      <td>ultra</td>\n",
       "      <td>1000</td>\n",
       "      <td>30720</td>\n",
       "      <td>3000</td>\n",
       "      <td>1950</td>\n",
       "      <td>150</td>\n",
       "      <td>1</td>\n",
       "      <td>1</td>\n",
       "      <td>1950</td>\n",
       "    </tr>\n",
       "    <tr>\n",
       "      <td>9</td>\n",
       "      <td>478</td>\n",
       "      <td>57</td>\n",
       "      <td>15</td>\n",
       "      <td>2018-12-31</td>\n",
       "      <td>Краснодар</td>\n",
       "      <td>2018-05-25</td>\n",
       "      <td>ultra</td>\n",
       "      <td>1000</td>\n",
       "      <td>30720</td>\n",
       "      <td>3000</td>\n",
       "      <td>1950</td>\n",
       "      <td>150</td>\n",
       "      <td>1</td>\n",
       "      <td>1</td>\n",
       "      <td>1950</td>\n",
       "    </tr>\n",
       "  </tbody>\n",
       "</table>\n",
       "</div>"
      ],
      "text/plain": [
       "               call_duration  number_messages  sum_mb_used churn_date  \\\n",
       "user_id month                                                           \n",
       "1000    5                164               22            3 2018-12-31   \n",
       "        6                187               60           23 2018-12-31   \n",
       "        7                346               75           14 2018-12-31   \n",
       "        8                418               81           14 2018-12-31   \n",
       "        9                478               57           15 2018-12-31   \n",
       "\n",
       "                    city   reg_date tariff_name  messages_included  \\\n",
       "user_id month                                                        \n",
       "1000    5      Краснодар 2018-05-25       ultra               1000   \n",
       "        6      Краснодар 2018-05-25       ultra               1000   \n",
       "        7      Краснодар 2018-05-25       ultra               1000   \n",
       "        8      Краснодар 2018-05-25       ultra               1000   \n",
       "        9      Краснодар 2018-05-25       ultra               1000   \n",
       "\n",
       "               mb_per_month_included  minutes_included  rub_monthly_fee  \\\n",
       "user_id month                                                             \n",
       "1000    5                      30720              3000             1950   \n",
       "        6                      30720              3000             1950   \n",
       "        7                      30720              3000             1950   \n",
       "        8                      30720              3000             1950   \n",
       "        9                      30720              3000             1950   \n",
       "\n",
       "               rub_per_gb  rub_per_message  rub_per_minute  gain  \n",
       "user_id month                                                     \n",
       "1000    5             150                1               1  1950  \n",
       "        6             150                1               1  1950  \n",
       "        7             150                1               1  1950  \n",
       "        8             150                1               1  1950  \n",
       "        9             150                1               1  1950  "
      ]
     },
     "execution_count": 52,
     "metadata": {},
     "output_type": "execute_result"
    }
   ],
   "source": [
    "data_joint.head()"
   ]
  },
  {
   "cell_type": "markdown",
   "metadata": {},
   "source": [
    "**Вывод:**   \n",
    "Данные сведены в одну таблицу по которой удобно просматривать всю информацию сгруппированную по пользователям и месяцам.\n",
    "Рассчитана помесячная выручка по каждому пользователю.\n",
    "Данные операции облегчат проведение анализа."
   ]
  },
  {
   "cell_type": "markdown",
   "metadata": {},
   "source": [
    "## Анализ тарифов "
   ]
  },
  {
   "cell_type": "markdown",
   "metadata": {},
   "source": [
    "### Тариф 'ultra'"
   ]
  },
  {
   "cell_type": "markdown",
   "metadata": {},
   "source": [
    "Проведем анализ тарифа 'ultra' "
   ]
  },
  {
   "cell_type": "code",
   "execution_count": 53,
   "metadata": {},
   "outputs": [],
   "source": [
    "data_ultra = data_joint.query('tariff_name == \"ultra\"')"
   ]
  },
  {
   "cell_type": "markdown",
   "metadata": {},
   "source": [
    "Найдем сколько пользователями тарифа 'ultra' в среднем за месяц:   \n",
    "расходуется минут на звонки;   \n",
    "отправляется сообщений;    \n",
    "тратится объем интернет-трафика"
   ]
  },
  {
   "cell_type": "code",
   "execution_count": 54,
   "metadata": {
    "scrolled": true
   },
   "outputs": [
    {
     "name": "stdout",
     "output_type": "stream",
     "text": [
      "Пользователями тарифа ultra в среднем за месяц используется:\n",
      "на звонки: 541 минут\n",
      "сообщений: 49\n",
      "трафика: 20 Мбайт\n"
     ]
    }
   ],
   "source": [
    "print('Пользователями тарифа ultra в среднем за месяц используется:') \n",
    "print('на звонки: {:.0f}'.format(data_ultra['call_duration'].mean()), 'минут')\n",
    "print('сообщений: {:.0f}'.format(data_ultra['number_messages'].mean()))\n",
    "print('трафика: {:.0f}'.format(data_ultra['sum_mb_used'].mean()), 'Мбайт')"
   ]
  },
  {
   "cell_type": "code",
   "execution_count": 55,
   "metadata": {},
   "outputs": [
    {
     "name": "stdout",
     "output_type": "stream",
     "text": [
      "дисперсия и стандартное отклонение составляют:\n",
      "по звонкам:\n",
      "дисперсия 106106 стандартное отклонение 326\n",
      "по сообщениям:\n",
      "дисперсия 2285 стандартное отклонение 48\n",
      "по использованию трафика:\n",
      "дисперсия 97 стандартное отклонение 10\n"
     ]
    }
   ],
   "source": [
    "print('дисперсия и стандартное отклонение составляют:')\n",
    "print('по звонкам:')\n",
    "print('дисперсия {:.0f}'. format(np.var(data_ultra['call_duration'], ddof =1)),\n",
    "      'стандартное отклонение {:.0f}'. format(np.std(data_ultra['call_duration'], ddof =1))\n",
    "     )\n",
    "print('по сообщениям:')\n",
    "print('дисперсия {:.0f}'. format(np.var(data_ultra['number_messages'], ddof =1)),\n",
    "      'стандартное отклонение {:.0f}'. format(np.std(data_ultra['number_messages'], ddof =1))\n",
    "     )\n",
    "print('по использованию трафика:')\n",
    "print('дисперсия {:.0f}'. format(np.var(data_ultra['sum_mb_used'], ddof =1)),\n",
    "      'стандартное отклонение {:.0f}'. format(np.std(data_ultra['sum_mb_used'], ddof =1))\n",
    "     )"
   ]
  },
  {
   "cell_type": "markdown",
   "metadata": {},
   "source": [
    "Построим гистограмму звонков, сообщений, объема потраченного трафика"
   ]
  },
  {
   "cell_type": "code",
   "execution_count": 56,
   "metadata": {},
   "outputs": [
    {
     "data": {
      "text/plain": [
       "<matplotlib.axes._subplots.AxesSubplot at 0x7f8d4e691150>"
      ]
     },
     "execution_count": 56,
     "metadata": {},
     "output_type": "execute_result"
    },
    {
     "data": {
      "image/png": "[encoded data removed]",
      "text/plain": [
       "<Figure size 1080x576 with 1 Axes>"
      ]
     },
     "metadata": {
      "needs_background": "light"
     },
     "output_type": "display_data"
    }
   ],
   "source": [
    "data_ultra['call_duration'].hist(bins=50, figsize=(15,8))"
   ]
  },
  {
   "cell_type": "markdown",
   "metadata": {},
   "source": [
    "По гистограмме видно, что продолжительность звонков соответствует подобию нормального распределения. Имеет левую скошенность. Все звонки расположены в интервале примерно до 1500 (правило трех сигм (560+315*3=1505)"
   ]
  },
  {
   "cell_type": "code",
   "execution_count": 58,
   "metadata": {},
   "outputs": [
    {
     "data": {
      "text/plain": [
       "<matplotlib.axes._subplots.AxesSubplot at 0x7f8d4e579bd0>"
      ]
     },
     "execution_count": 58,
     "metadata": {},
     "output_type": "execute_result"
    },
    {
     "data": {
      "image/png": "[encoded data removed]",
      "text/plain": [
       "<Figure size 1080x576 with 1 Axes>"
      ]
     },
     "metadata": {
      "needs_background": "light"
     },
     "output_type": "display_data"
    }
   ],
   "source": [
    "data_ultra['number_messages'].hist(bins=50, figsize=(15,8))"
   ]
  },
  {
   "cell_type": "markdown",
   "metadata": {},
   "source": [
    "По гистограмме видно, что количество сообщений имеет похоже на распределение Пуассона. Все сообщения расположены в интервале примерно до 200 (правило трех сигм (49+47*3=190)"
   ]
  },
  {
   "cell_type": "code",
   "execution_count": 59,
   "metadata": {
    "scrolled": true
   },
   "outputs": [
    {
     "data": {
      "text/plain": [
       "<matplotlib.axes._subplots.AxesSubplot at 0x7f8d4e4c1590>"
      ]
     },
     "execution_count": 59,
     "metadata": {},
     "output_type": "execute_result"
    },
    {
     "data": {
      "image/png": "[encoded data removed]",
      "text/plain": [
       "<Figure size 1080x576 with 1 Axes>"
      ]
     },
     "metadata": {
      "needs_background": "light"
     },
     "output_type": "display_data"
    }
   ],
   "source": [
    "data_ultra['sum_mb_used'].hist(bins=50, figsize=(15,8))"
   ]
  },
  {
   "cell_type": "markdown",
   "metadata": {},
   "source": [
    "По гистограмме видно, что объем потраченного интернет-трафика соответствует нормальному распределению, умеренно скошенному влево. Весь объем трафика расположен в интервале примерно до 50000 (правило трех сигм (19482+10137*3=48893)"
   ]
  },
  {
   "cell_type": "markdown",
   "metadata": {},
   "source": [
    "**Вывод:**\n",
    "Пользователями тарифа \"ultra\" в среднем в месяц тратят до 560 минут **<span style=\"color:blue\">на звонки</span>** (при лимите 3000). С вероятностью близкой к единице все значения продолжительности звонков попадают в интервал до 1500 минут, что в два раза меньше лимита. Следовательно **перерасход лимита по продолжительности звонков у пользователей мало вероятно**.    \n",
    "В среднем за месяц отправляют 49 **<span style=\"color:blue\">сообщений</span>** (при лимите 1000). Наверняка все значения сообщений попадут в интервал до 190 сообщений, что составляет только пятую часть лимита. Следовательно как и со звонками **перерасход лимита по сообщениям у пользователей мало вероятно**.        \n",
    "В среднем за месяц пользователи тратят до 19482 Мбайт **<span style=\"color:blue\"> интернет-трафика</span>** (при лимите 30720), но при этом, в отличии от звонков и сообщений, существенная  часть объемов использования интернета приходится в области от 30720 до 50000 Мбайт  "
   ]
  },
  {
   "cell_type": "markdown",
   "metadata": {},
   "source": [
    "### Тариф 'smart'"
   ]
  },
  {
   "cell_type": "markdown",
   "metadata": {},
   "source": [
    "Проведем анализ тарифа 'smart' "
   ]
  },
  {
   "cell_type": "code",
   "execution_count": 60,
   "metadata": {},
   "outputs": [],
   "source": [
    "data_smart = data_joint.query('tariff_name == \"smart\"')"
   ]
  },
  {
   "cell_type": "markdown",
   "metadata": {},
   "source": [
    "Найдем сколько пользователями тарифа 'smart' в среднем за месяц:   \n",
    "расходуется минут на звонки;   \n",
    "отправляется сообщений;    \n",
    "тратится объем интернет-трафика"
   ]
  },
  {
   "cell_type": "code",
   "execution_count": 61,
   "metadata": {
    "scrolled": true
   },
   "outputs": [
    {
     "name": "stdout",
     "output_type": "stream",
     "text": [
      "Пользователями тарифа ultra в среднем за месяц используется:\n",
      "на звонки: 429 минут\n",
      "сообщений: 33\n",
      "трафика: 16 Мбайт\n"
     ]
    }
   ],
   "source": [
    "print('Пользователями тарифа ultra в среднем за месяц используется:') \n",
    "print('на звонки: {:.0f}'.format(data_smart['call_duration'].mean()), 'минут')\n",
    "print('сообщений: {:.0f}'.format(data_smart['number_messages'].mean()))\n",
    "print('трафика: {:.0f}'.format(data_smart['sum_mb_used'].mean()), 'Мбайт')"
   ]
  },
  {
   "cell_type": "code",
   "execution_count": 62,
   "metadata": {},
   "outputs": [
    {
     "name": "stdout",
     "output_type": "stream",
     "text": [
      "дисперсия и стандартное отклонение составляют:\n",
      "по звонкам:\n",
      "дисперсия 37975 стандартное отклонение 195\n",
      "по сообщениям:\n",
      "дисперсия 797 стандартное отклонение 28\n",
      "по использованию трафика:\n",
      "дисперсия 33 стандартное отклонение 6\n"
     ]
    }
   ],
   "source": [
    "print('дисперсия и стандартное отклонение составляют:')\n",
    "print('по звонкам:')\n",
    "print('дисперсия {:.0f}'. format(np.var(data_smart['call_duration'], ddof =1)),\n",
    "      'стандартное отклонение {:.0f}'. format(np.std(data_smart['call_duration'], ddof =1))\n",
    "     )\n",
    "print('по сообщениям:')\n",
    "print('дисперсия {:.0f}'. format(np.var(data_smart['number_messages'], ddof =1)),\n",
    "      'стандартное отклонение {:.0f}'. format(np.std(data_smart['number_messages'], ddof =1))\n",
    "     )\n",
    "print('по использованию трафика:')\n",
    "print('дисперсия {:.0f}'. format(np.var(data_smart['sum_mb_used'], ddof =1)),\n",
    "      'стандартное отклонение {:.0f}'. format(np.std(data_smart['sum_mb_used'], ddof =1))\n",
    "     )"
   ]
  },
  {
   "cell_type": "markdown",
   "metadata": {},
   "source": [
    "Построим гистограмму звонков, сообщений, объема потраченного трафика"
   ]
  },
  {
   "cell_type": "code",
   "execution_count": 63,
   "metadata": {},
   "outputs": [
    {
     "data": {
      "text/plain": [
       "<matplotlib.axes._subplots.AxesSubplot at 0x7f8d4e3bd750>"
      ]
     },
     "execution_count": 63,
     "metadata": {},
     "output_type": "execute_result"
    },
    {
     "data": {
      "image/png": "[encoded data removed]",
      "text/plain": [
       "<Figure size 1080x576 with 1 Axes>"
      ]
     },
     "metadata": {
      "needs_background": "light"
     },
     "output_type": "display_data"
    }
   ],
   "source": [
    "data_smart['call_duration'].hist(bins=50, figsize=(15,8))"
   ]
  },
  {
   "cell_type": "markdown",
   "metadata": {},
   "source": [
    "По гистограмме видно, что продолжительность звонков соответствует нормальному умеренно скошенному влево распределению. Все звонки расположены в интервале примерно до 1000 (правило трех сигм (431+194*3=1013)"
   ]
  },
  {
   "cell_type": "code",
   "execution_count": 64,
   "metadata": {},
   "outputs": [
    {
     "data": {
      "text/plain": [
       "<matplotlib.axes._subplots.AxesSubplot at 0x7f8d4e346fd0>"
      ]
     },
     "execution_count": 64,
     "metadata": {},
     "output_type": "execute_result"
    },
    {
     "data": {
      "image/png": "[encoded data removed]",
      "text/plain": [
       "<Figure size 1080x576 with 1 Axes>"
      ]
     },
     "metadata": {
      "needs_background": "light"
     },
     "output_type": "display_data"
    }
   ],
   "source": [
    "data_smart['number_messages'].hist(bins=50, figsize=(15,8))"
   ]
  },
  {
   "cell_type": "markdown",
   "metadata": {},
   "source": [
    "По гистограмме видно, что количество сообщений имеет вид распределения Пуассона. Все сообщения расположены в интервале примерно до 115 (правило трех сигм (33+28*3=117)"
   ]
  },
  {
   "cell_type": "code",
   "execution_count": 65,
   "metadata": {
    "scrolled": true
   },
   "outputs": [
    {
     "data": {
      "text/plain": [
       "<matplotlib.axes._subplots.AxesSubplot at 0x7f8d4e1c4490>"
      ]
     },
     "execution_count": 65,
     "metadata": {},
     "output_type": "execute_result"
    },
    {
     "data": {
      "image/png": "[encoded data removed]",
      "text/plain": [
       "<Figure size 1080x576 with 1 Axes>"
      ]
     },
     "metadata": {
      "needs_background": "light"
     },
     "output_type": "display_data"
    }
   ],
   "source": [
    "data_smart['sum_mb_used'].hist(bins=50, figsize=(15,8))"
   ]
  },
  {
   "cell_type": "markdown",
   "metadata": {},
   "source": [
    "По гистограмме видно, что объем потраченного интернет-трафика соответствует нормальному распределению, умеренно скошенному влево. Весь объем трафика расположен в интервале примерно до 34000 (правило трех сигм (16238+5886*3=33896)"
   ]
  },
  {
   "cell_type": "markdown",
   "metadata": {},
   "source": [
    "**Вывод:**\n",
    "Пользователями тарифа \"smart\" в среднем в месяц тратят до 431 минуты **<span style=\"color:blue\">на звонки</span>** (при лимите 500). При этом чуть меньше половины случаев входят в область от 500 до 1000 минут разговоров. В отличии от тарифа \"ultra\" **перерасход лимита по продолжительности звонков у пользователей не так уж редко происходит**.\n",
    "В среднем за месяц отправляют 33 **<span style=\"color:blue\">сообщений</span>** (при лимите 50). Так же с большой уверенностью можно утверждать, что **перерасход лимита по сообщениям у пользователей происходит не так уж редко** (смотри область от 50 до 117 сообщений).   \n",
    "В среднем за месяц пользователи тратят до 16238 Мбайт **<span style=\"color:blue\"> интернет-трафика</span>** (при лимите 15360), следовательная больше половины случаев превышения лимита.   "
   ]
  },
  {
   "cell_type": "markdown",
   "metadata": {},
   "source": [
    "### Вывод из анализа тарифов "
   ]
  },
  {
   "cell_type": "markdown",
   "metadata": {},
   "source": [
    "Прежде чем сделать общий вывод расчитаем среднее ежемесячное значение выручки по каждому тарифу и построим сравнительную гистограмму "
   ]
  },
  {
   "cell_type": "code",
   "execution_count": 66,
   "metadata": {},
   "outputs": [
    {
     "name": "stdout",
     "output_type": "stream",
     "text": [
      "Средняя выручка за месяц:\n",
      "тарифа ultra: 1950 рублей\n",
      "тарифа smart: 709 рублей\n"
     ]
    }
   ],
   "source": [
    "print('Средняя выручка за месяц:') \n",
    "print('тарифа ultra: {:.0f}'.format(data_ultra['gain'].mean()), 'рублей')\n",
    "print('тарифа smart: {:.0f}'.format(data_smart['gain'].mean()), 'рублей')"
   ]
  },
  {
   "cell_type": "code",
   "execution_count": 67,
   "metadata": {},
   "outputs": [
    {
     "name": "stdout",
     "output_type": "stream",
     "text": [
      "дисперсии составят:\n",
      "тарифа ultra: 0\n",
      "тарифа smart: 78221\n"
     ]
    }
   ],
   "source": [
    "print('дисперсии составят:')\n",
    "print('тарифа ultra: {:.0f}'. format(np.var(data_ultra['gain'], ddof =1)))\n",
    "print('тарифа smart: {:.0f}'. format(np.var(data_smart['gain'], ddof =1)))"
   ]
  },
  {
   "cell_type": "code",
   "execution_count": 68,
   "metadata": {},
   "outputs": [
    {
     "name": "stdout",
     "output_type": "stream",
     "text": [
      "стандартное отклонение составит:\n",
      "тарифа ultra: 0\n",
      "тарифа smart: 280\n"
     ]
    }
   ],
   "source": [
    "print('стандартное отклонение составит:')\n",
    "print('тарифа ultra: {:.0f}'. format(np.std(data_ultra['gain'], ddof =1)))\n",
    "print('тарифа smart: {:.0f}'. format(np.std(data_smart['gain'], ddof =1)))"
   ]
  },
  {
   "cell_type": "code",
   "execution_count": 69,
   "metadata": {},
   "outputs": [
    {
     "name": "stdout",
     "output_type": "stream",
     "text": [
      "правая граница интервала полного охвата выручки составит:\n",
      "тарифа ultra: 1950 рублей\n",
      "тарифа smart: 1548 рублей\n"
     ]
    }
   ],
   "source": [
    "print('правая граница интервала полного охвата выручки составит:')\n",
    "print('тарифа ultra: {:.0f}'. format(data_ultra['gain'].mean() + np.std(data_ultra['gain'], ddof =1)*3), 'рублей')\n",
    "print('тарифа smart: {:.0f}'. format(data_smart['gain'].mean() + np.std(data_smart['gain'], ddof =1)*3), 'рублей')"
   ]
  },
  {
   "cell_type": "code",
   "execution_count": 70,
   "metadata": {},
   "outputs": [
    {
     "name": "stdout",
     "output_type": "stream",
     "text": [
      "Доля абонентской платы в выручке:\n",
      "тарифа ultra: 100.0%\n",
      "тарифа smart: 77.6%\n"
     ]
    }
   ],
   "source": [
    "print('Доля абонентской платы в выручке:')\n",
    "print('тарифа ultra: {:.1%}'.format(1950/data_ultra['gain'].mean()))\n",
    "print('тарифа smart: {:.1%}'.format(550/data_smart['gain'].mean()))"
   ]
  },
  {
   "cell_type": "markdown",
   "metadata": {},
   "source": [
    "**Вывод**\n",
    "\n",
    "1. Тариф 'ultra' приносит в среднем больше ежемесячной выручки, но при этом с учетом дисперсии и стандартного отклонения правая граница интервала полного охвата выручки (по правилу трех сигм) у обоих тарифов примерно равны   \n",
    "2. В тарифе 'smart' лимитные границы использования звонков, сообщений, и интернета приближены к средним значениям.   \n",
    "3. В тарифе  'ultra' границы интервалов попадания с вероятностью близкой к единице всех значений продолжительности в месяц звонков, количества сообщений лежат в области лимита и входят в абоненскую плату.    \n",
    "4. Тариф  'ultra' ориентирован на абоненскую плату, а тариф 'smart' кроме абоненской платы и на получение оплаты за превышение лимита (смотри долю абонентской платы в выручке).    \n",
    "5. Превышение лимита интернет-трафика характерны как для пользователей тарифа 'smart', так и тарифа  'ultra'.   \n",
    "\n",
    "**Рекомендации**   \n",
    "Для тарифа 'smart' возможны побочные явления - смена клиентами тарифа, так как в среднем получается около половины оплачивается как абоненская плата, остальное за превышение лимита.    \n"
   ]
  },
  {
   "cell_type": "markdown",
   "metadata": {},
   "source": [
    "## Проверка гипотез"
   ]
  },
  {
   "cell_type": "markdown",
   "metadata": {},
   "source": [
    "### Гипотеза № 1"
   ]
  },
  {
   "cell_type": "markdown",
   "metadata": {},
   "source": [
    "Cформулируем нулевую гипотезу:   \n",
    "H₀ - средняя выручка пользователей тарифов «Ультра» и «Смарт» ровна   \n",
    "Альтернативная гипотеза:   \n",
    "H₁ - средняя выручка пользователей тарифов «Ультра» и «Смарт» различается   \n",
    "Для проверки гипотезы используем метод: scipy.stats.ttest_ind (array1, array2, equal_var), а так как дисперсии выборок не равны, то equal_var=False       \n",
    "критический уровень статистической значимости определяем 0.05 (5%)  "
   ]
  },
  {
   "cell_type": "code",
   "execution_count": 71,
   "metadata": {},
   "outputs": [
    {
     "name": "stdout",
     "output_type": "stream",
     "text": [
      "p-значение: 0.0\n",
      "Отвергаем нулевую гипотезу\n"
     ]
    }
   ],
   "source": [
    "alpha = 0.05\n",
    "\n",
    "results = st.ttest_ind(data_ultra['gain'], data_smart['gain'], equal_var=False)\n",
    "\n",
    "print('p-значение:', results.pvalue)\n",
    "\n",
    "if results.pvalue < alpha:\n",
    "    print('Отвергаем нулевую гипотезу')\n",
    "else:\n",
    "    print('Не получилось отвергнуть нулевую гипотезу')"
   ]
  },
  {
   "cell_type": "markdown",
   "metadata": {},
   "source": [
    "### Гипотеза № 2"
   ]
  },
  {
   "cell_type": "markdown",
   "metadata": {},
   "source": [
    "Cформулируем нулевую гипотезу:   \n",
    "H₀ - средняя выручка пользователей из Москвы ровна выручке пользователей из других регионов   \n",
    "Альтернативная гипотеза:   \n",
    "H₁ - средняя выручка пользователей из Москвы отличается от выручки пользователей из других регионов   \n",
    "Для проверки гипотезы используем метод: scipy.stats.ttest_ind (array1, array2, equal_var), а так как дисперсии выборок не равны, то equal_var=False       \n",
    "критический уровень статистической значимости определяем 0.05 (5%)  "
   ]
  },
  {
   "cell_type": "code",
   "execution_count": 72,
   "metadata": {},
   "outputs": [
    {
     "name": "stdout",
     "output_type": "stream",
     "text": [
      "p-значение: 0.0031975952076419177\n",
      "Отвергаем нулевую гипотезу\n"
     ]
    }
   ],
   "source": [
    "alpha = 0.05\n",
    "data_city_Moscow = data_joint.query('city == \"Москва\"')\n",
    "data_city_other = data_joint.query('city != \"Москва\"')\n",
    "\n",
    "results = st.ttest_ind(data_city_Moscow['gain'], data_city_other['gain'], equal_var=False)\n",
    "\n",
    "print('p-значение:', results.pvalue)\n",
    "\n",
    "if results.pvalue < alpha:\n",
    "    print('Отвергаем нулевую гипотезу')\n",
    "else:\n",
    "    print('Не получилось отвергнуть нулевую гипотезу')"
   ]
  },
  {
   "cell_type": "markdown",
   "metadata": {},
   "source": [
    "**Вывод:**\n",
    "Гипотеза, что выручка пользователей из Москвы отличается от выручки пользователей из других регионов - **отвергается**"
   ]
  },
  {
   "cell_type": "markdown",
   "metadata": {},
   "source": [
    "## Общий вывод"
   ]
  },
  {
   "cell_type": "markdown",
   "metadata": {},
   "source": [
    "1. **При изучении и на этапе предобработке данных** определены причины пропусков в столбце 'churn_date' (тариф еще действует), чтобы иметь конечную дату пропуски заменили последним числом периода проведения исследования.   \n",
    "Для удобства работы убрали не нужные в исследовании столбцы.   \n",
    "Для объединения таблиц столбцы - ключи привели к единому наименованию.\n",
    "Изменили типы данных в соответствии с содержанием столбцов и для удобства обработки значений.\n",
    "Продолжительность звонков, объем потраченного за сессию трафика округлены в большую сторону исходя из правил оператора.\n",
    "2. На этапе **исправления ошибок** была определена причина \"нулевых\" значений продолжительности звонков (работа автоответчика) и объема ппотраченного трафика за сессию (меньше 10 Кб). А так как за эти \"нулевые\" значения оператором взымается плата, для повышения качества результатов исследования определено данные эти учитывать и заменить 0 на 1.\n",
    "3. На этапе **расчетов и добавления данных** для систематизации и облегчения обработки все значения сведены в одну таблицу, что так же улучшает их визуальное восприятие. При этом данные были сгруппированы по пользователям и месяцам, расчитана помесячная выручка по каждому пользователю. \n",
    "4. По результатам **анализа тарифов** определено, что:\n",
    "    - тариф 'ultra' приносит в среднем больше ежемесячной выручки, но при этом **с учетом дисперсии и стандарного отклонения** <span style=\"color:red\">правая граница</span> интервала полного охвата выручки (по правилу трех сигм) у обоих тарифов **<span style=\"color:red\">примерно равны</span>**  \n",
    "    - в тарифе 'smart' лимит использования звонков, сообщений, и интернета приближены к средним ежемесячным значениям;   \n",
    "    - в тарифе  'ultra' границы интервалов попадания с вероятностью близкой к единице всех значений продолжительности звонков, количества сообщений в месяц лежат не превышают лимит и входят в абоненскую плату;\n",
    "    - превышение лимита интернет-трафика характерны как для пользователей тарифа 'smart', так и тарифа  'ultra'\n",
    "    - тариф  'ultra' ориентирован на абонентскую плату, а тариф 'smart' кроме абонентской платы и на получение выручки за оплату превышения лимита. Доля абонентской платы в выручке составляет тарифа ultra  94.6%, тарифа smart  43.9%    \n",
    "Проверка гипотез **не опровергают** факт того, что средняя выручка пользователей тарифов «Ультра» и «Смарт» различается.\n",
    "и на против **подтверждают**, что доходы от пользователей в Москве не отличаются от доходов в других населенных пунктах.   \n",
    "   \n",
    "   **ВЫВОД:** Взвесив все за и все против, можно утверждать, что тариф «Ультра» **<span style=\"color:red\">лучше</span>** тарифа «Смарт», хотя совокупный доход выше у тарифа «Смарт».\n",
    "\n",
    "**Рекомендации**   \n",
    "При этом необходимо учитывать, что для тарифа 'smart' **возможны** побочные явления - уход клиентов из-за смены тарифов, так как в среднем получается около половины клиент платит абоненскую плату, остальное за превышение лимита. Для уточнения данной гипотезы необходимо ровести дополнительное исследование.     \n"
   ]
  }
 ],
 "metadata": {
  "ExecuteTimeLog": [
   {
    "duration": 1913,
    "start_time": "2021-09-10T05:37:27.151Z"
   },
   {
    "duration": 44,
    "start_time": "2021-09-10T05:37:29.066Z"
   },
   {
    "duration": 16,
    "start_time": "2021-09-10T05:37:29.113Z"
   },
   {
    "duration": 9,
    "start_time": "2021-09-10T05:37:29.132Z"
   },
   {
    "duration": 193,
    "start_time": "2021-09-10T05:37:29.143Z"
   },
   {
    "duration": 22,
    "start_time": "2021-09-10T05:37:29.339Z"
   },
   {
    "duration": 27,
    "start_time": "2021-09-10T05:37:29.365Z"
   },
   {
    "duration": 19,
    "start_time": "2021-09-10T05:37:29.395Z"
   },
   {
    "duration": 46,
    "start_time": "2021-09-10T05:37:29.417Z"
   },
   {
    "duration": 104,
    "start_time": "2021-09-10T05:37:29.466Z"
   },
   {
    "duration": 10,
    "start_time": "2021-09-10T05:37:29.572Z"
   },
   {
    "duration": 22,
    "start_time": "2021-09-10T05:37:29.584Z"
   },
   {
    "duration": 190,
    "start_time": "2021-09-10T05:37:29.609Z"
   },
   {
    "duration": 12,
    "start_time": "2021-09-10T05:37:29.801Z"
   },
   {
    "duration": 26,
    "start_time": "2021-09-10T05:37:29.815Z"
   },
   {
    "duration": 17,
    "start_time": "2021-09-10T05:37:29.861Z"
   },
   {
    "duration": 22,
    "start_time": "2021-09-10T05:37:29.880Z"
   },
   {
    "duration": 18,
    "start_time": "2021-09-10T05:37:29.904Z"
   },
   {
    "duration": 39,
    "start_time": "2021-09-10T05:37:29.924Z"
   },
   {
    "duration": 8,
    "start_time": "2021-09-10T05:37:29.966Z"
   },
   {
    "duration": 8,
    "start_time": "2021-09-10T05:37:29.977Z"
   },
   {
    "duration": 7,
    "start_time": "2021-09-10T05:37:29.987Z"
   },
   {
    "duration": 12,
    "start_time": "2021-09-10T05:37:30.000Z"
   },
   {
    "duration": 12,
    "start_time": "2021-09-10T05:37:30.016Z"
   },
   {
    "duration": 68,
    "start_time": "2021-09-10T05:37:30.031Z"
   },
   {
    "duration": 7,
    "start_time": "2021-09-10T05:37:30.102Z"
   },
   {
    "duration": 19,
    "start_time": "2021-09-10T05:37:30.111Z"
   },
   {
    "duration": 43,
    "start_time": "2021-09-10T05:37:30.133Z"
   },
   {
    "duration": 13,
    "start_time": "2021-09-10T05:37:30.179Z"
   },
   {
    "duration": 44,
    "start_time": "2021-09-10T05:37:30.195Z"
   },
   {
    "duration": 6,
    "start_time": "2021-09-10T05:37:30.242Z"
   },
   {
    "duration": 851,
    "start_time": "2021-09-10T05:37:30.262Z"
   },
   {
    "duration": 31,
    "start_time": "2021-09-10T05:37:31.116Z"
   },
   {
    "duration": 371,
    "start_time": "2021-09-10T05:37:31.149Z"
   },
   {
    "duration": 354,
    "start_time": "2021-09-10T05:37:31.523Z"
   },
   {
    "duration": 8,
    "start_time": "2021-09-10T05:37:31.880Z"
   },
   {
    "duration": 398,
    "start_time": "2021-09-10T05:37:31.890Z"
   },
   {
    "duration": 344,
    "start_time": "2021-09-10T05:37:32.291Z"
   },
   {
    "duration": 5,
    "start_time": "2021-09-10T05:37:32.637Z"
   },
   {
    "duration": 95,
    "start_time": "2021-09-10T05:37:32.644Z"
   },
   {
    "duration": 66,
    "start_time": "2021-09-10T05:37:32.741Z"
   },
   {
    "duration": 3,
    "start_time": "2021-09-10T05:37:32.809Z"
   },
   {
    "duration": 90,
    "start_time": "2021-09-10T05:37:32.815Z"
   },
   {
    "duration": 72,
    "start_time": "2021-09-10T05:37:32.907Z"
   },
   {
    "duration": 26,
    "start_time": "2021-09-10T05:37:32.981Z"
   },
   {
    "duration": 8,
    "start_time": "2021-09-10T05:37:33.009Z"
   },
   {
    "duration": 12,
    "start_time": "2021-09-10T05:37:33.019Z"
   },
   {
    "duration": 33,
    "start_time": "2021-09-10T05:37:33.034Z"
   },
   {
    "duration": 6,
    "start_time": "2021-09-10T05:37:33.069Z"
   },
   {
    "duration": 11,
    "start_time": "2021-09-10T05:37:33.078Z"
   },
   {
    "duration": 805,
    "start_time": "2021-09-10T05:37:33.091Z"
   },
   {
    "duration": 9,
    "start_time": "2021-09-10T05:37:33.898Z"
   },
   {
    "duration": 12,
    "start_time": "2021-09-10T05:37:33.909Z"
   },
   {
    "duration": 13,
    "start_time": "2021-09-10T05:37:33.924Z"
   },
   {
    "duration": 312,
    "start_time": "2021-09-10T05:37:33.962Z"
   },
   {
    "duration": 446,
    "start_time": "2021-09-10T05:37:34.276Z"
   },
   {
    "duration": 300,
    "start_time": "2021-09-10T05:37:34.725Z"
   },
   {
    "duration": 419,
    "start_time": "2021-09-10T05:37:35.028Z"
   },
   {
    "duration": 14,
    "start_time": "2021-09-10T05:37:35.450Z"
   },
   {
    "duration": 11,
    "start_time": "2021-09-10T05:37:35.467Z"
   },
   {
    "duration": 11,
    "start_time": "2021-09-10T05:37:35.481Z"
   },
   {
    "duration": 321,
    "start_time": "2021-09-10T05:37:35.495Z"
   },
   {
    "duration": 311,
    "start_time": "2021-09-10T05:37:35.819Z"
   },
   {
    "duration": 336,
    "start_time": "2021-09-10T05:37:36.132Z"
   },
   {
    "duration": 6,
    "start_time": "2021-09-10T05:37:36.471Z"
   },
   {
    "duration": 8,
    "start_time": "2021-09-10T05:37:36.480Z"
   },
   {
    "duration": 14,
    "start_time": "2021-09-10T05:37:36.491Z"
   },
   {
    "duration": 17,
    "start_time": "2021-09-10T05:37:36.512Z"
   },
   {
    "duration": 41,
    "start_time": "2021-09-10T05:37:36.532Z"
   },
   {
    "duration": 22,
    "start_time": "2021-09-10T05:37:36.576Z"
   },
   {
    "duration": 20,
    "start_time": "2021-09-10T05:37:36.601Z"
   },
   {
    "duration": 1799,
    "start_time": "2021-09-10T05:40:50.167Z"
   },
   {
    "duration": 43,
    "start_time": "2021-09-10T05:40:51.968Z"
   },
   {
    "duration": 15,
    "start_time": "2021-09-10T05:40:52.015Z"
   },
   {
    "duration": 12,
    "start_time": "2021-09-10T05:40:52.033Z"
   },
   {
    "duration": 194,
    "start_time": "2021-09-10T05:40:52.047Z"
   },
   {
    "duration": 18,
    "start_time": "2021-09-10T05:40:52.243Z"
   },
   {
    "duration": 26,
    "start_time": "2021-09-10T05:40:52.264Z"
   },
   {
    "duration": 19,
    "start_time": "2021-09-10T05:40:52.294Z"
   },
   {
    "duration": 48,
    "start_time": "2021-09-10T05:40:52.315Z"
   },
   {
    "duration": 119,
    "start_time": "2021-09-10T05:40:52.365Z"
   },
   {
    "duration": 9,
    "start_time": "2021-09-10T05:40:52.486Z"
   },
   {
    "duration": 21,
    "start_time": "2021-09-10T05:40:52.498Z"
   },
   {
    "duration": 189,
    "start_time": "2021-09-10T05:40:52.522Z"
   },
   {
    "duration": 11,
    "start_time": "2021-09-10T05:40:52.713Z"
   },
   {
    "duration": 37,
    "start_time": "2021-09-10T05:40:52.726Z"
   },
   {
    "duration": 16,
    "start_time": "2021-09-10T05:40:52.765Z"
   },
   {
    "duration": 22,
    "start_time": "2021-09-10T05:40:52.783Z"
   },
   {
    "duration": 18,
    "start_time": "2021-09-10T05:40:52.807Z"
   },
   {
    "duration": 41,
    "start_time": "2021-09-10T05:40:52.828Z"
   },
   {
    "duration": 11,
    "start_time": "2021-09-10T05:40:52.871Z"
   },
   {
    "duration": 9,
    "start_time": "2021-09-10T05:40:52.884Z"
   },
   {
    "duration": 7,
    "start_time": "2021-09-10T05:40:52.895Z"
   },
   {
    "duration": 6,
    "start_time": "2021-09-10T05:40:52.908Z"
   },
   {
    "duration": 52,
    "start_time": "2021-09-10T05:40:52.918Z"
   },
   {
    "duration": 46,
    "start_time": "2021-09-10T05:40:52.972Z"
   },
   {
    "duration": 6,
    "start_time": "2021-09-10T05:40:53.020Z"
   },
   {
    "duration": 8,
    "start_time": "2021-09-10T05:40:53.029Z"
   },
   {
    "duration": 49,
    "start_time": "2021-09-10T05:40:53.039Z"
   },
   {
    "duration": 11,
    "start_time": "2021-09-10T05:40:53.090Z"
   },
   {
    "duration": 35,
    "start_time": "2021-09-10T05:40:53.103Z"
   },
   {
    "duration": 24,
    "start_time": "2021-09-10T05:40:53.141Z"
   },
   {
    "duration": 1196,
    "start_time": "2021-09-10T05:40:53.168Z"
   },
   {
    "duration": 861,
    "start_time": "2021-09-10T05:40:53.506Z"
   },
   {
    "duration": 850,
    "start_time": "2021-09-10T05:40:53.519Z"
   },
   {
    "duration": 845,
    "start_time": "2021-09-10T05:40:53.525Z"
   },
   {
    "duration": 840,
    "start_time": "2021-09-10T05:40:53.531Z"
   },
   {
    "duration": 837,
    "start_time": "2021-09-10T05:40:53.536Z"
   },
   {
    "duration": 833,
    "start_time": "2021-09-10T05:40:53.541Z"
   },
   {
    "duration": 827,
    "start_time": "2021-09-10T05:40:53.548Z"
   },
   {
    "duration": 822,
    "start_time": "2021-09-10T05:40:53.555Z"
   },
   {
    "duration": 818,
    "start_time": "2021-09-10T05:40:53.560Z"
   },
   {
    "duration": 815,
    "start_time": "2021-09-10T05:40:53.564Z"
   },
   {
    "duration": 811,
    "start_time": "2021-09-10T05:40:53.569Z"
   },
   {
    "duration": 808,
    "start_time": "2021-09-10T05:40:53.574Z"
   },
   {
    "duration": 802,
    "start_time": "2021-09-10T05:40:53.581Z"
   },
   {
    "duration": 798,
    "start_time": "2021-09-10T05:40:53.586Z"
   },
   {
    "duration": 794,
    "start_time": "2021-09-10T05:40:53.592Z"
   },
   {
    "duration": 779,
    "start_time": "2021-09-10T05:40:53.608Z"
   },
   {
    "duration": 774,
    "start_time": "2021-09-10T05:40:53.615Z"
   },
   {
    "duration": 769,
    "start_time": "2021-09-10T05:40:53.621Z"
   },
   {
    "duration": 766,
    "start_time": "2021-09-10T05:40:53.625Z"
   },
   {
    "duration": 761,
    "start_time": "2021-09-10T05:40:53.631Z"
   },
   {
    "duration": 758,
    "start_time": "2021-09-10T05:40:53.636Z"
   },
   {
    "duration": 755,
    "start_time": "2021-09-10T05:40:53.640Z"
   },
   {
    "duration": 752,
    "start_time": "2021-09-10T05:40:53.645Z"
   },
   {
    "duration": 749,
    "start_time": "2021-09-10T05:40:53.649Z"
   },
   {
    "duration": 746,
    "start_time": "2021-09-10T05:40:53.656Z"
   },
   {
    "duration": 741,
    "start_time": "2021-09-10T05:40:53.662Z"
   },
   {
    "duration": 795,
    "start_time": "2021-09-10T05:40:53.667Z"
   },
   {
    "duration": 782,
    "start_time": "2021-09-10T05:40:53.681Z"
   },
   {
    "duration": 780,
    "start_time": "2021-09-10T05:40:53.685Z"
   },
   {
    "duration": 777,
    "start_time": "2021-09-10T05:40:53.689Z"
   },
   {
    "duration": 772,
    "start_time": "2021-09-10T05:40:53.695Z"
   },
   {
    "duration": 770,
    "start_time": "2021-09-10T05:40:53.699Z"
   },
   {
    "duration": 766,
    "start_time": "2021-09-10T05:40:53.704Z"
   },
   {
    "duration": 753,
    "start_time": "2021-09-10T05:40:53.718Z"
   },
   {
    "duration": 749,
    "start_time": "2021-09-10T05:40:53.724Z"
   },
   {
    "duration": 743,
    "start_time": "2021-09-10T05:40:53.731Z"
   },
   {
    "duration": 738,
    "start_time": "2021-09-10T05:40:53.737Z"
   },
   {
    "duration": 735,
    "start_time": "2021-09-10T05:40:53.742Z"
   },
   {
    "duration": 731,
    "start_time": "2021-09-10T05:40:53.747Z"
   },
   {
    "duration": 915,
    "start_time": "2021-09-10T05:42:19.096Z"
   },
   {
    "duration": 675,
    "start_time": "2021-09-10T05:42:32.800Z"
   },
   {
    "duration": 32,
    "start_time": "2021-09-10T05:42:39.504Z"
   },
   {
    "duration": 714,
    "start_time": "2021-09-10T05:42:40.804Z"
   },
   {
    "duration": 437,
    "start_time": "2021-09-10T05:42:49.624Z"
   },
   {
    "duration": 437,
    "start_time": "2021-09-10T05:43:06.200Z"
   },
   {
    "duration": 6,
    "start_time": "2021-09-10T05:43:11.132Z"
   },
   {
    "duration": 440,
    "start_time": "2021-09-10T05:43:15.436Z"
   },
   {
    "duration": 326,
    "start_time": "2021-09-10T05:43:16.292Z"
   },
   {
    "duration": 459,
    "start_time": "2021-09-10T05:43:27.652Z"
   },
   {
    "duration": 424,
    "start_time": "2021-09-10T05:43:39.896Z"
   },
   {
    "duration": 431,
    "start_time": "2021-09-10T05:44:04.304Z"
   },
   {
    "duration": 6,
    "start_time": "2021-09-10T05:44:12.438Z"
   },
   {
    "duration": 37,
    "start_time": "2021-09-10T05:44:37.680Z"
   },
   {
    "duration": 42,
    "start_time": "2021-09-10T05:45:23.279Z"
   },
   {
    "duration": 36,
    "start_time": "2021-09-10T05:45:44.748Z"
   },
   {
    "duration": 63,
    "start_time": "2021-09-10T05:45:53.524Z"
   },
   {
    "duration": 1124,
    "start_time": "2021-09-10T05:56:58.568Z"
   },
   {
    "duration": 43,
    "start_time": "2021-09-10T05:56:59.694Z"
   },
   {
    "duration": 16,
    "start_time": "2021-09-10T05:56:59.740Z"
   },
   {
    "duration": 10,
    "start_time": "2021-09-10T05:56:59.758Z"
   },
   {
    "duration": 192,
    "start_time": "2021-09-10T05:56:59.770Z"
   },
   {
    "duration": 11,
    "start_time": "2021-09-10T05:56:59.965Z"
   },
   {
    "duration": 30,
    "start_time": "2021-09-10T05:56:59.979Z"
   },
   {
    "duration": 38,
    "start_time": "2021-09-10T05:57:00.012Z"
   },
   {
    "duration": 15,
    "start_time": "2021-09-10T05:57:00.062Z"
   },
   {
    "duration": 132,
    "start_time": "2021-09-10T05:57:00.079Z"
   },
   {
    "duration": 10,
    "start_time": "2021-09-10T05:57:00.214Z"
   },
   {
    "duration": 42,
    "start_time": "2021-09-10T05:57:00.226Z"
   },
   {
    "duration": 193,
    "start_time": "2021-09-10T05:57:00.271Z"
   },
   {
    "duration": 11,
    "start_time": "2021-09-10T05:57:00.467Z"
   },
   {
    "duration": 35,
    "start_time": "2021-09-10T05:57:00.480Z"
   },
   {
    "duration": 17,
    "start_time": "2021-09-10T05:57:00.518Z"
   },
   {
    "duration": 43,
    "start_time": "2021-09-10T05:57:00.537Z"
   },
   {
    "duration": 19,
    "start_time": "2021-09-10T05:57:00.582Z"
   },
   {
    "duration": 25,
    "start_time": "2021-09-10T05:57:00.603Z"
   },
   {
    "duration": 16,
    "start_time": "2021-09-10T05:57:00.630Z"
   },
   {
    "duration": 16,
    "start_time": "2021-09-10T05:57:00.648Z"
   },
   {
    "duration": 17,
    "start_time": "2021-09-10T05:57:00.667Z"
   },
   {
    "duration": 99,
    "start_time": "2021-09-10T05:57:00.690Z"
   },
   {
    "duration": 44,
    "start_time": "2021-09-10T05:57:00.792Z"
   },
   {
    "duration": 62,
    "start_time": "2021-09-10T05:57:00.839Z"
   },
   {
    "duration": 31,
    "start_time": "2021-09-10T05:57:00.904Z"
   },
   {
    "duration": 21,
    "start_time": "2021-09-10T05:57:00.937Z"
   },
   {
    "duration": 38,
    "start_time": "2021-09-10T05:57:00.961Z"
   },
   {
    "duration": 16,
    "start_time": "2021-09-10T05:57:01.001Z"
   },
   {
    "duration": 39,
    "start_time": "2021-09-10T05:57:01.019Z"
   },
   {
    "duration": 11,
    "start_time": "2021-09-10T05:57:01.060Z"
   },
   {
    "duration": 832,
    "start_time": "2021-09-10T05:57:01.074Z"
   },
   {
    "duration": 31,
    "start_time": "2021-09-10T05:57:01.909Z"
   },
   {
    "duration": 463,
    "start_time": "2021-09-10T05:57:01.943Z"
   },
   {
    "duration": 455,
    "start_time": "2021-09-10T05:57:02.409Z"
   },
   {
    "duration": 6,
    "start_time": "2021-09-10T05:57:02.867Z"
   },
   {
    "duration": 470,
    "start_time": "2021-09-10T05:57:02.875Z"
   },
   {
    "duration": 78,
    "start_time": "2021-09-10T05:57:03.348Z"
   },
   {
    "duration": 886,
    "start_time": "2021-09-10T05:57:02.543Z"
   },
   {
    "duration": 881,
    "start_time": "2021-09-10T05:57:02.549Z"
   },
   {
    "duration": 874,
    "start_time": "2021-09-10T05:57:02.557Z"
   },
   {
    "duration": 870,
    "start_time": "2021-09-10T05:57:02.563Z"
   },
   {
    "duration": 863,
    "start_time": "2021-09-10T05:57:02.571Z"
   },
   {
    "duration": 858,
    "start_time": "2021-09-10T05:57:02.577Z"
   },
   {
    "duration": 853,
    "start_time": "2021-09-10T05:57:02.584Z"
   },
   {
    "duration": 848,
    "start_time": "2021-09-10T05:57:02.590Z"
   },
   {
    "duration": 842,
    "start_time": "2021-09-10T05:57:02.597Z"
   },
   {
    "duration": 837,
    "start_time": "2021-09-10T05:57:02.603Z"
   },
   {
    "duration": 833,
    "start_time": "2021-09-10T05:57:02.609Z"
   },
   {
    "duration": 829,
    "start_time": "2021-09-10T05:57:02.614Z"
   },
   {
    "duration": 824,
    "start_time": "2021-09-10T05:57:02.620Z"
   },
   {
    "duration": 812,
    "start_time": "2021-09-10T05:57:02.634Z"
   },
   {
    "duration": 808,
    "start_time": "2021-09-10T05:57:02.639Z"
   },
   {
    "duration": 803,
    "start_time": "2021-09-10T05:57:02.645Z"
   },
   {
    "duration": 798,
    "start_time": "2021-09-10T05:57:02.651Z"
   },
   {
    "duration": 794,
    "start_time": "2021-09-10T05:57:02.657Z"
   },
   {
    "duration": 789,
    "start_time": "2021-09-10T05:57:02.663Z"
   },
   {
    "duration": 784,
    "start_time": "2021-09-10T05:57:02.669Z"
   },
   {
    "duration": 778,
    "start_time": "2021-09-10T05:57:02.676Z"
   },
   {
    "duration": 772,
    "start_time": "2021-09-10T05:57:02.683Z"
   },
   {
    "duration": 769,
    "start_time": "2021-09-10T05:57:02.688Z"
   },
   {
    "duration": 765,
    "start_time": "2021-09-10T05:57:02.693Z"
   },
   {
    "duration": 761,
    "start_time": "2021-09-10T05:57:02.698Z"
   },
   {
    "duration": 757,
    "start_time": "2021-09-10T05:57:02.703Z"
   },
   {
    "duration": 753,
    "start_time": "2021-09-10T05:57:02.709Z"
   },
   {
    "duration": 748,
    "start_time": "2021-09-10T05:57:02.715Z"
   },
   {
    "duration": 742,
    "start_time": "2021-09-10T05:57:02.722Z"
   },
   {
    "duration": 737,
    "start_time": "2021-09-10T05:57:02.728Z"
   },
   {
    "duration": 725,
    "start_time": "2021-09-10T05:57:02.742Z"
   },
   {
    "duration": 714,
    "start_time": "2021-09-10T05:57:02.754Z"
   },
   {
    "duration": 449,
    "start_time": "2021-09-10T05:57:29.401Z"
   },
   {
    "duration": 6,
    "start_time": "2021-09-10T05:57:38.388Z"
   },
   {
    "duration": 38,
    "start_time": "2021-09-10T05:57:44.564Z"
   },
   {
    "duration": 65,
    "start_time": "2021-09-10T05:57:49.848Z"
   },
   {
    "duration": 39,
    "start_time": "2021-09-10T05:57:58.968Z"
   },
   {
    "duration": 32,
    "start_time": "2021-09-10T05:58:01.099Z"
   },
   {
    "duration": 27,
    "start_time": "2021-09-10T05:58:05.248Z"
   },
   {
    "duration": 6553,
    "start_time": "2021-09-10T05:58:41.724Z"
   },
   {
    "duration": 21,
    "start_time": "2021-09-10T05:59:25.164Z"
   },
   {
    "duration": 3,
    "start_time": "2021-09-10T06:13:33.735Z"
   },
   {
    "duration": 17,
    "start_time": "2021-09-10T06:15:38.607Z"
   },
   {
    "duration": 40,
    "start_time": "2021-09-10T06:16:31.619Z"
   },
   {
    "duration": 29,
    "start_time": "2021-09-10T06:16:33.312Z"
   },
   {
    "duration": 25,
    "start_time": "2021-09-10T06:16:54.496Z"
   },
   {
    "duration": 8,
    "start_time": "2021-09-10T06:17:29.339Z"
   },
   {
    "duration": 10,
    "start_time": "2021-09-10T06:17:38.143Z"
   },
   {
    "duration": 10,
    "start_time": "2021-09-10T06:17:49.735Z"
   },
   {
    "duration": 8,
    "start_time": "2021-09-10T06:19:48.195Z"
   },
   {
    "duration": 6,
    "start_time": "2021-09-10T06:20:01.440Z"
   },
   {
    "duration": 5,
    "start_time": "2021-09-10T06:20:29.468Z"
   },
   {
    "duration": 782,
    "start_time": "2021-09-10T06:20:39.883Z"
   },
   {
    "duration": 21,
    "start_time": "2021-09-10T06:21:26.292Z"
   },
   {
    "duration": 9,
    "start_time": "2021-09-10T06:21:59.864Z"
   },
   {
    "duration": 7,
    "start_time": "2021-09-10T06:22:01.404Z"
   },
   {
    "duration": 10,
    "start_time": "2021-09-10T06:22:04.224Z"
   },
   {
    "duration": 294,
    "start_time": "2021-09-10T06:22:06.200Z"
   },
   {
    "duration": 239,
    "start_time": "2021-09-10T06:22:28.743Z"
   },
   {
    "duration": 288,
    "start_time": "2021-09-10T06:22:38.783Z"
   },
   {
    "duration": 297,
    "start_time": "2021-09-10T06:22:45.936Z"
   },
   {
    "duration": 443,
    "start_time": "2021-09-10T06:23:36.800Z"
   },
   {
    "duration": 442,
    "start_time": "2021-09-10T06:25:52.692Z"
   },
   {
    "duration": 570,
    "start_time": "2021-09-10T06:26:06.744Z"
   },
   {
    "duration": 529,
    "start_time": "2021-09-10T06:26:48.024Z"
   },
   {
    "duration": 534,
    "start_time": "2021-09-10T06:28:51.920Z"
   },
   {
    "duration": 9,
    "start_time": "2021-09-10T06:29:15.844Z"
   },
   {
    "duration": 8,
    "start_time": "2021-09-10T06:29:17.944Z"
   },
   {
    "duration": 11,
    "start_time": "2021-09-10T06:29:19.064Z"
   },
   {
    "duration": 327,
    "start_time": "2021-09-10T06:29:20.952Z"
   },
   {
    "duration": 573,
    "start_time": "2021-09-10T06:30:13.341Z"
   },
   {
    "duration": 627,
    "start_time": "2021-09-10T06:30:38.008Z"
   },
   {
    "duration": 545,
    "start_time": "2021-09-10T06:31:25.681Z"
   },
   {
    "duration": 7,
    "start_time": "2021-09-10T06:31:47.261Z"
   },
   {
    "duration": 6,
    "start_time": "2021-09-10T06:31:48.023Z"
   },
   {
    "duration": 7,
    "start_time": "2021-09-10T06:31:48.785Z"
   },
   {
    "duration": 8,
    "start_time": "2021-09-10T06:31:49.749Z"
   },
   {
    "duration": 6,
    "start_time": "2021-09-10T06:31:50.509Z"
   },
   {
    "duration": 7605,
    "start_time": "2021-09-10T06:34:13.263Z"
   },
   {
    "duration": 68,
    "start_time": "2021-09-10T06:34:20.870Z"
   },
   {
    "duration": 19,
    "start_time": "2021-09-10T06:34:20.942Z"
   },
   {
    "duration": 17,
    "start_time": "2021-09-10T06:34:20.965Z"
   },
   {
    "duration": 326,
    "start_time": "2021-09-10T06:34:20.986Z"
   },
   {
    "duration": 17,
    "start_time": "2021-09-10T06:34:21.315Z"
   },
   {
    "duration": 48,
    "start_time": "2021-09-10T06:34:21.334Z"
   },
   {
    "duration": 20,
    "start_time": "2021-09-10T06:34:21.386Z"
   },
   {
    "duration": 15,
    "start_time": "2021-09-10T06:34:21.409Z"
   },
   {
    "duration": 150,
    "start_time": "2021-09-10T06:34:21.427Z"
   },
   {
    "duration": 10,
    "start_time": "2021-09-10T06:34:21.579Z"
   },
   {
    "duration": 28,
    "start_time": "2021-09-10T06:34:21.591Z"
   },
   {
    "duration": 215,
    "start_time": "2021-09-10T06:34:21.621Z"
   },
   {
    "duration": 24,
    "start_time": "2021-09-10T06:34:21.838Z"
   },
   {
    "duration": 22,
    "start_time": "2021-09-10T06:34:21.864Z"
   },
   {
    "duration": 16,
    "start_time": "2021-09-10T06:34:21.888Z"
   },
   {
    "duration": 56,
    "start_time": "2021-09-10T06:34:21.907Z"
   },
   {
    "duration": 19,
    "start_time": "2021-09-10T06:34:21.965Z"
   },
   {
    "duration": 15,
    "start_time": "2021-09-10T06:34:21.987Z"
   },
   {
    "duration": 12,
    "start_time": "2021-09-10T06:34:22.004Z"
   },
   {
    "duration": 10,
    "start_time": "2021-09-10T06:34:22.018Z"
   },
   {
    "duration": 11,
    "start_time": "2021-09-10T06:34:22.030Z"
   },
   {
    "duration": 6,
    "start_time": "2021-09-10T06:34:22.064Z"
   },
   {
    "duration": 13,
    "start_time": "2021-09-10T06:34:22.074Z"
   },
   {
    "duration": 73,
    "start_time": "2021-09-10T06:34:22.089Z"
   },
   {
    "duration": 6,
    "start_time": "2021-09-10T06:34:22.164Z"
   },
   {
    "duration": 13,
    "start_time": "2021-09-10T06:34:22.172Z"
   },
   {
    "duration": 32,
    "start_time": "2021-09-10T06:34:22.187Z"
   },
   {
    "duration": 10,
    "start_time": "2021-09-10T06:34:22.221Z"
   },
   {
    "duration": 61,
    "start_time": "2021-09-10T06:34:22.233Z"
   },
   {
    "duration": 10,
    "start_time": "2021-09-10T06:34:22.296Z"
   },
   {
    "duration": 861,
    "start_time": "2021-09-10T06:34:22.308Z"
   },
   {
    "duration": 32,
    "start_time": "2021-09-10T06:34:23.171Z"
   },
   {
    "duration": 482,
    "start_time": "2021-09-10T06:34:23.206Z"
   },
   {
    "duration": 459,
    "start_time": "2021-09-10T06:34:23.690Z"
   },
   {
    "duration": 12,
    "start_time": "2021-09-10T06:34:24.152Z"
   },
   {
    "duration": 483,
    "start_time": "2021-09-10T06:34:24.167Z"
   },
   {
    "duration": 453,
    "start_time": "2021-09-10T06:34:24.652Z"
   },
   {
    "duration": 6,
    "start_time": "2021-09-10T06:34:25.108Z"
   },
   {
    "duration": 58,
    "start_time": "2021-09-10T06:34:25.117Z"
   },
   {
    "duration": 65,
    "start_time": "2021-09-10T06:34:25.178Z"
   },
   {
    "duration": 4,
    "start_time": "2021-09-10T06:34:25.263Z"
   },
   {
    "duration": 44,
    "start_time": "2021-09-10T06:34:25.270Z"
   },
   {
    "duration": 57,
    "start_time": "2021-09-10T06:34:25.316Z"
   },
   {
    "duration": 31,
    "start_time": "2021-09-10T06:34:25.375Z"
   },
   {
    "duration": 9,
    "start_time": "2021-09-10T06:34:25.408Z"
   },
   {
    "duration": 13,
    "start_time": "2021-09-10T06:34:25.419Z"
   },
   {
    "duration": 35,
    "start_time": "2021-09-10T06:34:25.434Z"
   },
   {
    "duration": 8,
    "start_time": "2021-09-10T06:34:25.471Z"
   },
   {
    "duration": 12,
    "start_time": "2021-09-10T06:34:25.481Z"
   },
   {
    "duration": 804,
    "start_time": "2021-09-10T06:34:25.496Z"
   },
   {
    "duration": 22,
    "start_time": "2021-09-10T06:34:26.302Z"
   },
   {
    "duration": 19,
    "start_time": "2021-09-10T06:34:26.327Z"
   },
   {
    "duration": 18,
    "start_time": "2021-09-10T06:34:26.349Z"
   },
   {
    "duration": 22,
    "start_time": "2021-09-10T06:34:26.369Z"
   },
   {
    "duration": 589,
    "start_time": "2021-09-10T06:34:26.394Z"
   },
   {
    "duration": 470,
    "start_time": "2021-09-10T06:34:26.986Z"
   },
   {
    "duration": 588,
    "start_time": "2021-09-10T06:34:27.463Z"
   },
   {
    "duration": 565,
    "start_time": "2021-09-10T06:34:28.053Z"
   },
   {
    "duration": 9,
    "start_time": "2021-09-10T06:34:28.620Z"
   },
   {
    "duration": 30,
    "start_time": "2021-09-10T06:34:28.632Z"
   },
   {
    "duration": 13,
    "start_time": "2021-09-10T06:34:28.665Z"
   },
   {
    "duration": 591,
    "start_time": "2021-09-10T06:34:28.680Z"
   },
   {
    "duration": 606,
    "start_time": "2021-09-10T06:34:29.273Z"
   },
   {
    "duration": 604,
    "start_time": "2021-09-10T06:34:29.882Z"
   },
   {
    "duration": 8,
    "start_time": "2021-09-10T06:34:30.489Z"
   },
   {
    "duration": 25,
    "start_time": "2021-09-10T06:34:30.500Z"
   },
   {
    "duration": 23,
    "start_time": "2021-09-10T06:34:30.534Z"
   },
   {
    "duration": 25,
    "start_time": "2021-09-10T06:34:30.562Z"
   },
   {
    "duration": 29,
    "start_time": "2021-09-10T06:34:30.590Z"
   },
   {
    "duration": 23,
    "start_time": "2021-09-10T06:34:30.622Z"
   },
   {
    "duration": 36,
    "start_time": "2021-09-10T06:34:30.648Z"
   }
  ],
  "kernelspec": {
   "display_name": "Python 3",
   "language": "python",
   "name": "python3"
  },
  "language_info": {
   "codemirror_mode": {
    "name": "ipython",
    "version": 3
   },
   "file_extension": ".py",
   "mimetype": "text/x-python",
   "name": "python",
   "nbconvert_exporter": "python",
   "pygments_lexer": "ipython3",
   "version": "3.8.8"
  },
  "toc": {
   "base_numbering": 1,
   "nav_menu": {},
   "number_sections": true,
   "sideBar": true,
   "skip_h1_title": true,
   "title_cell": "Table of Contents",
   "title_sidebar": "Contents",
   "toc_cell": true,
   "toc_position": {
    "height": "566.4px",
    "left": "383px",
    "top": "110.8px",
    "width": "247.391px"
   },
   "toc_section_display": true,
   "toc_window_display": true
  }
 },
 "nbformat": 4,
 "nbformat_minor": 2
}
