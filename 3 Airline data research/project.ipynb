{
 "cells": [
  {
   "cell_type": "markdown",
   "metadata": {},
   "source": [
    "# Тема: Анализ пасажирских авиаперевозок "
   ]
  },
  {
   "cell_type": "markdown",
   "metadata": {},
   "source": [
    "# Целевая установка:"
   ]
  },
  {
   "cell_type": "markdown",
   "metadata": {},
   "source": [
    "По результатам запросов:   \n",
    "по моделям самолетов и количестве рейсов для каждой модели в сентябре 2018 года;   \n",
    "по городам и среднем количестве рейсов, прибывающих в город за день в августе 2018 года   \n",
    "1. выбрать топ-10 городов по количеству рейсов;\n",
    "2. провести анализ зависимости:   \n",
    "     - модели самолетов и количество рейсов;\n",
    "     - города и количество рейсов;\n",
    "     - топ-10 городов и количество рейсов.\n",
    "3. Проверить гипотезу о различии среднего спроса на билеты во время проведения различных фестивалей и в обычное время"
   ]
  },
  {
   "cell_type": "markdown",
   "metadata": {},
   "source": [
    "<h1>Table of Contents<span class=\"tocSkip\"></span></h1>\n",
    "<div class=\"toc\"><ul class=\"toc-item\"><li><span><a href=\"#Сбор-с-сайта-данных-о-11-крупнейших-фестивалях-2018-года\" data-toc-modified-id=\"Сбор-с-сайта-данных-о-11-крупнейших-фестивалях-2018-года-1\"><span class=\"toc-item-num\">1&nbsp;&nbsp;</span>Сбор с сайта данных о 11 крупнейших фестивалях 2018 года</a></span><ul class=\"toc-item\"><li><span><a href=\"#Изучение-базы-данных-и-анализ-спроса-на-рейсы\" data-toc-modified-id=\"зучение-базы-данных-и-анализ-спроса-на-рейсы-2\"><span class=\"toc-item-num\">2&nbsp;&nbsp;</span>Изучение базы данных и анализ спроса на рейсы</a></span><ul class=\"toc-item\"><li><span><a href=\"#Изучение-данных\" data-toc-modified-id=\"Изучение-данных-3\"><span class=\"toc-item-num\">3&nbsp;&nbsp;</span>Изучение данных</a></span><ul class=\"toc-item\"><li><span><a href=\"#Изучение-данных-в-датасетах\" data-toc-modified-id=\"Изучение-данных-в-датасетах-3.1\"><span class=\"toc-item-num\">3.1&nbsp;&nbsp;</span>Изучение данных в датасетах</a></span></li><li><span><a href=\"#Вывод-по-результатам-изучения-данных\" data-toc-modified-id=\"Вывод-по-результатам-изучения-данных-3.2\"><span class=\"toc-item-num\">3.2&nbsp;&nbsp;</span>Вывод по результатам изучения данных</a></span></li></ul></li><li><span><a href=\"#Предобработка-данных\" data-toc-modified-id=\"Предобработка-данных-4\"><span class=\"toc-item-num\">4&nbsp;&nbsp;</span>Предобработка данных</a></span><ul class=\"toc-item\"><li><span><a href=\"#Анализ-зависимости-количества-рейсов-от-города-и-модели-самолетов\" data-toc-modified-id=\"Анализ-зависимости-количества-рейсов-от-города-и-модели самолетов-5\"><span class=\"toc-item-num\">5&nbsp;&nbsp;</span>Анализ зависимости количества рейсов от города и модели самолетов</a></span></li><li><span><a href=\"#Вывод\" data-toc-modified-id=\"Вывод-6\"><span class=\"toc-item-num\">6&nbsp;&nbsp;</span>Вывод</a></span></li></ul></div>"
   ]
  },
  {
   "cell_type": "markdown",
   "metadata": {},
   "source": [
    "## Сбор с сайта данных о 11 крупнейших фестивалях 2018 года"
   ]
  },
  {
   "cell_type": "code",
   "execution_count": 1,
   "metadata": {},
   "outputs": [
    {
     "data": {
      "text/html": [
       "<div>\n",
       "<style scoped>\n",
       "    .dataframe tbody tr th:only-of-type {\n",
       "        vertical-align: middle;\n",
       "    }\n",
       "\n",
       "    .dataframe tbody tr th {\n",
       "        vertical-align: top;\n",
       "    }\n",
       "\n",
       "    .dataframe thead th {\n",
       "        text-align: right;\n",
       "    }\n",
       "</style>\n",
       "<table border=\"1\" class=\"dataframe\">\n",
       "  <thead>\n",
       "    <tr style=\"text-align: right;\">\n",
       "      <th></th>\n",
       "      <th>Название фестиваля</th>\n",
       "      <th>Место проведения</th>\n",
       "      <th>Дата проведения</th>\n",
       "    </tr>\n",
       "  </thead>\n",
       "  <tbody>\n",
       "    <tr>\n",
       "      <td>0</td>\n",
       "      <td>Музыкальный фестиваль «Усадьба Jazz»</td>\n",
       "      <td>Екатеринбург</td>\n",
       "      <td>01.07.2018</td>\n",
       "    </tr>\n",
       "    <tr>\n",
       "      <td>1</td>\n",
       "      <td>Фестиваль музыки и технологий Alfa Future People</td>\n",
       "      <td>Нижний Новгород</td>\n",
       "      <td>10.08.2018</td>\n",
       "    </tr>\n",
       "    <tr>\n",
       "      <td>2</td>\n",
       "      <td>Фестиваль еды «О, да! Еда!»</td>\n",
       "      <td>Санкт-Петербург</td>\n",
       "      <td>21.07.2018</td>\n",
       "    </tr>\n",
       "    <tr>\n",
       "      <td>3</td>\n",
       "      <td>Доброфест</td>\n",
       "      <td>Ярославль</td>\n",
       "      <td>29.07.2018</td>\n",
       "    </tr>\n",
       "    <tr>\n",
       "      <td>4</td>\n",
       "      <td>Park Live</td>\n",
       "      <td>Москва</td>\n",
       "      <td>28.07.2018</td>\n",
       "    </tr>\n",
       "    <tr>\n",
       "      <td>5</td>\n",
       "      <td>Пикник Афиши</td>\n",
       "      <td>Москва</td>\n",
       "      <td>04.08.2018</td>\n",
       "    </tr>\n",
       "    <tr>\n",
       "      <td>6</td>\n",
       "      <td>VK FEST</td>\n",
       "      <td>Санкт-Петербург</td>\n",
       "      <td>29.07.2018</td>\n",
       "    </tr>\n",
       "    <tr>\n",
       "      <td>7</td>\n",
       "      <td>Фестиваль «О, да! Еда!»</td>\n",
       "      <td>Иркутск</td>\n",
       "      <td>25.08.2018</td>\n",
       "    </tr>\n",
       "    <tr>\n",
       "      <td>8</td>\n",
       "      <td>Фестиваль «О, да! Еда!»</td>\n",
       "      <td>Владивосток</td>\n",
       "      <td>02.09.2018</td>\n",
       "    </tr>\n",
       "    <tr>\n",
       "      <td>9</td>\n",
       "      <td>Видфест</td>\n",
       "      <td>Москва</td>\n",
       "      <td>08.09.2018</td>\n",
       "    </tr>\n",
       "    <tr>\n",
       "      <td>10</td>\n",
       "      <td>«Нашествие 2018»</td>\n",
       "      <td>Тверь</td>\n",
       "      <td>05.08.2018</td>\n",
       "    </tr>\n",
       "  </tbody>\n",
       "</table>\n",
       "</div>"
      ],
      "text/plain": [
       "                                  Название фестиваля Место проведения  \\\n",
       "0               Музыкальный фестиваль «Усадьба Jazz»     Екатеринбург   \n",
       "1   Фестиваль музыки и технологий Alfa Future People  Нижний Новгород   \n",
       "2                        Фестиваль еды «О, да! Еда!»  Санкт-Петербург   \n",
       "3                                          Доброфест        Ярославль   \n",
       "4                                          Park Live           Москва   \n",
       "5                                       Пикник Афиши           Москва   \n",
       "6                                            VK FEST  Санкт-Петербург   \n",
       "7                            Фестиваль «О, да! Еда!»          Иркутск   \n",
       "8                            Фестиваль «О, да! Еда!»      Владивосток   \n",
       "9                                            Видфест           Москва   \n",
       "10                                  «Нашествие 2018»            Тверь   \n",
       "\n",
       "   Дата проведения  \n",
       "0       01.07.2018  \n",
       "1       10.08.2018  \n",
       "2       21.07.2018  \n",
       "3       29.07.2018  \n",
       "4       28.07.2018  \n",
       "5       04.08.2018  \n",
       "6       29.07.2018  \n",
       "7       25.08.2018  \n",
       "8       02.09.2018  \n",
       "9       08.09.2018  \n",
       "10      05.08.2018  "
      ]
     },
     "execution_count": 1,
     "metadata": {},
     "output_type": "execute_result"
    }
   ],
   "source": [
    "import pandas as pd\n",
    "import requests  \n",
    "from bs4 import (\n",
    "    BeautifulSoup,\n",
    ")\n",
    "URL =  'https://code.s3.yandex.net/learning-materials/data-analyst/festival_news/index.html'\n",
    "req = requests.get(URL)\n",
    "#print(req.text)\n",
    "soup = BeautifulSoup(req.text, 'lxml')\n",
    "table = soup.find('table',attrs={'id': \"best_festivals\"})\n",
    "heading_table = [] \n",
    "for row in table.find_all('th'): \n",
    "        heading_table.append(row.text) \n",
    "content=[] \n",
    "for row in table.find_all('tr'): \n",
    "    if not row.find_all('th'): \n",
    "            content.append([element.text for element in row.find_all('td')])\n",
    "festivals = pd.DataFrame(content, columns=heading_table) \n",
    "festivals = festivals.loc[0:10]\n",
    "festivals"
   ]
  },
  {
   "cell_type": "markdown",
   "metadata": {},
   "source": [
    "## Изучение базы данных и анализ спроса на рейсы"
   ]
  },
  {
   "cell_type": "markdown",
   "metadata": {},
   "source": [
    "Изучим базу данных и проведем анализ спроса на рейсы в города, где проходят крупнейшие фестивали с использование SQL Для каждой недели с 23 июля по 30 сентября 2018 года посчитайте количество билетов, купленных на рейсы в Москву"
   ]
  },
  {
   "cell_type": "markdown",
   "metadata": {},
   "source": [
    "SELECT   \n",
    "    REQUEST_1.week_number AS week_number,   \n",
    "    REQUEST_1.ticket_amount AS ticket_amount,   \n",
    "    REQUEST_2.festival_week AS festival_week,   \n",
    "    REQUEST_2.festival_name AS festival_name   \n",
    "FROM   \n",
    "    (SELECT   \n",
    "        EXTRACT(week FROM flights.arrival_time) AS week_number,   \n",
    "        COUNT(tickets.ticket_no) AS ticket_amount   \n",
    "    FROM   \n",
    "        flights   \n",
    "        INNER JOIN airports ON airports.airport_code = flights.arrival_airport   \n",
    "        INNER JOIN ticket_flights ON ticket_flights.flight_id = flights.flight_id   \n",
    "        INNER JOIN tickets  ON tickets.ticket_no = ticket_flights.ticket_no   \n",
    "    WHERE   \n",
    "        DATE_TRUNC('day', flights.arrival_time :: date) > '2018-07-22'   \n",
    "        AND DATE_TRUNC('day', flights.arrival_time :: date) < '2018-10-01'   \n",
    "        AND airports.city = 'Москва'   \n",
    "    GROUP BY   \n",
    "    week_number   \n",
    "    ) AS REQUEST_1   \n",
    "    LEFT JOIN (SELECT   \n",
    "        EXTRACT(week FROM festival_date) AS festival_week,   \n",
    "        festival_name   \n",
    "        FROM   \n",
    "        festivals   \n",
    "        WHERE   \n",
    "        DATE_TRUNC('day', festival_date) > '2018-07-23'   \n",
    "        AND DATE_TRUNC('day', festival_date) < '2018-09-30'   \n",
    "        AND festival_city = 'Москва'   \n",
    "              ) AS REQUEST_2 ON REQUEST_2.festival_week = REQUEST_1.week_number"
   ]
  },
  {
   "cell_type": "markdown",
   "metadata": {},
   "source": [
    "| WEEK_NUMBER | TICKET_AMOUNT | FESTIVAL_WEEK | FESTIVAL_NAME |\n",
    "|:-----------:|:-------------:|:-------------:|:-------------:|\n",
    "|33|51378|nan| |\n",
    "|31|51034|31|Пикник Афиши|\n",
    "|38|51518|nan| |\t\n",
    "|30|43568|30|Park Live|\n",
    "|32|51675|nan| |\t\n",
    "|34|51492|nan| |\t\n",
    "|35|51360|nan| |\t\n",
    "|37|51670|nan| |\t\n",
    "|36|51386|36|Видфест|\n",
    "|39|51623|nan| |\t"
   ]
  },
  {
   "cell_type": "markdown",
   "metadata": {},
   "source": [
    "Таблица получилась небольшой - проверять по ней гипотезу о связи музыкальных фестивалей и спроса на авиабилеты критерием Стьюдента будет некорректно. Можно предположить, что во время фестивалей спрос практически не меняется: достаточно\n",
    "посмотреть на столбец ticket_amount и сравнить значения."
   ]
  },
  {
   "cell_type": "markdown",
   "metadata": {},
   "source": [
    "## Изучение данных"
   ]
  },
  {
   "cell_type": "markdown",
   "metadata": {},
   "source": [
    "### Изучение данных в датасетах"
   ]
  },
  {
   "cell_type": "code",
   "execution_count": 2,
   "metadata": {},
   "outputs": [],
   "source": [
    "import pandas as pd\n",
    "import matplotlib.pyplot as plt"
   ]
  },
  {
   "cell_type": "code",
   "execution_count": 3,
   "metadata": {},
   "outputs": [
    {
     "data": {
      "text/html": [
       "<div>\n",
       "<style scoped>\n",
       "    .dataframe tbody tr th:only-of-type {\n",
       "        vertical-align: middle;\n",
       "    }\n",
       "\n",
       "    .dataframe tbody tr th {\n",
       "        vertical-align: top;\n",
       "    }\n",
       "\n",
       "    .dataframe thead th {\n",
       "        text-align: right;\n",
       "    }\n",
       "</style>\n",
       "<table border=\"1\" class=\"dataframe\">\n",
       "  <thead>\n",
       "    <tr style=\"text-align: right;\">\n",
       "      <th></th>\n",
       "      <th>model</th>\n",
       "      <th>flights_amount</th>\n",
       "    </tr>\n",
       "  </thead>\n",
       "  <tbody>\n",
       "    <tr>\n",
       "      <td>0</td>\n",
       "      <td>Airbus A319-100</td>\n",
       "      <td>607</td>\n",
       "    </tr>\n",
       "    <tr>\n",
       "      <td>1</td>\n",
       "      <td>Airbus A321-200</td>\n",
       "      <td>960</td>\n",
       "    </tr>\n",
       "    <tr>\n",
       "      <td>2</td>\n",
       "      <td>Boeing 737-300</td>\n",
       "      <td>630</td>\n",
       "    </tr>\n",
       "    <tr>\n",
       "      <td>3</td>\n",
       "      <td>Boeing 767-300</td>\n",
       "      <td>600</td>\n",
       "    </tr>\n",
       "    <tr>\n",
       "      <td>4</td>\n",
       "      <td>Boeing 777-300</td>\n",
       "      <td>300</td>\n",
       "    </tr>\n",
       "    <tr>\n",
       "      <td>5</td>\n",
       "      <td>Bombardier CRJ-200</td>\n",
       "      <td>4446</td>\n",
       "    </tr>\n",
       "    <tr>\n",
       "      <td>6</td>\n",
       "      <td>Cessna 208 Caravan</td>\n",
       "      <td>4557</td>\n",
       "    </tr>\n",
       "    <tr>\n",
       "      <td>7</td>\n",
       "      <td>Sukhoi SuperJet-100</td>\n",
       "      <td>4185</td>\n",
       "    </tr>\n",
       "  </tbody>\n",
       "</table>\n",
       "</div>"
      ],
      "text/plain": [
       "                 model  flights_amount\n",
       "0      Airbus A319-100             607\n",
       "1      Airbus A321-200             960\n",
       "2       Boeing 737-300             630\n",
       "3       Boeing 767-300             600\n",
       "4       Boeing 777-300             300\n",
       "5   Bombardier CRJ-200            4446\n",
       "6   Cessna 208 Caravan            4557\n",
       "7  Sukhoi SuperJet-100            4185"
      ]
     },
     "execution_count": 3,
     "metadata": {},
     "output_type": "execute_result"
    }
   ],
   "source": [
    "data_flights_amount = pd.read_csv('/datasets/query_1.csv')\n",
    "data_flights_amount"
   ]
  },
  {
   "cell_type": "code",
   "execution_count": 4,
   "metadata": {},
   "outputs": [
    {
     "name": "stdout",
     "output_type": "stream",
     "text": [
      "<class 'pandas.core.frame.DataFrame'>\n",
      "RangeIndex: 8 entries, 0 to 7\n",
      "Data columns (total 2 columns):\n",
      "model             8 non-null object\n",
      "flights_amount    8 non-null int64\n",
      "dtypes: int64(1), object(1)\n",
      "memory usage: 256.0+ bytes\n"
     ]
    }
   ],
   "source": [
    "data_flights_amount.info()"
   ]
  },
  {
   "cell_type": "markdown",
   "metadata": {},
   "source": [
    "**Вывод:**   \n",
    "**Таблица <span style=\"color:red\">data_flights_amount</span>**\n",
    " содержит данные о:\n",
    "1. модели самолета (<span style=\"color:blue\">столбец model</span>) - тип данных object;\n",
    "2. количестве рейсов для каждой модели самолетов сделанных в сентябре 2018 года (<span style=\"color:blue\">столбец flights_amount</span>) - тип данных int64\n"
   ]
  },
  {
   "cell_type": "code",
   "execution_count": 5,
   "metadata": {},
   "outputs": [
    {
     "data": {
      "text/html": [
       "<div>\n",
       "<style scoped>\n",
       "    .dataframe tbody tr th:only-of-type {\n",
       "        vertical-align: middle;\n",
       "    }\n",
       "\n",
       "    .dataframe tbody tr th {\n",
       "        vertical-align: top;\n",
       "    }\n",
       "\n",
       "    .dataframe thead th {\n",
       "        text-align: right;\n",
       "    }\n",
       "</style>\n",
       "<table border=\"1\" class=\"dataframe\">\n",
       "  <thead>\n",
       "    <tr style=\"text-align: right;\">\n",
       "      <th></th>\n",
       "      <th>city</th>\n",
       "      <th>average_flights</th>\n",
       "    </tr>\n",
       "  </thead>\n",
       "  <tbody>\n",
       "    <tr>\n",
       "      <td>0</td>\n",
       "      <td>Абакан</td>\n",
       "      <td>3.870968</td>\n",
       "    </tr>\n",
       "    <tr>\n",
       "      <td>1</td>\n",
       "      <td>Анадырь</td>\n",
       "      <td>1.000000</td>\n",
       "    </tr>\n",
       "    <tr>\n",
       "      <td>2</td>\n",
       "      <td>Анапа</td>\n",
       "      <td>2.161290</td>\n",
       "    </tr>\n",
       "    <tr>\n",
       "      <td>3</td>\n",
       "      <td>Архангельск</td>\n",
       "      <td>5.354839</td>\n",
       "    </tr>\n",
       "    <tr>\n",
       "      <td>4</td>\n",
       "      <td>Астрахань</td>\n",
       "      <td>2.451613</td>\n",
       "    </tr>\n",
       "  </tbody>\n",
       "</table>\n",
       "</div>"
      ],
      "text/plain": [
       "          city  average_flights\n",
       "0       Абакан         3.870968\n",
       "1      Анадырь         1.000000\n",
       "2        Анапа         2.161290\n",
       "3  Архангельск         5.354839\n",
       "4    Астрахань         2.451613"
      ]
     },
     "execution_count": 5,
     "metadata": {},
     "output_type": "execute_result"
    }
   ],
   "source": [
    "data_average_flights = pd.read_csv('/datasets/query_3.csv') \n",
    "data_average_flights.head()"
   ]
  },
  {
   "cell_type": "code",
   "execution_count": 6,
   "metadata": {},
   "outputs": [
    {
     "name": "stdout",
     "output_type": "stream",
     "text": [
      "<class 'pandas.core.frame.DataFrame'>\n",
      "RangeIndex: 101 entries, 0 to 100\n",
      "Data columns (total 2 columns):\n",
      "city               101 non-null object\n",
      "average_flights    101 non-null float64\n",
      "dtypes: float64(1), object(1)\n",
      "memory usage: 1.7+ KB\n"
     ]
    }
   ],
   "source": [
    "data_average_flights.info()"
   ]
  },
  {
   "cell_type": "code",
   "execution_count": 7,
   "metadata": {},
   "outputs": [
    {
     "data": {
      "text/html": [
       "<div>\n",
       "<style scoped>\n",
       "    .dataframe tbody tr th:only-of-type {\n",
       "        vertical-align: middle;\n",
       "    }\n",
       "\n",
       "    .dataframe tbody tr th {\n",
       "        vertical-align: top;\n",
       "    }\n",
       "\n",
       "    .dataframe thead th {\n",
       "        text-align: right;\n",
       "    }\n",
       "</style>\n",
       "<table border=\"1\" class=\"dataframe\">\n",
       "  <thead>\n",
       "    <tr style=\"text-align: right;\">\n",
       "      <th></th>\n",
       "      <th>average_flights</th>\n",
       "    </tr>\n",
       "  </thead>\n",
       "  <tbody>\n",
       "    <tr>\n",
       "      <td>count</td>\n",
       "      <td>101.000000</td>\n",
       "    </tr>\n",
       "    <tr>\n",
       "      <td>mean</td>\n",
       "      <td>5.494189</td>\n",
       "    </tr>\n",
       "    <tr>\n",
       "      <td>std</td>\n",
       "      <td>13.119790</td>\n",
       "    </tr>\n",
       "    <tr>\n",
       "      <td>min</td>\n",
       "      <td>1.000000</td>\n",
       "    </tr>\n",
       "    <tr>\n",
       "      <td>25%</td>\n",
       "      <td>2.000000</td>\n",
       "    </tr>\n",
       "    <tr>\n",
       "      <td>50%</td>\n",
       "      <td>3.000000</td>\n",
       "    </tr>\n",
       "    <tr>\n",
       "      <td>75%</td>\n",
       "      <td>5.870968</td>\n",
       "    </tr>\n",
       "    <tr>\n",
       "      <td>max</td>\n",
       "      <td>129.774194</td>\n",
       "    </tr>\n",
       "  </tbody>\n",
       "</table>\n",
       "</div>"
      ],
      "text/plain": [
       "       average_flights\n",
       "count       101.000000\n",
       "mean          5.494189\n",
       "std          13.119790\n",
       "min           1.000000\n",
       "25%           2.000000\n",
       "50%           3.000000\n",
       "75%           5.870968\n",
       "max         129.774194"
      ]
     },
     "execution_count": 7,
     "metadata": {},
     "output_type": "execute_result"
    }
   ],
   "source": [
    "data_average_flights.describe()"
   ]
  },
  {
   "cell_type": "code",
   "execution_count": 8,
   "metadata": {},
   "outputs": [
    {
     "data": {
      "text/html": [
       "<div>\n",
       "<style scoped>\n",
       "    .dataframe tbody tr th:only-of-type {\n",
       "        vertical-align: middle;\n",
       "    }\n",
       "\n",
       "    .dataframe tbody tr th {\n",
       "        vertical-align: top;\n",
       "    }\n",
       "\n",
       "    .dataframe thead th {\n",
       "        text-align: right;\n",
       "    }\n",
       "</style>\n",
       "<table border=\"1\" class=\"dataframe\">\n",
       "  <thead>\n",
       "    <tr style=\"text-align: right;\">\n",
       "      <th></th>\n",
       "      <th>city</th>\n",
       "      <th>average_flights</th>\n",
       "    </tr>\n",
       "  </thead>\n",
       "  <tbody>\n",
       "    <tr>\n",
       "      <td>43</td>\n",
       "      <td>Москва</td>\n",
       "      <td>129.774194</td>\n",
       "    </tr>\n",
       "    <tr>\n",
       "      <td>70</td>\n",
       "      <td>Санкт-Петербург</td>\n",
       "      <td>31.161290</td>\n",
       "    </tr>\n",
       "    <tr>\n",
       "      <td>54</td>\n",
       "      <td>Новосибирск</td>\n",
       "      <td>17.322581</td>\n",
       "    </tr>\n",
       "    <tr>\n",
       "      <td>33</td>\n",
       "      <td>Красноярск</td>\n",
       "      <td>11.580645</td>\n",
       "    </tr>\n",
       "    <tr>\n",
       "      <td>20</td>\n",
       "      <td>Екатеринбург</td>\n",
       "      <td>11.322581</td>\n",
       "    </tr>\n",
       "  </tbody>\n",
       "</table>\n",
       "</div>"
      ],
      "text/plain": [
       "               city  average_flights\n",
       "43           Москва       129.774194\n",
       "70  Санкт-Петербург        31.161290\n",
       "54      Новосибирск        17.322581\n",
       "33       Красноярск        11.580645\n",
       "20     Екатеринбург        11.322581"
      ]
     },
     "execution_count": 8,
     "metadata": {},
     "output_type": "execute_result"
    }
   ],
   "source": [
    "data_average_flights.sort_values(by = 'average_flights', ascending = False).head()"
   ]
  },
  {
   "cell_type": "markdown",
   "metadata": {},
   "source": [
    "**Вывод:**   \n",
    "**Таблица <span style=\"color:red\">data_average_flights</span>**\n",
    " содержит данные о:\n",
    "1. городов в которых размещены аэропорты (<span style=\"color:blue\">столбец city</span>) - тип данных object;\n",
    "2. среднем количестве рейсов, прибывающих в данный город за день в августе 2018 года (<span style=\"color:blue\">столбец average_flights</span>) - тип данных float64   \n",
    "   \n",
    "Тип данных float64 в данном столбце **необходимо заменить на <span style=\"color:red\">int</span>** для удобства работы с данными."
   ]
  },
  {
   "cell_type": "markdown",
   "metadata": {},
   "source": [
    "<div style=\"border:solid green 2px; padding: 20px\"> <b>Отличная работа</b><br>\n",
    "Супер, обзор данных выполнен отлично!</div> <br>"
   ]
  },
  {
   "cell_type": "markdown",
   "metadata": {},
   "source": [
    "### Вывод по результатам изучения данных"
   ]
  },
  {
   "cell_type": "markdown",
   "metadata": {},
   "source": [
    "По результатам изучения данных запросов:   \n",
    "по моделям самолетов и количестве рейсов для каждой модели в сентябре 2018 года;   \n",
    "по городам и среднем количестве рейсов, прибывающих в город за день в августе 2018 года   \n",
    "**<span style=\"color:red\">Необходимо:</span>**  \n",
    "1. **округлить** среднее значение количества рейсов; \n",
    "2. изменить тип данных на **int** в столбце **<span style=\"color:blue\">average_flights</span>** таблицы **<span style=\"color:red\">data_average_flights</span>**"
   ]
  },
  {
   "cell_type": "markdown",
   "metadata": {},
   "source": [
    "## Предобработка данных"
   ]
  },
  {
   "cell_type": "markdown",
   "metadata": {},
   "source": [
    "Измененим тип данных на int в столбце average_flights"
   ]
  },
  {
   "cell_type": "markdown",
   "metadata": {},
   "source": [
    "Перед изменением типа данных **округлим среднее значение** количества рейсов до целого числа"
   ]
  },
  {
   "cell_type": "code",
   "execution_count": 9,
   "metadata": {},
   "outputs": [],
   "source": [
    "data_average_flights['average_flights'] = round(data_average_flights[\n",
    "    'average_flights']).astype('int')"
   ]
  },
  {
   "cell_type": "markdown",
   "metadata": {},
   "source": [
    "**<span style=\"color:red\">ВЫВОД:</span>**     \n",
    "Данные готовы к проведению исследования"
   ]
  },
  {
   "cell_type": "markdown",
   "metadata": {},
   "source": [
    "<div style=\"border:solid green 2px; padding: 20px\"> <b>Отличная работа</b><br>\n",
    "👍</div> <br>"
   ]
  },
  {
   "cell_type": "markdown",
   "metadata": {},
   "source": [
    "##  Анализ зависимости количества рейсов от города и модели самолетов"
   ]
  },
  {
   "cell_type": "markdown",
   "metadata": {},
   "source": [
    "Построим график зависимости количество рейсов от города"
   ]
  },
  {
   "cell_type": "code",
   "execution_count": 10,
   "metadata": {},
   "outputs": [
    {
     "data": {
      "text/plain": [
       "Text(0.5, 0, 'города, входящие в топ-10')"
      ]
     },
     "execution_count": 10,
     "metadata": {},
     "output_type": "execute_result"
    },
    {
     "data": {
      "image/png": "[encoded data removed]",
      "text/plain": [
       "<Figure size 1440x720 with 1 Axes>"
      ]
     },
     "metadata": {
      "needs_background": "light"
     },
     "output_type": "display_data"
    }
   ],
   "source": [
    "data_average_flights.sort_values(\n",
    "    by = 'average_flights', \n",
    "    ascending = False\n",
    ").plot(kind = 'bar', \n",
    "       x= 'city',\n",
    "       y='average_flights',\n",
    "       color='b',\n",
    "       label='Количество рейсов',\n",
    "       grid=True,\n",
    "       figsize=(20, 10))\n",
    "plt.title('Cреднее количество рейсов в городах за день в августе 2018 года')\n",
    "plt.ylabel('Количество рейсов')\n",
    "plt.xlabel('города, входящие в топ-10')"
   ]
  },
  {
   "cell_type": "markdown",
   "metadata": {},
   "source": [
    "<div style=\"border:solid green 2px; padding: 20px\"> <b>Отличная работа</b><br>\n",
    "Супер, на мой взгляд, это самое удачное расположение графика - пусть мы немного потеряли в читаемости подписей, но отсутствует скролл, как было бы при вертикальном расположении!</div> <br>"
   ]
  },
  {
   "cell_type": "markdown",
   "metadata": {},
   "source": [
    "Определим топ-10 городов по количеству рейсов"
   ]
  },
  {
   "cell_type": "code",
   "execution_count": 11,
   "metadata": {},
   "outputs": [
    {
     "name": "stdout",
     "output_type": "stream",
     "text": [
      "Топ-10 городов по количеству рейсов:\n",
      "                city  average_flights\n",
      "43           Москва              130\n",
      "70  Санкт-Петербург               31\n",
      "54      Новосибирск               17\n",
      "33       Красноярск               12\n",
      "20     Екатеринбург               11\n",
      "67   Ростов-на-Дону               10\n",
      "74             Сочи               10\n",
      "84        Ульяновск               10\n",
      "63            Пермь               10\n",
      "10           Брянск               10\n"
     ]
    }
   ],
   "source": [
    "print('Топ-10 городов по количеству рейсов:\\n', \n",
    "      data_average_flights.sort_values(\n",
    "          by = 'average_flights', \n",
    "          ascending = False).head(10))"
   ]
  },
  {
   "cell_type": "markdown",
   "metadata": {},
   "source": [
    "Построим график зависимости количество рейсов в топ-10 городов по максимальному количеству рейсов"
   ]
  },
  {
   "cell_type": "code",
   "execution_count": 12,
   "metadata": {},
   "outputs": [
    {
     "data": {
      "text/plain": [
       "Text(0.5, 0, 'города, входящие в топ-10')"
      ]
     },
     "execution_count": 12,
     "metadata": {},
     "output_type": "execute_result"
    },
    {
     "data": {
      "image/png": "[encoded data removed]",
      "text/plain": [
       "<Figure size 1440x720 with 1 Axes>"
      ]
     },
     "metadata": {
      "needs_background": "light"
     },
     "output_type": "display_data"
    }
   ],
   "source": [
    "data_average_flights.query('average_flights >= 10').sort_values(\n",
    "    by = 'average_flights', \n",
    "    ascending = False\n",
    ").plot(kind = 'bar', \n",
    "       x= 'city',\n",
    "       y='average_flights',\n",
    "       color='b',\n",
    "       label='Количество рейсов',\n",
    "       grid=True,\n",
    "       figsize=(20, 10))\n",
    "plt.title('Cреднее количество рейсов за день в августе 2018 года\\n в городах, входящих в топ-10 по количеству рейсов')\n",
    "plt.ylabel('Количество рейсов')\n",
    "plt.xlabel('города, входящие в топ-10')"
   ]
  },
  {
   "cell_type": "markdown",
   "metadata": {},
   "source": [
    "В Москве максимальное среднее количество рейсов за день и значительно превышает другие города (в три раза).   \n",
    "**Причина:** большая пропускная способность **<span style=\"color:red\">из-за большего количества</span>** аэропортов (*В Москве - 3, в остальных городах по одному*).   \n",
    "Для остальных городов количество рейсов **<span style=\"color:blue\">соответствуют классу</span>** аэропортов (их прпускной способности). "
   ]
  },
  {
   "cell_type": "markdown",
   "metadata": {},
   "source": [
    "Построим график зависимости количество рейсов от модели самолетов"
   ]
  },
  {
   "cell_type": "code",
   "execution_count": 13,
   "metadata": {},
   "outputs": [
    {
     "name": "stdout",
     "output_type": "stream",
     "text": [
      "<class 'pandas.core.frame.DataFrame'>\n",
      "RangeIndex: 8 entries, 0 to 7\n",
      "Data columns (total 2 columns):\n",
      "model             8 non-null object\n",
      "flights_amount    8 non-null int64\n",
      "dtypes: int64(1), object(1)\n",
      "memory usage: 256.0+ bytes\n"
     ]
    }
   ],
   "source": [
    "data_flights_amount.info()"
   ]
  },
  {
   "cell_type": "code",
   "execution_count": 14,
   "metadata": {},
   "outputs": [
    {
     "data": {
      "text/plain": [
       "Text(0.5, 0, 'модель самолета')"
      ]
     },
     "execution_count": 14,
     "metadata": {},
     "output_type": "execute_result"
    },
    {
     "data": {
      "image/png": "[encoded data removed]",
      "text/plain": [
       "<Figure size 1440x720 with 1 Axes>"
      ]
     },
     "metadata": {
      "needs_background": "light"
     },
     "output_type": "display_data"
    }
   ],
   "source": [
    "data_flights_amount.sort_values(\n",
    "    by = 'flights_amount',\n",
    "    ascending = False\n",
    ").plot(kind = 'bar', \n",
    "       x= 'model',\n",
    "       y='flights_amount',\n",
    "       color='r',\n",
    "       label='Количество рейсов',\n",
    "       grid=True,\n",
    "       figsize=(20, 10))\n",
    "plt.title('Количество рейсов для каждой модели самолетов\\n сделанных в сентябре 2018 года')\n",
    "plt.ylabel('Количество рейсов')\n",
    "plt.xlabel('модель самолета')"
   ]
  },
  {
   "cell_type": "markdown",
   "metadata": {},
   "source": [
    "Количество рейсов самолетов Airbus и Boeing на порядок меньше, чем самолетов  других моделей.   \n",
    "**Причина:**    \n",
    "модели Airbus и Boeing **<span style=\"color:red\">более вместительны</span> (от 150 до 500 человек)**, являются **средне магистральными** и совершают полеты **<span style=\"color:blue\"> на расстояния 11 000 - 14 000 км</span>**   \n",
    "Другие модели (Bombardier CRJ-200, Cessna 208 Caravan, Sukhoi SuperJet-100) предназанчены для полетов **<span style=\"color:blue\">на расстояния 3 000-4 000 км</span>** и **<span style=\"color:red\">вместимость составляет</span> от 13 до 100 человек**.\n"
   ]
  },
  {
   "cell_type": "markdown",
   "metadata": {},
   "source": [
    "## Вывод "
   ]
  },
  {
   "cell_type": "markdown",
   "metadata": {},
   "source": [
    "\n",
    "**Топ-10 городов** с наибольшим средним количеством рейсов:\n",
    "1.  Москва (130 рейсов)\n",
    "2.  Санкт-Петербург (31 рейс)\n",
    "3.  Новосибирск (17 рейсов)\n",
    "4.  Красноярск (12 рейсов)\n",
    "5.  Екатеринбург (11 рейсов)\n",
    "6.  Ростов-на-Дону (10 рейсов)\n",
    "7.  Сочи (10 рейсов)\n",
    "8.  Ульяновск (10 рейсов)\n",
    "9.  Пермь (10 рейсов)\n",
    "10. Брянск (10 рейсов)   \n",
    "\n",
    "**Количество рейсов зависит** от:\n",
    "1. от класса аэропрта - **<span style=\"color:blue\">чем выше класс тем больше рейсов</span>**\n",
    "2. от количества аэропортов в городе - **<span style=\"color:blue\">чем больше аэропортов в гороте тем естественно больше рейсов</span>**\n",
    "3. от модели самолета - **<span style=\"color:blue\">самолеты предназначенные для перелетов на большие расстояния совершают меньше рейсов</span>** естественно больше времени находятся в полете, нужно больше времени на подготовку к полету. За это время самолеты малой авиации могут совершить несколько рейсов.\n",
    "\n",
    "Гипотеза о различии среднего спроса на билеты во время проведения различных фестивалей и в обычное время не подтвердилась. Во время фестивалей спрос практически не меняется - достаточно посмотреть на столбец ticket_amount объединенной таблицы и сравнить значения."
   ]
  },
  {
   "cell_type": "code",
   "execution_count": null,
   "metadata": {},
   "outputs": [],
   "source": []
  }
 ],
 "metadata": {
  "ExecuteTimeLog": [
   {
    "duration": 737,
    "start_time": "2021-06-29T01:40:24.640Z"
   },
   {
    "duration": 20,
    "start_time": "2021-06-29T01:43:10.092Z"
   },
   {
    "duration": 19,
    "start_time": "2021-06-29T01:43:37.132Z"
   },
   {
    "duration": 9,
    "start_time": "2021-06-29T01:44:03.934Z"
   },
   {
    "duration": 757,
    "start_time": "2021-06-29T01:49:18.221Z"
   },
   {
    "duration": 35,
    "start_time": "2021-06-29T01:49:18.981Z"
   },
   {
    "duration": 40,
    "start_time": "2021-06-29T01:56:19.631Z"
   },
   {
    "duration": 25,
    "start_time": "2021-06-29T01:56:40.387Z"
   },
   {
    "duration": 9,
    "start_time": "2021-06-29T01:57:22.927Z"
   },
   {
    "duration": 9,
    "start_time": "2021-06-29T02:25:17.927Z"
   },
   {
    "duration": 363,
    "start_time": "2021-06-29T14:32:33.705Z"
   },
   {
    "duration": 777,
    "start_time": "2021-06-29T14:32:43.641Z"
   },
   {
    "duration": 37,
    "start_time": "2021-06-29T14:32:44.422Z"
   },
   {
    "duration": 23,
    "start_time": "2021-06-29T14:32:44.463Z"
   },
   {
    "duration": 26,
    "start_time": "2021-06-29T14:32:44.491Z"
   },
   {
    "duration": 9,
    "start_time": "2021-06-29T14:32:44.520Z"
   },
   {
    "duration": 20,
    "start_time": "2021-06-29T14:32:44.532Z"
   },
   {
    "duration": 400,
    "start_time": "2021-06-29T14:41:44.394Z"
   },
   {
    "duration": 12,
    "start_time": "2021-06-29T14:42:16.902Z"
   },
   {
    "duration": 12,
    "start_time": "2021-06-29T14:51:52.903Z"
   },
   {
    "duration": 6,
    "start_time": "2021-06-29T15:28:39.490Z"
   },
   {
    "duration": 5,
    "start_time": "2021-06-29T15:28:57.344Z"
   },
   {
    "duration": 5,
    "start_time": "2021-06-29T15:29:19.144Z"
   },
   {
    "duration": 10,
    "start_time": "2021-06-29T15:29:58.024Z"
   },
   {
    "duration": 990,
    "start_time": "2021-06-29T15:30:53.160Z"
   },
   {
    "duration": 34,
    "start_time": "2021-06-29T15:30:54.153Z"
   },
   {
    "duration": 9,
    "start_time": "2021-06-29T15:30:54.191Z"
   },
   {
    "duration": 25,
    "start_time": "2021-06-29T15:30:54.203Z"
   },
   {
    "duration": 10,
    "start_time": "2021-06-29T15:30:54.231Z"
   },
   {
    "duration": 49,
    "start_time": "2021-06-29T15:30:54.243Z"
   },
   {
    "duration": 11,
    "start_time": "2021-06-29T15:30:54.295Z"
   },
   {
    "duration": 5,
    "start_time": "2021-06-29T15:30:54.309Z"
   },
   {
    "duration": 144,
    "start_time": "2021-06-30T00:59:42.094Z"
   },
   {
    "duration": 9,
    "start_time": "2021-06-30T01:00:04.553Z"
   },
   {
    "duration": 9,
    "start_time": "2021-06-30T01:04:46.905Z"
   },
   {
    "duration": 11,
    "start_time": "2021-06-30T01:05:12.535Z"
   },
   {
    "duration": 829,
    "start_time": "2021-06-30T01:05:26.714Z"
   },
   {
    "duration": 35,
    "start_time": "2021-06-30T01:05:27.545Z"
   },
   {
    "duration": 15,
    "start_time": "2021-06-30T01:05:27.583Z"
   },
   {
    "duration": 25,
    "start_time": "2021-06-30T01:05:27.602Z"
   },
   {
    "duration": 9,
    "start_time": "2021-06-30T01:05:27.629Z"
   },
   {
    "duration": 17,
    "start_time": "2021-06-30T01:05:27.640Z"
   },
   {
    "duration": 17,
    "start_time": "2021-06-30T01:05:27.688Z"
   },
   {
    "duration": 4,
    "start_time": "2021-06-30T01:05:27.709Z"
   },
   {
    "duration": 11,
    "start_time": "2021-06-30T01:05:27.716Z"
   },
   {
    "duration": 5,
    "start_time": "2021-06-30T01:35:45.643Z"
   },
   {
    "duration": 736,
    "start_time": "2021-06-30T01:36:16.309Z"
   },
   {
    "duration": 33,
    "start_time": "2021-06-30T01:36:17.137Z"
   },
   {
    "duration": 8,
    "start_time": "2021-06-30T01:36:18.398Z"
   },
   {
    "duration": 24,
    "start_time": "2021-06-30T01:36:22.098Z"
   },
   {
    "duration": 8,
    "start_time": "2021-06-30T01:36:33.826Z"
   },
   {
    "duration": 22,
    "start_time": "2021-06-30T01:36:40.274Z"
   },
   {
    "duration": 12,
    "start_time": "2021-06-30T01:36:42.666Z"
   },
   {
    "duration": 7,
    "start_time": "2021-06-30T01:36:58.587Z"
   },
   {
    "duration": 8,
    "start_time": "2021-06-30T01:37:00.906Z"
   },
   {
    "duration": 11,
    "start_time": "2021-06-30T01:37:38.646Z"
   },
   {
    "duration": 9,
    "start_time": "2021-06-30T01:37:54.449Z"
   },
   {
    "duration": 13,
    "start_time": "2021-06-30T01:38:17.882Z"
   },
   {
    "duration": 733,
    "start_time": "2021-06-30T01:41:02.912Z"
   },
   {
    "duration": 34,
    "start_time": "2021-06-30T01:41:03.647Z"
   },
   {
    "duration": 12,
    "start_time": "2021-06-30T01:41:03.685Z"
   },
   {
    "duration": 27,
    "start_time": "2021-06-30T01:41:03.701Z"
   },
   {
    "duration": 9,
    "start_time": "2021-06-30T01:41:03.731Z"
   },
   {
    "duration": 51,
    "start_time": "2021-06-30T01:41:03.742Z"
   },
   {
    "duration": 13,
    "start_time": "2021-06-30T01:41:03.799Z"
   },
   {
    "duration": 6,
    "start_time": "2021-06-30T01:41:03.815Z"
   },
   {
    "duration": 11,
    "start_time": "2021-06-30T01:41:03.824Z"
   },
   {
    "duration": 979,
    "start_time": "2021-06-30T01:54:59.791Z"
   },
   {
    "duration": 973,
    "start_time": "2021-06-30T01:55:52.042Z"
   },
   {
    "duration": 861,
    "start_time": "2021-06-30T01:57:15.192Z"
   },
   {
    "duration": 852,
    "start_time": "2021-06-30T01:57:32.702Z"
   },
   {
    "duration": 1115,
    "start_time": "2021-06-30T01:59:17.066Z"
   },
   {
    "duration": 35,
    "start_time": "2021-06-30T01:59:18.184Z"
   },
   {
    "duration": 8,
    "start_time": "2021-06-30T01:59:18.222Z"
   },
   {
    "duration": 26,
    "start_time": "2021-06-30T01:59:18.233Z"
   },
   {
    "duration": 8,
    "start_time": "2021-06-30T01:59:18.261Z"
   },
   {
    "duration": 17,
    "start_time": "2021-06-30T01:59:18.283Z"
   },
   {
    "duration": 12,
    "start_time": "2021-06-30T01:59:18.303Z"
   },
   {
    "duration": 6,
    "start_time": "2021-06-30T01:59:18.318Z"
   },
   {
    "duration": 13,
    "start_time": "2021-06-30T01:59:18.327Z"
   },
   {
    "duration": 696,
    "start_time": "2021-06-30T01:59:18.342Z"
   },
   {
    "duration": 644,
    "start_time": "2021-06-30T02:00:38.739Z"
   },
   {
    "duration": 758,
    "start_time": "2021-06-30T02:01:50.618Z"
   },
   {
    "duration": 783,
    "start_time": "2021-06-30T02:02:21.825Z"
   },
   {
    "duration": 774,
    "start_time": "2021-06-30T02:04:48.657Z"
   },
   {
    "duration": 2532,
    "start_time": "2021-06-30T03:15:25.287Z"
   },
   {
    "duration": 797,
    "start_time": "2021-06-30T04:15:05.812Z"
   },
   {
    "duration": 29,
    "start_time": "2021-06-30T04:15:06.612Z"
   },
   {
    "duration": 15,
    "start_time": "2021-06-30T04:15:06.644Z"
   },
   {
    "duration": 28,
    "start_time": "2021-06-30T04:15:06.662Z"
   },
   {
    "duration": 7,
    "start_time": "2021-06-30T04:15:06.692Z"
   },
   {
    "duration": 19,
    "start_time": "2021-06-30T04:15:06.702Z"
   },
   {
    "duration": 16,
    "start_time": "2021-06-30T04:15:06.723Z"
   },
   {
    "duration": 42,
    "start_time": "2021-06-30T04:15:06.742Z"
   },
   {
    "duration": 2535,
    "start_time": "2021-06-30T04:15:06.786Z"
   },
   {
    "duration": 9,
    "start_time": "2021-06-30T04:15:09.323Z"
   },
   {
    "duration": 723,
    "start_time": "2021-06-30T04:15:09.334Z"
   },
   {
    "duration": 340,
    "start_time": "2021-06-30T04:20:53.380Z"
   },
   {
    "duration": 9,
    "start_time": "2021-06-30T04:21:06.180Z"
   },
   {
    "duration": 9,
    "start_time": "2021-06-30T04:21:43.172Z"
   },
   {
    "duration": 360,
    "start_time": "2021-06-30T04:24:13.600Z"
   },
   {
    "duration": 656,
    "start_time": "2021-06-30T04:24:40.848Z"
   },
   {
    "duration": 267,
    "start_time": "2021-06-30T04:41:55.777Z"
   },
   {
    "duration": 264,
    "start_time": "2021-06-30T04:42:56.041Z"
   },
   {
    "duration": 1077,
    "start_time": "2021-06-30T04:43:40.624Z"
   },
   {
    "duration": 34,
    "start_time": "2021-06-30T04:43:41.705Z"
   },
   {
    "duration": 9,
    "start_time": "2021-06-30T04:43:41.742Z"
   },
   {
    "duration": 34,
    "start_time": "2021-06-30T04:43:41.753Z"
   },
   {
    "duration": 9,
    "start_time": "2021-06-30T04:43:41.790Z"
   },
   {
    "duration": 19,
    "start_time": "2021-06-30T04:43:41.802Z"
   },
   {
    "duration": 15,
    "start_time": "2021-06-30T04:43:41.824Z"
   },
   {
    "duration": 41,
    "start_time": "2021-06-30T04:43:41.842Z"
   },
   {
    "duration": 2663,
    "start_time": "2021-06-30T04:43:41.886Z"
   },
   {
    "duration": 11,
    "start_time": "2021-06-30T04:43:44.553Z"
   },
   {
    "duration": 418,
    "start_time": "2021-06-30T04:43:44.584Z"
   },
   {
    "duration": -284,
    "start_time": "2021-06-30T04:43:45.289Z"
   },
   {
    "duration": -286,
    "start_time": "2021-06-30T04:43:45.293Z"
   },
   {
    "duration": 361,
    "start_time": "2021-06-30T04:47:40.069Z"
   },
   {
    "duration": 9,
    "start_time": "2021-06-30T04:48:08.124Z"
   },
   {
    "duration": 1169,
    "start_time": "2021-06-30T04:51:23.684Z"
   },
   {
    "duration": 36,
    "start_time": "2021-06-30T04:51:24.857Z"
   },
   {
    "duration": 12,
    "start_time": "2021-06-30T04:51:24.896Z"
   },
   {
    "duration": 24,
    "start_time": "2021-06-30T04:51:24.911Z"
   },
   {
    "duration": 15,
    "start_time": "2021-06-30T04:51:24.937Z"
   },
   {
    "duration": 44,
    "start_time": "2021-06-30T04:51:24.955Z"
   },
   {
    "duration": 15,
    "start_time": "2021-06-30T04:51:25.002Z"
   },
   {
    "duration": 11,
    "start_time": "2021-06-30T04:51:25.021Z"
   },
   {
    "duration": 2678,
    "start_time": "2021-06-30T04:51:25.035Z"
   },
   {
    "duration": 9,
    "start_time": "2021-06-30T04:51:27.715Z"
   },
   {
    "duration": 715,
    "start_time": "2021-06-30T04:51:27.727Z"
   },
   {
    "duration": 8,
    "start_time": "2021-06-30T04:51:28.445Z"
   },
   {
    "duration": 658,
    "start_time": "2021-06-30T04:51:28.455Z"
   },
   {
    "duration": 618,
    "start_time": "2021-06-30T04:54:04.713Z"
   },
   {
    "duration": 798,
    "start_time": "2021-06-30T06:09:54.490Z"
   },
   {
    "duration": 27,
    "start_time": "2021-06-30T06:09:55.291Z"
   },
   {
    "duration": 9,
    "start_time": "2021-06-30T06:09:55.321Z"
   },
   {
    "duration": 25,
    "start_time": "2021-06-30T06:09:55.333Z"
   },
   {
    "duration": 8,
    "start_time": "2021-06-30T06:09:55.360Z"
   },
   {
    "duration": 26,
    "start_time": "2021-06-30T06:09:55.370Z"
   },
   {
    "duration": 10,
    "start_time": "2021-06-30T06:09:55.398Z"
   },
   {
    "duration": 6,
    "start_time": "2021-06-30T06:09:55.411Z"
   },
   {
    "duration": 2653,
    "start_time": "2021-06-30T06:09:55.419Z"
   },
   {
    "duration": 13,
    "start_time": "2021-06-30T06:09:58.075Z"
   },
   {
    "duration": 683,
    "start_time": "2021-06-30T06:09:58.091Z"
   },
   {
    "duration": 9,
    "start_time": "2021-06-30T06:09:58.783Z"
   },
   {
    "duration": 663,
    "start_time": "2021-06-30T06:09:58.795Z"
   },
   {
    "duration": 974,
    "start_time": "2021-06-30T17:55:53.812Z"
   },
   {
    "duration": 26,
    "start_time": "2021-06-30T17:55:54.790Z"
   },
   {
    "duration": 10,
    "start_time": "2021-06-30T17:55:54.820Z"
   },
   {
    "duration": 23,
    "start_time": "2021-06-30T17:55:54.833Z"
   },
   {
    "duration": 8,
    "start_time": "2021-06-30T17:55:54.858Z"
   },
   {
    "duration": 49,
    "start_time": "2021-06-30T17:55:54.868Z"
   },
   {
    "duration": 11,
    "start_time": "2021-06-30T17:55:54.919Z"
   },
   {
    "duration": 8,
    "start_time": "2021-06-30T17:55:54.933Z"
   },
   {
    "duration": 2739,
    "start_time": "2021-06-30T17:55:54.943Z"
   },
   {
    "duration": 9,
    "start_time": "2021-06-30T17:55:57.684Z"
   },
   {
    "duration": 752,
    "start_time": "2021-06-30T17:55:57.710Z"
   },
   {
    "duration": 8,
    "start_time": "2021-06-30T17:55:58.464Z"
   },
   {
    "duration": 682,
    "start_time": "2021-06-30T17:55:58.474Z"
   },
   {
    "duration": 1613,
    "start_time": "2021-09-13T18:32:06.345Z"
   },
   {
    "duration": 26,
    "start_time": "2021-09-13T18:32:07.960Z"
   },
   {
    "duration": 15,
    "start_time": "2021-09-13T18:32:07.989Z"
   },
   {
    "duration": 29,
    "start_time": "2021-09-13T18:32:08.007Z"
   },
   {
    "duration": 8,
    "start_time": "2021-09-13T18:32:08.038Z"
   },
   {
    "duration": 33,
    "start_time": "2021-09-13T18:32:08.049Z"
   },
   {
    "duration": 16,
    "start_time": "2021-09-13T18:32:08.084Z"
   },
   {
    "duration": 6,
    "start_time": "2021-09-13T18:32:08.103Z"
   },
   {
    "duration": 2697,
    "start_time": "2021-09-13T18:32:08.111Z"
   },
   {
    "duration": 9,
    "start_time": "2021-09-13T18:32:10.810Z"
   },
   {
    "duration": 762,
    "start_time": "2021-09-13T18:32:10.822Z"
   },
   {
    "duration": 7,
    "start_time": "2021-09-13T18:32:11.587Z"
   },
   {
    "duration": 677,
    "start_time": "2021-09-13T18:32:11.597Z"
   },
   {
    "duration": 830,
    "start_time": "2021-09-13T19:00:19.501Z"
   },
   {
    "duration": 28,
    "start_time": "2021-09-13T19:00:20.335Z"
   },
   {
    "duration": 9,
    "start_time": "2021-09-13T19:00:20.366Z"
   },
   {
    "duration": 31,
    "start_time": "2021-09-13T19:00:20.378Z"
   },
   {
    "duration": 12,
    "start_time": "2021-09-13T19:00:20.411Z"
   },
   {
    "duration": 50,
    "start_time": "2021-09-13T19:00:20.426Z"
   },
   {
    "duration": 25,
    "start_time": "2021-09-13T19:00:20.479Z"
   },
   {
    "duration": 6,
    "start_time": "2021-09-13T19:00:20.507Z"
   },
   {
    "duration": 2796,
    "start_time": "2021-09-13T19:00:20.516Z"
   },
   {
    "duration": 9,
    "start_time": "2021-09-13T19:00:23.314Z"
   },
   {
    "duration": 762,
    "start_time": "2021-09-13T19:00:23.326Z"
   },
   {
    "duration": 8,
    "start_time": "2021-09-13T19:00:24.090Z"
   },
   {
    "duration": 685,
    "start_time": "2021-09-13T19:00:24.100Z"
   },
   {
    "duration": 1028,
    "start_time": "2021-09-14T03:25:03.615Z"
   },
   {
    "duration": 64,
    "start_time": "2021-09-14T03:25:50.919Z"
   },
   {
    "duration": 1010,
    "start_time": "2021-09-14T03:26:07.988Z"
   },
   {
    "duration": 112,
    "start_time": "2021-09-14T03:26:09.000Z"
   },
   {
    "duration": 21,
    "start_time": "2021-09-14T03:26:09.115Z"
   },
   {
    "duration": 67,
    "start_time": "2021-09-14T03:26:09.140Z"
   },
   {
    "duration": 30,
    "start_time": "2021-09-14T03:26:09.209Z"
   },
   {
    "duration": 8,
    "start_time": "2021-09-14T03:26:09.241Z"
   },
   {
    "duration": 27,
    "start_time": "2021-09-14T03:26:09.251Z"
   },
   {
    "duration": 11,
    "start_time": "2021-09-14T03:26:09.282Z"
   },
   {
    "duration": 8,
    "start_time": "2021-09-14T03:26:09.295Z"
   },
   {
    "duration": 2640,
    "start_time": "2021-09-14T03:26:09.305Z"
   },
   {
    "duration": 20,
    "start_time": "2021-09-14T03:26:11.947Z"
   },
   {
    "duration": 684,
    "start_time": "2021-09-14T03:26:11.970Z"
   },
   {
    "duration": 15,
    "start_time": "2021-09-14T03:26:12.657Z"
   },
   {
    "duration": 656,
    "start_time": "2021-09-14T03:26:12.675Z"
   },
   {
    "duration": 1041,
    "start_time": "2021-09-14T03:28:05.528Z"
   },
   {
    "duration": 115,
    "start_time": "2021-09-14T03:28:06.572Z"
   },
   {
    "duration": 22,
    "start_time": "2021-09-14T03:28:06.690Z"
   },
   {
    "duration": 70,
    "start_time": "2021-09-14T03:28:06.714Z"
   },
   {
    "duration": 31,
    "start_time": "2021-09-14T03:28:06.786Z"
   },
   {
    "duration": 10,
    "start_time": "2021-09-14T03:28:06.820Z"
   },
   {
    "duration": 25,
    "start_time": "2021-09-14T03:28:06.833Z"
   },
   {
    "duration": 22,
    "start_time": "2021-09-14T03:28:06.861Z"
   },
   {
    "duration": 14,
    "start_time": "2021-09-14T03:28:06.885Z"
   },
   {
    "duration": 2671,
    "start_time": "2021-09-14T03:28:06.901Z"
   },
   {
    "duration": 9,
    "start_time": "2021-09-14T03:28:09.575Z"
   },
   {
    "duration": 706,
    "start_time": "2021-09-14T03:28:09.586Z"
   },
   {
    "duration": 7,
    "start_time": "2021-09-14T03:28:10.294Z"
   },
   {
    "duration": 990,
    "start_time": "2021-09-14T03:28:10.303Z"
   },
   {
    "duration": 1026,
    "start_time": "2021-09-14T03:59:18.888Z"
   },
   {
    "duration": 112,
    "start_time": "2021-09-14T03:59:19.917Z"
   },
   {
    "duration": 21,
    "start_time": "2021-09-14T03:59:20.032Z"
   },
   {
    "duration": 72,
    "start_time": "2021-09-14T03:59:20.055Z"
   },
   {
    "duration": 24,
    "start_time": "2021-09-14T03:59:20.130Z"
   },
   {
    "duration": 13,
    "start_time": "2021-09-14T03:59:20.156Z"
   },
   {
    "duration": 19,
    "start_time": "2021-09-14T03:59:20.171Z"
   },
   {
    "duration": 12,
    "start_time": "2021-09-14T03:59:20.193Z"
   },
   {
    "duration": 6,
    "start_time": "2021-09-14T03:59:20.207Z"
   },
   {
    "duration": 2695,
    "start_time": "2021-09-14T03:59:20.215Z"
   },
   {
    "duration": 8,
    "start_time": "2021-09-14T03:59:22.912Z"
   },
   {
    "duration": 702,
    "start_time": "2021-09-14T03:59:22.922Z"
   },
   {
    "duration": 9,
    "start_time": "2021-09-14T03:59:23.626Z"
   },
   {
    "duration": 668,
    "start_time": "2021-09-14T03:59:23.637Z"
   }
  ],
  "kernelspec": {
   "display_name": "Python 3",
   "language": "python",
   "name": "python3"
  },
  "language_info": {
   "codemirror_mode": {
    "name": "ipython",
    "version": 3
   },
   "file_extension": ".py",
   "mimetype": "text/x-python",
   "name": "python",
   "nbconvert_exporter": "python",
   "pygments_lexer": "ipython3",
   "version": "3.7.8"
  },
  "toc": {
   "base_numbering": 1,
   "nav_menu": {},
   "number_sections": true,
   "sideBar": true,
   "skip_h1_title": true,
   "title_cell": "Table of Contents",
   "title_sidebar": "Contents",
   "toc_cell": false,
   "toc_position": {
    "height": "calc(100% - 180px)",
    "left": "10px",
    "top": "150px",
    "width": "165px"
   },
   "toc_section_display": true,
   "toc_window_display": true
  }
 },
 "nbformat": 4,
 "nbformat_minor": 2
}
