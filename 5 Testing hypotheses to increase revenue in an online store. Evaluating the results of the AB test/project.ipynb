{
 "cells": [
  {
   "cell_type": "markdown",
   "metadata": {
    "toc": true
   },
   "source": [
    "<h1>Table of Contents<span class=\"tocSkip\"></span></h1>\n",
    "<div class=\"toc\"><ul class=\"toc-item\"><li><span><a href=\"#Приоритизация-гипотез\" data-toc-modified-id=\"Приоритизация-гипотез-1\"><span class=\"toc-item-num\">1&nbsp;&nbsp;</span>Приоритизация гипотез</a></span><ul class=\"toc-item\"><li><span><a href=\"#Загрузка-данных-и-их-изучение\" data-toc-modified-id=\"Загрузка-данных-и-их-изучение-1.1\"><span class=\"toc-item-num\">1.1&nbsp;&nbsp;</span>Загрузка данных и их изучение</a></span></li><li><span><a href=\"#Приоритизация-гипотез-методом-ICE\" data-toc-modified-id=\"Приоритизация-гипотез-методом-ICE-1.2\"><span class=\"toc-item-num\">1.2&nbsp;&nbsp;</span>Приоритизация гипотез методом ICE</a></span></li><li><span><a href=\"#Приоритизация-гипотез-методом-RICE\" data-toc-modified-id=\"Приоритизация-гипотез-методом-RICE-1.3\"><span class=\"toc-item-num\">1.3&nbsp;&nbsp;</span>Приоритизация гипотез методом RICE</a></span></li><li><span><a href=\"#Вывод\" data-toc-modified-id=\"Вывод-1.4\"><span class=\"toc-item-num\">1.4&nbsp;&nbsp;</span>Вывод</a></span></li></ul></li><li><span><a href=\"#Анализ-A/B-теста\" data-toc-modified-id=\"Анализ-A/B-теста-2\"><span class=\"toc-item-num\">2&nbsp;&nbsp;</span>Анализ A/B-теста</a></span><ul class=\"toc-item\"><li><span><a href=\"#Загрузка-данных-и-их-изучение\" data-toc-modified-id=\"Загрузка-данных-и-их-изучение-2.1\"><span class=\"toc-item-num\">2.1&nbsp;&nbsp;</span>Загрузка данных и их изучение</a></span></li><li><span><a href=\"#Подготовка-данных-к-анализу\" data-toc-modified-id=\"Подготовка-данных-к-анализу-2.2\"><span class=\"toc-item-num\">2.2&nbsp;&nbsp;</span>Подготовка данных к анализу</a></span></li><li><span><a href=\"#График-кумулятивной-выручки-по-группам\" data-toc-modified-id=\"График-кумулятивной-выручки-по-группам-2.3\"><span class=\"toc-item-num\">2.3&nbsp;&nbsp;</span>График кумулятивной выручки по группам</a></span></li><li><span><a href=\"#График-кумулятивного-среднего-чека-по-группам\" data-toc-modified-id=\"График-кумулятивного-среднего-чека-по-группам-2.4\"><span class=\"toc-item-num\">2.4&nbsp;&nbsp;</span>График кумулятивного среднего чека по группам</a></span></li><li><span><a href=\"#График-относительного-изменения-кумулятивного-среднего-чека-группы-B-к-группе-A\" data-toc-modified-id=\"График-относительного-изменения-кумулятивного-среднего-чека-группы-B-к-группе-A-2.5\"><span class=\"toc-item-num\">2.5&nbsp;&nbsp;</span>График относительного изменения кумулятивного среднего чека группы B к группе A</a></span></li><li><span><a href=\"#График-кумулятивной-конверсии-по-группам\" data-toc-modified-id=\"График-кумулятивной-конверсии-по-группам-2.6\"><span class=\"toc-item-num\">2.6&nbsp;&nbsp;</span>График кумулятивной конверсии по группам</a></span></li><li><span><a href=\"#График-относительного-изменения-кумулятивной-конверсии-группы-B-к-группе-A\" data-toc-modified-id=\"График-относительного-изменения-кумулятивной-конверсии-группы-B-к-группе-A-2.7\"><span class=\"toc-item-num\">2.7&nbsp;&nbsp;</span>График относительного изменения кумулятивной конверсии группы B к группе A</a></span></li><li><span><a href=\"#Анализ-выбросов-и-всплесков\" data-toc-modified-id=\"Анализ-выбросов-и-всплесков-2.8\"><span class=\"toc-item-num\">2.8&nbsp;&nbsp;</span>Анализ выбросов и всплесков</a></span><ul class=\"toc-item\"><li><span><a href=\"#Определение-границ-аномальных-пользователей\" data-toc-modified-id=\"Определение-границ-аномальных-пользователей-2.8.1\"><span class=\"toc-item-num\">2.8.1&nbsp;&nbsp;</span>Определение границ аномальных пользователей</a></span></li><li><span><a href=\"#Определение-границ-аномальных-заказов\" data-toc-modified-id=\"Определение-границ-аномальных-заказов-2.8.2\"><span class=\"toc-item-num\">2.8.2&nbsp;&nbsp;</span>Определение границ аномальных заказов</a></span></li><li><span><a href=\"#Вывод\" data-toc-modified-id=\"Вывод-2.8.3\"><span class=\"toc-item-num\">2.8.3&nbsp;&nbsp;</span>Вывод</a></span></li></ul></li><li><span><a href=\"#Статистическая-значимость-различий-в-конверсии-и-в-среднем-чеке-заказа\" data-toc-modified-id=\"Статистическая-значимость-различий-в-конверсии-и-в-среднем-чеке-заказа-2.9\"><span class=\"toc-item-num\">2.9&nbsp;&nbsp;</span>Статистическая значимость различий в конверсии и в среднем чеке заказа</a></span><ul class=\"toc-item\"><li><span><a href=\"#Статистическая-значимость-различия-в-конверсии-между-группами-по-&quot;сырым&quot;-данным\" data-toc-modified-id=\"Статистическая-значимость-различия-в-конверсии-между-группами-по-&quot;сырым&quot;-данным-2.9.1\"><span class=\"toc-item-num\">2.9.1&nbsp;&nbsp;</span>Статистическая значимость различия в конверсии между группами по \"сырым\" данным</a></span></li><li><span><a href=\"#Статистическая-значимость-различия-в-среднем-чеке-заказа-между-группами-по-&quot;сырым&quot;-данным\" data-toc-modified-id=\"Статистическая-значимость-различия-в-среднем-чеке-заказа-между-группами-по-&quot;сырым&quot;-данным-2.9.2\"><span class=\"toc-item-num\">2.9.2&nbsp;&nbsp;</span>Статистическая значимость различия в среднем чеке заказа между группами по \"сырым\" данным</a></span></li><li><span><a href=\"#Статистическая-значимость-различия-в-конверсии-между-группами-по-&quot;очищенным&quot;-данным\" data-toc-modified-id=\"Статистическая-значимость-различия-в-конверсии-между-группами-по-&quot;очищенным&quot;-данным-2.9.3\"><span class=\"toc-item-num\">2.9.3&nbsp;&nbsp;</span>Статистическая значимость различия в конверсии между группами по \"очищенным\" данным</a></span></li><li><span><a href=\"#Статистическая-значимость-различия-в-среднем-чеке-заказа-между-группами-по-&quot;сырым&quot;-данным\" data-toc-modified-id=\"Статистическая-значимость-различия-в-среднем-чеке-заказа-между-группами-по-&quot;сырым&quot;-данным-2.9.4\"><span class=\"toc-item-num\">2.9.4&nbsp;&nbsp;</span>Статистическая значимость различия в среднем чеке заказа между группами по \"сырым\" данным</a></span></li></ul></li><li><span><a href=\"#Вывод\" data-toc-modified-id=\"Вывод-2.10\"><span class=\"toc-item-num\">2.10&nbsp;&nbsp;</span><strong><span style=\"color: red\">Вывод</span></strong></a></span></li><li><span><a href=\"#Общий-вывод-анализа-А/В---теста\" data-toc-modified-id=\"Общий-вывод-анализа-А/В---теста-2.11\"><span class=\"toc-item-num\">2.11&nbsp;&nbsp;</span>Общий вывод анализа А/В - теста</a></span></li></ul></li></ul></div>"
   ]
  },
  {
   "cell_type": "markdown",
   "metadata": {},
   "source": [
    "<div style=\"border:solid Chocolate 2px; padding: 40px\">\n",
    "\n",
    "<b>Николай, привет!👋</b>\n",
    "\n",
    "Меня зовут Арина У., я буду ревьюером твоего проекта.Надеюсь, тебе будет удобно, если если мы будем общаться \"ты\". Но, если это не удобно, обязательно скажи об этом😏 \n",
    "\n",
    "Пожалуйста, не удаляй мои комментарии, они будут особенно полезны для нашей работы в случае повторной проверки проекта. \n",
    "\n",
    "Ты также можешь реагировать на мои комментарии своими, выделяя их цветами и наиболее понравившимся тебе способом оформления, но явно  отличающимся от моих комментариев. Это нужно, чтобы не создавалась путаница😉\n",
    "\n",
    "Ты можешь найти мои комментарии, обозначенные <font color='green'>зеленым</font>, <font color='gold'>желтым</font> и <font color='red'>красным</font> цветами, например:\n",
    "\n",
    "<br/>\n",
    "\n",
    "<div class=\"alert alert-success\">\n",
    "<h2> Комментарий ревьюера <a class=\"tocSkip\"> </h2>\n",
    "\n",
    "<b>Все отлично!👍:</b> В случае, если решение на отдельном шаге является полностью правильным.\n",
    "</div>\n",
    "\n",
    "<br/>\n",
    "\n",
    "<div class=\"alert alert-warning\">\n",
    "    <h2> Комментарий ревьюера <a class=\"tocSkip\"> </h2>\n",
    "    \n",
    "<b>Некоторые замечания и рекомендации💡:</b> В случае, когда решение на отдельном шаге станет еще лучше, если внести небольшие коррективы.\n",
    "</div>\n",
    "\n",
    "\n",
    "<br/>\n",
    "\n",
    "<div class=\"alert alert-block alert-danger\">\n",
    "<h2> Комментарий ревьюера <a class=\"tocSkip\"></h2>\n",
    "\n",
    "    \n",
    "<b>На доработку🤔:</b> В случае, когда решение на отдельном шаге требует существенной переработки и внесения правок. Напоминаю, что проект не может быть принят с первого раза, если ревью содержит комментарии, рекомендующие доработать шаги.\n",
    "</div>\n",
    "    \n",
    "Увидев у тебя ошибку, в первый раз я лишь укажу на ее наличие и дам тебе возможность самому найти и исправить ее. На реальной работе твой руководитель будет поступать также, и я пытаюсь подготовить тебя именно к работе аналитиком. Но если ты пока не справишься с такой задачей - при следующей проверке я дам более точную подсказку!🤓"
   ]
  },
  {
   "cell_type": "markdown",
   "metadata": {},
   "source": [
    "#  **<span style=\"color:red\">Тема:</span>** Принятие решения в бизнесе на основе данных"
   ]
  },
  {
   "cell_type": "markdown",
   "metadata": {},
   "source": [
    "#  **<span style=\"color:red\">Целевая установка:</span>**    \n",
    "**Приоритизировать список гипотез для увеличения выручки:** \n",
    "1. Применить фреймворк ICE и RICE для приоритизации гипотез. \n",
    "2. Рассмотреть изменения приоритизации гипотез при применении RICE вместо ICE. \n",
    "\n",
    "**Проанализировать результаты A/B-тест:**\n",
    "1. Постройть график, сделайте выводы и предположения:\n",
    "    - кумулятивной выручки по группам. .\n",
    "    - кумулятивного среднего чека по группам;\n",
    "    - относительного изменения кумулятивного среднего чека группы B к группе A;\n",
    "    - кумулятивной конверсии по группам;\n",
    "    - относительного изменения кумулятивной конверсии группы B к группе A.\n",
    "2. Построить точечные графики, сделайте выводы и предположения, определить границу аномальных:\n",
    "    - количества заказов по пользователям;\n",
    "    - стоимостей заказов;\n",
    "3. Посчитать статистическую значимость различий, сделайте выводы и предположения:\n",
    "    - в конверсии между группами по «сырым» и «очищенным» данным;\n",
    "    - в среднем чеке заказа между группами по «сырым» и «очищенным» данным.\n",
    "4. Принять и обосновать решение по результатам теста."
   ]
  },
  {
   "cell_type": "markdown",
   "metadata": {},
   "source": [
    "<h1>Table of Contents<span class=\"tocSkip\"></span></h1>"
   ]
  },
  {
   "cell_type": "markdown",
   "metadata": {},
   "source": [
    "<div class=\"alert alert-success\">\n",
    "<h2> Комментарий ревьюера <a class=\"tocSkip\"> </h2>\n",
    "\n",
    "<b>Все отлично!👍:</b> \n",
    "    \n",
    "Здорово, что ты начинаешь проект с такого плана работ, все здорово!"
   ]
  },
  {
   "cell_type": "code",
   "execution_count": 1,
   "metadata": {},
   "outputs": [],
   "source": [
    "import pandas as pd\n",
    "import datetime as dt\n",
    "import numpy as np\n",
    "import matplotlib.pyplot as plt\n",
    "import scipy.stats as stats"
   ]
  },
  {
   "cell_type": "markdown",
   "metadata": {},
   "source": [
    "## Приоритизация гипотез"
   ]
  },
  {
   "cell_type": "markdown",
   "metadata": {},
   "source": [
    "### Загрузка данных и их изучение"
   ]
  },
  {
   "cell_type": "code",
   "execution_count": 2,
   "metadata": {},
   "outputs": [
    {
     "data": {
      "text/html": [
       "<div>\n",
       "<style scoped>\n",
       "    .dataframe tbody tr th:only-of-type {\n",
       "        vertical-align: middle;\n",
       "    }\n",
       "\n",
       "    .dataframe tbody tr th {\n",
       "        vertical-align: top;\n",
       "    }\n",
       "\n",
       "    .dataframe thead th {\n",
       "        text-align: right;\n",
       "    }\n",
       "</style>\n",
       "<table border=\"1\" class=\"dataframe\">\n",
       "  <thead>\n",
       "    <tr style=\"text-align: right;\">\n",
       "      <th></th>\n",
       "      <th>Hypothesis</th>\n",
       "      <th>Reach</th>\n",
       "      <th>Impact</th>\n",
       "      <th>Confidence</th>\n",
       "      <th>Efforts</th>\n",
       "    </tr>\n",
       "  </thead>\n",
       "  <tbody>\n",
       "    <tr>\n",
       "      <td>0</td>\n",
       "      <td>Добавить два новых канала привлечения трафика,...</td>\n",
       "      <td>3</td>\n",
       "      <td>10</td>\n",
       "      <td>8</td>\n",
       "      <td>6</td>\n",
       "    </tr>\n",
       "    <tr>\n",
       "      <td>1</td>\n",
       "      <td>Запустить собственную службу доставки, что сок...</td>\n",
       "      <td>2</td>\n",
       "      <td>5</td>\n",
       "      <td>4</td>\n",
       "      <td>10</td>\n",
       "    </tr>\n",
       "    <tr>\n",
       "      <td>2</td>\n",
       "      <td>Добавить блоки рекомендаций товаров на сайт ин...</td>\n",
       "      <td>8</td>\n",
       "      <td>3</td>\n",
       "      <td>7</td>\n",
       "      <td>3</td>\n",
       "    </tr>\n",
       "    <tr>\n",
       "      <td>3</td>\n",
       "      <td>Изменить структура категорий, что увеличит кон...</td>\n",
       "      <td>8</td>\n",
       "      <td>3</td>\n",
       "      <td>3</td>\n",
       "      <td>8</td>\n",
       "    </tr>\n",
       "    <tr>\n",
       "      <td>4</td>\n",
       "      <td>Изменить цвет фона главной страницы, чтобы уве...</td>\n",
       "      <td>3</td>\n",
       "      <td>1</td>\n",
       "      <td>1</td>\n",
       "      <td>1</td>\n",
       "    </tr>\n",
       "  </tbody>\n",
       "</table>\n",
       "</div>"
      ],
      "text/plain": [
       "                                          Hypothesis  Reach  Impact  \\\n",
       "0  Добавить два новых канала привлечения трафика,...      3      10   \n",
       "1  Запустить собственную службу доставки, что сок...      2       5   \n",
       "2  Добавить блоки рекомендаций товаров на сайт ин...      8       3   \n",
       "3  Изменить структура категорий, что увеличит кон...      8       3   \n",
       "4  Изменить цвет фона главной страницы, чтобы уве...      3       1   \n",
       "\n",
       "   Confidence  Efforts  \n",
       "0           8        6  \n",
       "1           4       10  \n",
       "2           7        3  \n",
       "3           3        8  \n",
       "4           1        1  "
      ]
     },
     "execution_count": 2,
     "metadata": {},
     "output_type": "execute_result"
    }
   ],
   "source": [
    "hypothesis = pd.read_csv('/datasets/hypothesis.csv')\n",
    "hypothesis.head()"
   ]
  },
  {
   "cell_type": "code",
   "execution_count": 3,
   "metadata": {},
   "outputs": [
    {
     "name": "stdout",
     "output_type": "stream",
     "text": [
      "<class 'pandas.core.frame.DataFrame'>\n",
      "RangeIndex: 9 entries, 0 to 8\n",
      "Data columns (total 5 columns):\n",
      "Hypothesis    9 non-null object\n",
      "Reach         9 non-null int64\n",
      "Impact        9 non-null int64\n",
      "Confidence    9 non-null int64\n",
      "Efforts       9 non-null int64\n",
      "dtypes: int64(4), object(1)\n",
      "memory usage: 488.0+ bytes\n"
     ]
    }
   ],
   "source": [
    "hypothesis.info()"
   ]
  },
  {
   "cell_type": "markdown",
   "metadata": {},
   "source": [
    "Таблица hypothesis содержит 9 гипотез по увеличению выручки интернет-магазина\n",
    "\n",
    "Столбцы несут информацию:\n",
    "- **Hypothesis** - — краткое описание гипотезы;\n",
    "- **Reach** — скольких пользователей затронет изменение, которое хотим внести (по 10-бальной шкале);\n",
    "- **Impact** — насколько сильно изменение повлияет на пользователей, их опыт и удовлетворение от продукта (по 10-бальной шкале); \n",
    "- **Confidence** — насколько уверены, что это изменение повлияет на пользоватеальной именно так (по 10-бальной шкале);\n",
    "- **Effort** — сколько стоит протестировать эту гипотезу (по 10-бальной шкале, чем больше значение, тем дороже) "
   ]
  },
  {
   "cell_type": "markdown",
   "metadata": {},
   "source": [
    "**Переведем названия столбцов** в **<span style=\"color:red\">нижний регистр</span>**"
   ]
  },
  {
   "cell_type": "code",
   "execution_count": 4,
   "metadata": {},
   "outputs": [],
   "source": [
    "hypothesis.columns = hypothesis.columns.str.lower()"
   ]
  },
  {
   "cell_type": "markdown",
   "metadata": {},
   "source": [
    "### Приоритизация гипотез методом ICE"
   ]
  },
  {
   "cell_type": "markdown",
   "metadata": {},
   "source": [
    "Проведем **приоритизацию гипотез** методом **<span style=\"color:blue\">ICE</span>**"
   ]
  },
  {
   "cell_type": "code",
   "execution_count": 5,
   "metadata": {},
   "outputs": [
    {
     "data": {
      "text/html": [
       "<div>\n",
       "<style scoped>\n",
       "    .dataframe tbody tr th:only-of-type {\n",
       "        vertical-align: middle;\n",
       "    }\n",
       "\n",
       "    .dataframe tbody tr th {\n",
       "        vertical-align: top;\n",
       "    }\n",
       "\n",
       "    .dataframe thead th {\n",
       "        text-align: right;\n",
       "    }\n",
       "</style>\n",
       "<table border=\"1\" class=\"dataframe\">\n",
       "  <thead>\n",
       "    <tr style=\"text-align: right;\">\n",
       "      <th></th>\n",
       "      <th>hypothesis</th>\n",
       "      <th>ice</th>\n",
       "    </tr>\n",
       "  </thead>\n",
       "  <tbody>\n",
       "    <tr>\n",
       "      <td>8</td>\n",
       "      <td>Запустить акцию, дающую скидку на товар в день...</td>\n",
       "      <td>16.200000</td>\n",
       "    </tr>\n",
       "    <tr>\n",
       "      <td>0</td>\n",
       "      <td>Добавить два новых канала привлечения трафика,...</td>\n",
       "      <td>13.333333</td>\n",
       "    </tr>\n",
       "    <tr>\n",
       "      <td>7</td>\n",
       "      <td>Добавить форму подписки на все основные страни...</td>\n",
       "      <td>11.200000</td>\n",
       "    </tr>\n",
       "    <tr>\n",
       "      <td>6</td>\n",
       "      <td>Показать на главной странице баннеры с актуаль...</td>\n",
       "      <td>8.000000</td>\n",
       "    </tr>\n",
       "    <tr>\n",
       "      <td>2</td>\n",
       "      <td>Добавить блоки рекомендаций товаров на сайт ин...</td>\n",
       "      <td>7.000000</td>\n",
       "    </tr>\n",
       "    <tr>\n",
       "      <td>1</td>\n",
       "      <td>Запустить собственную службу доставки, что сок...</td>\n",
       "      <td>2.000000</td>\n",
       "    </tr>\n",
       "    <tr>\n",
       "      <td>5</td>\n",
       "      <td>Добавить страницу отзывов клиентов о магазине,...</td>\n",
       "      <td>1.333333</td>\n",
       "    </tr>\n",
       "    <tr>\n",
       "      <td>3</td>\n",
       "      <td>Изменить структура категорий, что увеличит кон...</td>\n",
       "      <td>1.125000</td>\n",
       "    </tr>\n",
       "    <tr>\n",
       "      <td>4</td>\n",
       "      <td>Изменить цвет фона главной страницы, чтобы уве...</td>\n",
       "      <td>1.000000</td>\n",
       "    </tr>\n",
       "  </tbody>\n",
       "</table>\n",
       "</div>"
      ],
      "text/plain": [
       "                                          hypothesis        ice\n",
       "8  Запустить акцию, дающую скидку на товар в день...  16.200000\n",
       "0  Добавить два новых канала привлечения трафика,...  13.333333\n",
       "7  Добавить форму подписки на все основные страни...  11.200000\n",
       "6  Показать на главной странице баннеры с актуаль...   8.000000\n",
       "2  Добавить блоки рекомендаций товаров на сайт ин...   7.000000\n",
       "1  Запустить собственную службу доставки, что сок...   2.000000\n",
       "5  Добавить страницу отзывов клиентов о магазине,...   1.333333\n",
       "3  Изменить структура категорий, что увеличит кон...   1.125000\n",
       "4  Изменить цвет фона главной страницы, чтобы уве...   1.000000"
      ]
     },
     "execution_count": 5,
     "metadata": {},
     "output_type": "execute_result"
    }
   ],
   "source": [
    "hypothesis['ice'] = hypothesis['impact']*hypothesis['confidence']/hypothesis['efforts']\n",
    "hypothesis[['hypothesis', 'ice']].sort_values(by = 'ice', ascending = False)"
   ]
  },
  {
   "cell_type": "markdown",
   "metadata": {},
   "source": [
    "**<span style=\"color:red\">Вывод</span>**:   \n",
    "\n",
    "Наиболее **перспективные**  по **<span style=\"color:blue\">ICE</span> гипотезы<span style=\"color:red\"> 8, 0, 7, 6, 2</span>**"
   ]
  },
  {
   "cell_type": "markdown",
   "metadata": {},
   "source": [
    "### Приоритизация гипотез методом RICE"
   ]
  },
  {
   "cell_type": "markdown",
   "metadata": {},
   "source": [
    "Проведем **приоритизацию гипотез** методом **<span style=\"color:blue\">RICE</span>**"
   ]
  },
  {
   "cell_type": "code",
   "execution_count": 6,
   "metadata": {},
   "outputs": [
    {
     "data": {
      "text/html": [
       "<div>\n",
       "<style scoped>\n",
       "    .dataframe tbody tr th:only-of-type {\n",
       "        vertical-align: middle;\n",
       "    }\n",
       "\n",
       "    .dataframe tbody tr th {\n",
       "        vertical-align: top;\n",
       "    }\n",
       "\n",
       "    .dataframe thead th {\n",
       "        text-align: right;\n",
       "    }\n",
       "</style>\n",
       "<table border=\"1\" class=\"dataframe\">\n",
       "  <thead>\n",
       "    <tr style=\"text-align: right;\">\n",
       "      <th></th>\n",
       "      <th>hypothesis</th>\n",
       "      <th>rice</th>\n",
       "    </tr>\n",
       "  </thead>\n",
       "  <tbody>\n",
       "    <tr>\n",
       "      <td>7</td>\n",
       "      <td>Добавить форму подписки на все основные страни...</td>\n",
       "      <td>112.0</td>\n",
       "    </tr>\n",
       "    <tr>\n",
       "      <td>2</td>\n",
       "      <td>Добавить блоки рекомендаций товаров на сайт ин...</td>\n",
       "      <td>56.0</td>\n",
       "    </tr>\n",
       "    <tr>\n",
       "      <td>0</td>\n",
       "      <td>Добавить два новых канала привлечения трафика,...</td>\n",
       "      <td>40.0</td>\n",
       "    </tr>\n",
       "    <tr>\n",
       "      <td>6</td>\n",
       "      <td>Показать на главной странице баннеры с актуаль...</td>\n",
       "      <td>40.0</td>\n",
       "    </tr>\n",
       "    <tr>\n",
       "      <td>8</td>\n",
       "      <td>Запустить акцию, дающую скидку на товар в день...</td>\n",
       "      <td>16.2</td>\n",
       "    </tr>\n",
       "    <tr>\n",
       "      <td>3</td>\n",
       "      <td>Изменить структура категорий, что увеличит кон...</td>\n",
       "      <td>9.0</td>\n",
       "    </tr>\n",
       "    <tr>\n",
       "      <td>1</td>\n",
       "      <td>Запустить собственную службу доставки, что сок...</td>\n",
       "      <td>4.0</td>\n",
       "    </tr>\n",
       "    <tr>\n",
       "      <td>5</td>\n",
       "      <td>Добавить страницу отзывов клиентов о магазине,...</td>\n",
       "      <td>4.0</td>\n",
       "    </tr>\n",
       "    <tr>\n",
       "      <td>4</td>\n",
       "      <td>Изменить цвет фона главной страницы, чтобы уве...</td>\n",
       "      <td>3.0</td>\n",
       "    </tr>\n",
       "  </tbody>\n",
       "</table>\n",
       "</div>"
      ],
      "text/plain": [
       "                                          hypothesis   rice\n",
       "7  Добавить форму подписки на все основные страни...  112.0\n",
       "2  Добавить блоки рекомендаций товаров на сайт ин...   56.0\n",
       "0  Добавить два новых канала привлечения трафика,...   40.0\n",
       "6  Показать на главной странице баннеры с актуаль...   40.0\n",
       "8  Запустить акцию, дающую скидку на товар в день...   16.2\n",
       "3  Изменить структура категорий, что увеличит кон...    9.0\n",
       "1  Запустить собственную службу доставки, что сок...    4.0\n",
       "5  Добавить страницу отзывов клиентов о магазине,...    4.0\n",
       "4  Изменить цвет фона главной страницы, чтобы уве...    3.0"
      ]
     },
     "execution_count": 6,
     "metadata": {},
     "output_type": "execute_result"
    }
   ],
   "source": [
    "hypothesis['rice'] = hypothesis['ice']*hypothesis['reach']\n",
    "hypothesis[['hypothesis', 'rice']].sort_values(by = 'rice', ascending = False)"
   ]
  },
  {
   "cell_type": "markdown",
   "metadata": {},
   "source": [
    "**<span style=\"color:red\">Вывод</span>**:   \n",
    "\n",
    "Перечень пяти **перспективных** гипотез по **RICE** совпадает с перечнем пяти **перспективных** гипотез по **ICE**, но по важности (очередности) они изменились - **<span style=\"color:red\">7, 2, 0, 6, 8</span>**   \n",
    "**Очередность** их изменилась, так как **данные гипотезы** по **охвату пользователей** по убыванию размещены в следуещем порядке **<span style=\"color:red\">7, 2, 0, 6, 8</span>** (7 гипотеза имеет 10 баллов; 2 гипотеза - 8; 0 гипотеза - 3, **но ICE у ней выше** чем у 6 гипотезы; 6 гипотеза - 5, 8 гипотеза - 1) \n",
    "\n"
   ]
  },
  {
   "cell_type": "markdown",
   "metadata": {},
   "source": [
    "### Вывод"
   ]
  },
  {
   "cell_type": "markdown",
   "metadata": {},
   "source": [
    "Исходя из показателя **RICE**  в первую очередь будем тестировать **<span style=\"color:red\">7, 2, 0, 6, 8</span> гипотезы**"
   ]
  },
  {
   "cell_type": "markdown",
   "metadata": {},
   "source": [
    "<div class=\"alert alert-success\">\n",
    "<h2> Комментарий ревьюера <a class=\"tocSkip\"> </h2>\n",
    "\n",
    "<b>Все отлично!👍:</b>\n",
    "    \n",
    "Николай, хорошая работа, ты в целом корректно применил фреймворки и правильно проанализировал результаты."
   ]
  },
  {
   "cell_type": "markdown",
   "metadata": {},
   "source": [
    "<div class=\"alert alert-warning\">\n",
    "    <h2> Комментарий ревьюера <a class=\"tocSkip\"> </h2>\n",
    "    \n",
    "<b>Некоторые замечания и рекомендации💡:</b> \n",
    "        \n",
    "И еще несколько рекомендаций:\n",
    "        \n",
    "* гипотезы имеют длинные названия, чтобы они полностью отображались  можно использовать <a href=\"https://pandas.pydata.org/pandas-docs/stable/user_guide/options.html\">опции pandas</a> Кроме того, лучше не использовать `print()` c датафреймами в Jupyter Notebook, ты можешь вызы\n",
    "        \n",
    "* результаты можно было бы объединить в единой таблице для наглядности. Также их можно было бы проранжировать и выделить цветом — https://pandas.pydata.org/pandas-docs/stable/user_guide/style.html\n",
    "\n",
    "* в качестве визуализации изменения приоритетов можно использовать <a href=\"https://datayoga.ru/tpost/zh3s62fori-sloupgraf\">slope graph</a>, <a href=\"https://chart-studio.plotly.com/~pcchang/224/slopegraph-spending-and-academic-performance-by-states-doc/#/\">реализация на plotly</a>\n",
    "        \n",
    "И еще несколько ссылок для ознакомления с тем, как строить такоеи графики:\n",
    "        \n",
    "<a href=\"https://towardsdatascience.com/slope-charts-with-pythons-matplotlib-2c3456c137b8\">раз</a>        \n",
    "      \n",
    "<a href=\"https://cduvallet.github.io/posts/2018/03/slopegraphs-in-python\">два</a>     \n",
    "\n",
    "      \n",
    "<a href=\"https://stackoverflow.com/questions/7941226/how-to-add-line-based-on-slope-and-intercept-in-matplotlib\">три</a>     \n",
    "\n",
    "* отчёте есть формулы для расчёта приоритезации, почему бы их не оформить, для этого есть микропакет для вёрстки `LaTex` - <a href=\"https://www.youtube.com/watch?v=vSc25kdgecg\">Использование LaTex в Jupyter Notebook</a>\n",
    "<br><a href=\"https://www.overleaf.com/static/latex/learn/free-online-introduction-to-latex-part-1.pdf\">LaTex for beginners</a>. Вот так будут выглядеть формулы:👇\n",
    "</ul></div> <br>\n",
    "\n",
    "$$ICE = \\frac{Impact * Confidence}{Efforts}$$\n",
    "\n",
    "$$RICE = \\frac{Rearch * Impact * Confidence}{Efforts}$$\n",
    "\n",
    "<hr style=\"border: 2px solid yellow;\" />"
   ]
  },
  {
   "cell_type": "markdown",
   "metadata": {},
   "source": [
    "<div class=\"alert alert-info\">\n",
    "Спасибо! Изучу и обязательно реализую  "
   ]
  },
  {
   "cell_type": "markdown",
   "metadata": {},
   "source": [
    "<div class=\"alert alert-success\">\n",
    "<h2> Комментарий ревьюера: вторая итерация ревью<a class=\"tocSkip\"> </h2>\n",
    "\n",
    "<b>Все отлично!👍</b>"
   ]
  },
  {
   "cell_type": "markdown",
   "metadata": {},
   "source": [
    "## Анализ A/B-теста"
   ]
  },
  {
   "cell_type": "markdown",
   "metadata": {},
   "source": [
    "### Загрузка данных и их изучение"
   ]
  },
  {
   "cell_type": "code",
   "execution_count": 7,
   "metadata": {},
   "outputs": [
    {
     "data": {
      "text/html": [
       "<div>\n",
       "<style scoped>\n",
       "    .dataframe tbody tr th:only-of-type {\n",
       "        vertical-align: middle;\n",
       "    }\n",
       "\n",
       "    .dataframe tbody tr th {\n",
       "        vertical-align: top;\n",
       "    }\n",
       "\n",
       "    .dataframe thead th {\n",
       "        text-align: right;\n",
       "    }\n",
       "</style>\n",
       "<table border=\"1\" class=\"dataframe\">\n",
       "  <thead>\n",
       "    <tr style=\"text-align: right;\">\n",
       "      <th></th>\n",
       "      <th>transactionId</th>\n",
       "      <th>visitorId</th>\n",
       "      <th>date</th>\n",
       "      <th>revenue</th>\n",
       "      <th>group</th>\n",
       "    </tr>\n",
       "  </thead>\n",
       "  <tbody>\n",
       "    <tr>\n",
       "      <td>0</td>\n",
       "      <td>3667963787</td>\n",
       "      <td>3312258926</td>\n",
       "      <td>2019-08-15</td>\n",
       "      <td>1650</td>\n",
       "      <td>B</td>\n",
       "    </tr>\n",
       "    <tr>\n",
       "      <td>1</td>\n",
       "      <td>2804400009</td>\n",
       "      <td>3642806036</td>\n",
       "      <td>2019-08-15</td>\n",
       "      <td>730</td>\n",
       "      <td>B</td>\n",
       "    </tr>\n",
       "    <tr>\n",
       "      <td>2</td>\n",
       "      <td>2961555356</td>\n",
       "      <td>4069496402</td>\n",
       "      <td>2019-08-15</td>\n",
       "      <td>400</td>\n",
       "      <td>A</td>\n",
       "    </tr>\n",
       "    <tr>\n",
       "      <td>3</td>\n",
       "      <td>3797467345</td>\n",
       "      <td>1196621759</td>\n",
       "      <td>2019-08-15</td>\n",
       "      <td>9759</td>\n",
       "      <td>B</td>\n",
       "    </tr>\n",
       "    <tr>\n",
       "      <td>4</td>\n",
       "      <td>2282983706</td>\n",
       "      <td>2322279887</td>\n",
       "      <td>2019-08-15</td>\n",
       "      <td>2308</td>\n",
       "      <td>B</td>\n",
       "    </tr>\n",
       "  </tbody>\n",
       "</table>\n",
       "</div>"
      ],
      "text/plain": [
       "   transactionId   visitorId        date  revenue group\n",
       "0     3667963787  3312258926  2019-08-15     1650     B\n",
       "1     2804400009  3642806036  2019-08-15      730     B\n",
       "2     2961555356  4069496402  2019-08-15      400     A\n",
       "3     3797467345  1196621759  2019-08-15     9759     B\n",
       "4     2282983706  2322279887  2019-08-15     2308     B"
      ]
     },
     "execution_count": 7,
     "metadata": {},
     "output_type": "execute_result"
    }
   ],
   "source": [
    "orders = pd.read_csv('/datasets/orders.csv')\n",
    "orders.head()"
   ]
  },
  {
   "cell_type": "code",
   "execution_count": 8,
   "metadata": {},
   "outputs": [
    {
     "name": "stdout",
     "output_type": "stream",
     "text": [
      "<class 'pandas.core.frame.DataFrame'>\n",
      "RangeIndex: 1197 entries, 0 to 1196\n",
      "Data columns (total 5 columns):\n",
      "transactionId    1197 non-null int64\n",
      "visitorId        1197 non-null int64\n",
      "date             1197 non-null object\n",
      "revenue          1197 non-null int64\n",
      "group            1197 non-null object\n",
      "dtypes: int64(3), object(2)\n",
      "memory usage: 46.9+ KB\n"
     ]
    }
   ],
   "source": [
    "orders.info()"
   ]
  },
  {
   "cell_type": "code",
   "execution_count": 9,
   "metadata": {},
   "outputs": [
    {
     "data": {
      "text/plain": [
       "0"
      ]
     },
     "execution_count": 9,
     "metadata": {},
     "output_type": "execute_result"
    }
   ],
   "source": [
    "orders.duplicated().sum()"
   ]
  },
  {
   "cell_type": "markdown",
   "metadata": {},
   "source": [
    "<div class=\"alert alert-info\">\n",
    "Проверим корректность деления пользователей на группы, чтобы исключить попадание пользователя в обе группы, для этого:   \n",
    "    \n",
    "    1. сделаем срезы по группам\n",
    "    2. объеденим полученные срезы merge методом inner\n",
    "    3. посчитаем количество уникальных пользователей, входящих в обе группы"
   ]
  },
  {
   "cell_type": "code",
   "execution_count": 10,
   "metadata": {},
   "outputs": [
    {
     "data": {
      "text/plain": [
       "58"
      ]
     },
     "execution_count": 10,
     "metadata": {},
     "output_type": "execute_result"
    }
   ],
   "source": [
    "user_group_A = orders[orders['group'] == 'A']['visitorId'].reset_index()\n",
    "user_group_B = orders[orders['group'] == 'B']['visitorId'].reset_index()\n",
    "users_exclude = user_group_A.merge(user_group_B, on='visitorId', how='inner', suffixes=['_A', '_B'])\n",
    "len(users_exclude['visitorId'].value_counts())"
   ]
  },
  {
   "cell_type": "markdown",
   "metadata": {},
   "source": [
    "В таблице **\"заказы\"** столбцы несут информацию:   \n",
    "**transactionId** — идентификатор заказа, тип данных int64;   \n",
    "**visitorId** — идентификатор пользователя, совершившего заказ, тип данных int64;   \n",
    "**date** — дата, когда был совершён заказ, тип данных object (**необходимо перевести в  <span style=\"color:red\">datetime</span>**);   \n",
    "**revenue** — выручка заказа, тип данных int64;   \n",
    "**group** — группа A/B-теста, тип данных object\n",
    "\n",
    "Пропусков и дубликатов - **нет**\n",
    "Имеются **ошибочные данные** по **<span style=\"color:red\">58 пользователям</span>**, входящим **<span style=\"color:blue\">в обе группы</span>** одновременно\n",
    "\n",
    "Из результатов изучения **Таблицы 'orders' <span style=\"color:red\">необходимо:</span>**   \n",
    "- изменить тип данных object на **<span style=\"color:blue\">datetime</span>** в столбце **date**\n",
    "- названия столбцов **transactionId и visitorId** привести **<span style=\"color:blue\">к нижнему регистру через \"_\"</span>**\n",
    "- **<span style=\"color:blue\">удалить</span>** из таблицы данные по пользователям, входящим в обе группы"
   ]
  },
  {
   "cell_type": "code",
   "execution_count": 11,
   "metadata": {},
   "outputs": [
    {
     "data": {
      "text/html": [
       "<div>\n",
       "<style scoped>\n",
       "    .dataframe tbody tr th:only-of-type {\n",
       "        vertical-align: middle;\n",
       "    }\n",
       "\n",
       "    .dataframe tbody tr th {\n",
       "        vertical-align: top;\n",
       "    }\n",
       "\n",
       "    .dataframe thead th {\n",
       "        text-align: right;\n",
       "    }\n",
       "</style>\n",
       "<table border=\"1\" class=\"dataframe\">\n",
       "  <thead>\n",
       "    <tr style=\"text-align: right;\">\n",
       "      <th></th>\n",
       "      <th>date</th>\n",
       "      <th>group</th>\n",
       "      <th>visitors</th>\n",
       "    </tr>\n",
       "  </thead>\n",
       "  <tbody>\n",
       "    <tr>\n",
       "      <td>0</td>\n",
       "      <td>2019-08-01</td>\n",
       "      <td>A</td>\n",
       "      <td>719</td>\n",
       "    </tr>\n",
       "    <tr>\n",
       "      <td>1</td>\n",
       "      <td>2019-08-02</td>\n",
       "      <td>A</td>\n",
       "      <td>619</td>\n",
       "    </tr>\n",
       "    <tr>\n",
       "      <td>2</td>\n",
       "      <td>2019-08-03</td>\n",
       "      <td>A</td>\n",
       "      <td>507</td>\n",
       "    </tr>\n",
       "    <tr>\n",
       "      <td>3</td>\n",
       "      <td>2019-08-04</td>\n",
       "      <td>A</td>\n",
       "      <td>717</td>\n",
       "    </tr>\n",
       "    <tr>\n",
       "      <td>4</td>\n",
       "      <td>2019-08-05</td>\n",
       "      <td>A</td>\n",
       "      <td>756</td>\n",
       "    </tr>\n",
       "  </tbody>\n",
       "</table>\n",
       "</div>"
      ],
      "text/plain": [
       "         date group  visitors\n",
       "0  2019-08-01     A       719\n",
       "1  2019-08-02     A       619\n",
       "2  2019-08-03     A       507\n",
       "3  2019-08-04     A       717\n",
       "4  2019-08-05     A       756"
      ]
     },
     "execution_count": 11,
     "metadata": {},
     "output_type": "execute_result"
    }
   ],
   "source": [
    "visitors = pd.read_csv('/datasets/visitors.csv')\n",
    "visitors.head()"
   ]
  },
  {
   "cell_type": "code",
   "execution_count": 12,
   "metadata": {},
   "outputs": [
    {
     "name": "stdout",
     "output_type": "stream",
     "text": [
      "<class 'pandas.core.frame.DataFrame'>\n",
      "RangeIndex: 62 entries, 0 to 61\n",
      "Data columns (total 3 columns):\n",
      "date        62 non-null object\n",
      "group       62 non-null object\n",
      "visitors    62 non-null int64\n",
      "dtypes: int64(1), object(2)\n",
      "memory usage: 1.6+ KB\n"
     ]
    }
   ],
   "source": [
    "visitors.info()"
   ]
  },
  {
   "cell_type": "code",
   "execution_count": 13,
   "metadata": {},
   "outputs": [
    {
     "data": {
      "text/plain": [
       "0"
      ]
     },
     "execution_count": 13,
     "metadata": {},
     "output_type": "execute_result"
    }
   ],
   "source": [
    "visitors.duplicated().sum()"
   ]
  },
  {
   "cell_type": "markdown",
   "metadata": {},
   "source": [
    "В таблице **\"пользователи\"** столбцы несут информацию:\n",
    "\n",
    "**date** — дата, тип данных object (**необходимо перевести в  <span style=\"color:red\">datetime</span>**);   \n",
    "**group** — группа A/B-теста, тип данных object;   \n",
    "**visitors** — количество пользователей в указанную дату в указанной группе A/B-теста, тип данных int64;\n",
    "\n",
    "Пропусков и дубликатов - **нет**\n",
    "\n",
    "Из результатов изучения **Таблицы 'visitors' <span style=\"color:red\">необходимо:</span>**   \n",
    "- изменить тип данных object на **<span style=\"color:blue\">datetime</span>** в столбце **date**"
   ]
  },
  {
   "cell_type": "markdown",
   "metadata": {},
   "source": [
    "**<span style=\"color:red\">Вывод</span>**:   \n",
    "\n",
    "По результатам изучения **Таблиц 'orders', 'visitors' <span style=\"color:red\">необходимо:</span>**   \n",
    "- изменить тип данных object на **<span style=\"color:blue\">datetime</span>** в столбцах **date**\n",
    "- перевести названия столбцов 'transactionId', 'visitorId' в таблице **'orders'** к нижнему регистру через \"_\"\n",
    "- **<span style=\"color:blue\">удалить</span>** из таблицы **'orders'** данные по пользователям, входящим в обе группы\n",
    "\n",
    "**Хотя было бы правильней узнать принадлежность 58 пользователей к той или иной группе и исправить ошибки в столбце group.**"
   ]
  },
  {
   "cell_type": "markdown",
   "metadata": {},
   "source": [
    "<div class=\"alert alert-success\">\n",
    "<h2> Комментарий ревьюера: вторая итерация ревью<a class=\"tocSkip\"> </h2>\n",
    "\n",
    "<b>Все отлично!👍</b>\n",
    "    \n",
    "Да, пересекающихся пользователей действительно 58."
   ]
  },
  {
   "cell_type": "markdown",
   "metadata": {},
   "source": [
    "### Подготовка данных к анализу "
   ]
  },
  {
   "cell_type": "code",
   "execution_count": 14,
   "metadata": {},
   "outputs": [],
   "source": [
    "orders['date'] = pd.to_datetime(orders['date'])"
   ]
  },
  {
   "cell_type": "code",
   "execution_count": 15,
   "metadata": {},
   "outputs": [],
   "source": [
    "orders = orders.rename(columns={'transactionId':'transaction_id', 'visitorId':'visitor_id'})"
   ]
  },
  {
   "cell_type": "code",
   "execution_count": 16,
   "metadata": {},
   "outputs": [],
   "source": [
    "visitors['date'] = pd.to_datetime(visitors['date'])"
   ]
  },
  {
   "cell_type": "code",
   "execution_count": 17,
   "metadata": {},
   "outputs": [],
   "source": [
    "orders['visitor_id'] = orders[np.logical_not(orders['visitor_id'].isin(users_exclude['visitorId']))]\n",
    "orders.dropna(subset = ['visitor_id'], inplace = True)    "
   ]
  },
  {
   "cell_type": "markdown",
   "metadata": {},
   "source": [
    "<div class=\"alert alert-success\">\n",
    "<h2> Комментарий ревьюера <a class=\"tocSkip\"> </h2>\n",
    "\n",
    "<b>Все отлично!👍:</b>\n",
    "    \n",
    "Отлично, типы данных заменены корректно, хорошо, что ты не забыл проверить данные на дубликаты."
   ]
  },
  {
   "cell_type": "markdown",
   "metadata": {},
   "source": [
    "\n",
    "<div class=\"alert alert-warning\">\n",
    "    <h2> Комментарий ревьюера <a class=\"tocSkip\"> </h2>\n",
    "    \n",
    "<b>Некоторые замечания и рекомендации💡:</b>\n",
    "    \n",
    "Также можно проверить корректность разбиения пользователей на группы - может быть есть пользователи, попавшие в обе группы? Если таковые пользователи есть, нужно их выявить и выработать стратегию работы с такими данными. Пересечение групп сильно влияет на результаты теста, если процент достаточно большой. Если есть возможность их можно удалить и посмотреть, какие результаты получаются без них, в любом случае к результатам теста придется относится осторожно."
   ]
  },
  {
   "attachments": {
    "image.png": {
     "image/png": "[encoded data removed]"
    }
   },
   "cell_type": "markdown",
   "metadata": {},
   "source": [
    "<div class=\"alert alert-block alert-danger\">\n",
    "<h2> Комментарий ревьюера <a class=\"tocSkip\"></h2>\n",
    "\n",
    "    \n",
    "<b>На доработку🤔:</b>\n",
    "    \n",
    "Здесь код отрабатывает с ошибкой, важно ее исправить, скрин ошибки прилагаю:\n",
    "    \n",
    "![image.png](attachment:image.png)"
   ]
  },
  {
   "attachments": {
    "image.png": {
     "image/png": "[encoded data removed]"
    }
   },
   "cell_type": "markdown",
   "metadata": {},
   "source": [
    "<div class=\"alert alert-block alert-danger\">\n",
    "<h2> Комментарий ревьюера <a class=\"tocSkip\"></h2>\n",
    "\n",
    "    \n",
    "<b>На доработку🤔:</b>\n",
    "    \n",
    "В этой ячейке также техническая ошибка, она связана с оишбкой в предыдущей ячейке:\n",
    "    \n",
    "![image.png](attachment:image.png)"
   ]
  },
  {
   "cell_type": "markdown",
   "metadata": {},
   "source": [
    "<div class=\"alert alert-info\">\n",
    "Извини! Забыл удалить  "
   ]
  },
  {
   "cell_type": "markdown",
   "metadata": {},
   "source": [
    "<div class=\"alert alert-success\">\n",
    "<h2> Комментарий ревьюера: вторая итерация ревью<a class=\"tocSkip\"> </h2>\n",
    "\n",
    "<b>Все отлично!👍</b>\n",
    "    \n",
    "Теперь ошибок в коде нет, все в порядке!"
   ]
  },
  {
   "cell_type": "markdown",
   "metadata": {},
   "source": [
    "**<span style=\"color:red\">Вывод</span>**:   \n",
    "    \n",
    "По результатам предобработки:   \n",
    "1. заменены в столбцах **date** таблиц 'orders', 'visitors' тип данных на **<span style=\"color:blue\">datetime</span>**   \n",
    "2. названия столбцов таблице **'orders'** приведены к нижнему регистру\n",
    "3. удалены ошибочные данные таблице **'orders'** пользователей, входящих одновременно в группу А и группу В  \n",
    "\n",
    "Пропусков, дубликатов нет.\n",
    "\n",
    "**<span style=\"color:red\">Данные готовы к анализу</span>**    \n"
   ]
  },
  {
   "cell_type": "markdown",
   "metadata": {},
   "source": [
    "### График кумулятивной выручки по группам"
   ]
  },
  {
   "cell_type": "markdown",
   "metadata": {},
   "source": [
    "Построим  график **<span style=\"color:red\">кумулятивной выручки</span>** по группам, для чего:\n",
    "1. **создадим массив <span style=\"color:blue\">уникальных дат, групп</span>**\n",
    "2. в таблице **cumulative_orders <span style=\"color:blue\">рассчитаем кумулятивные данные</span>**:\n",
    "    - **<span style=\"color:red\">количество заказов</span> на указанную дату** в указанной группе;\n",
    "    - **<span style=\"color:red\">количество пользователей, совершивших хотя бы один заказ</span>, на указанную дату** в указанной группе;\n",
    "    - **<span style=\"color:red\">выручку</span> на указанную дату** в указанной группе;\n",
    "3.  в таблице cumulative_visitors **рассчитаем кумулятивные данные**:\n",
    "    - **<span style=\"color:red\">количество посетителей</span>** интернет-магазина **на указанную дату** в определённой группе;\n",
    "4. методом merge **объеденим** таблицы cumulative_orders и cumulative_visitors по дате, группам\n",
    "5. **переименуем столбцы** в таблице cumulative_data\n",
    "    "
   ]
  },
  {
   "cell_type": "code",
   "execution_count": 18,
   "metadata": {},
   "outputs": [],
   "source": [
    "dates_groups = orders[['date','group']].drop_duplicates()"
   ]
  },
  {
   "cell_type": "code",
   "execution_count": 19,
   "metadata": {},
   "outputs": [],
   "source": [
    "cumulative_orders = dates_groups.apply(\n",
    "    lambda x: (\n",
    "        orders[np.logical_and(orders['date'] <= x['date'], orders['group'] == x['group'])]\n",
    "        .agg({'date' : 'max',\n",
    "              'group' : 'max',\n",
    "              'transaction_id' : pd.Series.nunique,\n",
    "              'visitor_id' : pd.Series.nunique,\n",
    "              'revenue' : 'sum'}))\n",
    "        ,axis=1)"
   ]
  },
  {
   "cell_type": "code",
   "execution_count": 20,
   "metadata": {},
   "outputs": [],
   "source": [
    "cumulative_visitors = dates_groups.apply( \n",
    "    lambda x: (\n",
    "        visitors[np.logical_and(visitors['date'] <= x['date'], visitors['group'] == x['group'])]\n",
    "        .agg({'date' : 'max',\n",
    "              'group' : 'max',\n",
    "              'visitors' : 'sum'})),axis=1)"
   ]
  },
  {
   "cell_type": "code",
   "execution_count": 21,
   "metadata": {},
   "outputs": [],
   "source": [
    "cumulative_data = pd.merge(cumulative_orders, cumulative_visitors, on=['date', 'group'])\n",
    "\n",
    "cumulative_data = cumulative_data.rename(columns={'transaction_id':'orders', 'visitor_id':'buyers'})"
   ]
  },
  {
   "cell_type": "markdown",
   "metadata": {},
   "source": [
    "5. **сделаем срез** по группам и **построим  график** кумулятивной выручки"
   ]
  },
  {
   "cell_type": "code",
   "execution_count": 22,
   "metadata": {},
   "outputs": [
    {
     "data": {
      "image/png": "[encoded data removed]",
      "text/plain": [
       "<Figure size 1080x576 with 1 Axes>"
      ]
     },
     "metadata": {
      "needs_background": "light"
     },
     "output_type": "display_data"
    }
   ],
   "source": [
    "cumulative_revenue_A = cumulative_data[cumulative_data['group']=='A'][['date','revenue', 'orders']]\n",
    "cumulative_revenue_B = cumulative_data[cumulative_data['group']=='B'][['date','revenue', 'orders']]\n",
    "\n",
    "\n",
    "ax = cumulative_revenue_A.plot(x = 'date', y= 'revenue', label='A',color='r', grid=True, figsize=(15, 8))\n",
    "cumulative_revenue_B.plot(x = 'date', y= 'revenue', label='B',color='b', grid=True, figsize=(15, 8), ax = ax)\n",
    "plt.title('Изменение кумулятивной (суммарной) выручки групп по дням')\n",
    "plt.xlabel('Дата теста')\n",
    "plt.ylabel('Суммарная выручка')\n",
    "plt.show() "
   ]
  },
  {
   "cell_type": "markdown",
   "metadata": {},
   "source": [
    "**<span style=\"color:red\">Вывод</span>**:   \n",
    "\n",
    "Выручка почти равномерно **увеличивается** в течение всего теста.  \n",
    "**<span style=\"color:red\">11-12 августа</span>** график выручки группы \"А\" и <span style=\"color:dlue\">18 августа</span>** график выручки группы \"В\" **резко растут**. Это может сигнализировать о **всплесках <span style=\"color:blue\">числа заказов</span>**, или об очень **<span style=\"color:blue\">дорогих заказов</span>** в выборке. "
   ]
  },
  {
   "cell_type": "markdown",
   "metadata": {},
   "source": [
    "### График кумулятивного среднего чека по группам"
   ]
  },
  {
   "cell_type": "markdown",
   "metadata": {},
   "source": [
    "**Построим  график <span style=\"color:red\">кумулятивного среднего чека</span>** по группам, для этого **разделим выручку** на **количество заказов** на указанную дату в указанной группе"
   ]
  },
  {
   "cell_type": "code",
   "execution_count": 23,
   "metadata": {},
   "outputs": [
    {
     "data": {
      "image/png": "[encoded data removed]",
      "text/plain": [
       "<Figure size 1080x576 with 1 Axes>"
      ]
     },
     "metadata": {
      "needs_background": "light"
     },
     "output_type": "display_data"
    }
   ],
   "source": [
    "cumulative_revenue_A['average_check'] = cumulative_revenue_A['revenue']/cumulative_revenue_A['orders']\n",
    "cumulative_revenue_B['average_check'] = cumulative_revenue_B['revenue']/cumulative_revenue_B['orders']\n",
    "\n",
    "\n",
    "ax = cumulative_revenue_A.plot(x = 'date', y= 'average_check', label='A', color='r', grid=True, figsize=(15, 8))\n",
    "cumulative_revenue_B.plot(x = 'date', y= 'average_check', label='B', color='b', grid=True, figsize=(15, 8), ax = ax)\n",
    "plt.title('Изменение кумулятивного среднего чека групп по дням')\n",
    "plt.xlabel('Дата теста')\n",
    "plt.ylabel('Цена среднего чека')\n",
    "plt.show() "
   ]
  },
  {
   "cell_type": "markdown",
   "metadata": {},
   "source": [
    "**<span style=\"color:red\">Вывод</span>**:   \n",
    "\n",
    "**<span style=\"color:red\">Средний чек</span> группы \"A\"** к концу теста **стабилизируется** (в размере примерно 7300), в **группе \"В\" <span style=\"color:blue\">продолжает падать</span>**.   \n",
    "\n",
    "Кроме того, в **группу \"B\" <span style=\"color:blue\">18 августа</span>**  попали крупные заказы *(резкий всплеск на графике)*, что **существенно сказывается** на значении **<span style=\"color:red\">среднего чека</span>** данной группы. Данные всплески **<span style=\"color:red\">необходимо</span>** при дальнейших расчетах **убирать.**   \n",
    "Далее средний чек **группу \"B\" <span style=\"color:blue\">снижается</span>**"
   ]
  },
  {
   "cell_type": "markdown",
   "metadata": {},
   "source": [
    "### График относительного изменения кумулятивного среднего чека группы B к группе A"
   ]
  },
  {
   "cell_type": "markdown",
   "metadata": {},
   "source": [
    "Построим  график **<span style=\"color:red\">относительного изменения кумулятивного среднего чека</span> группы \"B\" к группе \"A\"**, для этого:\n",
    "1. **объеденим** таблицы  cumulative_revenue_A и cumulative_revenue_B по столбцу date\n",
    "2. **разделим** средний чек группы \"В\" на средний чек группы \"А\"\n",
    "3. **построим график** "
   ]
  },
  {
   "cell_type": "code",
   "execution_count": 24,
   "metadata": {},
   "outputs": [],
   "source": [
    "cumulative_revenue = cumulative_revenue_A.merge(\n",
    "    cumulative_revenue_B, \n",
    "    left_on='date', \n",
    "    right_on='date', \n",
    "    how='left', \n",
    "    suffixes=['_A', '_B'])\n",
    "\n",
    "cumulative_revenue['average_check_relative'] = (\n",
    "    cumulative_revenue['average_check_B']/cumulative_revenue['average_check_A']\n",
    ")"
   ]
  },
  {
   "cell_type": "code",
   "execution_count": 25,
   "metadata": {},
   "outputs": [
    {
     "data": {
      "image/png": "[encoded data removed]",
      "text/plain": [
       "<Figure size 1080x576 with 1 Axes>"
      ]
     },
     "metadata": {
      "needs_background": "light"
     },
     "output_type": "display_data"
    }
   ],
   "source": [
    "cumulative_revenue.plot(x = 'date', \n",
    "                        y= 'average_check_relative', \n",
    "                        color='g', \n",
    "                        grid=True, \n",
    "                        figsize=(15, 8), \n",
    "                        label='Относительное изменение кумулятивного\\n среднего чека группы B к группе A')\n",
    "\n",
    "plt.title('График относительного изменения кумулятивного среднего чека группы B к группе A')\n",
    "plt.xlabel('Дата теста')\n",
    "plt.ylabel('Значение относительного изменения \\n кумулятивного среднего чека группы B к группе A')\n",
    "plt.axhline(\n",
    "    y=cumulative_revenue['average_check_relative'].mean(), \n",
    "    color='red', \n",
    "    linestyle='--')\n",
    "plt.show() "
   ]
  },
  {
   "cell_type": "markdown",
   "metadata": {},
   "source": [
    "**<span style=\"color:red\">Вывод</span>**:   \n",
    "\n",
    "**<span style=\"color:blue\">Относительное изменение кумулятивного среднего чека</span> группы \"B\" к группе \"A\"** в нескольких точках графика резко «скачет».    \n",
    "Следовательно, **при проведении теста были <span style=\"color:red\">крупные заказы (выбросы)!</span>**. Как было замечено ранее, данные аномалии **<span style=\"color:red\">необходимо</span>** при дальнейших расчетах **убирать.**"
   ]
  },
  {
   "cell_type": "markdown",
   "metadata": {},
   "source": [
    "### График кумулятивной конверсии по группам"
   ]
  },
  {
   "cell_type": "markdown",
   "metadata": {},
   "source": [
    "Построим  график **<span style=\"color:red\">кумулятивной конверсии по группам</span>**, для этого:\n",
    "1. **сделаем срез** по группам\n",
    "2. **разделим количество пользователей, совершивших хотя бы один заказ**, на **количество посетителей** интернет-магазина на указанную дату \n",
    "3. **построим график** кумулятивной конверсии по группам"
   ]
  },
  {
   "cell_type": "code",
   "execution_count": 26,
   "metadata": {},
   "outputs": [
    {
     "data": {
      "image/png": "[encoded data removed]",
      "text/plain": [
       "<Figure size 1080x576 with 1 Axes>"
      ]
     },
     "metadata": {
      "needs_background": "light"
     },
     "output_type": "display_data"
    }
   ],
   "source": [
    "cumulative_conversion_A = cumulative_data[cumulative_data['group']=='A'][['date','buyers', 'visitors']]\n",
    "cumulative_conversion_B = cumulative_data[cumulative_data['group']=='B'][['date','buyers', 'visitors']]\n",
    "\n",
    "cumulative_conversion_A['conversion'] = cumulative_conversion_A['buyers']/cumulative_conversion_A['visitors']\n",
    "cumulative_conversion_B['conversion'] = cumulative_conversion_B['buyers']/cumulative_conversion_B['visitors']\n",
    "\n",
    "ax = cumulative_conversion_A.plot(x = 'date', y= 'conversion', label='A', color='r', grid=True, figsize=(15, 8))\n",
    "cumulative_conversion_B.plot(x = 'date', y= 'conversion', label='B', color='b', grid=True, figsize=(15, 8), ax = ax)\n",
    "plt.title('Изменение кумулятивной конверсии групп по дням')\n",
    "plt.xlabel('Дата теста')\n",
    "plt.ylabel('Значение конверсии')\n",
    "plt.show() "
   ]
  },
  {
   "cell_type": "markdown",
   "metadata": {},
   "source": [
    "**<span style=\"color:red\">Вывод</span>**:   \n",
    "\n",
    "**<span style=\"color:red\">Значение кумулятивной конверсий</span>** группы \"А\" и \"В\" к концу теста **<span style=\"color:blue\">стабилизируется</span>** около значения 0.027 и 0.031 соответственно.\n",
    "По графику видно что **конверсия группы \"В\" **<span style=\"color:red\">больше</span>, чем группы \"А\"** - это хороший знак.\n"
   ]
  },
  {
   "cell_type": "markdown",
   "metadata": {},
   "source": [
    "### График относительного изменения кумулятивной конверсии группы B к группе A"
   ]
  },
  {
   "cell_type": "markdown",
   "metadata": {},
   "source": [
    "Построим  график **<span style=\"color:red\">относительного изменения кумулятивной конверсии</span> группы B к группе A**, для этого:\n",
    "1. **объеденим** таблицы  cumulative_conversion_А и cumulative_conversion_B по столбцу date\n",
    "2. **разделим** конверсию группы В на конверсию группы А и вычтем единицу\n",
    "3. **построим график** "
   ]
  },
  {
   "cell_type": "code",
   "execution_count": 27,
   "metadata": {},
   "outputs": [],
   "source": [
    "cumulative_conversion = cumulative_conversion_A.merge(\n",
    "    cumulative_conversion_B, \n",
    "    left_on='date', \n",
    "    right_on='date', \n",
    "    how='left', \n",
    "    suffixes=['_A', '_B'])\n",
    "\n",
    "cumulative_conversion['conversion_relative'] = (\n",
    "    cumulative_conversion['conversion_B']/cumulative_conversion['conversion_A'] - 1\n",
    ")\n"
   ]
  },
  {
   "cell_type": "code",
   "execution_count": 28,
   "metadata": {},
   "outputs": [
    {
     "data": {
      "image/png": "[encoded data removed]",
      "text/plain": [
       "<Figure size 1080x576 with 1 Axes>"
      ]
     },
     "metadata": {
      "needs_background": "light"
     },
     "output_type": "display_data"
    }
   ],
   "source": [
    "cumulative_conversion.plot(x = 'date', \n",
    "                        y= 'conversion_relative', \n",
    "                        color='g', \n",
    "                        grid=True, \n",
    "                        figsize=(15, 8), \n",
    "                        label='Относительное изменение кумулятивной\\n конверсии группы B к группе A')\n",
    "\n",
    "plt.title('График относительного изменения кумулятивной конверсии группы B к группе A')\n",
    "plt.xlabel('Дата теста')\n",
    "plt.ylabel('Значение относительного изменения \\n конверсии группы B к группе A')\n",
    "plt.axhline(\n",
    "    y= 0, \n",
    "    color='red', \n",
    "    linestyle='--')\n",
    "plt.axhline(\n",
    "    y= cumulative_conversion['conversion_relative'].median(), \n",
    "    color='black', \n",
    "    linestyle='--')\n",
    "plt.show() "
   ]
  },
  {
   "cell_type": "markdown",
   "metadata": {},
   "source": [
    "**<span style=\"color:red\">Вывод</span>**:\n",
    "\n",
    "Значения **относительного изменения кумулятивной конверсии <span style=\"color:red\">стабильно выше 0</span>**, следовательно группа \"B\" по конверсии **лучше** группы \"A\".   \n",
    "Предположительно значения под конец теста стремится к медианному значению, но колебания еще очень большие, следовательно сейчас делать какие-либо выводы нельзя, но возможно исключение аномалий изменят рассматриваемые показатели.   "
   ]
  },
  {
   "cell_type": "markdown",
   "metadata": {},
   "source": [
    "<div class=\"alert alert-success\">\n",
    "<h2> Комментарий ревьюера <a class=\"tocSkip\"> </h2>\n",
    "\n",
    "<b>Все отлично!👍:</b>\n",
    "    \n",
    "Николай, отличная работа! На этом шаге тебе удалось построить все необходимые графики, согласна с твоими выводами."
   ]
  },
  {
   "cell_type": "markdown",
   "metadata": {},
   "source": [
    "\n",
    "<div class=\"alert alert-warning\">\n",
    "    <h2> Комментарий ревьюера <a class=\"tocSkip\"> </h2>\n",
    "    \n",
    "<b>Некоторые замечания и рекомендации💡:</b>\n",
    "        \n",
    "Короткая рекомендация по оформлению визуализации: в графиках выше (и ниже) у тебя присутствуют технические строчки типа `<matplotlib.lines.Line2D at 0x7f5183944e90>` при выводе графиков. Их можно убрать, применив `plt.show()` или `;`"
   ]
  },
  {
   "cell_type": "markdown",
   "metadata": {},
   "source": [
    "<div class=\"alert alert-success\">\n",
    "<h2> Комментарий ревьюера: вторая итерация ревью<a class=\"tocSkip\"> </h2>\n",
    "\n",
    "<b>Все отлично!👍</b>\n",
    "    \n",
    "Здорово, что скорректировал вывод графиков, намного лучше!"
   ]
  },
  {
   "cell_type": "markdown",
   "metadata": {},
   "source": [
    "### Анализ выбросов и всплесков"
   ]
  },
  {
   "cell_type": "markdown",
   "metadata": {},
   "source": [
    "#### Определение границ аномальных пользователей"
   ]
  },
  {
   "cell_type": "markdown",
   "metadata": {},
   "source": [
    "Построим  гистограмму и **<span style=\"color:red\">точечный график количества заказов по пользователям</span>**, для этого:\n",
    "1. для удобства работы **создадим** новый датафрейм **orders_by_users** со **<span style=\"color:green\">столбцами</span> необходимыми** для расчета (**<span style=\"color:red\">transaction_id, visitor_id</span>**);\n",
    "2. **сгруппируем** по пользователям и посчитаем количество заказов методом nunique;\n",
    "3. **переименуем столбцы** user_id - пользователи, orders - количество заказов;\n",
    "4. **построим гистограмму** и **точечный график** количества заказов по пользователям"
   ]
  },
  {
   "cell_type": "code",
   "execution_count": 29,
   "metadata": {},
   "outputs": [],
   "source": [
    "orders_by_users = (\n",
    "    orders.drop(['group', 'revenue', 'date'], axis=1)\n",
    "    .groupby('visitor_id', as_index=False)\n",
    "    .agg({'transaction_id': pd.Series.nunique})\n",
    "    .sort_values(by='transaction_id', ascending=False)\n",
    ")\n",
    "\n",
    "orders_by_users.columns = ['user_id', 'orders']\n"
   ]
  },
  {
   "cell_type": "code",
   "execution_count": 30,
   "metadata": {},
   "outputs": [
    {
     "data": {
      "image/png": "[encoded data removed]",
      "text/plain": [
       "<Figure size 1080x576 with 1 Axes>"
      ]
     },
     "metadata": {
      "needs_background": "light"
     },
     "output_type": "display_data"
    }
   ],
   "source": [
    "orders_by_users['orders'].hist(bins=10, figsize=(15, 8))\n",
    "plt.title('Гистограмма распределения количества заказов на одного пользователя')\n",
    "plt.xlabel('Количество заказов')\n",
    "plt.ylabel('Частота количеств заказов')\n",
    "plt.show() "
   ]
  },
  {
   "cell_type": "markdown",
   "metadata": {},
   "source": [
    "Как видим из гистограммы, пользователи делали только по **одному** заказу.   \n",
    "Построим точечный график количества заказов по пользователям, для чего создадим столбец x_values (для оси Х)"
   ]
  },
  {
   "cell_type": "code",
   "execution_count": 31,
   "metadata": {},
   "outputs": [],
   "source": [
    "x_values = pd.Series(range(0,len(orders_by_users['orders'])))\n",
    "x_values.name = 'x_values'\n",
    "orders_by_users = orders_by_users.join(x_values)"
   ]
  },
  {
   "cell_type": "code",
   "execution_count": 32,
   "metadata": {},
   "outputs": [
    {
     "data": {
      "image/png": "[encoded data removed]",
      "text/plain": [
       "<Figure size 1080x576 with 1 Axes>"
      ]
     },
     "metadata": {
      "needs_background": "light"
     },
     "output_type": "display_data"
    }
   ],
   "source": [
    "orders_by_users.plot(kind='scatter', x = 'x_values', y = 'orders', figsize=(15, 8))\n",
    "plt.title('Точечный график количества заказов по пользователям')\n",
    "plt.xlabel('Пользователи')\n",
    "plt.ylabel('Количество заказов')\n",
    "plt.show() "
   ]
  },
  {
   "cell_type": "markdown",
   "metadata": {},
   "source": [
    "Вывод сделанный при рассмотрении гистограммы  подтверждаются: пользователи делали только **один заказ** \n",
    "То есть по количеству заказов ** аномалий <span style=\"color:red\">нет</span>** - **результат исключения пользователей входящих одновременно в обе группы** "
   ]
  },
  {
   "cell_type": "markdown",
   "metadata": {},
   "source": [
    "Расчитаем 95-й и 99-й перцентили количества заказов на пользователя (**Но уже в этом необходимости нет**)"
   ]
  },
  {
   "cell_type": "code",
   "execution_count": 33,
   "metadata": {},
   "outputs": [
    {
     "data": {
      "text/plain": [
       "array([1., 1.])"
      ]
     },
     "execution_count": 33,
     "metadata": {},
     "output_type": "execute_result"
    }
   ],
   "source": [
    "np.percentile(orders_by_users['orders'], [95, 99])"
   ]
  },
  {
   "cell_type": "markdown",
   "metadata": {},
   "source": [
    "**<span style=\"color:red\">Вывод</span>**:\n",
    "\n",
    "**<span style=\"color:blue\">Аномальными</span>** пользователей совершивших **<span style=\"color:blue\">большое количество</span>** заказов **<span style=\"color:red\">НЕТ</span>**"
   ]
  },
  {
   "cell_type": "markdown",
   "metadata": {},
   "source": [
    "#### Определение границ аномальных заказов"
   ]
  },
  {
   "cell_type": "markdown",
   "metadata": {},
   "source": [
    "Построим  гистограмму и **<span style=\"color:red\">точечный график стоимостей заказов</span>**"
   ]
  },
  {
   "cell_type": "code",
   "execution_count": 34,
   "metadata": {},
   "outputs": [
    {
     "data": {
      "text/html": [
       "<div>\n",
       "<style scoped>\n",
       "    .dataframe tbody tr th:only-of-type {\n",
       "        vertical-align: middle;\n",
       "    }\n",
       "\n",
       "    .dataframe tbody tr th {\n",
       "        vertical-align: top;\n",
       "    }\n",
       "\n",
       "    .dataframe thead th {\n",
       "        text-align: right;\n",
       "    }\n",
       "</style>\n",
       "<table border=\"1\" class=\"dataframe\">\n",
       "  <thead>\n",
       "    <tr style=\"text-align: right;\">\n",
       "      <th></th>\n",
       "      <th>transaction_id</th>\n",
       "      <th>visitor_id</th>\n",
       "      <th>date</th>\n",
       "      <th>revenue</th>\n",
       "      <th>group</th>\n",
       "    </tr>\n",
       "  </thead>\n",
       "  <tbody>\n",
       "    <tr>\n",
       "      <td>0</td>\n",
       "      <td>3667963787</td>\n",
       "      <td>3.66796e+09</td>\n",
       "      <td>2019-08-15</td>\n",
       "      <td>1650</td>\n",
       "      <td>B</td>\n",
       "    </tr>\n",
       "    <tr>\n",
       "      <td>1</td>\n",
       "      <td>2804400009</td>\n",
       "      <td>2.8044e+09</td>\n",
       "      <td>2019-08-15</td>\n",
       "      <td>730</td>\n",
       "      <td>B</td>\n",
       "    </tr>\n",
       "    <tr>\n",
       "      <td>3</td>\n",
       "      <td>3797467345</td>\n",
       "      <td>3.79747e+09</td>\n",
       "      <td>2019-08-15</td>\n",
       "      <td>9759</td>\n",
       "      <td>B</td>\n",
       "    </tr>\n",
       "    <tr>\n",
       "      <td>4</td>\n",
       "      <td>2282983706</td>\n",
       "      <td>2.28298e+09</td>\n",
       "      <td>2019-08-15</td>\n",
       "      <td>2308</td>\n",
       "      <td>B</td>\n",
       "    </tr>\n",
       "    <tr>\n",
       "      <td>5</td>\n",
       "      <td>182168103</td>\n",
       "      <td>1.82168e+08</td>\n",
       "      <td>2019-08-15</td>\n",
       "      <td>2210</td>\n",
       "      <td>B</td>\n",
       "    </tr>\n",
       "  </tbody>\n",
       "</table>\n",
       "</div>"
      ],
      "text/plain": [
       "   transaction_id   visitor_id       date  revenue group\n",
       "0      3667963787  3.66796e+09 2019-08-15     1650     B\n",
       "1      2804400009   2.8044e+09 2019-08-15      730     B\n",
       "3      3797467345  3.79747e+09 2019-08-15     9759     B\n",
       "4      2282983706  2.28298e+09 2019-08-15     2308     B\n",
       "5       182168103  1.82168e+08 2019-08-15     2210     B"
      ]
     },
     "execution_count": 34,
     "metadata": {},
     "output_type": "execute_result"
    }
   ],
   "source": [
    "orders.head()"
   ]
  },
  {
   "cell_type": "code",
   "execution_count": 35,
   "metadata": {},
   "outputs": [
    {
     "data": {
      "image/png": "[encoded data removed]",
      "text/plain": [
       "<Figure size 1080x576 with 1 Axes>"
      ]
     },
     "metadata": {
      "needs_background": "light"
     },
     "output_type": "display_data"
    }
   ],
   "source": [
    "orders['revenue'].hist(bins=20, figsize=(15, 8))\n",
    "plt.title('Гистограмма распределения стоимости заказов')\n",
    "plt.xlabel('Стоимость заказов')\n",
    "plt.ylabel('Частота заказов с указанной стоимостью')\n",
    "plt.show() "
   ]
  },
  {
   "cell_type": "markdown",
   "metadata": {},
   "source": [
    "Из гистограммы видны заказы со **стоимостью более 50000** - это **явно аномальные** заказы. Посмотрим точечный график. "
   ]
  },
  {
   "cell_type": "code",
   "execution_count": 36,
   "metadata": {},
   "outputs": [
    {
     "data": {
      "image/png": "[encoded data removed]",
      "text/plain": [
       "<Figure size 1080x576 with 1 Axes>"
      ]
     },
     "metadata": {
      "needs_background": "light"
     },
     "output_type": "display_data"
    }
   ],
   "source": [
    "x_values = pd.Series(range(0,len(orders['revenue'])))\n",
    "x_values.name = 'x_values'\n",
    "orders_revenue = orders.join(x_values)\n",
    "\n",
    "orders_revenue.plot(kind='scatter', x = 'x_values', y = 'revenue', figsize=(15, 8))\n",
    "plt.title('Точечный график стоимостей заказов')\n",
    "plt.xlabel('Заказы')\n",
    "plt.ylabel('Стоиммость заказов')\n",
    "plt.axhline(\n",
    "    y= 30000, \n",
    "    color='red', \n",
    "    linestyle='--')\n",
    "plt.show() "
   ]
  },
  {
   "cell_type": "markdown",
   "metadata": {},
   "source": [
    "Большинство заказов лежат в области **ниже 30000**, расчитаем 95-й и 99-й перцентили суммы заказов"
   ]
  },
  {
   "cell_type": "code",
   "execution_count": 37,
   "metadata": {},
   "outputs": [
    {
     "data": {
      "text/plain": [
       "array([26785., 53904.])"
      ]
     },
     "execution_count": 37,
     "metadata": {},
     "output_type": "execute_result"
    }
   ],
   "source": [
    "np.percentile(orders_revenue['revenue'], [95, 99])"
   ]
  },
  {
   "cell_type": "markdown",
   "metadata": {},
   "source": [
    "Менее 5% совершены заказы на сумму более 26785 и менее 1% - на сумму более 53904 *(значения уменьшились из-за **исключения пользователей, входящих одновременно в обе группы** на этапе предобработке данных)* \n",
    "\n",
    "**<span style=\"color:red\">Вывод</span>**:\n",
    "\n",
    "**<span style=\"color:blue\">Аномальными</span>**  будем считать заказы на сумму **<span style=\"color:blue\">более 26785</span>**"
   ]
  },
  {
   "cell_type": "markdown",
   "metadata": {},
   "source": [
    "#### Вывод"
   ]
  },
  {
   "cell_type": "markdown",
   "metadata": {},
   "source": [
    "**<span style=\"color:red\">Вывод</span>**: \n",
    "По результатам визуального анализа A/B-теста видно, что в данных, есть **выбросы**;\n",
    "\n",
    "Рассчитав 95-й  перцентиль определили **границу аномалий** - заказы на сумму **<span style=\"color:blue\">более 26785</span>**"
   ]
  },
  {
   "cell_type": "markdown",
   "metadata": {},
   "source": [
    "<div class=\"alert alert-success\">\n",
    "<h2> Комментарий ревьюера <a class=\"tocSkip\"> </h2>\n",
    "\n",
    "<b>Все отлично!👍:</b>\n",
    "    \n",
    "В целом, границы выбросов определены верно!"
   ]
  },
  {
   "cell_type": "markdown",
   "metadata": {},
   "source": [
    "\n",
    "<div class=\"alert alert-warning\">\n",
    "    <h2> Комментарий ревьюера <a class=\"tocSkip\"> </h2>\n",
    "    \n",
    "<b>Некоторые замечания и рекомендации💡:</b>\n",
    "        \n",
    "Один момент: если ты все же обнаружишь пользователей, попавших в обе группы и попробуешь их удалить, границы выбросов могут измениться."
   ]
  },
  {
   "cell_type": "markdown",
   "metadata": {},
   "source": [
    "<div class=\"alert alert-success\">\n",
    "<h2> Комментарий ревьюера: вторая итерация ревью<a class=\"tocSkip\"> </h2>\n",
    "\n",
    "<b>Все отлично!👍</b>\n",
    "    \n",
    "Границы выбросов определены более корректно!"
   ]
  },
  {
   "cell_type": "markdown",
   "metadata": {},
   "source": [
    "### Статистическая значимость различий в конверсии и в среднем чеке заказа  "
   ]
  },
  {
   "cell_type": "markdown",
   "metadata": {},
   "source": [
    "Для **удобства дальнейшего анализа** создадим таблицу total_data в которой расчитаем для групп:\n",
    "- количество заказов в выбранную дату; \n",
    "- суммарную выручку в выбранную дату;\n",
    "- количество пользователей в выбранную дату;\n",
    "- суммарное число заказов до выбранной даты включительно;\n",
    "- суммарную выручку до выбранной даты включительно;\n",
    "- количество пользователей до выбранной даты включительно,\n",
    "для чего:\n",
    "1. **создадим** таблицу **orders_per_date** (с количеством заказов и суммарной выручкой в выбранную дату), **сделаем срезы по группам;\n",
    "2. **создадим** таблицу **visitors_per_date** (с количеством пользователей в выбранную дату) и сделаем срез по группам \n",
    "3. используя комулятивные данные таблицы cumulative_data **сделаем срез** по группам"
   ]
  },
  {
   "cell_type": "code",
   "execution_count": 38,
   "metadata": {},
   "outputs": [],
   "source": [
    "orders_per_date = orders.groupby(['date', 'group'], as_index=False\n",
    ").agg({\n",
    "    'transaction_id': pd.Series.nunique,\n",
    "    'visitor_id': pd.Series.nunique,\n",
    "    'revenue': 'sum'}\n",
    ").rename(\n",
    "    columns={'transaction_id':'orders_per_date', \n",
    "             'visitor_id':'buyers_per_date', \n",
    "             'revenue':'revenue_per_date'})"
   ]
  },
  {
   "cell_type": "code",
   "execution_count": 39,
   "metadata": {},
   "outputs": [],
   "source": [
    "orders_per_date_A = orders_per_date[orders_per_date['group']=='A'][[\n",
    "    'date', \n",
    "    'orders_per_date',\n",
    "    'revenue_per_date']]\n",
    "orders_per_date_B = orders_per_date[orders_per_date['group']=='B'][[\n",
    "    'date', \n",
    "    'orders_per_date', \n",
    "    'revenue_per_date']]"
   ]
  },
  {
   "cell_type": "code",
   "execution_count": 40,
   "metadata": {},
   "outputs": [],
   "source": [
    "visitors_per_date_A = visitors[visitors['group']=='A'][[\n",
    "    'date', \n",
    "    'visitors']\n",
    "].rename(\n",
    "    columns={'visitors':'visitors_per_date'})\n",
    "visitors_per_date_B = visitors[visitors['group']=='B'][[\n",
    "    'date', \n",
    "    'visitors']\n",
    "].rename(\n",
    "    columns={'visitors':'visitors_per_date'})"
   ]
  },
  {
   "cell_type": "code",
   "execution_count": 41,
   "metadata": {},
   "outputs": [],
   "source": [
    "cumulative_data= cumulative_data.rename(\n",
    "    columns={'orders':'orders_cummulative', \n",
    "             'buyers':'buyers_cummulative', \n",
    "             'revenue':'revenue_cummulative',\n",
    "             'visitors': 'visitors_cummulative'})"
   ]
  },
  {
   "cell_type": "code",
   "execution_count": 42,
   "metadata": {},
   "outputs": [],
   "source": [
    "cumulative_data_A = cumulative_data[cumulative_data['group']=='A'][['date', \n",
    "                                                                    'orders_cummulative',\n",
    "                                                                    'revenue_cummulative',\n",
    "                                                                    'visitors_cummulative']]\n",
    "cumulative_data_B = cumulative_data[cumulative_data['group']=='B'][['date', \n",
    "                                                                    'orders_cummulative',\n",
    "                                                                    'revenue_cummulative',\n",
    "                                                                    'visitors_cummulative']]\n"
   ]
  },
  {
   "cell_type": "markdown",
   "metadata": {},
   "source": [
    "4. **объеденим** все данные в общую таблицу"
   ]
  },
  {
   "cell_type": "code",
   "execution_count": 43,
   "metadata": {},
   "outputs": [],
   "source": [
    "data_A = (orders_per_date_A.merge(visitors_per_date_A, on='date')).merge(cumulative_data_A, on='date') \n",
    "data_B = (orders_per_date_B.merge(visitors_per_date_B, on='date')).merge(cumulative_data_B, on='date') \n",
    "data_total = data_A.merge(data_B, left_on='date', right_on='date', how='left', suffixes=['_A', '_B'])"
   ]
  },
  {
   "cell_type": "code",
   "execution_count": 44,
   "metadata": {
    "scrolled": false
   },
   "outputs": [
    {
     "data": {
      "text/html": [
       "<div>\n",
       "<style scoped>\n",
       "    .dataframe tbody tr th:only-of-type {\n",
       "        vertical-align: middle;\n",
       "    }\n",
       "\n",
       "    .dataframe tbody tr th {\n",
       "        vertical-align: top;\n",
       "    }\n",
       "\n",
       "    .dataframe thead th {\n",
       "        text-align: right;\n",
       "    }\n",
       "</style>\n",
       "<table border=\"1\" class=\"dataframe\">\n",
       "  <thead>\n",
       "    <tr style=\"text-align: right;\">\n",
       "      <th></th>\n",
       "      <th>date</th>\n",
       "      <th>orders_per_date_A</th>\n",
       "      <th>revenue_per_date_A</th>\n",
       "      <th>visitors_per_date_A</th>\n",
       "      <th>orders_cummulative_A</th>\n",
       "      <th>revenue_cummulative_A</th>\n",
       "      <th>visitors_cummulative_A</th>\n",
       "      <th>orders_per_date_B</th>\n",
       "      <th>revenue_per_date_B</th>\n",
       "      <th>visitors_per_date_B</th>\n",
       "      <th>orders_cummulative_B</th>\n",
       "      <th>revenue_cummulative_B</th>\n",
       "      <th>visitors_cummulative_B</th>\n",
       "    </tr>\n",
       "  </thead>\n",
       "  <tbody>\n",
       "    <tr>\n",
       "      <td>0</td>\n",
       "      <td>2019-08-01</td>\n",
       "      <td>23</td>\n",
       "      <td>142779</td>\n",
       "      <td>719</td>\n",
       "      <td>23</td>\n",
       "      <td>142779</td>\n",
       "      <td>719</td>\n",
       "      <td>17</td>\n",
       "      <td>59758</td>\n",
       "      <td>713</td>\n",
       "      <td>17</td>\n",
       "      <td>59758</td>\n",
       "      <td>713</td>\n",
       "    </tr>\n",
       "    <tr>\n",
       "      <td>1</td>\n",
       "      <td>2019-08-02</td>\n",
       "      <td>19</td>\n",
       "      <td>91602</td>\n",
       "      <td>619</td>\n",
       "      <td>42</td>\n",
       "      <td>234381</td>\n",
       "      <td>1338</td>\n",
       "      <td>23</td>\n",
       "      <td>162043</td>\n",
       "      <td>581</td>\n",
       "      <td>40</td>\n",
       "      <td>221801</td>\n",
       "      <td>1294</td>\n",
       "    </tr>\n",
       "    <tr>\n",
       "      <td>2</td>\n",
       "      <td>2019-08-03</td>\n",
       "      <td>24</td>\n",
       "      <td>112473</td>\n",
       "      <td>507</td>\n",
       "      <td>66</td>\n",
       "      <td>346854</td>\n",
       "      <td>1845</td>\n",
       "      <td>14</td>\n",
       "      <td>67049</td>\n",
       "      <td>509</td>\n",
       "      <td>54</td>\n",
       "      <td>288850</td>\n",
       "      <td>1803</td>\n",
       "    </tr>\n",
       "    <tr>\n",
       "      <td>3</td>\n",
       "      <td>2019-08-04</td>\n",
       "      <td>11</td>\n",
       "      <td>41176</td>\n",
       "      <td>717</td>\n",
       "      <td>77</td>\n",
       "      <td>388030</td>\n",
       "      <td>2562</td>\n",
       "      <td>14</td>\n",
       "      <td>96890</td>\n",
       "      <td>770</td>\n",
       "      <td>68</td>\n",
       "      <td>385740</td>\n",
       "      <td>2573</td>\n",
       "    </tr>\n",
       "    <tr>\n",
       "      <td>4</td>\n",
       "      <td>2019-08-05</td>\n",
       "      <td>22</td>\n",
       "      <td>86383</td>\n",
       "      <td>756</td>\n",
       "      <td>99</td>\n",
       "      <td>474413</td>\n",
       "      <td>3318</td>\n",
       "      <td>21</td>\n",
       "      <td>89908</td>\n",
       "      <td>707</td>\n",
       "      <td>89</td>\n",
       "      <td>475648</td>\n",
       "      <td>3280</td>\n",
       "    </tr>\n",
       "  </tbody>\n",
       "</table>\n",
       "</div>"
      ],
      "text/plain": [
       "        date  orders_per_date_A  revenue_per_date_A  visitors_per_date_A  \\\n",
       "0 2019-08-01                 23              142779                  719   \n",
       "1 2019-08-02                 19               91602                  619   \n",
       "2 2019-08-03                 24              112473                  507   \n",
       "3 2019-08-04                 11               41176                  717   \n",
       "4 2019-08-05                 22               86383                  756   \n",
       "\n",
       "   orders_cummulative_A  revenue_cummulative_A  visitors_cummulative_A  \\\n",
       "0                    23                 142779                     719   \n",
       "1                    42                 234381                    1338   \n",
       "2                    66                 346854                    1845   \n",
       "3                    77                 388030                    2562   \n",
       "4                    99                 474413                    3318   \n",
       "\n",
       "   orders_per_date_B  revenue_per_date_B  visitors_per_date_B  \\\n",
       "0                 17               59758                  713   \n",
       "1                 23              162043                  581   \n",
       "2                 14               67049                  509   \n",
       "3                 14               96890                  770   \n",
       "4                 21               89908                  707   \n",
       "\n",
       "   orders_cummulative_B  revenue_cummulative_B  visitors_cummulative_B  \n",
       "0                    17                  59758                     713  \n",
       "1                    40                 221801                    1294  \n",
       "2                    54                 288850                    1803  \n",
       "3                    68                 385740                    2573  \n",
       "4                    89                 475648                    3280  "
      ]
     },
     "execution_count": 44,
     "metadata": {},
     "output_type": "execute_result"
    }
   ],
   "source": [
    "data_total.head()"
   ]
  },
  {
   "cell_type": "markdown",
   "metadata": {},
   "source": [
    "#### Статистическая значимость различия в конверсии между группами по \"сырым\" данным"
   ]
  },
  {
   "cell_type": "markdown",
   "metadata": {},
   "source": [
    "<div class=\"alert alert-info\">\n",
    "Перед расчетом статистической значимости различия в конверсии между группами сформулируем нулевую гипотезу:   \n",
    "H₀ - статистических различий в конверсиях групп А и В нет. Конверсии ровны.    \n",
    "Альтернативная гипотеза:   \n",
    "H₁ - статистические различия в конверсиях групп А и В есть. Конверсии отличаются. "
   ]
  },
  {
   "cell_type": "markdown",
   "metadata": {},
   "source": [
    "Рассчитаем **<span style=\"color:blue\">статистическую значимость различия в конверсии</span>** между группами.\n",
    "**Создадим переменные orders_by_users_A и orders_by_users_B** со столбцами 'user_id', 'orders'. В них для пользователей, которые совершали заказ, укажем число совершённых заказов."
   ]
  },
  {
   "cell_type": "code",
   "execution_count": 45,
   "metadata": {},
   "outputs": [],
   "source": [
    "orders_by_users_A = (\n",
    "    orders[orders['group'] == 'A']\n",
    "    .groupby('visitor_id', as_index=False)\n",
    "    .agg({'transaction_id': pd.Series.nunique})\n",
    ")\n",
    "orders_by_users_A.columns = ['user_id', 'orders']\n",
    "orders_by_users_B = (\n",
    "    orders[orders['group'] == 'B']\n",
    "    .groupby('visitor_id', as_index=False)\n",
    "    .agg({'transaction_id': pd.Series.nunique})\n",
    ")\n",
    "orders_by_users_B.columns = ['user_id', 'orders']"
   ]
  },
  {
   "cell_type": "markdown",
   "metadata": {},
   "source": [
    "**Объявим переменные sampleA и sampleB**, в которых пользователям из разных групп будет соответствовать количество заказов. *Тем, кто ничего не заказал, будут соответствовать нули*"
   ]
  },
  {
   "cell_type": "code",
   "execution_count": 46,
   "metadata": {},
   "outputs": [],
   "source": [
    "sampleA = pd.concat(\n",
    "[\n",
    "    orders_by_users_A['orders'],\n",
    "    pd.Series(\n",
    "        0, \n",
    "        index=np.arange(data_total['visitors_per_date_A'].sum() - len(orders_by_users_A['orders'])),\n",
    "        name='orders')\n",
    "],\n",
    "    axis=0)\n",
    "\n",
    "sampleB = pd.concat(\n",
    "[\n",
    "    orders_by_users_B['orders'],\n",
    "    pd.Series(\n",
    "        0, \n",
    "        index=np.arange(data_total['visitors_per_date_B'].sum() - len(orders_by_users_B['orders'])),\n",
    "        name='orders')\n",
    "],\n",
    "    axis=0)"
   ]
  },
  {
   "cell_type": "markdown",
   "metadata": {},
   "source": [
    "Применяя тест Манна-Уитни, **определим <span style=\"color:red\">статистическую значимость различия конверсии</span>** и **рассчитаем <span style=\"color:blue\">относительное различие в конверсии</span>** между группами"
   ]
  },
  {
   "cell_type": "code",
   "execution_count": 47,
   "metadata": {},
   "outputs": [
    {
     "name": "stdout",
     "output_type": "stream",
     "text": [
      "P-value: 0.01685\n",
      "По сырым данным статистически значимые различия в конверсии между группами есть\n",
      "\n",
      "Прирост конверсии группы B относительно конверсии группы А равен 16.0%\n"
     ]
    }
   ],
   "source": [
    "alpha = 0.05\n",
    "results = stats.mannwhitneyu(sampleA, sampleB, alternative=\"two-sided\")[1]\n",
    "print('P-value: {:.5f}'.format(results))\n",
    "if results < alpha:\n",
    "    print('По сырым данным статистически значимые различия в конверсии между группами есть')\n",
    "else:    \n",
    "    print('По сырым данным статистически значимых различий в конверсии между группами нет')\n",
    "\n",
    "\n",
    "if (sampleB.mean() / sampleA.mean() - 1) >= 0:\n",
    "    print('\\nПрирост конверсии группы B относительно конверсии группы А равен {:.1%}'\n",
    "          .format((sampleB.mean() / sampleA.mean() - 1)))\n",
    "else:\n",
    "    print('\\nСнижение конверсии группы B относительно конверсии группы А составляет {:.1%}'\n",
    "          .format(abs(sampleB.mean() / sampleA.mean() - 1)))\n",
    "\n",
    "    \n"
   ]
  },
  {
   "cell_type": "markdown",
   "metadata": {},
   "source": [
    " **<span style=\"color:red\">Вывод</span>:**   \n",
    "\n",
    "p-value = 0.01685 меньше 0.05. Значит, нулевую гипотезу о том, что статистически значимых различий в конверсии между группами нет, отвергаем. **<span style=\"color:red\">Различия между конверсиями групп В и А существуют</span>**   \n",
    "**Относительный прирост** конверсии группы B к конверсии группы А равен 16.0%."
   ]
  },
  {
   "cell_type": "markdown",
   "metadata": {},
   "source": [
    "#### Статистическая значимость различия в среднем чеке заказа между группами по \"сырым\" данным"
   ]
  },
  {
   "cell_type": "markdown",
   "metadata": {},
   "source": [
    "<div class=\"alert alert-info\">\n",
    "Сформулируем нулевую гипотезу:   \n",
    "H₀ - статистических различий в значениях средних чеков групп А и В нет. Средние чеки ровны.    \n",
    "Альтернативная гипотеза:   \n",
    "H₁ - статистические различия в значениях средних чеков групп А и В есть. Средние чеки отличаются. "
   ]
  },
  {
   "cell_type": "markdown",
   "metadata": {},
   "source": [
    "Применяя тест Манна-Уитни, **определим <span style=\"color:red\">статистическую значимость различия значений среднего чека</span>** и **рассчитаем <span style=\"color:blue\">относительное различие значений среднего чека</span>** между группами по \"сырым\" данным"
   ]
  },
  {
   "cell_type": "code",
   "execution_count": 48,
   "metadata": {},
   "outputs": [
    {
     "name": "stdout",
     "output_type": "stream",
     "text": [
      "P-value: 0.82949\n",
      "По сырым данным статистически значимых различий значений среднего чека между группами нет\n",
      "\n",
      "Прирост значения среднего чека группы B относительно среднего чека группы А равен 28.7%\n"
     ]
    }
   ],
   "source": [
    "results = stats.mannwhitneyu(\n",
    "    orders[orders['group']=='A']['revenue'], \n",
    "    orders[orders['group']=='B']['revenue'],\n",
    "    alternative=\"two-sided\"\n",
    ")[1]\n",
    "print('P-value: {:.5f}'.format(results))\n",
    "if results < alpha:\n",
    "    print('По сырым данным существуют статистически значимые различия значения среднего чека между группами')\n",
    "else:    \n",
    "    print('По сырым данным статистически значимых различий значений среднего чека между группами нет')\n",
    "\n",
    "    \n",
    "if (orders[orders['group']=='B']['revenue'].mean()/orders[orders['group']=='A']['revenue'].mean()-1) >= 0:\n",
    "    print('\\nПрирост значения среднего чека группы B относительно среднего чека группы А равен {:.1%}'\n",
    "          .format(\n",
    "              orders[orders['group']=='B']['revenue'].mean()/orders[orders['group']=='A']['revenue'].mean()-1\n",
    "          )\n",
    "         )\n",
    "else:\n",
    "    print('\\nСнижение значения среднего чека группы B относительно среднего чека группы А составляет {:.1%}'\n",
    "          .format(\n",
    "              abs(orders[orders['group']=='B']['revenue'].mean()/orders[orders['group']=='A']['revenue'].mean()-1)\n",
    "          )\n",
    "         )\n",
    "    "
   ]
  },
  {
   "cell_type": "markdown",
   "metadata": {},
   "source": [
    "**<span style=\"color:red\">Вывод</span>:**   \n",
    "\n",
    "p-value = 0.82949 больше 0.05. Значит, **нулевую гипотезу** о том, что статистически значимых различий в значениях среднего чека между группами нет, **не отвергаем**. **<span style=\"color:red\">Различий между значениями среднего чека групп В и А нет</span>**   \n",
    "Вместе с тем виден **значительное превышение** среднего чека группы B над средним чеком группы А равен (28.7%). Вероятней всего на эти данные влияют анномальные суммы заказов."
   ]
  },
  {
   "cell_type": "markdown",
   "metadata": {},
   "source": [
    "#### Статистическая значимость различия в конверсии между группами по \"очищенным\" данным"
   ]
  },
  {
   "cell_type": "markdown",
   "metadata": {},
   "source": [
    "**Рассчитаем <span style=\"color:red\">статистическую значимость различия конверсии</span>** между группами **по «очищенным» данным**, для чего:\n",
    "1. **сделаем срезы пользователей**, совершивших **заказы дороже более 26785** — users_with_expensive_orders"
   ]
  },
  {
   "cell_type": "code",
   "execution_count": 49,
   "metadata": {},
   "outputs": [
    {
     "name": "stdout",
     "output_type": "stream",
     "text": [
      "Всего 51 аномальных пользователей\n"
     ]
    }
   ],
   "source": [
    "users_with_expensive_orders = orders[orders['revenue'] > 26785]['visitor_id']\n",
    "print('Всего {} аномальных пользователей'.format(len(users_with_expensive_orders)))"
   ]
  },
  {
   "cell_type": "markdown",
   "metadata": {},
   "source": [
    "2. **подготовим выборки количества заказов** по пользователям по группам теста\n",
    "4. применяя тест Манна-Уитни, **определим <span style=\"color:red\">статистическую значимость различия конверсии</span>** и **рассчитаем <span style=\"color:blue\">относительное различие в конверсии</span>** между группами"
   ]
  },
  {
   "cell_type": "code",
   "execution_count": 50,
   "metadata": {},
   "outputs": [],
   "source": [
    "sampleA_filtered = pd.concat(\n",
    "[\n",
    "    orders_by_users_A[np.logical_not(orders_by_users_A['user_id'].isin(users_with_expensive_orders))]['orders'],\n",
    "    pd.Series(\n",
    "        0, \n",
    "        index=np.arange(data_total['visitors_per_date_A'].sum() - len(orders_by_users_A['orders'])),\n",
    "        name='orders')\n",
    "],\n",
    "    axis=0)\n",
    "\n",
    "sampleB_filtered = pd.concat(\n",
    "[\n",
    "    orders_by_users_B[np.logical_not(orders_by_users_B['user_id'].isin(users_with_expensive_orders))]['orders'],\n",
    "    pd.Series(\n",
    "        0, \n",
    "        index=np.arange(data_total['visitors_per_date_B'].sum() - len(orders_by_users_B['orders'])),\n",
    "        name='orders')\n",
    "],\n",
    "    axis=0)"
   ]
  },
  {
   "cell_type": "code",
   "execution_count": 51,
   "metadata": {},
   "outputs": [
    {
     "data": {
      "text/plain": [
       "0        1\n",
       "1        1\n",
       "2        1\n",
       "3        1\n",
       "4        1\n",
       "        ..\n",
       "18263    0\n",
       "18264    0\n",
       "18265    0\n",
       "18266    0\n",
       "18267    0\n",
       "Name: orders, Length: 18714, dtype: int64"
      ]
     },
     "execution_count": 51,
     "metadata": {},
     "output_type": "execute_result"
    }
   ],
   "source": [
    "sampleA_filtered "
   ]
  },
  {
   "cell_type": "code",
   "execution_count": 52,
   "metadata": {},
   "outputs": [
    {
     "name": "stdout",
     "output_type": "stream",
     "text": [
      "P-value: 0.02536\n",
      "По очищенным данным статистически значимые различия в конверсии между группами есть\n",
      "\n",
      "Прирост конверсии группы B относительно конверсии группы А равен 15.3%\n"
     ]
    }
   ],
   "source": [
    "results = stats.mannwhitneyu(sampleA_filtered, sampleB_filtered, alternative=\"two-sided\")[1]\n",
    "print('P-value: {:.5f}'.format(results))\n",
    "if results < alpha:\n",
    "    print('По очищенным данным статистически значимые различия в конверсии между группами есть')\n",
    "else:    \n",
    "    print('По очищенным данным статистически значимых различий в конверсии между группами нет')\n",
    "\n",
    "\n",
    "if (sampleB_filtered.mean() / sampleA_filtered.mean() - 1) >= 0:\n",
    "    print('\\nПрирост конверсии группы B относительно конверсии группы А равен {:.1%}'\n",
    "          .format((sampleB_filtered.mean() / sampleA_filtered.mean() - 1)))\n",
    "else:\n",
    "    print('\\nСнижение конверсии группы B относительно конверсии группы А составляет {:.1%}'\n",
    "          .format(abs(sampleB_filtered.mean() / sampleA_filtered.mean() - 1)))"
   ]
  },
  {
   "cell_type": "markdown",
   "metadata": {},
   "source": [
    "**<span style=\"color:red\">Вывод</span>:**   \n",
    "По \"очищенным\" данным P-value тоже меньше 0.05, что подтверждает **<span style=\"color:red\">различия между конверсиями групп \"В\" и \"А\" существуют</span>**   \n",
    "**относительный <span style=\"color:red\">прирост</span> конверсии** группы \"B\" к конверсии группы \"А\" **составляет до 15.3%** "
   ]
  },
  {
   "cell_type": "markdown",
   "metadata": {},
   "source": [
    "#### Статистическая значимость различия в среднем чеке заказа между группами по \"сырым\" данным"
   ]
  },
  {
   "cell_type": "markdown",
   "metadata": {},
   "source": [
    "Посмотрим,как **исключение аномалий повлияло** на **<span style=\"color:red\">статистическую значимость различия значений среднего чека</span>** и  **<span style=\"color:blue\">относительное различие значений среднего чека</span>** между группами "
   ]
  },
  {
   "cell_type": "code",
   "execution_count": 53,
   "metadata": {},
   "outputs": [
    {
     "name": "stdout",
     "output_type": "stream",
     "text": [
      "P-value: 0.69868\n",
      "По очищенным данным статистически значимых различий значений среднего чека между группами нет\n",
      "\n",
      "Снижение значения среднего чека группы B относительно среднего чека группы А составляет 5.9%\n"
     ]
    }
   ],
   "source": [
    "results = stats.mannwhitneyu(\n",
    "    orders[\n",
    "        np.logical_and(\n",
    "                    orders['group'] == 'A',\n",
    "                    np.logical_not(orders['visitor_id'].isin(users_with_expensive_orders))\n",
    "                )\n",
    "    ]['revenue'], \n",
    "    orders[\n",
    "        np.logical_and(\n",
    "                    orders['group'] == 'B',\n",
    "                    np.logical_not(orders['visitor_id'].isin(users_with_expensive_orders))\n",
    "                )\n",
    "    ]['revenue'],\n",
    "    alternative=\"two-sided\"\n",
    ")[1]\n",
    "print('P-value: {:.5f}'.format(results))\n",
    "if results < alpha:\n",
    "    print('По очищенным данным существуют статистически значимые различия значения среднего чека между группами')\n",
    "else:    \n",
    "    print('По очищенным данным статистически значимых различий значений среднего чека между группами нет')\n",
    "\n",
    "    \n",
    "if (orders[\n",
    "    np.logical_and(\n",
    "                    orders['group'] == 'B',\n",
    "                    np.logical_not(orders['visitor_id'].isin(users_with_expensive_orders))\n",
    "                )\n",
    "]['revenue'].mean()/orders[\n",
    "    np.logical_and(\n",
    "                    orders['group'] == 'A',\n",
    "                    np.logical_not(orders['visitor_id'].isin(users_with_expensive_orders))\n",
    "                )\n",
    "]['revenue'].mean()-1) >= 0:\n",
    "    print('\\nПрирост значения среднего чека группы B относительно среднего чека группы А равен {:.1%}'\n",
    "          .format(\n",
    "              orders[\n",
    "    np.logical_and(\n",
    "                    orders['group'] == 'B',\n",
    "                    np.logical_not(orders['visitor_id'].isin(users_with_expensive_orders))\n",
    "                )\n",
    "]['revenue'].mean()/orders[\n",
    "    np.logical_and(\n",
    "                    orders['group'] == 'A',\n",
    "                    np.logical_not(orders['visitor_id'].isin(users_with_expensive_orders))\n",
    "                )\n",
    "]['revenue'].mean()-1)\n",
    "         )\n",
    "else:\n",
    "    print('\\nСнижение значения среднего чека группы B относительно среднего чека группы А составляет {:.1%}'\n",
    "          .format(\n",
    "              abs(orders[\n",
    "    np.logical_and(\n",
    "                    orders['group'] == 'B',\n",
    "                    np.logical_not(orders['visitor_id'].isin(users_with_expensive_orders))\n",
    "                )\n",
    "]['revenue'].mean()/orders[\n",
    "    np.logical_and(\n",
    "                    orders['group'] == 'A',\n",
    "                    np.logical_not(orders['visitor_id'].isin(users_with_expensive_orders))\n",
    "                )\n",
    "]['revenue'].mean()-1)\n",
    "          )\n",
    "         )"
   ]
  },
  {
   "cell_type": "markdown",
   "metadata": {},
   "source": [
    "### **<span style=\"color:red\">Вывод</span>**   \n",
    "\n",
    "**Исключение анномальных заказов** почти не повлияло на p-value (p-value все равно больше 0.05) **Нулевую гипотезу** о том, что статистически значимых различий в значениях среднего чека между группами нет, **не отвергаем**. \n",
    "**<span style=\"color:red\">Различий между значениями среднего чека групп В и А нет</span>**   \n",
    "Кроме того, **средний чек по \"очищенным\" данным группы B** стал **<span style=\"color:red\">немного меньше</span> среднего чека группы А** (-5.9%). Следовательно, **достоверно можно предположить**, что **<span style=\"color:red\">относительное различие значений среднего чека</span>** между группами **стремится к нулевому значению**."
   ]
  },
  {
   "cell_type": "markdown",
   "metadata": {},
   "source": [
    "<div class=\"alert alert-success\">\n",
    "<h2> Комментарий ревьюера <a class=\"tocSkip\"> </h2>\n",
    "\n",
    "<b>Все отлично!👍:</b>\n",
    "    \n",
    "Что на этом шаге сделано корректно:\n",
    "    \n",
    "* ты верно выбрал сам тест и верно проинтерпретировал его результаты, за это плюс;\n",
    "    \n",
    "* проверил все требуемые пары гипотез \n",
    "  \n",
    "* выразил разницу в конверсии в процентах, в целом, шаг оформлен очень грамотно и максимально информативно!"
   ]
  },
  {
   "cell_type": "markdown",
   "metadata": {},
   "source": [
    "<div class=\"alert alert-block alert-danger\">\n",
    "<h2> Комментарий ревьюера <a class=\"tocSkip\"></h2>\n",
    "\n",
    "<b>На доработку🤔:</b>\n",
    "    \n",
    "Что нужно доработать на этом шаге:\n",
    "   \n",
    "* есть особенность в реализации теста Манна-Уитни <code>stats.mannwhitneyu</code>, тест имеет параметр <code>alternative</code>, по-умолчанию, он принимает значение <code>None</code> для совместимости, но в таком случае тест выполняет проверку похожую на одностороннюю, что не корректно для нашего теста. Для получения правильных результатов нужно использовать <code>alternative=\"two-sided\"</code>\n",
    "* важно формулировать гипотезы перед проверками (в случае всех тестов), поэтому, пожалуйста, сформулируй `альтернативную` и `нулевую` гипотезы \n",
    "    \n"
   ]
  },
  {
   "cell_type": "markdown",
   "metadata": {},
   "source": [
    "<div class=\"alert alert-warning\">\n",
    "    <h2> Комментарий ревьюера: вторая итерация ревью <a class=\"tocSkip\"> </h2>\n",
    "    \n",
    "<b>Некоторые замечания и рекомендации💡:</b> \n",
    "\n",
    "Несколько материалов и комментариев относительно выбора одностороннего/двустороннего теста:\n",
    "    \n",
    "`A two-tailed test is appropriate if you want to determine if there is any difference between the groups you are comparing. For instance, if you want to see if Group A scored higher or lower than Group B, then you would want to use a two-tailed test. This is because a two-tailed test uses both the positive and negative tails of the distribution. In other words, it tests for the possibility of positive or negative differences.`\n",
    "\n",
    "`A one-tailed test is appropriate if you only want to determine if there is a difference between groups in a specific direction. So, if you are only interested in determining if Group A scored higher than Group B, and you are completely uninterested in possibility of Group A scoring lower than Group B, then you may want to use a one-tailed test.`\n",
    "    \n",
    "Источник: https://www.statisticssolutions.com/should-you-use-a-one-tailed-test-or-a-two-tailed-test-for-your-data-analysis/#:~:text=This%20is%20because%20a%20two,groups%20in%20a%20specific%20direction.\n",
    "    \n",
    "И еще несколько ссылок по этому вопросу:\n",
    "    \n",
    "https://sphweb.bumc.bu.edu/otlt/mph-modules/bs/bs704_nonparametric/bs704_nonparametric4.html\n",
    "    \n",
    "https://stats.idre.ucla.edu/other/mult-pkg/faq/general/faq-what-are-the-differences-between-one-tailed-and-two-tailed-tests/\n",
    "    \n",
    "https://www.statisticshowto.com/probability-and-statistics/hypothesis-testing/one-tailed-test-or-two/\n"
   ]
  },
  {
   "cell_type": "markdown",
   "metadata": {},
   "source": [
    "<div class=\"alert alert-success\">\n",
    "<h2> Комментарий ревьюера: вторая итерация ревью<a class=\"tocSkip\"> </h2>\n",
    "\n",
    "<b>Все отлично!👍</b>\n",
    "    \n",
    "Николай, отличная работа! Вижу твои коррективы на данном шаге анализа, согласна с новой версией, так держать!"
   ]
  },
  {
   "cell_type": "markdown",
   "metadata": {},
   "source": [
    "### Общий вывод анализа А/В - теста"
   ]
  },
  {
   "cell_type": "markdown",
   "metadata": {},
   "source": [
    "По результатам анализа А/В - теста можно сделать выводы:\n",
    "1. **Статистически значимое различие по конверсии** между группами как по сырым данным, так и после фильтрации аномалий **<span style=\"color:red\">есть</span>**.\n",
    "2. **График различия конверсии** между группами показал, что **результаты группы \"B\" <span style=\"color:red\">лучше</span> группы \"A\"**, при этом расчеты по данным  без учета аномалий показывают прирост конверсии группы B относительно конверсии группы А равный 17.3%.\n",
    "3. По сырым данным **<span style=\"color:red\">нет</span>** статистически значимого различия **по среднему чеку** между группами. Кроме того, после удаления аномалий отностельное различие значений среднего чека групп блиско к нулевому значению (-2%).\n",
    "4. **График различия среднего чека колеблется. **Сделать из этого графика определённые выводы <span style=\"color:blue\">нельзя</span>**. Однако **позволяет определить наличие аномалий**.\n",
    "\n",
    "Исходя из этого, **предлагается тест <span style=\"color:red\">остановить</span>**, **<span style=\"color:blue\">афиксировать победу группы В</span> по конверсии** "
   ]
  },
  {
   "cell_type": "markdown",
   "metadata": {},
   "source": [
    "<div style=\"border:solid Chocolate 2px; padding: 40px\">\n",
    "\n",
    "**Общий вывод по проекту**\n",
    "\n",
    "Николай, спасибо за твой проект! Ты приложил много усилий, чтобы довести его до конца, все задачи в рамках проекта тебе удалось успешно решить, это видно невооруженным глазом, отличная работа! Однако, есть несколько важных моментов, которые стоит улучшить, чтобы проект стал действительно идеальным!\n",
    "\n",
    "**Отмечу отдельные положительные моменты проекта🙂**:\n",
    "* На разных шагах проекта ты предлагал очень интересные решения и методы для их реализации. Хорошая работа!\n",
    "* Ты активно работал с визуализацией, хорошо, что ты не избегаешь этого инструмента для анализа и используешь его на полную! \n",
    "* Ты использовал разные методы для работы с данными, круто, что ты владеешь ими и можешь применять на практике.\n",
    "* Ты формулировал выводы на каждом шаге анализа, виден твой аналитический подход.\n",
    "* Тест для тестирования гипотез был выбран корректно.\n",
    "\n",
    "    \n",
    "**На что стоит обратить внимание:🙂**:\n",
    "\n",
    "*  на первом шаге анализа можно проверить пользователей по группам, есть ли пересечения и если да решить, что делать с такими пользователями.\n",
    "* стоит сформулировать все пары гипотез в случае каждого теста и немного скорректировать реализацию теста\n",
    "* остальные рекомендации ты найдешь в моих комментариях\n",
    "    \n",
    "**Желаю удачи и жду твой проект на повторное ревью!**😉\n",
    "    \n",
    "![gif](https://media.giphy.com/media/USV0ym3bVWQJJmNu3N/giphy.gif)"
   ]
  },
  {
   "cell_type": "markdown",
   "metadata": {},
   "source": [
    "<div style=\"border:solid Chocolate 2px; padding: 40px\">\n",
    "\n",
    "**Общий вывод по проекту: вторая итерация ревью**\n",
    "\n",
    "Николай, спасибо, что прислал проект с доработками! У тебя получилось добиться нужного результата, доработать проект, спасибо за терпение и желание довести проект до конца. Спешу тебе сообщить, что твой проект принят и ты можешь перейти на следующий спринт!\n",
    "    \n",
    "**Желаю тебе крутых и интересных проектов на следующих спринтах!**😉\n",
    "![gif](https://media.giphy.com/media/12XDYvMJNcmLgQ/giphy.gif)"
   ]
  },
  {
   "cell_type": "code",
   "execution_count": null,
   "metadata": {},
   "outputs": [],
   "source": []
  }
 ],
 "metadata": {
  "ExecuteTimeLog": [
   {
    "duration": 805,
    "start_time": "2021-07-22T05:09:33.958Z"
   },
   {
    "duration": 34,
    "start_time": "2021-07-22T05:09:34.766Z"
   },
   {
    "duration": 16,
    "start_time": "2021-07-22T05:09:34.804Z"
   },
   {
    "duration": 384,
    "start_time": "2021-07-23T01:55:13.939Z"
   },
   {
    "duration": 748,
    "start_time": "2021-07-23T01:55:24.991Z"
   },
   {
    "duration": 37,
    "start_time": "2021-07-23T01:55:25.742Z"
   },
   {
    "duration": 12,
    "start_time": "2021-07-23T01:55:25.782Z"
   },
   {
    "duration": 426,
    "start_time": "2021-07-23T01:55:25.797Z"
   },
   {
    "duration": 4,
    "start_time": "2021-07-23T02:00:05.468Z"
   },
   {
    "duration": 11,
    "start_time": "2021-07-23T02:00:25.327Z"
   },
   {
    "duration": 364,
    "start_time": "2021-07-23T02:08:57.868Z"
   },
   {
    "duration": 11,
    "start_time": "2021-07-23T02:09:09.576Z"
   },
   {
    "duration": 349,
    "start_time": "2021-07-23T02:09:09.628Z"
   },
   {
    "duration": 351,
    "start_time": "2021-07-23T02:09:16.520Z"
   },
   {
    "duration": 17,
    "start_time": "2021-07-23T02:09:34.848Z"
   },
   {
    "duration": 22,
    "start_time": "2021-07-23T02:18:21.469Z"
   },
   {
    "duration": 793,
    "start_time": "2021-07-23T02:23:50.343Z"
   },
   {
    "duration": 39,
    "start_time": "2021-07-23T02:23:51.138Z"
   },
   {
    "duration": 9,
    "start_time": "2021-07-23T02:23:51.180Z"
   },
   {
    "duration": 8,
    "start_time": "2021-07-23T02:23:51.193Z"
   },
   {
    "duration": 19,
    "start_time": "2021-07-23T02:23:51.204Z"
   },
   {
    "duration": 17,
    "start_time": "2021-07-23T02:23:51.262Z"
   },
   {
    "duration": 18,
    "start_time": "2021-07-23T02:23:51.283Z"
   },
   {
    "duration": 14,
    "start_time": "2021-07-23T02:34:05.167Z"
   },
   {
    "duration": 41,
    "start_time": "2021-07-23T03:49:21.177Z"
   },
   {
    "duration": 8,
    "start_time": "2021-07-23T03:49:50.129Z"
   },
   {
    "duration": 8,
    "start_time": "2021-07-23T03:59:43.564Z"
   },
   {
    "duration": 785,
    "start_time": "2021-07-23T04:01:50.073Z"
   },
   {
    "duration": 37,
    "start_time": "2021-07-23T04:01:50.860Z"
   },
   {
    "duration": 12,
    "start_time": "2021-07-23T04:01:50.900Z"
   },
   {
    "duration": 12,
    "start_time": "2021-07-23T04:01:50.914Z"
   },
   {
    "duration": 27,
    "start_time": "2021-07-23T04:01:50.929Z"
   },
   {
    "duration": 16,
    "start_time": "2021-07-23T04:01:50.961Z"
   },
   {
    "duration": 45,
    "start_time": "2021-07-23T04:01:50.979Z"
   },
   {
    "duration": 8,
    "start_time": "2021-07-23T04:01:51.028Z"
   },
   {
    "duration": 14,
    "start_time": "2021-07-23T04:01:51.038Z"
   },
   {
    "duration": 23,
    "start_time": "2021-07-23T04:01:51.054Z"
   },
   {
    "duration": 8,
    "start_time": "2021-07-23T04:01:51.079Z"
   },
   {
    "duration": 17,
    "start_time": "2021-07-23T04:01:51.089Z"
   },
   {
    "duration": 726,
    "start_time": "2021-07-23T04:20:31.605Z"
   },
   {
    "duration": 37,
    "start_time": "2021-07-23T04:20:32.333Z"
   },
   {
    "duration": 19,
    "start_time": "2021-07-23T04:20:32.373Z"
   },
   {
    "duration": 18,
    "start_time": "2021-07-23T04:20:32.395Z"
   },
   {
    "duration": 33,
    "start_time": "2021-07-23T04:20:32.415Z"
   },
   {
    "duration": 19,
    "start_time": "2021-07-23T04:20:32.450Z"
   },
   {
    "duration": 62,
    "start_time": "2021-07-23T04:20:32.471Z"
   },
   {
    "duration": 8,
    "start_time": "2021-07-23T04:20:32.536Z"
   },
   {
    "duration": 15,
    "start_time": "2021-07-23T04:20:32.547Z"
   },
   {
    "duration": 30,
    "start_time": "2021-07-23T04:20:32.564Z"
   },
   {
    "duration": 17,
    "start_time": "2021-07-23T04:20:32.596Z"
   },
   {
    "duration": 12,
    "start_time": "2021-07-23T04:20:32.615Z"
   },
   {
    "duration": 1662,
    "start_time": "2021-07-23T04:20:32.629Z"
   },
   {
    "duration": 968,
    "start_time": "2021-07-23T04:20:33.326Z"
   },
   {
    "duration": 946,
    "start_time": "2021-07-23T04:20:33.349Z"
   },
   {
    "duration": 946,
    "start_time": "2021-07-23T04:20:33.351Z"
   },
   {
    "duration": 738,
    "start_time": "2021-07-23T04:33:31.800Z"
   },
   {
    "duration": 36,
    "start_time": "2021-07-23T04:33:32.540Z"
   },
   {
    "duration": 13,
    "start_time": "2021-07-23T04:33:32.579Z"
   },
   {
    "duration": 10,
    "start_time": "2021-07-23T04:33:32.594Z"
   },
   {
    "duration": 29,
    "start_time": "2021-07-23T04:33:32.606Z"
   },
   {
    "duration": 30,
    "start_time": "2021-07-23T04:33:32.637Z"
   },
   {
    "duration": 43,
    "start_time": "2021-07-23T04:33:32.669Z"
   },
   {
    "duration": 9,
    "start_time": "2021-07-23T04:33:32.715Z"
   },
   {
    "duration": 13,
    "start_time": "2021-07-23T04:33:32.726Z"
   },
   {
    "duration": 28,
    "start_time": "2021-07-23T04:33:32.741Z"
   },
   {
    "duration": 14,
    "start_time": "2021-07-23T04:33:32.772Z"
   },
   {
    "duration": 12,
    "start_time": "2021-07-23T04:33:32.789Z"
   },
   {
    "duration": 1566,
    "start_time": "2021-07-23T04:33:32.803Z"
   },
   {
    "duration": 843,
    "start_time": "2021-07-23T04:33:33.529Z"
   },
   {
    "duration": 842,
    "start_time": "2021-07-23T04:33:33.532Z"
   },
   {
    "duration": 839,
    "start_time": "2021-07-23T04:33:33.536Z"
   },
   {
    "duration": 723,
    "start_time": "2021-07-23T04:34:52.902Z"
   },
   {
    "duration": 39,
    "start_time": "2021-07-23T04:34:53.627Z"
   },
   {
    "duration": 10,
    "start_time": "2021-07-23T04:34:53.670Z"
   },
   {
    "duration": 10,
    "start_time": "2021-07-23T04:34:53.683Z"
   },
   {
    "duration": 23,
    "start_time": "2021-07-23T04:34:53.695Z"
   },
   {
    "duration": 46,
    "start_time": "2021-07-23T04:34:53.721Z"
   },
   {
    "duration": 43,
    "start_time": "2021-07-23T04:34:53.770Z"
   },
   {
    "duration": 9,
    "start_time": "2021-07-23T04:34:53.818Z"
   },
   {
    "duration": 13,
    "start_time": "2021-07-23T04:34:53.831Z"
   },
   {
    "duration": 25,
    "start_time": "2021-07-23T04:34:53.861Z"
   },
   {
    "duration": 12,
    "start_time": "2021-07-23T04:34:53.889Z"
   },
   {
    "duration": 9,
    "start_time": "2021-07-23T04:34:53.904Z"
   },
   {
    "duration": 1566,
    "start_time": "2021-07-23T04:34:53.916Z"
   },
   {
    "duration": 848,
    "start_time": "2021-07-23T04:34:54.636Z"
   },
   {
    "duration": 842,
    "start_time": "2021-07-23T04:34:54.644Z"
   },
   {
    "duration": 840,
    "start_time": "2021-07-23T04:34:54.647Z"
   },
   {
    "duration": 8,
    "start_time": "2021-07-23T04:44:51.127Z"
   },
   {
    "duration": 825,
    "start_time": "2021-07-23T04:46:31.928Z"
   },
   {
    "duration": 40,
    "start_time": "2021-07-23T04:46:32.756Z"
   },
   {
    "duration": 9,
    "start_time": "2021-07-23T04:46:32.799Z"
   },
   {
    "duration": 9,
    "start_time": "2021-07-23T04:46:32.810Z"
   },
   {
    "duration": 18,
    "start_time": "2021-07-23T04:46:32.822Z"
   },
   {
    "duration": 33,
    "start_time": "2021-07-23T04:46:32.842Z"
   },
   {
    "duration": 45,
    "start_time": "2021-07-23T04:46:32.877Z"
   },
   {
    "duration": 9,
    "start_time": "2021-07-23T04:46:32.926Z"
   },
   {
    "duration": 23,
    "start_time": "2021-07-23T04:46:32.937Z"
   },
   {
    "duration": 33,
    "start_time": "2021-07-23T04:46:32.967Z"
   },
   {
    "duration": 13,
    "start_time": "2021-07-23T04:46:33.003Z"
   },
   {
    "duration": 22,
    "start_time": "2021-07-23T04:46:33.019Z"
   },
   {
    "duration": 25,
    "start_time": "2021-07-23T04:46:33.043Z"
   },
   {
    "duration": 9,
    "start_time": "2021-07-23T04:46:33.072Z"
   },
   {
    "duration": 22,
    "start_time": "2021-07-23T04:46:33.084Z"
   },
   {
    "duration": 26,
    "start_time": "2021-07-23T04:46:33.109Z"
   },
   {
    "duration": 797,
    "start_time": "2021-07-23T05:02:16.038Z"
   },
   {
    "duration": 48,
    "start_time": "2021-07-23T05:02:16.838Z"
   },
   {
    "duration": 13,
    "start_time": "2021-07-23T05:02:16.890Z"
   },
   {
    "duration": 6,
    "start_time": "2021-07-23T05:02:16.906Z"
   },
   {
    "duration": 49,
    "start_time": "2021-07-23T05:02:16.914Z"
   },
   {
    "duration": 16,
    "start_time": "2021-07-23T05:02:16.966Z"
   },
   {
    "duration": 81,
    "start_time": "2021-07-23T05:02:16.985Z"
   },
   {
    "duration": 14,
    "start_time": "2021-07-23T05:02:17.071Z"
   },
   {
    "duration": 24,
    "start_time": "2021-07-23T05:02:17.087Z"
   },
   {
    "duration": 29,
    "start_time": "2021-07-23T05:02:17.113Z"
   },
   {
    "duration": 14,
    "start_time": "2021-07-23T05:02:17.161Z"
   },
   {
    "duration": 25,
    "start_time": "2021-07-23T05:02:17.179Z"
   },
   {
    "duration": 12,
    "start_time": "2021-07-23T05:02:17.207Z"
   },
   {
    "duration": 33,
    "start_time": "2021-07-23T05:02:17.222Z"
   },
   {
    "duration": 12,
    "start_time": "2021-07-23T05:02:17.258Z"
   },
   {
    "duration": 21,
    "start_time": "2021-07-23T05:02:17.273Z"
   },
   {
    "duration": 13,
    "start_time": "2021-07-23T05:31:37.654Z"
   },
   {
    "duration": 6,
    "start_time": "2021-07-23T05:32:17.862Z"
   },
   {
    "duration": 14,
    "start_time": "2021-07-23T05:32:18.871Z"
   },
   {
    "duration": 8,
    "start_time": "2021-07-23T05:32:29.010Z"
   },
   {
    "duration": 12,
    "start_time": "2021-07-23T05:32:29.950Z"
   },
   {
    "duration": 112,
    "start_time": "2021-07-23T05:52:18.832Z"
   },
   {
    "duration": 112,
    "start_time": "2021-07-23T05:52:55.387Z"
   },
   {
    "duration": 348,
    "start_time": "2021-07-23T05:53:17.583Z"
   },
   {
    "duration": 16,
    "start_time": "2021-07-23T05:53:22.611Z"
   },
   {
    "duration": 13,
    "start_time": "2021-07-23T05:53:47.307Z"
   },
   {
    "duration": 991,
    "start_time": "2021-07-23T06:10:18.363Z"
   },
   {
    "duration": 46,
    "start_time": "2021-07-23T06:10:19.358Z"
   },
   {
    "duration": 12,
    "start_time": "2021-07-23T06:10:19.408Z"
   },
   {
    "duration": 7,
    "start_time": "2021-07-23T06:10:19.423Z"
   },
   {
    "duration": 42,
    "start_time": "2021-07-23T06:10:19.433Z"
   },
   {
    "duration": 14,
    "start_time": "2021-07-23T06:10:19.477Z"
   },
   {
    "duration": 52,
    "start_time": "2021-07-23T06:10:19.494Z"
   },
   {
    "duration": 8,
    "start_time": "2021-07-23T06:10:19.549Z"
   },
   {
    "duration": 9,
    "start_time": "2021-07-23T06:10:19.561Z"
   },
   {
    "duration": 24,
    "start_time": "2021-07-23T06:10:19.572Z"
   },
   {
    "duration": 13,
    "start_time": "2021-07-23T06:10:19.599Z"
   },
   {
    "duration": 14,
    "start_time": "2021-07-23T06:10:19.614Z"
   },
   {
    "duration": 35,
    "start_time": "2021-07-23T06:10:19.630Z"
   },
   {
    "duration": 13,
    "start_time": "2021-07-23T06:10:19.667Z"
   },
   {
    "duration": 9,
    "start_time": "2021-07-23T06:10:19.683Z"
   },
   {
    "duration": 29,
    "start_time": "2021-07-23T06:10:19.694Z"
   },
   {
    "duration": 10,
    "start_time": "2021-07-23T06:10:19.726Z"
   },
   {
    "duration": 381,
    "start_time": "2021-07-23T06:10:19.739Z"
   },
   {
    "duration": 13,
    "start_time": "2021-07-23T06:10:20.123Z"
   },
   {
    "duration": 1073,
    "start_time": "2021-07-23T06:35:06.789Z"
   },
   {
    "duration": 33,
    "start_time": "2021-07-23T06:35:07.865Z"
   },
   {
    "duration": 13,
    "start_time": "2021-07-23T06:35:07.904Z"
   },
   {
    "duration": 7,
    "start_time": "2021-07-23T06:35:07.920Z"
   },
   {
    "duration": 50,
    "start_time": "2021-07-23T06:35:07.930Z"
   },
   {
    "duration": 17,
    "start_time": "2021-07-23T06:35:07.982Z"
   },
   {
    "duration": 54,
    "start_time": "2021-07-23T06:35:08.002Z"
   },
   {
    "duration": 11,
    "start_time": "2021-07-23T06:35:08.061Z"
   },
   {
    "duration": 18,
    "start_time": "2021-07-23T06:35:08.076Z"
   },
   {
    "duration": 24,
    "start_time": "2021-07-23T06:35:08.097Z"
   },
   {
    "duration": 11,
    "start_time": "2021-07-23T06:35:08.124Z"
   },
   {
    "duration": 29,
    "start_time": "2021-07-23T06:35:08.137Z"
   },
   {
    "duration": 11,
    "start_time": "2021-07-23T06:35:08.169Z"
   },
   {
    "duration": 11,
    "start_time": "2021-07-23T06:35:08.182Z"
   },
   {
    "duration": 16,
    "start_time": "2021-07-23T06:35:08.195Z"
   },
   {
    "duration": 16,
    "start_time": "2021-07-23T06:35:08.214Z"
   },
   {
    "duration": 9,
    "start_time": "2021-07-23T06:35:08.261Z"
   },
   {
    "duration": 571,
    "start_time": "2021-07-23T06:35:08.272Z"
   },
   {
    "duration": 25,
    "start_time": "2021-07-23T06:35:08.846Z"
   },
   {
    "duration": 138,
    "start_time": "2021-07-23T06:35:08.874Z"
   },
   {
    "duration": 917,
    "start_time": "2021-07-23T06:36:00.784Z"
   },
   {
    "duration": 32,
    "start_time": "2021-07-23T06:36:01.704Z"
   },
   {
    "duration": 22,
    "start_time": "2021-07-23T06:36:01.740Z"
   },
   {
    "duration": 6,
    "start_time": "2021-07-23T06:36:01.765Z"
   },
   {
    "duration": 29,
    "start_time": "2021-07-23T06:36:01.774Z"
   },
   {
    "duration": 15,
    "start_time": "2021-07-23T06:36:01.806Z"
   },
   {
    "duration": 77,
    "start_time": "2021-07-23T06:36:01.824Z"
   },
   {
    "duration": 13,
    "start_time": "2021-07-23T06:36:01.906Z"
   },
   {
    "duration": 62,
    "start_time": "2021-07-23T06:36:01.922Z"
   },
   {
    "duration": 81,
    "start_time": "2021-07-23T06:36:01.986Z"
   },
   {
    "duration": 31,
    "start_time": "2021-07-23T06:36:02.070Z"
   },
   {
    "duration": 30,
    "start_time": "2021-07-23T06:36:02.104Z"
   },
   {
    "duration": 18,
    "start_time": "2021-07-23T06:36:02.137Z"
   },
   {
    "duration": 25,
    "start_time": "2021-07-23T06:36:02.158Z"
   },
   {
    "duration": 21,
    "start_time": "2021-07-23T06:36:02.186Z"
   },
   {
    "duration": 35,
    "start_time": "2021-07-23T06:36:02.210Z"
   },
   {
    "duration": 22,
    "start_time": "2021-07-23T06:36:02.248Z"
   },
   {
    "duration": 552,
    "start_time": "2021-07-23T06:36:02.273Z"
   },
   {
    "duration": 18,
    "start_time": "2021-07-23T06:36:02.828Z"
   },
   {
    "duration": 169,
    "start_time": "2021-07-23T06:36:02.849Z"
   },
   {
    "duration": 166,
    "start_time": "2021-07-23T06:37:50.537Z"
   },
   {
    "duration": 775,
    "start_time": "2021-07-23T06:38:48.441Z"
   },
   {
    "duration": 10,
    "start_time": "2021-07-23T06:40:03.689Z"
   },
   {
    "duration": 787,
    "start_time": "2021-07-23T06:40:46.064Z"
   },
   {
    "duration": 748,
    "start_time": "2021-07-23T06:41:17.245Z"
   },
   {
    "duration": 509,
    "start_time": "2021-07-23T06:42:01.845Z"
   },
   {
    "duration": 762,
    "start_time": "2021-07-23T06:43:18.092Z"
   },
   {
    "duration": 638,
    "start_time": "2021-07-23T06:43:39.932Z"
   },
   {
    "duration": 471,
    "start_time": "2021-07-23T06:44:09.134Z"
   },
   {
    "duration": 297,
    "start_time": "2021-07-23T06:44:22.788Z"
   },
   {
    "duration": 361,
    "start_time": "2021-07-23T06:45:26.348Z"
   },
   {
    "duration": 884,
    "start_time": "2021-07-23T06:47:29.157Z"
   },
   {
    "duration": 139,
    "start_time": "2021-07-23T06:53:55.853Z"
   },
   {
    "duration": 939,
    "start_time": "2021-07-23T06:54:46.196Z"
   },
   {
    "duration": 117,
    "start_time": "2021-07-23T06:55:29.134Z"
   },
   {
    "duration": 185,
    "start_time": "2021-07-23T06:56:09.729Z"
   },
   {
    "duration": 1752,
    "start_time": "2021-07-23T06:56:49.745Z"
   },
   {
    "duration": 930,
    "start_time": "2021-07-23T06:57:34.425Z"
   },
   {
    "duration": 762,
    "start_time": "2021-07-23T06:58:35.030Z"
   },
   {
    "duration": 714,
    "start_time": "2021-07-23T07:00:44.658Z"
   },
   {
    "duration": 14,
    "start_time": "2021-07-23T07:03:40.501Z"
   },
   {
    "duration": 1177,
    "start_time": "2021-07-23T07:23:22.929Z"
   },
   {
    "duration": 38,
    "start_time": "2021-07-23T07:23:24.109Z"
   },
   {
    "duration": 21,
    "start_time": "2021-07-23T07:23:24.151Z"
   },
   {
    "duration": 14,
    "start_time": "2021-07-23T07:23:24.175Z"
   },
   {
    "duration": 21,
    "start_time": "2021-07-23T07:23:24.192Z"
   },
   {
    "duration": 16,
    "start_time": "2021-07-23T07:23:24.215Z"
   },
   {
    "duration": 90,
    "start_time": "2021-07-23T07:23:24.233Z"
   },
   {
    "duration": 9,
    "start_time": "2021-07-23T07:23:24.326Z"
   },
   {
    "duration": 14,
    "start_time": "2021-07-23T07:23:24.337Z"
   },
   {
    "duration": 27,
    "start_time": "2021-07-23T07:23:24.353Z"
   },
   {
    "duration": 23,
    "start_time": "2021-07-23T07:23:24.382Z"
   },
   {
    "duration": 18,
    "start_time": "2021-07-23T07:23:24.408Z"
   },
   {
    "duration": 21,
    "start_time": "2021-07-23T07:23:24.428Z"
   },
   {
    "duration": 9,
    "start_time": "2021-07-23T07:23:24.451Z"
   },
   {
    "duration": 8,
    "start_time": "2021-07-23T07:23:24.462Z"
   },
   {
    "duration": 19,
    "start_time": "2021-07-23T07:23:24.472Z"
   },
   {
    "duration": 9,
    "start_time": "2021-07-23T07:23:24.493Z"
   },
   {
    "duration": 378,
    "start_time": "2021-07-23T07:23:24.504Z"
   },
   {
    "duration": 13,
    "start_time": "2021-07-23T07:23:24.884Z"
   },
   {
    "duration": 671,
    "start_time": "2021-07-23T07:23:24.899Z"
   },
   {
    "duration": 642,
    "start_time": "2021-07-23T07:23:25.573Z"
   },
   {
    "duration": 327,
    "start_time": "2021-07-23T08:45:03.959Z"
   },
   {
    "duration": 1106,
    "start_time": "2021-07-23T08:45:03.184Z"
   },
   {
    "duration": 10,
    "start_time": "2021-07-23T08:45:46.158Z"
   },
   {
    "duration": 16,
    "start_time": "2021-07-23T08:45:48.210Z"
   },
   {
    "duration": 10,
    "start_time": "2021-07-23T08:46:21.090Z"
   },
   {
    "duration": 16,
    "start_time": "2021-07-23T08:46:27.975Z"
   },
   {
    "duration": 642,
    "start_time": "2021-07-23T08:47:45.399Z"
   },
   {
    "duration": 9,
    "start_time": "2021-07-23T08:47:53.535Z"
   },
   {
    "duration": 18,
    "start_time": "2021-07-23T08:47:56.199Z"
   },
   {
    "duration": 7,
    "start_time": "2021-07-23T08:52:19.375Z"
   },
   {
    "duration": 19,
    "start_time": "2021-07-23T08:52:44.415Z"
   },
   {
    "duration": 1128,
    "start_time": "2021-07-23T08:59:26.058Z"
   },
   {
    "duration": 4,
    "start_time": "2021-07-23T08:59:27.190Z"
   },
   {
    "duration": 39,
    "start_time": "2021-07-23T08:59:27.198Z"
   },
   {
    "duration": 25,
    "start_time": "2021-07-23T08:59:27.241Z"
   },
   {
    "duration": 5,
    "start_time": "2021-07-23T08:59:27.269Z"
   },
   {
    "duration": 17,
    "start_time": "2021-07-23T08:59:27.276Z"
   },
   {
    "duration": 15,
    "start_time": "2021-07-23T08:59:27.295Z"
   },
   {
    "duration": 61,
    "start_time": "2021-07-23T08:59:27.314Z"
   },
   {
    "duration": 9,
    "start_time": "2021-07-23T08:59:27.378Z"
   },
   {
    "duration": 12,
    "start_time": "2021-07-23T08:59:27.390Z"
   },
   {
    "duration": 58,
    "start_time": "2021-07-23T08:59:27.406Z"
   },
   {
    "duration": 9,
    "start_time": "2021-07-23T08:59:27.466Z"
   },
   {
    "duration": 25,
    "start_time": "2021-07-23T08:59:27.478Z"
   },
   {
    "duration": 10,
    "start_time": "2021-07-23T08:59:27.506Z"
   },
   {
    "duration": 12,
    "start_time": "2021-07-23T08:59:27.519Z"
   },
   {
    "duration": 29,
    "start_time": "2021-07-23T08:59:27.533Z"
   },
   {
    "duration": 13,
    "start_time": "2021-07-23T08:59:27.565Z"
   },
   {
    "duration": 15,
    "start_time": "2021-07-23T08:59:27.581Z"
   },
   {
    "duration": 14,
    "start_time": "2021-07-23T08:59:27.599Z"
   },
   {
    "duration": 10,
    "start_time": "2021-07-23T08:59:27.615Z"
   },
   {
    "duration": 386,
    "start_time": "2021-07-23T08:59:27.627Z"
   },
   {
    "duration": 11,
    "start_time": "2021-07-23T08:59:28.016Z"
   },
   {
    "duration": 13,
    "start_time": "2021-07-23T08:59:28.031Z"
   },
   {
    "duration": 701,
    "start_time": "2021-07-23T08:59:28.063Z"
   },
   {
    "duration": 6415,
    "start_time": "2021-07-23T08:59:28.767Z"
   },
   {
    "duration": 1043,
    "start_time": "2021-07-23T08:59:34.141Z"
   },
   {
    "duration": 1041,
    "start_time": "2021-07-23T08:59:34.145Z"
   },
   {
    "duration": 1039,
    "start_time": "2021-07-23T08:59:34.149Z"
   },
   {
    "duration": 5811,
    "start_time": "2021-07-23T09:01:40.590Z"
   },
   {
    "duration": 826,
    "start_time": "2021-07-23T09:02:19.612Z"
   },
   {
    "duration": 4,
    "start_time": "2021-07-23T09:02:20.441Z"
   },
   {
    "duration": 49,
    "start_time": "2021-07-23T09:02:20.448Z"
   },
   {
    "duration": 16,
    "start_time": "2021-07-23T09:02:20.500Z"
   },
   {
    "duration": 7,
    "start_time": "2021-07-23T09:02:20.518Z"
   },
   {
    "duration": 28,
    "start_time": "2021-07-23T09:02:20.528Z"
   },
   {
    "duration": 20,
    "start_time": "2021-07-23T09:02:20.559Z"
   },
   {
    "duration": 54,
    "start_time": "2021-07-23T09:02:20.583Z"
   },
   {
    "duration": 11,
    "start_time": "2021-07-23T09:02:20.641Z"
   },
   {
    "duration": 22,
    "start_time": "2021-07-23T09:02:20.655Z"
   },
   {
    "duration": 23,
    "start_time": "2021-07-23T09:02:20.680Z"
   },
   {
    "duration": 14,
    "start_time": "2021-07-23T09:02:20.706Z"
   },
   {
    "duration": 27,
    "start_time": "2021-07-23T09:02:20.723Z"
   },
   {
    "duration": 12,
    "start_time": "2021-07-23T09:02:20.752Z"
   },
   {
    "duration": 19,
    "start_time": "2021-07-23T09:02:20.767Z"
   },
   {
    "duration": 14,
    "start_time": "2021-07-23T09:02:20.789Z"
   },
   {
    "duration": 12,
    "start_time": "2021-07-23T09:02:20.805Z"
   },
   {
    "duration": 37,
    "start_time": "2021-07-23T09:02:20.820Z"
   },
   {
    "duration": 24,
    "start_time": "2021-07-23T09:02:20.859Z"
   },
   {
    "duration": 21,
    "start_time": "2021-07-23T09:02:20.886Z"
   },
   {
    "duration": 354,
    "start_time": "2021-07-23T09:02:20.910Z"
   },
   {
    "duration": 9,
    "start_time": "2021-07-23T09:02:21.267Z"
   },
   {
    "duration": 15,
    "start_time": "2021-07-23T09:02:21.280Z"
   },
   {
    "duration": 698,
    "start_time": "2021-07-23T09:02:21.297Z"
   },
   {
    "duration": 5932,
    "start_time": "2021-07-23T09:02:21.997Z"
   },
   {
    "duration": 1151,
    "start_time": "2021-07-23T09:02:26.781Z"
   },
   {
    "duration": 1150,
    "start_time": "2021-07-23T09:02:26.783Z"
   },
   {
    "duration": 1149,
    "start_time": "2021-07-23T09:02:26.786Z"
   },
   {
    "duration": 827,
    "start_time": "2021-07-23T09:46:54.685Z"
   },
   {
    "duration": 37,
    "start_time": "2021-07-23T09:46:57.429Z"
   },
   {
    "duration": 9,
    "start_time": "2021-07-23T09:46:58.941Z"
   },
   {
    "duration": 5,
    "start_time": "2021-07-23T09:47:03.265Z"
   },
   {
    "duration": 20,
    "start_time": "2021-07-23T09:47:05.425Z"
   },
   {
    "duration": 15,
    "start_time": "2021-07-23T09:47:08.209Z"
   },
   {
    "duration": 48,
    "start_time": "2021-07-23T09:47:12.541Z"
   },
   {
    "duration": 8,
    "start_time": "2021-07-23T09:47:14.001Z"
   },
   {
    "duration": 7,
    "start_time": "2021-07-23T09:47:15.277Z"
   },
   {
    "duration": 23,
    "start_time": "2021-07-23T09:47:17.593Z"
   },
   {
    "duration": 9,
    "start_time": "2021-07-23T09:47:19.005Z"
   },
   {
    "duration": 9,
    "start_time": "2021-07-23T09:47:21.321Z"
   },
   {
    "duration": 7,
    "start_time": "2021-07-23T09:47:25.381Z"
   },
   {
    "duration": 6,
    "start_time": "2021-07-23T09:47:26.777Z"
   },
   {
    "duration": 4,
    "start_time": "2021-07-23T09:47:27.905Z"
   },
   {
    "duration": 6,
    "start_time": "2021-07-23T09:47:28.941Z"
   },
   {
    "duration": 12,
    "start_time": "2021-07-23T09:47:31.389Z"
   },
   {
    "duration": 12,
    "start_time": "2021-07-23T09:47:35.937Z"
   },
   {
    "duration": 9,
    "start_time": "2021-07-23T09:47:49.105Z"
   },
   {
    "duration": 434,
    "start_time": "2021-07-23T09:47:51.005Z"
   },
   {
    "duration": 12,
    "start_time": "2021-07-23T09:47:52.501Z"
   },
   {
    "duration": 669,
    "start_time": "2021-07-23T09:48:04.721Z"
   },
   {
    "duration": 6609,
    "start_time": "2021-07-23T09:48:14.669Z"
   },
   {
    "duration": 975,
    "start_time": "2021-07-23T09:49:00.113Z"
   },
   {
    "duration": 17,
    "start_time": "2021-07-23T09:49:10.950Z"
   },
   {
    "duration": 23,
    "start_time": "2021-07-23T09:49:13.245Z"
   },
   {
    "duration": 634,
    "start_time": "2021-07-23T09:49:28.237Z"
   },
   {
    "duration": 1140,
    "start_time": "2021-07-23T09:52:00.130Z"
   },
   {
    "duration": 749,
    "start_time": "2021-07-23T09:53:14.645Z"
   },
   {
    "duration": 838,
    "start_time": "2021-07-23T09:54:22.658Z"
   },
   {
    "duration": 774,
    "start_time": "2021-07-23T10:02:13.773Z"
   },
   {
    "duration": 912,
    "start_time": "2021-07-25T06:45:51.712Z"
   },
   {
    "duration": 51,
    "start_time": "2021-07-25T06:45:52.627Z"
   },
   {
    "duration": 8,
    "start_time": "2021-07-25T06:45:52.682Z"
   },
   {
    "duration": 6,
    "start_time": "2021-07-25T06:45:52.693Z"
   },
   {
    "duration": 22,
    "start_time": "2021-07-25T06:45:52.702Z"
   },
   {
    "duration": 14,
    "start_time": "2021-07-25T06:45:52.727Z"
   },
   {
    "duration": 51,
    "start_time": "2021-07-25T06:45:52.744Z"
   },
   {
    "duration": 8,
    "start_time": "2021-07-25T06:45:52.799Z"
   },
   {
    "duration": 15,
    "start_time": "2021-07-25T06:45:52.810Z"
   },
   {
    "duration": 43,
    "start_time": "2021-07-25T06:45:52.827Z"
   },
   {
    "duration": 8,
    "start_time": "2021-07-25T06:45:52.872Z"
   },
   {
    "duration": 11,
    "start_time": "2021-07-25T06:45:52.882Z"
   },
   {
    "duration": 10,
    "start_time": "2021-07-25T06:45:52.895Z"
   },
   {
    "duration": 11,
    "start_time": "2021-07-25T06:45:52.908Z"
   },
   {
    "duration": 9,
    "start_time": "2021-07-25T06:45:52.922Z"
   },
   {
    "duration": 12,
    "start_time": "2021-07-25T06:45:52.933Z"
   },
   {
    "duration": 371,
    "start_time": "2021-07-25T06:45:52.948Z"
   },
   {
    "duration": 639,
    "start_time": "2021-07-25T06:45:53.322Z"
   },
   {
    "duration": 620,
    "start_time": "2021-07-25T06:45:53.963Z"
   },
   {
    "duration": 23,
    "start_time": "2021-07-25T06:45:54.586Z"
   },
   {
    "duration": 768,
    "start_time": "2021-07-25T06:45:54.611Z"
   },
   {
    "duration": 14,
    "start_time": "2021-07-25T06:58:40.924Z"
   },
   {
    "duration": 701,
    "start_time": "2021-07-25T07:28:31.934Z"
   },
   {
    "duration": 17,
    "start_time": "2021-07-25T08:20:56.452Z"
   },
   {
    "duration": 522,
    "start_time": "2021-07-25T08:21:45.964Z"
   },
   {
    "duration": 15,
    "start_time": "2021-07-25T08:21:57.508Z"
   },
   {
    "duration": 687,
    "start_time": "2021-07-25T08:40:03.604Z"
   },
   {
    "duration": 857,
    "start_time": "2021-07-25T09:34:22.330Z"
   },
   {
    "duration": 32,
    "start_time": "2021-07-25T09:34:23.189Z"
   },
   {
    "duration": 15,
    "start_time": "2021-07-25T09:34:23.224Z"
   },
   {
    "duration": 7,
    "start_time": "2021-07-25T09:34:23.242Z"
   },
   {
    "duration": 18,
    "start_time": "2021-07-25T09:34:23.251Z"
   },
   {
    "duration": 40,
    "start_time": "2021-07-25T09:34:23.271Z"
   },
   {
    "duration": 53,
    "start_time": "2021-07-25T09:34:23.314Z"
   },
   {
    "duration": 8,
    "start_time": "2021-07-25T09:34:23.371Z"
   },
   {
    "duration": 9,
    "start_time": "2021-07-25T09:34:23.382Z"
   },
   {
    "duration": 25,
    "start_time": "2021-07-25T09:34:23.393Z"
   },
   {
    "duration": 10,
    "start_time": "2021-07-25T09:34:23.421Z"
   },
   {
    "duration": 10,
    "start_time": "2021-07-25T09:34:23.433Z"
   },
   {
    "duration": 9,
    "start_time": "2021-07-25T09:34:23.446Z"
   },
   {
    "duration": 42,
    "start_time": "2021-07-25T09:34:23.458Z"
   },
   {
    "duration": 7,
    "start_time": "2021-07-25T09:34:23.504Z"
   },
   {
    "duration": 13,
    "start_time": "2021-07-25T09:34:23.514Z"
   },
   {
    "duration": 359,
    "start_time": "2021-07-25T09:34:23.530Z"
   },
   {
    "duration": 650,
    "start_time": "2021-07-25T09:34:23.892Z"
   },
   {
    "duration": 602,
    "start_time": "2021-07-25T09:34:24.545Z"
   },
   {
    "duration": 11,
    "start_time": "2021-07-25T09:34:25.150Z"
   },
   {
    "duration": 720,
    "start_time": "2021-07-25T09:34:25.163Z"
   },
   {
    "duration": 678,
    "start_time": "2021-07-25T09:34:25.885Z"
   },
   {
    "duration": 11,
    "start_time": "2021-07-25T09:34:26.567Z"
   },
   {
    "duration": 759,
    "start_time": "2021-07-25T09:34:26.580Z"
   },
   {
    "duration": 732,
    "start_time": "2021-07-25T09:35:02.102Z"
   },
   {
    "duration": 849,
    "start_time": "2021-07-25T09:43:36.419Z"
   },
   {
    "duration": 17,
    "start_time": "2021-07-25T10:39:15.789Z"
   },
   {
    "duration": 13,
    "start_time": "2021-07-25T11:18:34.391Z"
   },
   {
    "duration": 266,
    "start_time": "2021-07-25T11:20:50.535Z"
   },
   {
    "duration": 11,
    "start_time": "2021-07-25T11:50:41.825Z"
   },
   {
    "duration": 204,
    "start_time": "2021-07-25T12:24:51.153Z"
   },
   {
    "duration": 10,
    "start_time": "2021-07-25T12:24:58.534Z"
   },
   {
    "duration": 202,
    "start_time": "2021-07-25T12:35:58.698Z"
   },
   {
    "duration": 10,
    "start_time": "2021-07-25T12:36:00.622Z"
   },
   {
    "duration": 460,
    "start_time": "2021-07-25T12:45:42.354Z"
   },
   {
    "duration": 493,
    "start_time": "2021-07-25T12:49:07.242Z"
   },
   {
    "duration": 905,
    "start_time": "2021-07-25T12:50:24.155Z"
   },
   {
    "duration": 677,
    "start_time": "2021-07-25T12:55:44.935Z"
   },
   {
    "duration": 9,
    "start_time": "2021-07-25T12:55:45.616Z"
   },
   {
    "duration": 659,
    "start_time": "2021-07-25T12:56:38.879Z"
   },
   {
    "duration": 669,
    "start_time": "2021-07-25T12:56:57.831Z"
   },
   {
    "duration": 474,
    "start_time": "2021-07-25T13:36:43.109Z"
   },
   {
    "duration": 694,
    "start_time": "2021-07-25T13:37:43.977Z"
   },
   {
    "duration": 365,
    "start_time": "2021-07-25T13:38:22.141Z"
   },
   {
    "duration": 361,
    "start_time": "2021-07-25T13:39:09.193Z"
   },
   {
    "duration": 371,
    "start_time": "2021-07-25T13:41:19.985Z"
   },
   {
    "duration": 361,
    "start_time": "2021-07-25T13:41:35.097Z"
   },
   {
    "duration": 346,
    "start_time": "2021-07-25T13:41:53.934Z"
   },
   {
    "duration": 369,
    "start_time": "2021-07-25T13:44:25.373Z"
   },
   {
    "duration": 360,
    "start_time": "2021-07-25T13:44:48.381Z"
   },
   {
    "duration": 364,
    "start_time": "2021-07-25T13:45:07.633Z"
   },
   {
    "duration": 1001,
    "start_time": "2021-07-26T01:29:42.651Z"
   },
   {
    "duration": 40,
    "start_time": "2021-07-26T01:29:43.654Z"
   },
   {
    "duration": 10,
    "start_time": "2021-07-26T01:29:43.697Z"
   },
   {
    "duration": 8,
    "start_time": "2021-07-26T01:29:43.710Z"
   },
   {
    "duration": 17,
    "start_time": "2021-07-26T01:29:43.721Z"
   },
   {
    "duration": 15,
    "start_time": "2021-07-26T01:29:43.740Z"
   },
   {
    "duration": 47,
    "start_time": "2021-07-26T01:29:43.790Z"
   },
   {
    "duration": 8,
    "start_time": "2021-07-26T01:29:43.841Z"
   },
   {
    "duration": 8,
    "start_time": "2021-07-26T01:29:43.852Z"
   },
   {
    "duration": 33,
    "start_time": "2021-07-26T01:29:43.863Z"
   },
   {
    "duration": 11,
    "start_time": "2021-07-26T01:29:43.899Z"
   },
   {
    "duration": 15,
    "start_time": "2021-07-26T01:29:43.913Z"
   },
   {
    "duration": 7,
    "start_time": "2021-07-26T01:29:43.931Z"
   },
   {
    "duration": 7,
    "start_time": "2021-07-26T01:29:43.941Z"
   },
   {
    "duration": 8,
    "start_time": "2021-07-26T01:29:43.950Z"
   },
   {
    "duration": 32,
    "start_time": "2021-07-26T01:29:43.960Z"
   },
   {
    "duration": 380,
    "start_time": "2021-07-26T01:29:43.994Z"
   },
   {
    "duration": 679,
    "start_time": "2021-07-26T01:29:44.377Z"
   },
   {
    "duration": 755,
    "start_time": "2021-07-26T01:29:45.059Z"
   },
   {
    "duration": 12,
    "start_time": "2021-07-26T01:29:45.816Z"
   },
   {
    "duration": 779,
    "start_time": "2021-07-26T01:29:45.830Z"
   },
   {
    "duration": 730,
    "start_time": "2021-07-26T01:29:46.612Z"
   },
   {
    "duration": 12,
    "start_time": "2021-07-26T01:29:47.346Z"
   },
   {
    "duration": 777,
    "start_time": "2021-07-26T01:29:47.360Z"
   },
   {
    "duration": 661,
    "start_time": "2021-07-26T01:29:48.139Z"
   },
   {
    "duration": 10,
    "start_time": "2021-07-26T01:29:48.803Z"
   },
   {
    "duration": 4,
    "start_time": "2021-07-26T01:29:48.816Z"
   },
   {
    "duration": 492,
    "start_time": "2021-07-26T01:31:19.216Z"
   },
   {
    "duration": 5,
    "start_time": "2021-07-26T01:35:00.435Z"
   },
   {
    "duration": 620,
    "start_time": "2021-07-26T01:37:28.290Z"
   },
   {
    "duration": 473,
    "start_time": "2021-07-26T01:38:00.491Z"
   },
   {
    "duration": 451,
    "start_time": "2021-07-26T01:39:16.440Z"
   },
   {
    "duration": 385,
    "start_time": "2021-07-26T01:39:42.835Z"
   },
   {
    "duration": 146,
    "start_time": "2021-07-26T01:40:38.180Z"
   },
   {
    "duration": 373,
    "start_time": "2021-07-26T01:40:49.334Z"
   },
   {
    "duration": 404,
    "start_time": "2021-07-26T01:41:03.464Z"
   },
   {
    "duration": 334,
    "start_time": "2021-07-26T01:41:14.720Z"
   },
   {
    "duration": 434,
    "start_time": "2021-07-26T01:50:03.469Z"
   },
   {
    "duration": 409,
    "start_time": "2021-07-26T01:50:42.512Z"
   },
   {
    "duration": 1107,
    "start_time": "2021-07-26T01:51:18.269Z"
   },
   {
    "duration": 413,
    "start_time": "2021-07-26T01:51:44.926Z"
   },
   {
    "duration": 413,
    "start_time": "2021-07-26T01:52:08.442Z"
   },
   {
    "duration": 402,
    "start_time": "2021-07-26T01:52:31.015Z"
   },
   {
    "duration": 1027,
    "start_time": "2021-07-26T01:53:48.791Z"
   },
   {
    "duration": 393,
    "start_time": "2021-07-26T01:54:41.799Z"
   },
   {
    "duration": 415,
    "start_time": "2021-07-26T01:55:03.239Z"
   },
   {
    "duration": 381,
    "start_time": "2021-07-26T01:57:03.999Z"
   },
   {
    "duration": 377,
    "start_time": "2021-07-26T01:57:37.763Z"
   },
   {
    "duration": 423,
    "start_time": "2021-07-26T01:58:02.223Z"
   },
   {
    "duration": 643,
    "start_time": "2021-07-26T01:58:57.911Z"
   },
   {
    "duration": 8,
    "start_time": "2021-07-26T02:00:42.867Z"
   },
   {
    "duration": 642,
    "start_time": "2021-07-26T02:03:05.791Z"
   },
   {
    "duration": 11,
    "start_time": "2021-07-26T02:03:24.451Z"
   },
   {
    "duration": 419,
    "start_time": "2021-07-26T02:04:26.499Z"
   },
   {
    "duration": 688,
    "start_time": "2021-07-26T02:07:03.016Z"
   },
   {
    "duration": 213,
    "start_time": "2021-07-26T02:10:41.744Z"
   },
   {
    "duration": 470,
    "start_time": "2021-07-26T02:11:03.160Z"
   },
   {
    "duration": 429,
    "start_time": "2021-07-26T02:13:14.584Z"
   },
   {
    "duration": 144,
    "start_time": "2021-07-26T02:18:18.044Z"
   },
   {
    "duration": 9742,
    "start_time": "2021-07-26T02:18:26.840Z"
   },
   {
    "duration": 1012,
    "start_time": "2021-07-26T02:19:35.492Z"
   },
   {
    "duration": 451,
    "start_time": "2021-07-26T02:19:55.752Z"
   },
   {
    "duration": 491,
    "start_time": "2021-07-26T02:20:25.732Z"
   },
   {
    "duration": 211,
    "start_time": "2021-07-26T02:27:13.021Z"
   },
   {
    "duration": 376,
    "start_time": "2021-07-26T02:28:41.108Z"
   },
   {
    "duration": 421,
    "start_time": "2021-07-26T02:29:20.585Z"
   },
   {
    "duration": 9792,
    "start_time": "2021-07-26T02:34:03.921Z"
   },
   {
    "duration": 209,
    "start_time": "2021-07-26T02:34:29.717Z"
   },
   {
    "duration": 480,
    "start_time": "2021-07-26T02:34:33.589Z"
   },
   {
    "duration": 4,
    "start_time": "2021-07-26T02:34:40.213Z"
   },
   {
    "duration": 398,
    "start_time": "2021-07-26T02:37:03.205Z"
   },
   {
    "duration": 8,
    "start_time": "2021-07-26T02:37:24.665Z"
   },
   {
    "duration": 394,
    "start_time": "2021-07-26T02:38:42.337Z"
   },
   {
    "duration": 409,
    "start_time": "2021-07-26T02:39:56.453Z"
   },
   {
    "duration": 411,
    "start_time": "2021-07-26T02:40:27.949Z"
   },
   {
    "duration": 4,
    "start_time": "2021-07-26T02:43:09.821Z"
   },
   {
    "duration": 7,
    "start_time": "2021-07-26T02:43:24.105Z"
   },
   {
    "duration": 389,
    "start_time": "2021-07-26T02:43:48.967Z"
   },
   {
    "duration": 4,
    "start_time": "2021-07-26T02:47:13.397Z"
   },
   {
    "duration": 3,
    "start_time": "2021-07-26T02:47:14.449Z"
   },
   {
    "duration": 7,
    "start_time": "2021-07-26T02:47:16.189Z"
   },
   {
    "duration": 416,
    "start_time": "2021-07-26T02:47:21.673Z"
   },
   {
    "duration": 7,
    "start_time": "2021-07-26T02:48:49.010Z"
   },
   {
    "duration": 14,
    "start_time": "2021-07-26T02:49:05.145Z"
   },
   {
    "duration": 533,
    "start_time": "2021-07-26T02:49:52.899Z"
   },
   {
    "duration": 470,
    "start_time": "2021-07-26T02:50:28.807Z"
   },
   {
    "duration": 152,
    "start_time": "2021-07-26T02:57:15.926Z"
   },
   {
    "duration": 614,
    "start_time": "2021-07-26T02:58:04.742Z"
   },
   {
    "duration": 8,
    "start_time": "2021-07-26T03:51:40.948Z"
   },
   {
    "duration": 12,
    "start_time": "2021-07-26T04:21:26.870Z"
   },
   {
    "duration": 12,
    "start_time": "2021-07-26T04:23:47.686Z"
   },
   {
    "duration": 491,
    "start_time": "2021-07-26T04:28:02.058Z"
   },
   {
    "duration": 594,
    "start_time": "2021-07-26T04:28:52.638Z"
   },
   {
    "duration": 531,
    "start_time": "2021-07-26T04:29:05.086Z"
   },
   {
    "duration": 9955,
    "start_time": "2021-07-26T04:38:57.315Z"
   },
   {
    "duration": 634,
    "start_time": "2021-07-26T04:39:19.227Z"
   },
   {
    "duration": 749,
    "start_time": "2021-07-26T04:39:39.743Z"
   },
   {
    "duration": 646,
    "start_time": "2021-07-26T04:39:50.123Z"
   },
   {
    "duration": 7,
    "start_time": "2021-07-26T04:40:45.759Z"
   },
   {
    "duration": 7,
    "start_time": "2021-07-26T04:41:21.079Z"
   },
   {
    "duration": 763,
    "start_time": "2021-07-26T04:41:34.719Z"
   },
   {
    "duration": 904,
    "start_time": "2021-07-26T04:50:33.993Z"
   },
   {
    "duration": 32,
    "start_time": "2021-07-26T04:50:34.899Z"
   },
   {
    "duration": 11,
    "start_time": "2021-07-26T04:50:34.934Z"
   },
   {
    "duration": 6,
    "start_time": "2021-07-26T04:50:34.948Z"
   },
   {
    "duration": 36,
    "start_time": "2021-07-26T04:50:34.956Z"
   },
   {
    "duration": 15,
    "start_time": "2021-07-26T04:50:34.995Z"
   },
   {
    "duration": 49,
    "start_time": "2021-07-26T04:50:35.013Z"
   },
   {
    "duration": 9,
    "start_time": "2021-07-26T04:50:35.065Z"
   },
   {
    "duration": 16,
    "start_time": "2021-07-26T04:50:35.076Z"
   },
   {
    "duration": 32,
    "start_time": "2021-07-26T04:50:35.094Z"
   },
   {
    "duration": 15,
    "start_time": "2021-07-26T04:50:35.128Z"
   },
   {
    "duration": 12,
    "start_time": "2021-07-26T04:50:35.146Z"
   },
   {
    "duration": 14,
    "start_time": "2021-07-26T04:50:35.161Z"
   },
   {
    "duration": 14,
    "start_time": "2021-07-26T04:50:35.177Z"
   },
   {
    "duration": 18,
    "start_time": "2021-07-26T04:50:35.193Z"
   },
   {
    "duration": 17,
    "start_time": "2021-07-26T04:50:35.213Z"
   },
   {
    "duration": 365,
    "start_time": "2021-07-26T04:50:35.233Z"
   },
   {
    "duration": 673,
    "start_time": "2021-07-26T04:50:35.601Z"
   },
   {
    "duration": 641,
    "start_time": "2021-07-26T04:50:36.277Z"
   },
   {
    "duration": 11,
    "start_time": "2021-07-26T04:50:36.921Z"
   },
   {
    "duration": 747,
    "start_time": "2021-07-26T04:50:36.934Z"
   },
   {
    "duration": 714,
    "start_time": "2021-07-26T04:50:37.685Z"
   },
   {
    "duration": 11,
    "start_time": "2021-07-26T04:50:38.404Z"
   },
   {
    "duration": 773,
    "start_time": "2021-07-26T04:50:38.418Z"
   },
   {
    "duration": 230,
    "start_time": "2021-07-26T04:50:39.194Z"
   },
   {
    "duration": 474,
    "start_time": "2021-07-26T04:50:39.427Z"
   },
   {
    "duration": 7,
    "start_time": "2021-07-26T04:50:39.903Z"
   },
   {
    "duration": 631,
    "start_time": "2021-07-26T04:50:39.912Z"
   },
   {
    "duration": 6,
    "start_time": "2021-07-26T04:50:40.546Z"
   },
   {
    "duration": 31,
    "start_time": "2021-07-26T04:50:40.554Z"
   },
   {
    "duration": 628,
    "start_time": "2021-07-26T04:50:40.588Z"
   },
   {
    "duration": 654,
    "start_time": "2021-07-26T04:50:41.219Z"
   },
   {
    "duration": 14,
    "start_time": "2021-07-26T04:50:41.876Z"
   },
   {
    "duration": 14,
    "start_time": "2021-07-26T05:10:02.066Z"
   },
   {
    "duration": 12,
    "start_time": "2021-07-26T05:10:25.534Z"
   },
   {
    "duration": 14,
    "start_time": "2021-07-26T05:17:56.414Z"
   },
   {
    "duration": 14,
    "start_time": "2021-07-26T05:18:35.634Z"
   },
   {
    "duration": 19,
    "start_time": "2021-07-26T05:18:55.547Z"
   },
   {
    "duration": 522,
    "start_time": "2021-07-26T05:27:34.427Z"
   },
   {
    "duration": 366,
    "start_time": "2021-07-26T05:27:45.969Z"
   },
   {
    "duration": 14,
    "start_time": "2021-07-26T05:27:48.263Z"
   },
   {
    "duration": 1004,
    "start_time": "2021-07-26T05:28:44.028Z"
   },
   {
    "duration": 310,
    "start_time": "2021-07-26T05:33:33.863Z"
   },
   {
    "duration": 11,
    "start_time": "2021-07-26T05:33:54.692Z"
   },
   {
    "duration": 285,
    "start_time": "2021-07-26T05:34:23.660Z"
   },
   {
    "duration": 279,
    "start_time": "2021-07-26T05:34:56.348Z"
   },
   {
    "duration": 12,
    "start_time": "2021-07-26T05:34:59.207Z"
   },
   {
    "duration": 1430,
    "start_time": "2021-07-26T05:40:50.129Z"
   },
   {
    "duration": 42,
    "start_time": "2021-07-26T05:40:51.562Z"
   },
   {
    "duration": 14,
    "start_time": "2021-07-26T05:40:51.609Z"
   },
   {
    "duration": 5,
    "start_time": "2021-07-26T05:40:51.627Z"
   },
   {
    "duration": 52,
    "start_time": "2021-07-26T05:40:51.635Z"
   },
   {
    "duration": 22,
    "start_time": "2021-07-26T05:40:51.690Z"
   },
   {
    "duration": 55,
    "start_time": "2021-07-26T05:40:51.715Z"
   },
   {
    "duration": 12,
    "start_time": "2021-07-26T05:40:51.775Z"
   },
   {
    "duration": 12,
    "start_time": "2021-07-26T05:40:51.791Z"
   },
   {
    "duration": 26,
    "start_time": "2021-07-26T05:40:51.807Z"
   },
   {
    "duration": 12,
    "start_time": "2021-07-26T05:40:51.836Z"
   },
   {
    "duration": 38,
    "start_time": "2021-07-26T05:40:51.851Z"
   },
   {
    "duration": 7,
    "start_time": "2021-07-26T05:40:51.893Z"
   },
   {
    "duration": 7,
    "start_time": "2021-07-26T05:40:51.903Z"
   },
   {
    "duration": 9,
    "start_time": "2021-07-26T05:40:51.913Z"
   },
   {
    "duration": 11,
    "start_time": "2021-07-26T05:40:51.925Z"
   },
   {
    "duration": 399,
    "start_time": "2021-07-26T05:40:51.938Z"
   },
   {
    "duration": 289,
    "start_time": "2021-07-26T05:40:52.339Z"
   },
   {
    "duration": 12,
    "start_time": "2021-07-26T05:40:52.630Z"
   },
   {
    "duration": 688,
    "start_time": "2021-07-26T05:40:52.644Z"
   },
   {
    "duration": 657,
    "start_time": "2021-07-26T05:40:53.335Z"
   },
   {
    "duration": 13,
    "start_time": "2021-07-26T05:40:53.995Z"
   },
   {
    "duration": 806,
    "start_time": "2021-07-26T05:40:54.016Z"
   },
   {
    "duration": 16,
    "start_time": "2021-07-26T05:40:54.824Z"
   },
   {
    "duration": 1077,
    "start_time": "2021-07-26T05:40:54.843Z"
   },
   {
    "duration": 18,
    "start_time": "2021-07-26T05:40:55.923Z"
   },
   {
    "duration": 1142,
    "start_time": "2021-07-26T05:40:55.944Z"
   },
   {
    "duration": 237,
    "start_time": "2021-07-26T05:40:57.089Z"
   },
   {
    "duration": 494,
    "start_time": "2021-07-26T05:40:57.329Z"
   },
   {
    "duration": 8,
    "start_time": "2021-07-26T05:40:57.825Z"
   },
   {
    "duration": 630,
    "start_time": "2021-07-26T05:40:57.835Z"
   },
   {
    "duration": 8,
    "start_time": "2021-07-26T05:40:58.467Z"
   },
   {
    "duration": 13,
    "start_time": "2021-07-26T05:40:58.485Z"
   },
   {
    "duration": 593,
    "start_time": "2021-07-26T05:40:58.501Z"
   },
   {
    "duration": 699,
    "start_time": "2021-07-26T05:40:59.097Z"
   },
   {
    "duration": 7,
    "start_time": "2021-07-26T05:40:59.799Z"
   },
   {
    "duration": 530,
    "start_time": "2021-07-26T05:40:59.808Z"
   },
   {
    "duration": 170,
    "start_time": "2021-07-26T05:41:00.170Z"
   },
   {
    "duration": 168,
    "start_time": "2021-07-26T05:41:00.174Z"
   },
   {
    "duration": 11,
    "start_time": "2021-07-26T05:54:27.306Z"
   },
   {
    "duration": 29,
    "start_time": "2021-07-26T05:54:28.894Z"
   },
   {
    "duration": 430,
    "start_time": "2021-07-26T06:49:20.760Z"
   },
   {
    "duration": 13,
    "start_time": "2021-07-26T06:49:32.803Z"
   },
   {
    "duration": 13,
    "start_time": "2021-07-26T06:52:06.884Z"
   },
   {
    "duration": 8,
    "start_time": "2021-07-26T07:08:40.794Z"
   },
   {
    "duration": 10,
    "start_time": "2021-07-26T07:08:45.590Z"
   },
   {
    "duration": 14,
    "start_time": "2021-07-26T07:09:03.397Z"
   },
   {
    "duration": 13,
    "start_time": "2021-07-26T07:11:03.076Z"
   },
   {
    "duration": 13,
    "start_time": "2021-07-26T07:11:05.667Z"
   },
   {
    "duration": 470,
    "start_time": "2021-07-26T07:28:49.966Z"
   },
   {
    "duration": 127,
    "start_time": "2021-07-26T07:28:54.522Z"
   },
   {
    "duration": 124,
    "start_time": "2021-07-26T07:29:09.554Z"
   },
   {
    "duration": 184,
    "start_time": "2021-07-26T07:30:30.670Z"
   },
   {
    "duration": 10756,
    "start_time": "2021-07-26T07:30:47.686Z"
   },
   {
    "duration": 46,
    "start_time": "2021-07-26T07:32:58.523Z"
   },
   {
    "duration": 6,
    "start_time": "2021-07-26T07:33:05.432Z"
   },
   {
    "duration": 12,
    "start_time": "2021-07-26T07:33:25.747Z"
   },
   {
    "duration": 5,
    "start_time": "2021-07-26T07:34:07.075Z"
   },
   {
    "duration": 12,
    "start_time": "2021-07-26T07:34:08.699Z"
   },
   {
    "duration": 10437,
    "start_time": "2021-07-26T07:34:10.139Z"
   },
   {
    "duration": 256,
    "start_time": "2021-07-26T07:34:20.323Z"
   },
   {
    "duration": 426,
    "start_time": "2021-07-26T07:34:59.423Z"
   },
   {
    "duration": 39,
    "start_time": "2021-07-26T07:35:32.840Z"
   },
   {
    "duration": 5,
    "start_time": "2021-07-26T07:35:34.711Z"
   },
   {
    "duration": 415,
    "start_time": "2021-07-26T07:35:43.263Z"
   },
   {
    "duration": 5,
    "start_time": "2021-07-26T07:36:18.163Z"
   },
   {
    "duration": 11,
    "start_time": "2021-07-26T07:36:19.079Z"
   },
   {
    "duration": 11,
    "start_time": "2021-07-26T07:36:22.531Z"
   },
   {
    "duration": 12,
    "start_time": "2021-07-26T07:41:46.851Z"
   },
   {
    "duration": 39,
    "start_time": "2021-07-26T07:42:45.743Z"
   },
   {
    "duration": 8,
    "start_time": "2021-07-26T07:47:18.864Z"
   },
   {
    "duration": 485,
    "start_time": "2021-07-26T08:10:11.194Z"
   },
   {
    "duration": 422,
    "start_time": "2021-07-26T08:10:24.209Z"
   },
   {
    "duration": 14,
    "start_time": "2021-07-26T08:10:51.717Z"
   },
   {
    "duration": 13,
    "start_time": "2021-07-26T08:11:12.524Z"
   },
   {
    "duration": 420,
    "start_time": "2021-07-26T08:12:04.393Z"
   },
   {
    "duration": 406,
    "start_time": "2021-07-26T08:12:15.813Z"
   },
   {
    "duration": 1731,
    "start_time": "2021-07-26T08:13:13.473Z"
   },
   {
    "duration": 45,
    "start_time": "2021-07-26T08:13:15.209Z"
   },
   {
    "duration": 29,
    "start_time": "2021-07-26T08:13:15.259Z"
   },
   {
    "duration": 6,
    "start_time": "2021-07-26T08:13:15.293Z"
   },
   {
    "duration": 20,
    "start_time": "2021-07-26T08:13:15.303Z"
   },
   {
    "duration": 16,
    "start_time": "2021-07-26T08:13:15.326Z"
   },
   {
    "duration": 119,
    "start_time": "2021-07-26T08:13:15.345Z"
   },
   {
    "duration": 9,
    "start_time": "2021-07-26T08:13:15.468Z"
   },
   {
    "duration": 23,
    "start_time": "2021-07-26T08:13:15.480Z"
   },
   {
    "duration": 25,
    "start_time": "2021-07-26T08:13:15.506Z"
   },
   {
    "duration": 17,
    "start_time": "2021-07-26T08:13:15.534Z"
   },
   {
    "duration": 18,
    "start_time": "2021-07-26T08:13:15.553Z"
   },
   {
    "duration": 18,
    "start_time": "2021-07-26T08:13:15.574Z"
   },
   {
    "duration": 7,
    "start_time": "2021-07-26T08:13:15.600Z"
   },
   {
    "duration": 15,
    "start_time": "2021-07-26T08:13:15.610Z"
   },
   {
    "duration": 19,
    "start_time": "2021-07-26T08:13:15.628Z"
   },
   {
    "duration": 379,
    "start_time": "2021-07-26T08:13:15.649Z"
   },
   {
    "duration": 288,
    "start_time": "2021-07-26T08:13:16.030Z"
   },
   {
    "duration": 12,
    "start_time": "2021-07-26T08:13:16.322Z"
   },
   {
    "duration": 890,
    "start_time": "2021-07-26T08:13:16.336Z"
   },
   {
    "duration": 872,
    "start_time": "2021-07-26T08:13:17.229Z"
   },
   {
    "duration": 12,
    "start_time": "2021-07-26T08:13:18.103Z"
   },
   {
    "duration": 851,
    "start_time": "2021-07-26T08:13:18.121Z"
   },
   {
    "duration": 27,
    "start_time": "2021-07-26T08:13:18.975Z"
   },
   {
    "duration": 756,
    "start_time": "2021-07-26T08:13:19.005Z"
   },
   {
    "duration": 23,
    "start_time": "2021-07-26T08:13:19.764Z"
   },
   {
    "duration": 828,
    "start_time": "2021-07-26T08:13:19.790Z"
   },
   {
    "duration": 246,
    "start_time": "2021-07-26T08:13:20.621Z"
   },
   {
    "duration": 506,
    "start_time": "2021-07-26T08:13:20.871Z"
   },
   {
    "duration": 14,
    "start_time": "2021-07-26T08:13:21.380Z"
   },
   {
    "duration": 652,
    "start_time": "2021-07-26T08:13:21.398Z"
   },
   {
    "duration": 8,
    "start_time": "2021-07-26T08:13:22.053Z"
   },
   {
    "duration": 31,
    "start_time": "2021-07-26T08:13:22.064Z"
   },
   {
    "duration": 545,
    "start_time": "2021-07-26T08:13:22.098Z"
   },
   {
    "duration": 758,
    "start_time": "2021-07-26T08:13:22.646Z"
   },
   {
    "duration": 7,
    "start_time": "2021-07-26T08:13:23.407Z"
   },
   {
    "duration": 68,
    "start_time": "2021-07-26T08:13:23.418Z"
   },
   {
    "duration": 12,
    "start_time": "2021-07-26T08:13:23.489Z"
   },
   {
    "duration": 18,
    "start_time": "2021-07-26T08:13:23.504Z"
   },
   {
    "duration": 20,
    "start_time": "2021-07-26T08:13:23.524Z"
   },
   {
    "duration": 19,
    "start_time": "2021-07-26T08:13:23.547Z"
   },
   {
    "duration": 37,
    "start_time": "2021-07-26T08:13:23.569Z"
   },
   {
    "duration": 21,
    "start_time": "2021-07-26T08:13:23.609Z"
   },
   {
    "duration": 12,
    "start_time": "2021-07-26T08:13:45.038Z"
   },
   {
    "duration": 23,
    "start_time": "2021-07-26T08:15:22.446Z"
   },
   {
    "duration": 19,
    "start_time": "2021-07-26T08:15:26.772Z"
   },
   {
    "duration": 27,
    "start_time": "2021-07-26T08:18:19.599Z"
   },
   {
    "duration": 20,
    "start_time": "2021-07-26T08:18:22.269Z"
   },
   {
    "duration": 1477,
    "start_time": "2021-07-26T08:30:50.787Z"
   },
   {
    "duration": 39,
    "start_time": "2021-07-26T08:30:52.267Z"
   },
   {
    "duration": 19,
    "start_time": "2021-07-26T08:30:52.309Z"
   },
   {
    "duration": 17,
    "start_time": "2021-07-26T08:30:52.331Z"
   },
   {
    "duration": 33,
    "start_time": "2021-07-26T08:30:52.351Z"
   },
   {
    "duration": 38,
    "start_time": "2021-07-26T08:30:52.389Z"
   },
   {
    "duration": 76,
    "start_time": "2021-07-26T08:30:52.431Z"
   },
   {
    "duration": 10,
    "start_time": "2021-07-26T08:30:52.511Z"
   },
   {
    "duration": 35,
    "start_time": "2021-07-26T08:30:52.524Z"
   },
   {
    "duration": 47,
    "start_time": "2021-07-26T08:30:52.562Z"
   },
   {
    "duration": 30,
    "start_time": "2021-07-26T08:30:52.611Z"
   },
   {
    "duration": 26,
    "start_time": "2021-07-26T08:30:52.643Z"
   },
   {
    "duration": 28,
    "start_time": "2021-07-26T08:30:52.671Z"
   },
   {
    "duration": 23,
    "start_time": "2021-07-26T08:30:52.701Z"
   },
   {
    "duration": 20,
    "start_time": "2021-07-26T08:30:52.727Z"
   },
   {
    "duration": 25,
    "start_time": "2021-07-26T08:30:52.750Z"
   },
   {
    "duration": 395,
    "start_time": "2021-07-26T08:30:52.778Z"
   },
   {
    "duration": 268,
    "start_time": "2021-07-26T08:30:53.175Z"
   },
   {
    "duration": 11,
    "start_time": "2021-07-26T08:30:53.446Z"
   },
   {
    "duration": 779,
    "start_time": "2021-07-26T08:30:53.460Z"
   },
   {
    "duration": 695,
    "start_time": "2021-07-26T08:30:54.241Z"
   },
   {
    "duration": 13,
    "start_time": "2021-07-26T08:30:54.939Z"
   },
   {
    "duration": 859,
    "start_time": "2021-07-26T08:30:54.956Z"
   },
   {
    "duration": 17,
    "start_time": "2021-07-26T08:30:55.819Z"
   },
   {
    "duration": 827,
    "start_time": "2021-07-26T08:30:55.839Z"
   },
   {
    "duration": 35,
    "start_time": "2021-07-26T08:30:56.670Z"
   },
   {
    "duration": 1063,
    "start_time": "2021-07-26T08:30:56.708Z"
   },
   {
    "duration": 279,
    "start_time": "2021-07-26T08:30:57.775Z"
   },
   {
    "duration": 646,
    "start_time": "2021-07-26T08:30:58.058Z"
   },
   {
    "duration": 7,
    "start_time": "2021-07-26T08:30:58.707Z"
   },
   {
    "duration": 738,
    "start_time": "2021-07-26T08:30:58.716Z"
   },
   {
    "duration": 6,
    "start_time": "2021-07-26T08:30:59.457Z"
   },
   {
    "duration": 27,
    "start_time": "2021-07-26T08:30:59.466Z"
   },
   {
    "duration": 566,
    "start_time": "2021-07-26T08:30:59.495Z"
   },
   {
    "duration": 834,
    "start_time": "2021-07-26T08:31:00.063Z"
   },
   {
    "duration": 8,
    "start_time": "2021-07-26T08:31:00.899Z"
   },
   {
    "duration": 55,
    "start_time": "2021-07-26T08:31:00.909Z"
   },
   {
    "duration": 28,
    "start_time": "2021-07-26T08:31:00.966Z"
   },
   {
    "duration": 22,
    "start_time": "2021-07-26T08:31:00.996Z"
   },
   {
    "duration": 30,
    "start_time": "2021-07-26T08:31:01.021Z"
   },
   {
    "duration": 18,
    "start_time": "2021-07-26T08:31:01.053Z"
   },
   {
    "duration": 36,
    "start_time": "2021-07-26T08:31:01.074Z"
   },
   {
    "duration": 25,
    "start_time": "2021-07-26T08:31:01.112Z"
   },
   {
    "duration": 1494,
    "start_time": "2021-07-26T08:34:23.575Z"
   },
   {
    "duration": 54,
    "start_time": "2021-07-26T08:34:25.073Z"
   },
   {
    "duration": 22,
    "start_time": "2021-07-26T08:34:25.131Z"
   },
   {
    "duration": 16,
    "start_time": "2021-07-26T08:34:25.156Z"
   },
   {
    "duration": 33,
    "start_time": "2021-07-26T08:34:25.176Z"
   },
   {
    "duration": 17,
    "start_time": "2021-07-26T08:34:25.211Z"
   },
   {
    "duration": 129,
    "start_time": "2021-07-26T08:34:25.230Z"
   },
   {
    "duration": 16,
    "start_time": "2021-07-26T08:34:25.363Z"
   },
   {
    "duration": 26,
    "start_time": "2021-07-26T08:34:25.382Z"
   },
   {
    "duration": 32,
    "start_time": "2021-07-26T08:34:25.410Z"
   },
   {
    "duration": 8,
    "start_time": "2021-07-26T08:34:25.445Z"
   },
   {
    "duration": 15,
    "start_time": "2021-07-26T08:34:25.455Z"
   },
   {
    "duration": 18,
    "start_time": "2021-07-26T08:34:25.473Z"
   },
   {
    "duration": 21,
    "start_time": "2021-07-26T08:34:25.495Z"
   },
   {
    "duration": 12,
    "start_time": "2021-07-26T08:34:25.518Z"
   },
   {
    "duration": 25,
    "start_time": "2021-07-26T08:34:25.533Z"
   },
   {
    "duration": 375,
    "start_time": "2021-07-26T08:34:25.561Z"
   },
   {
    "duration": 299,
    "start_time": "2021-07-26T08:34:25.939Z"
   },
   {
    "duration": 12,
    "start_time": "2021-07-26T08:34:26.240Z"
   },
   {
    "duration": 704,
    "start_time": "2021-07-26T08:34:26.255Z"
   },
   {
    "duration": 709,
    "start_time": "2021-07-26T08:34:26.962Z"
   },
   {
    "duration": 20,
    "start_time": "2021-07-26T08:34:27.674Z"
   },
   {
    "duration": 830,
    "start_time": "2021-07-26T08:34:27.702Z"
   },
   {
    "duration": 15,
    "start_time": "2021-07-26T08:34:28.535Z"
   },
   {
    "duration": 698,
    "start_time": "2021-07-26T08:34:28.552Z"
   },
   {
    "duration": 12,
    "start_time": "2021-07-26T08:34:29.253Z"
   },
   {
    "duration": 875,
    "start_time": "2021-07-26T08:34:29.267Z"
   },
   {
    "duration": 216,
    "start_time": "2021-07-26T08:34:30.144Z"
   },
   {
    "duration": 491,
    "start_time": "2021-07-26T08:34:30.362Z"
   },
   {
    "duration": 6,
    "start_time": "2021-07-26T08:34:30.856Z"
   },
   {
    "duration": 711,
    "start_time": "2021-07-26T08:34:30.865Z"
   },
   {
    "duration": 14,
    "start_time": "2021-07-26T08:34:31.579Z"
   },
   {
    "duration": 27,
    "start_time": "2021-07-26T08:34:31.597Z"
   },
   {
    "duration": 558,
    "start_time": "2021-07-26T08:34:31.627Z"
   },
   {
    "duration": 691,
    "start_time": "2021-07-26T08:34:32.187Z"
   },
   {
    "duration": 18,
    "start_time": "2021-07-26T08:34:32.880Z"
   },
   {
    "duration": 48,
    "start_time": "2021-07-26T08:34:32.902Z"
   },
   {
    "duration": 9,
    "start_time": "2021-07-26T08:34:32.953Z"
   },
   {
    "duration": 40,
    "start_time": "2021-07-26T08:34:32.965Z"
   },
   {
    "duration": 39,
    "start_time": "2021-07-26T08:34:33.007Z"
   },
   {
    "duration": 24,
    "start_time": "2021-07-26T08:34:33.049Z"
   },
   {
    "duration": 52,
    "start_time": "2021-07-26T08:34:33.076Z"
   },
   {
    "duration": 16,
    "start_time": "2021-07-26T08:34:33.131Z"
   },
   {
    "duration": 18,
    "start_time": "2021-07-26T08:44:38.867Z"
   },
   {
    "duration": 120,
    "start_time": "2021-07-26T08:46:18.783Z"
   },
   {
    "duration": 9,
    "start_time": "2021-07-26T08:46:20.263Z"
   },
   {
    "duration": 8,
    "start_time": "2021-07-26T08:46:42.007Z"
   },
   {
    "duration": 9,
    "start_time": "2021-07-26T08:55:27.000Z"
   },
   {
    "duration": 6,
    "start_time": "2021-07-26T09:00:37.728Z"
   },
   {
    "duration": 5,
    "start_time": "2021-07-26T09:01:32.688Z"
   },
   {
    "duration": 539,
    "start_time": "2021-07-26T09:02:56.693Z"
   },
   {
    "duration": 391,
    "start_time": "2021-07-26T09:03:08.674Z"
   },
   {
    "duration": 1378,
    "start_time": "2021-07-26T09:03:21.211Z"
   },
   {
    "duration": 32,
    "start_time": "2021-07-26T09:03:22.592Z"
   },
   {
    "duration": 10,
    "start_time": "2021-07-26T09:03:22.629Z"
   },
   {
    "duration": 9,
    "start_time": "2021-07-26T09:03:22.642Z"
   },
   {
    "duration": 43,
    "start_time": "2021-07-26T09:03:22.653Z"
   },
   {
    "duration": 15,
    "start_time": "2021-07-26T09:03:22.699Z"
   },
   {
    "duration": 60,
    "start_time": "2021-07-26T09:03:22.717Z"
   },
   {
    "duration": 10,
    "start_time": "2021-07-26T09:03:22.781Z"
   },
   {
    "duration": 10,
    "start_time": "2021-07-26T09:03:22.794Z"
   },
   {
    "duration": 26,
    "start_time": "2021-07-26T09:03:22.807Z"
   },
   {
    "duration": 9,
    "start_time": "2021-07-26T09:03:22.835Z"
   },
   {
    "duration": 38,
    "start_time": "2021-07-26T09:03:22.847Z"
   },
   {
    "duration": 7,
    "start_time": "2021-07-26T09:03:22.888Z"
   },
   {
    "duration": 9,
    "start_time": "2021-07-26T09:03:22.898Z"
   },
   {
    "duration": 12,
    "start_time": "2021-07-26T09:03:22.909Z"
   },
   {
    "duration": 15,
    "start_time": "2021-07-26T09:03:22.923Z"
   },
   {
    "duration": 393,
    "start_time": "2021-07-26T09:03:22.941Z"
   },
   {
    "duration": 308,
    "start_time": "2021-07-26T09:03:23.336Z"
   },
   {
    "duration": 12,
    "start_time": "2021-07-26T09:03:23.647Z"
   },
   {
    "duration": 693,
    "start_time": "2021-07-26T09:03:23.662Z"
   },
   {
    "duration": 788,
    "start_time": "2021-07-26T09:03:24.358Z"
   },
   {
    "duration": 13,
    "start_time": "2021-07-26T09:03:25.148Z"
   },
   {
    "duration": 886,
    "start_time": "2021-07-26T09:03:25.166Z"
   },
   {
    "duration": 34,
    "start_time": "2021-07-26T09:03:26.056Z"
   },
   {
    "duration": 897,
    "start_time": "2021-07-26T09:03:26.093Z"
   },
   {
    "duration": 12,
    "start_time": "2021-07-26T09:03:26.993Z"
   },
   {
    "duration": 792,
    "start_time": "2021-07-26T09:03:27.007Z"
   },
   {
    "duration": 200,
    "start_time": "2021-07-26T09:03:27.802Z"
   },
   {
    "duration": 485,
    "start_time": "2021-07-26T09:03:28.005Z"
   },
   {
    "duration": 7,
    "start_time": "2021-07-26T09:03:28.492Z"
   },
   {
    "duration": 644,
    "start_time": "2021-07-26T09:03:28.502Z"
   },
   {
    "duration": 8,
    "start_time": "2021-07-26T09:03:29.149Z"
   },
   {
    "duration": 12,
    "start_time": "2021-07-26T09:03:29.160Z"
   },
   {
    "duration": 652,
    "start_time": "2021-07-26T09:03:29.175Z"
   },
   {
    "duration": 965,
    "start_time": "2021-07-26T09:03:29.829Z"
   },
   {
    "duration": 7,
    "start_time": "2021-07-26T09:03:30.796Z"
   },
   {
    "duration": 48,
    "start_time": "2021-07-26T09:03:30.805Z"
   },
   {
    "duration": 10,
    "start_time": "2021-07-26T09:03:30.855Z"
   },
   {
    "duration": 12,
    "start_time": "2021-07-26T09:03:30.886Z"
   },
   {
    "duration": 23,
    "start_time": "2021-07-26T09:03:30.901Z"
   },
   {
    "duration": 27,
    "start_time": "2021-07-26T09:03:30.926Z"
   },
   {
    "duration": 43,
    "start_time": "2021-07-26T09:03:30.955Z"
   },
   {
    "duration": 33,
    "start_time": "2021-07-26T09:03:31.000Z"
   },
   {
    "duration": 27,
    "start_time": "2021-07-26T09:03:31.035Z"
   },
   {
    "duration": 238,
    "start_time": "2021-07-26T09:03:31.064Z"
   },
   {
    "duration": 5,
    "start_time": "2021-07-26T09:03:31.304Z"
   },
   {
    "duration": 19,
    "start_time": "2021-07-26T09:03:31.312Z"
   },
   {
    "duration": 31,
    "start_time": "2021-07-26T09:03:31.333Z"
   },
   {
    "duration": 22,
    "start_time": "2021-07-26T09:03:31.366Z"
   },
   {
    "duration": 35,
    "start_time": "2021-07-26T09:03:31.391Z"
   },
   {
    "duration": 10,
    "start_time": "2021-07-26T09:05:45.359Z"
   },
   {
    "duration": 526,
    "start_time": "2021-07-26T09:19:19.484Z"
   },
   {
    "duration": 12,
    "start_time": "2021-07-26T09:19:39.739Z"
   },
   {
    "duration": 416,
    "start_time": "2021-07-26T09:22:13.388Z"
   },
   {
    "duration": 1365,
    "start_time": "2021-07-26T09:22:29.327Z"
   },
   {
    "duration": 32,
    "start_time": "2021-07-26T09:22:30.695Z"
   },
   {
    "duration": 17,
    "start_time": "2021-07-26T09:22:30.730Z"
   },
   {
    "duration": 19,
    "start_time": "2021-07-26T09:22:30.750Z"
   },
   {
    "duration": 25,
    "start_time": "2021-07-26T09:22:30.771Z"
   },
   {
    "duration": 25,
    "start_time": "2021-07-26T09:22:30.798Z"
   },
   {
    "duration": 63,
    "start_time": "2021-07-26T09:22:30.826Z"
   },
   {
    "duration": 8,
    "start_time": "2021-07-26T09:22:30.892Z"
   },
   {
    "duration": 20,
    "start_time": "2021-07-26T09:22:30.905Z"
   },
   {
    "duration": 37,
    "start_time": "2021-07-26T09:22:30.928Z"
   },
   {
    "duration": 14,
    "start_time": "2021-07-26T09:22:30.967Z"
   },
   {
    "duration": 16,
    "start_time": "2021-07-26T09:22:30.984Z"
   },
   {
    "duration": 21,
    "start_time": "2021-07-26T09:22:31.003Z"
   },
   {
    "duration": 29,
    "start_time": "2021-07-26T09:22:31.027Z"
   },
   {
    "duration": 28,
    "start_time": "2021-07-26T09:22:31.059Z"
   },
   {
    "duration": 34,
    "start_time": "2021-07-26T09:22:31.090Z"
   },
   {
    "duration": 352,
    "start_time": "2021-07-26T09:22:31.127Z"
   },
   {
    "duration": 268,
    "start_time": "2021-07-26T09:22:31.481Z"
   },
   {
    "duration": 12,
    "start_time": "2021-07-26T09:22:31.751Z"
   },
   {
    "duration": 685,
    "start_time": "2021-07-26T09:22:31.766Z"
   },
   {
    "duration": 647,
    "start_time": "2021-07-26T09:22:32.453Z"
   },
   {
    "duration": 12,
    "start_time": "2021-07-26T09:22:33.103Z"
   },
   {
    "duration": 766,
    "start_time": "2021-07-26T09:22:33.120Z"
   },
   {
    "duration": 14,
    "start_time": "2021-07-26T09:22:33.889Z"
   },
   {
    "duration": 751,
    "start_time": "2021-07-26T09:22:33.906Z"
   },
   {
    "duration": 800,
    "start_time": "2021-07-26T09:22:34.660Z"
   },
   {
    "duration": 24,
    "start_time": "2021-07-26T09:22:35.463Z"
   },
   {
    "duration": 769,
    "start_time": "2021-07-26T09:22:35.490Z"
   },
   {
    "duration": 193,
    "start_time": "2021-07-26T09:22:36.262Z"
   },
   {
    "duration": 470,
    "start_time": "2021-07-26T09:22:36.457Z"
   },
   {
    "duration": 7,
    "start_time": "2021-07-26T09:22:36.929Z"
   },
   {
    "duration": 610,
    "start_time": "2021-07-26T09:22:36.939Z"
   },
   {
    "duration": 7,
    "start_time": "2021-07-26T09:22:37.551Z"
   },
   {
    "duration": 26,
    "start_time": "2021-07-26T09:22:37.560Z"
   },
   {
    "duration": 578,
    "start_time": "2021-07-26T09:22:37.589Z"
   },
   {
    "duration": 593,
    "start_time": "2021-07-26T09:22:38.170Z"
   },
   {
    "duration": 6,
    "start_time": "2021-07-26T09:22:38.765Z"
   },
   {
    "duration": 47,
    "start_time": "2021-07-26T09:22:38.774Z"
   },
   {
    "duration": 9,
    "start_time": "2021-07-26T09:22:38.823Z"
   },
   {
    "duration": 14,
    "start_time": "2021-07-26T09:22:38.834Z"
   },
   {
    "duration": 7,
    "start_time": "2021-07-26T09:22:38.850Z"
   },
   {
    "duration": 35,
    "start_time": "2021-07-26T09:22:38.859Z"
   },
   {
    "duration": 34,
    "start_time": "2021-07-26T09:22:38.896Z"
   },
   {
    "duration": 17,
    "start_time": "2021-07-26T09:22:38.932Z"
   },
   {
    "duration": 371,
    "start_time": "2021-07-26T09:22:38.951Z"
   },
   {
    "duration": 8,
    "start_time": "2021-07-26T09:22:39.324Z"
   },
   {
    "duration": 13,
    "start_time": "2021-07-26T09:22:39.386Z"
   },
   {
    "duration": 9,
    "start_time": "2021-07-26T09:27:14.859Z"
   },
   {
    "duration": 15870,
    "start_time": "2021-07-26T12:20:01.772Z"
   },
   {
    "duration": 10971,
    "start_time": "2021-07-26T12:20:36.936Z"
   },
   {
    "duration": 10,
    "start_time": "2021-07-26T12:22:24.141Z"
   },
   {
    "duration": 8,
    "start_time": "2021-07-26T12:34:11.253Z"
   },
   {
    "duration": 249,
    "start_time": "2021-07-26T13:00:08.727Z"
   },
   {
    "duration": 1455,
    "start_time": "2021-07-26T13:00:37.711Z"
   },
   {
    "duration": 32,
    "start_time": "2021-07-26T13:00:39.168Z"
   },
   {
    "duration": 15,
    "start_time": "2021-07-26T13:00:39.203Z"
   },
   {
    "duration": 15,
    "start_time": "2021-07-26T13:00:39.220Z"
   },
   {
    "duration": 23,
    "start_time": "2021-07-26T13:00:39.237Z"
   },
   {
    "duration": 32,
    "start_time": "2021-07-26T13:00:39.263Z"
   },
   {
    "duration": 72,
    "start_time": "2021-07-26T13:00:39.298Z"
   },
   {
    "duration": 8,
    "start_time": "2021-07-26T13:00:39.375Z"
   },
   {
    "duration": 17,
    "start_time": "2021-07-26T13:00:39.386Z"
   },
   {
    "duration": 34,
    "start_time": "2021-07-26T13:00:39.406Z"
   },
   {
    "duration": 15,
    "start_time": "2021-07-26T13:00:39.442Z"
   },
   {
    "duration": 15,
    "start_time": "2021-07-26T13:00:39.459Z"
   },
   {
    "duration": 18,
    "start_time": "2021-07-26T13:00:39.477Z"
   },
   {
    "duration": 14,
    "start_time": "2021-07-26T13:00:39.498Z"
   },
   {
    "duration": 14,
    "start_time": "2021-07-26T13:00:39.515Z"
   },
   {
    "duration": 20,
    "start_time": "2021-07-26T13:00:39.531Z"
   },
   {
    "duration": 364,
    "start_time": "2021-07-26T13:00:39.554Z"
   },
   {
    "duration": 292,
    "start_time": "2021-07-26T13:00:39.920Z"
   },
   {
    "duration": 12,
    "start_time": "2021-07-26T13:00:40.214Z"
   },
   {
    "duration": 689,
    "start_time": "2021-07-26T13:00:40.229Z"
   },
   {
    "duration": 655,
    "start_time": "2021-07-26T13:00:40.921Z"
   },
   {
    "duration": 17,
    "start_time": "2021-07-26T13:00:41.579Z"
   },
   {
    "duration": 789,
    "start_time": "2021-07-26T13:00:41.603Z"
   },
   {
    "duration": 680,
    "start_time": "2021-07-26T13:00:42.395Z"
   },
   {
    "duration": 11,
    "start_time": "2021-07-26T13:00:43.084Z"
   },
   {
    "duration": 872,
    "start_time": "2021-07-26T13:00:43.098Z"
   },
   {
    "duration": 238,
    "start_time": "2021-07-26T13:00:43.973Z"
   },
   {
    "duration": 478,
    "start_time": "2021-07-26T13:00:44.214Z"
   },
   {
    "duration": 7,
    "start_time": "2021-07-26T13:00:44.694Z"
   },
   {
    "duration": 624,
    "start_time": "2021-07-26T13:00:44.704Z"
   },
   {
    "duration": 6,
    "start_time": "2021-07-26T13:00:45.331Z"
   },
   {
    "duration": 14,
    "start_time": "2021-07-26T13:00:45.340Z"
   },
   {
    "duration": 542,
    "start_time": "2021-07-26T13:00:45.356Z"
   },
   {
    "duration": 677,
    "start_time": "2021-07-26T13:00:45.901Z"
   },
   {
    "duration": 8,
    "start_time": "2021-07-26T13:00:46.580Z"
   },
   {
    "duration": 45,
    "start_time": "2021-07-26T13:00:46.591Z"
   },
   {
    "duration": 9,
    "start_time": "2021-07-26T13:00:46.638Z"
   },
   {
    "duration": 41,
    "start_time": "2021-07-26T13:00:46.650Z"
   },
   {
    "duration": 13,
    "start_time": "2021-07-26T13:00:46.693Z"
   },
   {
    "duration": 11,
    "start_time": "2021-07-26T13:00:46.708Z"
   },
   {
    "duration": 26,
    "start_time": "2021-07-26T13:00:46.722Z"
   },
   {
    "duration": 214,
    "start_time": "2021-07-26T13:00:46.751Z"
   },
   {
    "duration": 8,
    "start_time": "2021-07-26T13:00:46.968Z"
   },
   {
    "duration": 549,
    "start_time": "2021-07-26T13:00:46.986Z"
   },
   {
    "duration": 463,
    "start_time": "2021-07-26T13:00:47.074Z"
   },
   {
    "duration": 414,
    "start_time": "2021-07-26T13:00:47.125Z"
   },
   {
    "duration": 385,
    "start_time": "2021-07-26T13:02:12.495Z"
   },
   {
    "duration": 390,
    "start_time": "2021-07-26T13:02:57.075Z"
   },
   {
    "duration": 503,
    "start_time": "2021-07-26T13:03:30.716Z"
   },
   {
    "duration": 10,
    "start_time": "2021-07-26T13:04:07.335Z"
   },
   {
    "duration": 10,
    "start_time": "2021-07-26T13:04:54.671Z"
   },
   {
    "duration": 11,
    "start_time": "2021-07-26T13:06:14.635Z"
   },
   {
    "duration": 10,
    "start_time": "2021-07-26T13:06:23.923Z"
   },
   {
    "duration": 143,
    "start_time": "2021-07-26T13:15:24.979Z"
   },
   {
    "duration": 12,
    "start_time": "2021-07-26T13:15:44.247Z"
   },
   {
    "duration": 408,
    "start_time": "2021-07-26T13:18:08.659Z"
   },
   {
    "duration": 459,
    "start_time": "2021-07-26T13:18:27.844Z"
   },
   {
    "duration": 391,
    "start_time": "2021-07-26T13:18:42.263Z"
   },
   {
    "duration": 1398,
    "start_time": "2021-07-26T13:18:49.287Z"
   },
   {
    "duration": 37,
    "start_time": "2021-07-26T13:18:50.689Z"
   },
   {
    "duration": 9,
    "start_time": "2021-07-26T13:18:50.729Z"
   },
   {
    "duration": 18,
    "start_time": "2021-07-26T13:18:50.741Z"
   },
   {
    "duration": 27,
    "start_time": "2021-07-26T13:18:50.761Z"
   },
   {
    "duration": 16,
    "start_time": "2021-07-26T13:18:50.790Z"
   },
   {
    "duration": 49,
    "start_time": "2021-07-26T13:18:50.809Z"
   },
   {
    "duration": 9,
    "start_time": "2021-07-26T13:18:50.862Z"
   },
   {
    "duration": 18,
    "start_time": "2021-07-26T13:18:50.874Z"
   },
   {
    "duration": 28,
    "start_time": "2021-07-26T13:18:50.895Z"
   },
   {
    "duration": 18,
    "start_time": "2021-07-26T13:18:50.926Z"
   },
   {
    "duration": 22,
    "start_time": "2021-07-26T13:18:50.947Z"
   },
   {
    "duration": 19,
    "start_time": "2021-07-26T13:18:50.971Z"
   },
   {
    "duration": 12,
    "start_time": "2021-07-26T13:18:50.993Z"
   },
   {
    "duration": 21,
    "start_time": "2021-07-26T13:18:51.007Z"
   },
   {
    "duration": 24,
    "start_time": "2021-07-26T13:18:51.031Z"
   },
   {
    "duration": 368,
    "start_time": "2021-07-26T13:18:51.057Z"
   },
   {
    "duration": 283,
    "start_time": "2021-07-26T13:18:51.427Z"
   },
   {
    "duration": 30,
    "start_time": "2021-07-26T13:18:51.712Z"
   },
   {
    "duration": 736,
    "start_time": "2021-07-26T13:18:51.745Z"
   },
   {
    "duration": 665,
    "start_time": "2021-07-26T13:18:52.484Z"
   },
   {
    "duration": 11,
    "start_time": "2021-07-26T13:18:53.151Z"
   },
   {
    "duration": 781,
    "start_time": "2021-07-26T13:18:53.167Z"
   },
   {
    "duration": 788,
    "start_time": "2021-07-26T13:18:53.951Z"
   },
   {
    "duration": 11,
    "start_time": "2021-07-26T13:18:54.741Z"
   },
   {
    "duration": 741,
    "start_time": "2021-07-26T13:18:54.755Z"
   },
   {
    "duration": 226,
    "start_time": "2021-07-26T13:18:55.499Z"
   },
   {
    "duration": 531,
    "start_time": "2021-07-26T13:18:55.727Z"
   },
   {
    "duration": 7,
    "start_time": "2021-07-26T13:18:56.261Z"
   },
   {
    "duration": 738,
    "start_time": "2021-07-26T13:18:56.270Z"
   },
   {
    "duration": 9,
    "start_time": "2021-07-26T13:18:57.011Z"
   },
   {
    "duration": 15,
    "start_time": "2021-07-26T13:18:57.022Z"
   },
   {
    "duration": 535,
    "start_time": "2021-07-26T13:18:57.039Z"
   },
   {
    "duration": 726,
    "start_time": "2021-07-26T13:18:57.576Z"
   },
   {
    "duration": 10,
    "start_time": "2021-07-26T13:18:58.305Z"
   },
   {
    "duration": 51,
    "start_time": "2021-07-26T13:18:58.318Z"
   },
   {
    "duration": 27,
    "start_time": "2021-07-26T13:18:58.372Z"
   },
   {
    "duration": 19,
    "start_time": "2021-07-26T13:18:58.403Z"
   },
   {
    "duration": 12,
    "start_time": "2021-07-26T13:18:58.424Z"
   },
   {
    "duration": 29,
    "start_time": "2021-07-26T13:18:58.439Z"
   },
   {
    "duration": 36,
    "start_time": "2021-07-26T13:18:58.471Z"
   },
   {
    "duration": 257,
    "start_time": "2021-07-26T13:18:58.510Z"
   },
   {
    "duration": 8,
    "start_time": "2021-07-26T13:18:58.769Z"
   },
   {
    "duration": 26,
    "start_time": "2021-07-26T13:18:58.779Z"
   },
   {
    "duration": 13,
    "start_time": "2021-07-26T13:18:58.808Z"
   },
   {
    "duration": 20,
    "start_time": "2021-07-26T13:18:58.824Z"
   },
   {
    "duration": 619,
    "start_time": "2021-07-26T13:29:45.436Z"
   },
   {
    "duration": 23,
    "start_time": "2021-07-26T13:30:29.844Z"
   },
   {
    "duration": 13,
    "start_time": "2021-07-26T13:35:53.018Z"
   },
   {
    "duration": 28,
    "start_time": "2021-07-26T13:45:55.147Z"
   },
   {
    "duration": 12,
    "start_time": "2021-07-26T14:15:09.502Z"
   },
   {
    "duration": 10,
    "start_time": "2021-07-26T15:13:46.457Z"
   },
   {
    "duration": 6,
    "start_time": "2021-07-26T15:13:47.654Z"
   },
   {
    "duration": 10,
    "start_time": "2021-07-26T15:14:20.858Z"
   },
   {
    "duration": 7,
    "start_time": "2021-07-26T15:14:22.198Z"
   },
   {
    "duration": 5,
    "start_time": "2021-07-26T15:18:58.746Z"
   },
   {
    "duration": 6,
    "start_time": "2021-07-26T15:19:14.310Z"
   },
   {
    "duration": 6,
    "start_time": "2021-07-26T15:19:58.750Z"
   },
   {
    "duration": 10,
    "start_time": "2021-07-26T15:20:14.042Z"
   },
   {
    "duration": 5,
    "start_time": "2021-07-26T15:20:16.702Z"
   },
   {
    "duration": 7,
    "start_time": "2021-07-26T15:20:18.446Z"
   },
   {
    "duration": 7,
    "start_time": "2021-07-26T15:20:31.518Z"
   },
   {
    "duration": 7,
    "start_time": "2021-07-26T15:21:06.658Z"
   },
   {
    "duration": 7,
    "start_time": "2021-07-26T15:21:08.050Z"
   },
   {
    "duration": 10,
    "start_time": "2021-07-26T15:21:46.890Z"
   },
   {
    "duration": 6,
    "start_time": "2021-07-26T15:21:47.674Z"
   },
   {
    "duration": 6,
    "start_time": "2021-07-26T15:21:48.746Z"
   },
   {
    "duration": 9,
    "start_time": "2021-07-26T15:24:29.310Z"
   },
   {
    "duration": 6,
    "start_time": "2021-07-26T15:24:31.154Z"
   },
   {
    "duration": 5,
    "start_time": "2021-07-26T15:24:32.602Z"
   },
   {
    "duration": 428,
    "start_time": "2021-07-26T15:25:19.091Z"
   },
   {
    "duration": 398,
    "start_time": "2021-07-26T15:27:39.527Z"
   },
   {
    "duration": 7,
    "start_time": "2021-07-26T15:28:43.763Z"
   },
   {
    "duration": 7,
    "start_time": "2021-07-26T15:32:33.162Z"
   },
   {
    "duration": 4,
    "start_time": "2021-07-26T15:32:34.099Z"
   },
   {
    "duration": 8,
    "start_time": "2021-07-26T15:32:52.994Z"
   },
   {
    "duration": 407,
    "start_time": "2021-07-26T15:40:28.758Z"
   },
   {
    "duration": 11,
    "start_time": "2021-07-26T15:43:35.870Z"
   },
   {
    "duration": 1462,
    "start_time": "2021-07-26T15:47:34.674Z"
   },
   {
    "duration": 32,
    "start_time": "2021-07-26T15:47:36.139Z"
   },
   {
    "duration": 13,
    "start_time": "2021-07-26T15:47:36.175Z"
   },
   {
    "duration": 14,
    "start_time": "2021-07-26T15:47:36.191Z"
   },
   {
    "duration": 33,
    "start_time": "2021-07-26T15:47:36.207Z"
   },
   {
    "duration": 14,
    "start_time": "2021-07-26T15:47:36.243Z"
   },
   {
    "duration": 92,
    "start_time": "2021-07-26T15:47:36.259Z"
   },
   {
    "duration": 8,
    "start_time": "2021-07-26T15:47:36.355Z"
   },
   {
    "duration": 12,
    "start_time": "2021-07-26T15:47:36.367Z"
   },
   {
    "duration": 35,
    "start_time": "2021-07-26T15:47:36.382Z"
   },
   {
    "duration": 15,
    "start_time": "2021-07-26T15:47:36.420Z"
   },
   {
    "duration": 13,
    "start_time": "2021-07-26T15:47:36.438Z"
   },
   {
    "duration": 20,
    "start_time": "2021-07-26T15:47:36.454Z"
   },
   {
    "duration": 20,
    "start_time": "2021-07-26T15:47:36.476Z"
   },
   {
    "duration": 19,
    "start_time": "2021-07-26T15:47:36.499Z"
   },
   {
    "duration": 22,
    "start_time": "2021-07-26T15:47:36.520Z"
   },
   {
    "duration": 371,
    "start_time": "2021-07-26T15:47:36.544Z"
   },
   {
    "duration": 287,
    "start_time": "2021-07-26T15:47:36.918Z"
   },
   {
    "duration": 11,
    "start_time": "2021-07-26T15:47:37.208Z"
   },
   {
    "duration": 674,
    "start_time": "2021-07-26T15:47:37.221Z"
   },
   {
    "duration": 646,
    "start_time": "2021-07-26T15:47:37.898Z"
   },
   {
    "duration": 11,
    "start_time": "2021-07-26T15:47:38.547Z"
   },
   {
    "duration": 796,
    "start_time": "2021-07-26T15:47:38.564Z"
   },
   {
    "duration": 684,
    "start_time": "2021-07-26T15:47:39.364Z"
   },
   {
    "duration": 15,
    "start_time": "2021-07-26T15:47:40.051Z"
   },
   {
    "duration": 974,
    "start_time": "2021-07-26T15:47:40.094Z"
   },
   {
    "duration": 203,
    "start_time": "2021-07-26T15:47:41.070Z"
   },
   {
    "duration": 471,
    "start_time": "2021-07-26T15:47:41.275Z"
   },
   {
    "duration": 8,
    "start_time": "2021-07-26T15:47:41.748Z"
   },
   {
    "duration": 589,
    "start_time": "2021-07-26T15:47:41.758Z"
   },
   {
    "duration": 7,
    "start_time": "2021-07-26T15:47:42.350Z"
   },
   {
    "duration": 34,
    "start_time": "2021-07-26T15:47:42.359Z"
   },
   {
    "duration": 528,
    "start_time": "2021-07-26T15:47:42.395Z"
   },
   {
    "duration": 755,
    "start_time": "2021-07-26T15:47:42.925Z"
   },
   {
    "duration": 7,
    "start_time": "2021-07-26T15:47:43.683Z"
   },
   {
    "duration": 42,
    "start_time": "2021-07-26T15:47:43.692Z"
   },
   {
    "duration": 9,
    "start_time": "2021-07-26T15:47:43.737Z"
   },
   {
    "duration": 46,
    "start_time": "2021-07-26T15:47:43.748Z"
   },
   {
    "duration": 12,
    "start_time": "2021-07-26T15:47:43.797Z"
   },
   {
    "duration": 19,
    "start_time": "2021-07-26T15:47:43.811Z"
   },
   {
    "duration": 29,
    "start_time": "2021-07-26T15:47:43.833Z"
   },
   {
    "duration": 29,
    "start_time": "2021-07-26T15:47:43.865Z"
   },
   {
    "duration": 232,
    "start_time": "2021-07-26T15:47:43.897Z"
   },
   {
    "duration": 9,
    "start_time": "2021-07-26T15:47:44.131Z"
   },
   {
    "duration": 23,
    "start_time": "2021-07-26T15:47:44.142Z"
   },
   {
    "duration": 32,
    "start_time": "2021-07-26T15:47:44.167Z"
   },
   {
    "duration": 9,
    "start_time": "2021-07-26T15:47:44.201Z"
   },
   {
    "duration": 15,
    "start_time": "2021-07-26T15:47:44.212Z"
   },
   {
    "duration": 22,
    "start_time": "2021-07-26T15:47:44.230Z"
   },
   {
    "duration": 34,
    "start_time": "2021-07-26T15:47:44.254Z"
   },
   {
    "duration": 10672,
    "start_time": "2021-07-26T16:14:18.232Z"
   },
   {
    "duration": 11,
    "start_time": "2021-07-26T16:17:30.165Z"
   },
   {
    "duration": 31,
    "start_time": "2021-07-26T16:19:09.733Z"
   },
   {
    "duration": 21,
    "start_time": "2021-07-26T16:20:43.420Z"
   },
   {
    "duration": 14,
    "start_time": "2021-07-26T16:21:07.180Z"
   },
   {
    "duration": 32,
    "start_time": "2021-07-26T16:23:24.608Z"
   },
   {
    "duration": 1417,
    "start_time": "2021-07-26T17:08:28.874Z"
   },
   {
    "duration": 33,
    "start_time": "2021-07-26T17:08:30.294Z"
   },
   {
    "duration": 15,
    "start_time": "2021-07-26T17:08:30.330Z"
   },
   {
    "duration": 9,
    "start_time": "2021-07-26T17:08:30.348Z"
   },
   {
    "duration": 31,
    "start_time": "2021-07-26T17:08:30.359Z"
   },
   {
    "duration": 14,
    "start_time": "2021-07-26T17:08:30.393Z"
   },
   {
    "duration": 105,
    "start_time": "2021-07-26T17:08:30.410Z"
   },
   {
    "duration": 9,
    "start_time": "2021-07-26T17:08:30.519Z"
   },
   {
    "duration": 15,
    "start_time": "2021-07-26T17:08:30.531Z"
   },
   {
    "duration": 29,
    "start_time": "2021-07-26T17:08:30.549Z"
   },
   {
    "duration": 26,
    "start_time": "2021-07-26T17:08:30.581Z"
   },
   {
    "duration": 24,
    "start_time": "2021-07-26T17:08:30.609Z"
   },
   {
    "duration": 22,
    "start_time": "2021-07-26T17:08:30.635Z"
   },
   {
    "duration": 22,
    "start_time": "2021-07-26T17:08:30.660Z"
   },
   {
    "duration": 19,
    "start_time": "2021-07-26T17:08:30.685Z"
   },
   {
    "duration": 20,
    "start_time": "2021-07-26T17:08:30.707Z"
   },
   {
    "duration": 365,
    "start_time": "2021-07-26T17:08:30.730Z"
   },
   {
    "duration": 290,
    "start_time": "2021-07-26T17:08:31.097Z"
   },
   {
    "duration": 13,
    "start_time": "2021-07-26T17:08:31.389Z"
   },
   {
    "duration": 705,
    "start_time": "2021-07-26T17:08:31.405Z"
   },
   {
    "duration": 683,
    "start_time": "2021-07-26T17:08:32.112Z"
   },
   {
    "duration": 14,
    "start_time": "2021-07-26T17:08:32.798Z"
   },
   {
    "duration": 795,
    "start_time": "2021-07-26T17:08:32.818Z"
   },
   {
    "duration": 767,
    "start_time": "2021-07-26T17:08:33.618Z"
   },
   {
    "duration": 12,
    "start_time": "2021-07-26T17:08:34.388Z"
   },
   {
    "duration": 763,
    "start_time": "2021-07-26T17:08:34.403Z"
   },
   {
    "duration": 225,
    "start_time": "2021-07-26T17:08:35.168Z"
   },
   {
    "duration": 477,
    "start_time": "2021-07-26T17:08:35.395Z"
   },
   {
    "duration": 13,
    "start_time": "2021-07-26T17:08:35.875Z"
   },
   {
    "duration": 579,
    "start_time": "2021-07-26T17:08:35.891Z"
   },
   {
    "duration": 14,
    "start_time": "2021-07-26T17:08:36.473Z"
   },
   {
    "duration": 12,
    "start_time": "2021-07-26T17:08:36.489Z"
   },
   {
    "duration": 530,
    "start_time": "2021-07-26T17:08:36.504Z"
   },
   {
    "duration": 707,
    "start_time": "2021-07-26T17:08:37.036Z"
   },
   {
    "duration": 9,
    "start_time": "2021-07-26T17:08:37.746Z"
   },
   {
    "duration": 62,
    "start_time": "2021-07-26T17:08:37.758Z"
   },
   {
    "duration": 12,
    "start_time": "2021-07-26T17:08:37.822Z"
   },
   {
    "duration": 15,
    "start_time": "2021-07-26T17:08:37.837Z"
   },
   {
    "duration": 7,
    "start_time": "2021-07-26T17:08:37.886Z"
   },
   {
    "duration": 13,
    "start_time": "2021-07-26T17:08:37.896Z"
   },
   {
    "duration": 25,
    "start_time": "2021-07-26T17:08:37.912Z"
   },
   {
    "duration": 50,
    "start_time": "2021-07-26T17:08:37.940Z"
   },
   {
    "duration": 245,
    "start_time": "2021-07-26T17:08:37.993Z"
   },
   {
    "duration": 8,
    "start_time": "2021-07-26T17:08:38.241Z"
   },
   {
    "duration": 33,
    "start_time": "2021-07-26T17:08:38.252Z"
   },
   {
    "duration": 21,
    "start_time": "2021-07-26T17:08:38.287Z"
   },
   {
    "duration": 8,
    "start_time": "2021-07-26T17:08:38.311Z"
   },
   {
    "duration": 10,
    "start_time": "2021-07-26T17:08:38.321Z"
   },
   {
    "duration": 11,
    "start_time": "2021-07-26T17:08:38.333Z"
   },
   {
    "duration": 49,
    "start_time": "2021-07-26T17:08:38.347Z"
   },
   {
    "duration": 11,
    "start_time": "2021-07-26T17:08:38.399Z"
   },
   {
    "duration": 28,
    "start_time": "2021-07-26T17:08:38.413Z"
   },
   {
    "duration": 1348,
    "start_time": "2021-07-26T17:26:59.996Z"
   },
   {
    "duration": 31,
    "start_time": "2021-07-26T17:27:01.347Z"
   },
   {
    "duration": 16,
    "start_time": "2021-07-26T17:27:01.381Z"
   },
   {
    "duration": 26,
    "start_time": "2021-07-26T17:27:01.400Z"
   },
   {
    "duration": 47,
    "start_time": "2021-07-26T17:27:01.429Z"
   },
   {
    "duration": 21,
    "start_time": "2021-07-26T17:27:01.479Z"
   },
   {
    "duration": 76,
    "start_time": "2021-07-26T17:27:01.503Z"
   },
   {
    "duration": 17,
    "start_time": "2021-07-26T17:27:01.584Z"
   },
   {
    "duration": 14,
    "start_time": "2021-07-26T17:27:01.605Z"
   },
   {
    "duration": 35,
    "start_time": "2021-07-26T17:27:01.622Z"
   },
   {
    "duration": 23,
    "start_time": "2021-07-26T17:27:01.660Z"
   },
   {
    "duration": 25,
    "start_time": "2021-07-26T17:27:01.685Z"
   },
   {
    "duration": 18,
    "start_time": "2021-07-26T17:27:01.713Z"
   },
   {
    "duration": 14,
    "start_time": "2021-07-26T17:27:01.734Z"
   },
   {
    "duration": 19,
    "start_time": "2021-07-26T17:27:01.751Z"
   },
   {
    "duration": 21,
    "start_time": "2021-07-26T17:27:01.773Z"
   },
   {
    "duration": 355,
    "start_time": "2021-07-26T17:27:01.796Z"
   },
   {
    "duration": 277,
    "start_time": "2021-07-26T17:27:02.154Z"
   },
   {
    "duration": 20,
    "start_time": "2021-07-26T17:27:02.434Z"
   },
   {
    "duration": 560,
    "start_time": "2021-07-26T17:27:02.457Z"
   },
   {
    "duration": 548,
    "start_time": "2021-07-26T17:27:03.020Z"
   },
   {
    "duration": 23,
    "start_time": "2021-07-26T17:27:03.571Z"
   },
   {
    "duration": 723,
    "start_time": "2021-07-26T17:27:03.602Z"
   },
   {
    "duration": 593,
    "start_time": "2021-07-26T17:27:04.329Z"
   },
   {
    "duration": 13,
    "start_time": "2021-07-26T17:27:04.925Z"
   },
   {
    "duration": 674,
    "start_time": "2021-07-26T17:27:04.940Z"
   },
   {
    "duration": 210,
    "start_time": "2021-07-26T17:27:05.617Z"
   },
   {
    "duration": 477,
    "start_time": "2021-07-26T17:27:05.829Z"
   },
   {
    "duration": 7,
    "start_time": "2021-07-26T17:27:06.309Z"
   },
   {
    "duration": 653,
    "start_time": "2021-07-26T17:27:06.319Z"
   },
   {
    "duration": 14,
    "start_time": "2021-07-26T17:27:06.974Z"
   },
   {
    "duration": 16,
    "start_time": "2021-07-26T17:27:06.990Z"
   },
   {
    "duration": 537,
    "start_time": "2021-07-26T17:27:07.008Z"
   },
   {
    "duration": 625,
    "start_time": "2021-07-26T17:27:07.547Z"
   },
   {
    "duration": 16,
    "start_time": "2021-07-26T17:27:08.175Z"
   },
   {
    "duration": 42,
    "start_time": "2021-07-26T17:27:08.194Z"
   },
   {
    "duration": 11,
    "start_time": "2021-07-26T17:27:08.238Z"
   },
   {
    "duration": 39,
    "start_time": "2021-07-26T17:27:08.251Z"
   },
   {
    "duration": 8,
    "start_time": "2021-07-26T17:27:08.293Z"
   },
   {
    "duration": 11,
    "start_time": "2021-07-26T17:27:08.304Z"
   },
   {
    "duration": 121,
    "start_time": "2021-07-26T17:27:08.317Z"
   },
   {
    "duration": 18,
    "start_time": "2021-07-26T17:27:08.440Z"
   },
   {
    "duration": 254,
    "start_time": "2021-07-26T17:27:08.461Z"
   },
   {
    "duration": 9,
    "start_time": "2021-07-26T17:27:08.717Z"
   },
   {
    "duration": 14,
    "start_time": "2021-07-26T17:27:08.728Z"
   },
   {
    "duration": 47,
    "start_time": "2021-07-26T17:27:08.745Z"
   },
   {
    "duration": 8,
    "start_time": "2021-07-26T17:27:08.795Z"
   },
   {
    "duration": 11,
    "start_time": "2021-07-26T17:27:08.807Z"
   },
   {
    "duration": 11,
    "start_time": "2021-07-26T17:27:08.820Z"
   },
   {
    "duration": 53,
    "start_time": "2021-07-26T17:27:08.833Z"
   },
   {
    "duration": 12,
    "start_time": "2021-07-26T17:27:08.888Z"
   },
   {
    "duration": 31,
    "start_time": "2021-07-26T17:27:08.903Z"
   },
   {
    "duration": 1325,
    "start_time": "2021-07-27T07:37:17.279Z"
   },
   {
    "duration": 29,
    "start_time": "2021-07-27T07:37:18.607Z"
   },
   {
    "duration": 9,
    "start_time": "2021-07-27T07:37:18.639Z"
   },
   {
    "duration": 5,
    "start_time": "2021-07-27T07:37:18.662Z"
   },
   {
    "duration": 18,
    "start_time": "2021-07-27T07:37:18.669Z"
   },
   {
    "duration": 15,
    "start_time": "2021-07-27T07:37:18.689Z"
   },
   {
    "duration": 66,
    "start_time": "2021-07-27T07:37:18.706Z"
   },
   {
    "duration": 8,
    "start_time": "2021-07-27T07:37:18.776Z"
   },
   {
    "duration": 13,
    "start_time": "2021-07-27T07:37:18.787Z"
   },
   {
    "duration": 30,
    "start_time": "2021-07-27T07:37:18.802Z"
   },
   {
    "duration": 27,
    "start_time": "2021-07-27T07:37:18.835Z"
   },
   {
    "duration": 8,
    "start_time": "2021-07-27T07:37:18.865Z"
   },
   {
    "duration": 8,
    "start_time": "2021-07-27T07:37:18.876Z"
   },
   {
    "duration": 7,
    "start_time": "2021-07-27T07:37:18.887Z"
   },
   {
    "duration": 12,
    "start_time": "2021-07-27T07:37:18.896Z"
   },
   {
    "duration": 453,
    "start_time": "2021-07-27T07:37:18.910Z"
   },
   {
    "duration": 38694,
    "start_time": "2021-07-27T07:36:40.673Z"
   },
   {
    "duration": 38692,
    "start_time": "2021-07-27T07:36:40.677Z"
   },
   {
    "duration": 38688,
    "start_time": "2021-07-27T07:36:40.682Z"
   },
   {
    "duration": 38679,
    "start_time": "2021-07-27T07:36:40.692Z"
   },
   {
    "duration": 38677,
    "start_time": "2021-07-27T07:36:40.696Z"
   },
   {
    "duration": 38674,
    "start_time": "2021-07-27T07:36:40.700Z"
   },
   {
    "duration": 38672,
    "start_time": "2021-07-27T07:36:40.704Z"
   },
   {
    "duration": 38669,
    "start_time": "2021-07-27T07:36:40.708Z"
   },
   {
    "duration": 38667,
    "start_time": "2021-07-27T07:36:40.712Z"
   },
   {
    "duration": 38664,
    "start_time": "2021-07-27T07:36:40.716Z"
   },
   {
    "duration": 38658,
    "start_time": "2021-07-27T07:36:40.724Z"
   },
   {
    "duration": 38652,
    "start_time": "2021-07-27T07:36:40.731Z"
   },
   {
    "duration": 38631,
    "start_time": "2021-07-27T07:36:40.754Z"
   },
   {
    "duration": 38623,
    "start_time": "2021-07-27T07:36:40.763Z"
   },
   {
    "duration": 38622,
    "start_time": "2021-07-27T07:36:40.766Z"
   },
   {
    "duration": 38619,
    "start_time": "2021-07-27T07:36:40.771Z"
   },
   {
    "duration": 38617,
    "start_time": "2021-07-27T07:36:40.774Z"
   },
   {
    "duration": 38615,
    "start_time": "2021-07-27T07:36:40.778Z"
   },
   {
    "duration": 38612,
    "start_time": "2021-07-27T07:36:40.782Z"
   },
   {
    "duration": 38590,
    "start_time": "2021-07-27T07:36:40.806Z"
   },
   {
    "duration": 38574,
    "start_time": "2021-07-27T07:36:40.823Z"
   },
   {
    "duration": 38572,
    "start_time": "2021-07-27T07:36:40.827Z"
   },
   {
    "duration": 38559,
    "start_time": "2021-07-27T07:36:40.841Z"
   },
   {
    "duration": 38548,
    "start_time": "2021-07-27T07:36:40.854Z"
   },
   {
    "duration": 38502,
    "start_time": "2021-07-27T07:36:40.901Z"
   },
   {
    "duration": 38499,
    "start_time": "2021-07-27T07:36:40.906Z"
   },
   {
    "duration": 38553,
    "start_time": "2021-07-27T07:36:40.909Z"
   },
   {
    "duration": 38550,
    "start_time": "2021-07-27T07:36:40.913Z"
   },
   {
    "duration": 38545,
    "start_time": "2021-07-27T07:36:40.920Z"
   },
   {
    "duration": 38542,
    "start_time": "2021-07-27T07:36:40.924Z"
   },
   {
    "duration": 38540,
    "start_time": "2021-07-27T07:36:40.928Z"
   },
   {
    "duration": 38538,
    "start_time": "2021-07-27T07:36:40.932Z"
   },
   {
    "duration": 38520,
    "start_time": "2021-07-27T07:36:40.951Z"
   },
   {
    "duration": 38518,
    "start_time": "2021-07-27T07:36:40.955Z"
   },
   {
    "duration": 38511,
    "start_time": "2021-07-27T07:36:40.963Z"
   },
   {
    "duration": 38509,
    "start_time": "2021-07-27T07:36:40.967Z"
   },
   {
    "duration": 38508,
    "start_time": "2021-07-27T07:36:40.970Z"
   },
   {
    "duration": 388,
    "start_time": "2021-07-27T07:37:34.944Z"
   },
   {
    "duration": 8,
    "start_time": "2021-07-27T07:37:42.640Z"
   },
   {
    "duration": 340,
    "start_time": "2021-07-27T07:37:43.770Z"
   },
   {
    "duration": 320,
    "start_time": "2021-07-27T07:37:44.842Z"
   },
   {
    "duration": 14,
    "start_time": "2021-07-27T07:37:45.665Z"
   },
   {
    "duration": 573,
    "start_time": "2021-07-27T07:37:47.274Z"
   },
   {
    "duration": 555,
    "start_time": "2021-07-27T07:37:51.138Z"
   },
   {
    "duration": 11,
    "start_time": "2021-07-27T07:37:58.002Z"
   },
   {
    "duration": 688,
    "start_time": "2021-07-27T07:37:59.121Z"
   },
   {
    "duration": 551,
    "start_time": "2021-07-27T07:38:04.017Z"
   },
   {
    "duration": 12,
    "start_time": "2021-07-27T07:38:06.984Z"
   },
   {
    "duration": 667,
    "start_time": "2021-07-27T07:38:08.819Z"
   },
   {
    "duration": 230,
    "start_time": "2021-07-27T07:38:13.057Z"
   },
   {
    "duration": 478,
    "start_time": "2021-07-27T07:38:14.057Z"
   },
   {
    "duration": 7,
    "start_time": "2021-07-27T07:38:17.107Z"
   },
   {
    "duration": 657,
    "start_time": "2021-07-27T07:38:18.897Z"
   },
   {
    "duration": 8,
    "start_time": "2021-07-27T07:38:23.361Z"
   },
   {
    "duration": 13,
    "start_time": "2021-07-27T07:38:25.530Z"
   },
   {
    "duration": 522,
    "start_time": "2021-07-27T07:38:26.257Z"
   },
   {
    "duration": 788,
    "start_time": "2021-07-27T07:38:28.563Z"
   },
   {
    "duration": 9,
    "start_time": "2021-07-27T07:38:31.482Z"
   },
   {
    "duration": 38,
    "start_time": "2021-07-27T07:38:35.213Z"
   },
   {
    "duration": 10,
    "start_time": "2021-07-27T07:38:40.033Z"
   },
   {
    "duration": 11,
    "start_time": "2021-07-27T07:38:42.475Z"
   },
   {
    "duration": 6,
    "start_time": "2021-07-27T07:38:43.498Z"
   },
   {
    "duration": 10,
    "start_time": "2021-07-27T07:38:44.061Z"
   },
   {
    "duration": 29,
    "start_time": "2021-07-27T07:38:46.947Z"
   },
   {
    "duration": 18,
    "start_time": "2021-07-27T07:38:47.491Z"
   },
   {
    "duration": 234,
    "start_time": "2021-07-27T07:38:49.842Z"
   },
   {
    "duration": 9,
    "start_time": "2021-07-27T07:38:52.274Z"
   },
   {
    "duration": 14,
    "start_time": "2021-07-27T07:38:55.412Z"
   },
   {
    "duration": 23,
    "start_time": "2021-07-27T07:39:02.827Z"
   },
   {
    "duration": 9,
    "start_time": "2021-07-27T07:39:04.578Z"
   },
   {
    "duration": 8,
    "start_time": "2021-07-27T07:39:05.251Z"
   },
   {
    "duration": 13,
    "start_time": "2021-07-27T07:39:05.948Z"
   },
   {
    "duration": 16,
    "start_time": "2021-07-27T07:39:06.133Z"
   },
   {
    "duration": 44,
    "start_time": "2021-07-27T07:39:08.361Z"
   },
   {
    "duration": 1337,
    "start_time": "2021-07-27T15:25:17.318Z"
   },
   {
    "duration": 85,
    "start_time": "2021-07-27T15:25:35.518Z"
   },
   {
    "duration": 11,
    "start_time": "2021-07-27T15:25:38.522Z"
   },
   {
    "duration": 10,
    "start_time": "2021-07-27T15:25:40.266Z"
   },
   {
    "duration": 23,
    "start_time": "2021-07-27T15:25:57.555Z"
   },
   {
    "duration": 8,
    "start_time": "2021-07-27T15:26:02.074Z"
   },
   {
    "duration": 8,
    "start_time": "2021-07-27T15:26:04.528Z"
   },
   {
    "duration": 6,
    "start_time": "2021-07-27T15:26:17.851Z"
   },
   {
    "duration": 9,
    "start_time": "2021-07-27T15:26:21.094Z"
   },
   {
    "duration": 854,
    "start_time": "2021-07-27T15:31:59.955Z"
   },
   {
    "duration": 4,
    "start_time": "2021-07-27T15:32:25.435Z"
   },
   {
    "duration": 8,
    "start_time": "2021-07-27T15:32:42.007Z"
   },
   {
    "duration": 393,
    "start_time": "2021-07-27T15:34:18.130Z"
   },
   {
    "duration": 4,
    "start_time": "2021-07-27T15:41:09.315Z"
   },
   {
    "duration": 298,
    "start_time": "2021-07-27T15:41:11.571Z"
   },
   {
    "duration": 24,
    "start_time": "2021-07-27T15:43:23.415Z"
   },
   {
    "duration": 824,
    "start_time": "2021-07-27T15:43:53.355Z"
   },
   {
    "duration": 393,
    "start_time": "2021-07-27T15:45:07.695Z"
   },
   {
    "duration": 4,
    "start_time": "2021-07-27T15:45:24.707Z"
   },
   {
    "duration": 8,
    "start_time": "2021-07-27T15:45:27.387Z"
   },
   {
    "duration": 5,
    "start_time": "2021-07-27T15:46:10.900Z"
   },
   {
    "duration": 9,
    "start_time": "2021-07-27T15:46:11.863Z"
   },
   {
    "duration": 336,
    "start_time": "2021-07-27T15:49:58.935Z"
   },
   {
    "duration": 324,
    "start_time": "2021-07-27T15:53:54.755Z"
   },
   {
    "duration": 4,
    "start_time": "2021-07-27T15:54:04.139Z"
   },
   {
    "duration": 9,
    "start_time": "2021-07-27T15:54:06.500Z"
   },
   {
    "duration": 4,
    "start_time": "2021-07-27T15:55:22.483Z"
   },
   {
    "duration": 8,
    "start_time": "2021-07-27T15:55:24.980Z"
   },
   {
    "duration": 5,
    "start_time": "2021-07-27T15:56:13.027Z"
   },
   {
    "duration": 16,
    "start_time": "2021-07-27T15:56:14.784Z"
   },
   {
    "duration": 325,
    "start_time": "2021-07-27T15:57:58.148Z"
   },
   {
    "duration": 4,
    "start_time": "2021-07-27T16:01:18.549Z"
   },
   {
    "duration": 420,
    "start_time": "2021-07-27T16:01:30.592Z"
   },
   {
    "duration": 325,
    "start_time": "2021-07-27T16:02:18.956Z"
   },
   {
    "duration": 5,
    "start_time": "2021-07-27T16:02:37.840Z"
   },
   {
    "duration": 16,
    "start_time": "2021-07-27T16:02:39.657Z"
   },
   {
    "duration": 5,
    "start_time": "2021-07-27T16:04:12.712Z"
   },
   {
    "duration": 16,
    "start_time": "2021-07-27T16:04:15.036Z"
   },
   {
    "duration": 102,
    "start_time": "2021-07-27T16:19:31.041Z"
   },
   {
    "duration": 367,
    "start_time": "2021-07-27T16:19:59.261Z"
   },
   {
    "duration": 346,
    "start_time": "2021-07-27T16:22:16.429Z"
   },
   {
    "duration": 4,
    "start_time": "2021-07-27T16:22:27.485Z"
   },
   {
    "duration": 21,
    "start_time": "2021-07-27T16:22:29.205Z"
   },
   {
    "duration": 5,
    "start_time": "2021-07-27T16:23:48.118Z"
   },
   {
    "duration": 12,
    "start_time": "2021-07-27T16:23:49.454Z"
   },
   {
    "duration": 4,
    "start_time": "2021-07-27T16:26:52.065Z"
   },
   {
    "duration": 257,
    "start_time": "2021-07-27T16:26:53.358Z"
   },
   {
    "duration": 7,
    "start_time": "2021-07-27T16:27:17.858Z"
   },
   {
    "duration": 8,
    "start_time": "2021-07-27T16:27:19.677Z"
   },
   {
    "duration": 6,
    "start_time": "2021-07-27T16:28:12.022Z"
   },
   {
    "duration": 9,
    "start_time": "2021-07-27T16:28:16.334Z"
   },
   {
    "duration": 4,
    "start_time": "2021-07-27T16:29:17.690Z"
   },
   {
    "duration": 9,
    "start_time": "2021-07-27T16:29:19.917Z"
   },
   {
    "duration": 6,
    "start_time": "2021-07-27T16:29:32.514Z"
   },
   {
    "duration": 8,
    "start_time": "2021-07-27T16:29:33.930Z"
   },
   {
    "duration": 5,
    "start_time": "2021-07-27T16:42:47.018Z"
   },
   {
    "duration": 23,
    "start_time": "2021-07-27T16:42:48.514Z"
   },
   {
    "duration": 5,
    "start_time": "2021-07-27T16:43:40.534Z"
   },
   {
    "duration": 310,
    "start_time": "2021-07-27T16:43:44.494Z"
   },
   {
    "duration": 4,
    "start_time": "2021-07-27T16:44:25.851Z"
   },
   {
    "duration": 16,
    "start_time": "2021-07-27T16:44:26.954Z"
   },
   {
    "duration": 359,
    "start_time": "2021-07-27T16:45:56.592Z"
   },
   {
    "duration": 417,
    "start_time": "2021-07-27T16:47:17.192Z"
   },
   {
    "duration": 4,
    "start_time": "2021-07-27T16:47:40.749Z"
   },
   {
    "duration": 15,
    "start_time": "2021-07-27T16:47:42.440Z"
   },
   {
    "duration": 317,
    "start_time": "2021-07-27T16:50:22.305Z"
   },
   {
    "duration": 6,
    "start_time": "2021-07-27T16:52:57.149Z"
   },
   {
    "duration": 7,
    "start_time": "2021-07-27T16:52:59.037Z"
   },
   {
    "duration": 6,
    "start_time": "2021-07-27T16:53:29.605Z"
   },
   {
    "duration": 8,
    "start_time": "2021-07-27T16:53:30.925Z"
   },
   {
    "duration": 7,
    "start_time": "2021-07-27T16:53:59.985Z"
   },
   {
    "duration": 6,
    "start_time": "2021-07-27T17:05:11.789Z"
   },
   {
    "duration": 9,
    "start_time": "2021-07-27T17:05:14.065Z"
   },
   {
    "duration": 4,
    "start_time": "2021-07-27T17:05:35.305Z"
   },
   {
    "duration": 330,
    "start_time": "2021-07-27T17:05:42.773Z"
   },
   {
    "duration": 5,
    "start_time": "2021-07-27T17:06:11.223Z"
   },
   {
    "duration": 11,
    "start_time": "2021-07-27T17:06:11.910Z"
   },
   {
    "duration": 5,
    "start_time": "2021-07-27T17:06:34.977Z"
   },
   {
    "duration": 15,
    "start_time": "2021-07-27T17:06:36.613Z"
   },
   {
    "duration": 4,
    "start_time": "2021-07-27T17:07:11.385Z"
   },
   {
    "duration": 5,
    "start_time": "2021-07-27T17:07:14.629Z"
   },
   {
    "duration": 4,
    "start_time": "2021-07-27T17:07:15.845Z"
   },
   {
    "duration": 15,
    "start_time": "2021-07-27T17:07:18.029Z"
   },
   {
    "duration": 941,
    "start_time": "2021-07-27T17:08:09.774Z"
   },
   {
    "duration": 329,
    "start_time": "2021-07-27T17:09:20.837Z"
   },
   {
    "duration": 8,
    "start_time": "2021-07-27T17:09:30.221Z"
   },
   {
    "duration": 4,
    "start_time": "2021-07-27T17:09:33.061Z"
   },
   {
    "duration": 10002,
    "start_time": "2021-07-27T17:09:35.865Z"
   },
   {
    "duration": 352,
    "start_time": "2021-07-27T17:11:23.878Z"
   },
   {
    "duration": 324,
    "start_time": "2021-07-27T17:11:39.733Z"
   },
   {
    "duration": 317,
    "start_time": "2021-07-27T17:15:22.477Z"
   },
   {
    "duration": 9,
    "start_time": "2021-07-27T17:20:14.346Z"
   },
   {
    "duration": 10,
    "start_time": "2021-07-27T17:20:37.714Z"
   },
   {
    "duration": 10,
    "start_time": "2021-07-27T17:21:55.482Z"
   },
   {
    "duration": 117,
    "start_time": "2021-07-27T17:23:14.046Z"
   },
   {
    "duration": 9,
    "start_time": "2021-07-27T17:23:23.514Z"
   },
   {
    "duration": 9,
    "start_time": "2021-07-27T17:23:26.510Z"
   },
   {
    "duration": 18,
    "start_time": "2021-07-27T17:34:03.827Z"
   },
   {
    "duration": 11,
    "start_time": "2021-07-27T17:34:17.958Z"
   },
   {
    "duration": 14,
    "start_time": "2021-07-27T17:34:28.923Z"
   },
   {
    "duration": 10,
    "start_time": "2021-07-27T17:35:45.271Z"
   },
   {
    "duration": 8,
    "start_time": "2021-07-27T17:38:13.447Z"
   },
   {
    "duration": 8,
    "start_time": "2021-07-27T17:38:35.755Z"
   },
   {
    "duration": 18,
    "start_time": "2021-07-27T17:46:30.131Z"
   },
   {
    "duration": 11,
    "start_time": "2021-07-27T17:46:31.755Z"
   },
   {
    "duration": 19,
    "start_time": "2021-07-27T17:47:32.783Z"
   },
   {
    "duration": 22,
    "start_time": "2021-07-27T17:48:01.307Z"
   },
   {
    "duration": 19,
    "start_time": "2021-07-27T17:57:09.032Z"
   },
   {
    "duration": 305,
    "start_time": "2021-07-27T18:16:25.324Z"
   },
   {
    "duration": 1436,
    "start_time": "2021-07-27T18:17:17.339Z"
   },
   {
    "duration": 30,
    "start_time": "2021-07-27T18:17:18.777Z"
   },
   {
    "duration": 9,
    "start_time": "2021-07-27T18:17:18.810Z"
   },
   {
    "duration": 4,
    "start_time": "2021-07-27T18:17:18.822Z"
   },
   {
    "duration": 41,
    "start_time": "2021-07-27T18:17:18.828Z"
   },
   {
    "duration": 15,
    "start_time": "2021-07-27T18:17:18.871Z"
   },
   {
    "duration": 57,
    "start_time": "2021-07-27T18:17:18.888Z"
   },
   {
    "duration": 9,
    "start_time": "2021-07-27T18:17:18.948Z"
   },
   {
    "duration": 12,
    "start_time": "2021-07-27T18:17:18.960Z"
   },
   {
    "duration": 22,
    "start_time": "2021-07-27T18:17:18.975Z"
   },
   {
    "duration": 23,
    "start_time": "2021-07-27T18:17:18.999Z"
   },
   {
    "duration": 8,
    "start_time": "2021-07-27T18:17:19.024Z"
   },
   {
    "duration": 34,
    "start_time": "2021-07-27T18:17:19.035Z"
   },
   {
    "duration": 8,
    "start_time": "2021-07-27T18:17:19.071Z"
   },
   {
    "duration": 7,
    "start_time": "2021-07-27T18:17:19.081Z"
   },
   {
    "duration": 6,
    "start_time": "2021-07-27T18:17:19.091Z"
   },
   {
    "duration": 10,
    "start_time": "2021-07-27T18:17:19.099Z"
   },
   {
    "duration": 398,
    "start_time": "2021-07-27T18:17:19.111Z"
   },
   {
    "duration": 279,
    "start_time": "2021-07-27T18:17:19.512Z"
   },
   {
    "duration": 18,
    "start_time": "2021-07-27T18:17:19.793Z"
   },
   {
    "duration": 596,
    "start_time": "2021-07-27T18:17:19.813Z"
   },
   {
    "duration": 567,
    "start_time": "2021-07-27T18:17:20.412Z"
   },
   {
    "duration": 11,
    "start_time": "2021-07-27T18:17:20.984Z"
   },
   {
    "duration": 703,
    "start_time": "2021-07-27T18:17:20.998Z"
   },
   {
    "duration": 564,
    "start_time": "2021-07-27T18:17:21.703Z"
   },
   {
    "duration": 15,
    "start_time": "2021-07-27T18:17:22.269Z"
   },
   {
    "duration": 643,
    "start_time": "2021-07-27T18:17:22.287Z"
   },
   {
    "duration": 200,
    "start_time": "2021-07-27T18:17:22.934Z"
   },
   {
    "duration": 493,
    "start_time": "2021-07-27T18:17:23.137Z"
   },
   {
    "duration": 8,
    "start_time": "2021-07-27T18:17:23.634Z"
   },
   {
    "duration": 687,
    "start_time": "2021-07-27T18:17:23.645Z"
   },
   {
    "duration": 7,
    "start_time": "2021-07-27T18:17:24.334Z"
   },
   {
    "duration": 32,
    "start_time": "2021-07-27T18:17:24.344Z"
   },
   {
    "duration": 530,
    "start_time": "2021-07-27T18:17:24.378Z"
   },
   {
    "duration": 632,
    "start_time": "2021-07-27T18:17:24.911Z"
   },
   {
    "duration": 6,
    "start_time": "2021-07-27T18:17:25.545Z"
   },
   {
    "duration": 62,
    "start_time": "2021-07-27T18:17:25.554Z"
   },
   {
    "duration": 10,
    "start_time": "2021-07-27T18:17:25.619Z"
   },
   {
    "duration": 16,
    "start_time": "2021-07-27T18:17:25.631Z"
   },
   {
    "duration": 22,
    "start_time": "2021-07-27T18:17:25.649Z"
   },
   {
    "duration": 12,
    "start_time": "2021-07-27T18:17:25.674Z"
   },
   {
    "duration": 113,
    "start_time": "2021-07-27T18:17:25.689Z"
   },
   {
    "duration": 26,
    "start_time": "2021-07-27T18:17:25.805Z"
   },
   {
    "duration": 221,
    "start_time": "2021-07-27T18:17:25.834Z"
   },
   {
    "duration": 13,
    "start_time": "2021-07-27T18:17:26.058Z"
   },
   {
    "duration": 17,
    "start_time": "2021-07-27T18:17:26.075Z"
   },
   {
    "duration": 23,
    "start_time": "2021-07-27T18:17:26.095Z"
   },
   {
    "duration": 50,
    "start_time": "2021-07-27T18:17:26.121Z"
   },
   {
    "duration": 15,
    "start_time": "2021-07-27T18:17:26.175Z"
   },
   {
    "duration": 10,
    "start_time": "2021-07-27T18:17:26.194Z"
   },
   {
    "duration": 14,
    "start_time": "2021-07-27T18:17:26.207Z"
   },
   {
    "duration": 50,
    "start_time": "2021-07-27T18:17:26.224Z"
   },
   {
    "duration": 41,
    "start_time": "2021-07-27T18:17:26.277Z"
   },
   {
    "duration": 1428,
    "start_time": "2021-07-27T18:23:01.995Z"
   },
   {
    "duration": 40,
    "start_time": "2021-07-27T18:23:03.427Z"
   },
   {
    "duration": 11,
    "start_time": "2021-07-27T18:23:03.470Z"
   },
   {
    "duration": 5,
    "start_time": "2021-07-27T18:23:03.484Z"
   },
   {
    "duration": 18,
    "start_time": "2021-07-27T18:23:03.491Z"
   },
   {
    "duration": 16,
    "start_time": "2021-07-27T18:23:03.511Z"
   },
   {
    "duration": 94,
    "start_time": "2021-07-27T18:23:03.529Z"
   },
   {
    "duration": 10,
    "start_time": "2021-07-27T18:23:03.627Z"
   },
   {
    "duration": 10,
    "start_time": "2021-07-27T18:23:03.641Z"
   },
   {
    "duration": 539,
    "start_time": "2021-07-27T18:23:03.654Z"
   },
   {
    "duration": 1392,
    "start_time": "2021-07-27T18:23:02.807Z"
   },
   {
    "duration": 1382,
    "start_time": "2021-07-27T18:23:02.820Z"
   },
   {
    "duration": 1373,
    "start_time": "2021-07-27T18:23:02.831Z"
   },
   {
    "duration": 1358,
    "start_time": "2021-07-27T18:23:02.848Z"
   },
   {
    "duration": 1350,
    "start_time": "2021-07-27T18:23:02.858Z"
   },
   {
    "duration": 1340,
    "start_time": "2021-07-27T18:23:02.871Z"
   },
   {
    "duration": 1282,
    "start_time": "2021-07-27T18:23:02.930Z"
   },
   {
    "duration": 1276,
    "start_time": "2021-07-27T18:23:02.938Z"
   },
   {
    "duration": 1256,
    "start_time": "2021-07-27T18:23:02.959Z"
   },
   {
    "duration": 1233,
    "start_time": "2021-07-27T18:23:02.984Z"
   },
   {
    "duration": 1219,
    "start_time": "2021-07-27T18:23:02.999Z"
   },
   {
    "duration": 1209,
    "start_time": "2021-07-27T18:23:03.010Z"
   },
   {
    "duration": 1199,
    "start_time": "2021-07-27T18:23:03.021Z"
   },
   {
    "duration": 1173,
    "start_time": "2021-07-27T18:23:03.048Z"
   },
   {
    "duration": 1166,
    "start_time": "2021-07-27T18:23:03.056Z"
   },
   {
    "duration": 1159,
    "start_time": "2021-07-27T18:23:03.065Z"
   },
   {
    "duration": 1153,
    "start_time": "2021-07-27T18:23:03.072Z"
   },
   {
    "duration": 1146,
    "start_time": "2021-07-27T18:23:03.081Z"
   },
   {
    "duration": 1139,
    "start_time": "2021-07-27T18:23:03.089Z"
   },
   {
    "duration": 1133,
    "start_time": "2021-07-27T18:23:03.096Z"
   },
   {
    "duration": 1127,
    "start_time": "2021-07-27T18:23:03.104Z"
   },
   {
    "duration": 1121,
    "start_time": "2021-07-27T18:23:03.112Z"
   },
   {
    "duration": 1147,
    "start_time": "2021-07-27T18:23:03.121Z"
   },
   {
    "duration": 1063,
    "start_time": "2021-07-27T18:23:03.207Z"
   },
   {
    "duration": 1053,
    "start_time": "2021-07-27T18:23:03.219Z"
   },
   {
    "duration": 1048,
    "start_time": "2021-07-27T18:23:03.225Z"
   },
   {
    "duration": 1038,
    "start_time": "2021-07-27T18:23:03.236Z"
   },
   {
    "duration": 1034,
    "start_time": "2021-07-27T18:23:03.242Z"
   },
   {
    "duration": 1027,
    "start_time": "2021-07-27T18:23:03.250Z"
   },
   {
    "duration": 1022,
    "start_time": "2021-07-27T18:23:03.257Z"
   },
   {
    "duration": 972,
    "start_time": "2021-07-27T18:23:03.309Z"
   },
   {
    "duration": 965,
    "start_time": "2021-07-27T18:23:03.317Z"
   },
   {
    "duration": 959,
    "start_time": "2021-07-27T18:23:03.325Z"
   },
   {
    "duration": 953,
    "start_time": "2021-07-27T18:23:03.332Z"
   },
   {
    "duration": 946,
    "start_time": "2021-07-27T18:23:03.340Z"
   },
   {
    "duration": 918,
    "start_time": "2021-07-27T18:23:03.370Z"
   },
   {
    "duration": 901,
    "start_time": "2021-07-27T18:23:03.388Z"
   },
   {
    "duration": 896,
    "start_time": "2021-07-27T18:23:03.395Z"
   },
   {
    "duration": 889,
    "start_time": "2021-07-27T18:23:03.403Z"
   },
   {
    "duration": 884,
    "start_time": "2021-07-27T18:23:03.409Z"
   },
   {
    "duration": 878,
    "start_time": "2021-07-27T18:23:03.417Z"
   },
   {
    "duration": 872,
    "start_time": "2021-07-27T18:23:03.424Z"
   },
   {
    "duration": 865,
    "start_time": "2021-07-27T18:23:03.432Z"
   },
   {
    "duration": 21,
    "start_time": "2021-07-27T18:25:06.059Z"
   },
   {
    "duration": 10,
    "start_time": "2021-07-27T18:26:00.692Z"
   },
   {
    "duration": 317,
    "start_time": "2021-07-27T18:27:59.620Z"
   },
   {
    "duration": 19,
    "start_time": "2021-07-27T18:29:07.688Z"
   },
   {
    "duration": 1408,
    "start_time": "2021-07-27T18:29:57.627Z"
   },
   {
    "duration": 30,
    "start_time": "2021-07-27T18:29:59.038Z"
   },
   {
    "duration": 9,
    "start_time": "2021-07-27T18:29:59.071Z"
   },
   {
    "duration": 5,
    "start_time": "2021-07-27T18:29:59.083Z"
   },
   {
    "duration": 31,
    "start_time": "2021-07-27T18:29:59.090Z"
   },
   {
    "duration": 44,
    "start_time": "2021-07-27T18:29:59.123Z"
   },
   {
    "duration": 56,
    "start_time": "2021-07-27T18:29:59.170Z"
   },
   {
    "duration": 9,
    "start_time": "2021-07-27T18:29:59.229Z"
   },
   {
    "duration": 9,
    "start_time": "2021-07-27T18:29:59.241Z"
   },
   {
    "duration": 19,
    "start_time": "2021-07-27T18:29:59.253Z"
   },
   {
    "duration": 23,
    "start_time": "2021-07-27T18:29:59.274Z"
   },
   {
    "duration": 10,
    "start_time": "2021-07-27T18:29:59.300Z"
   },
   {
    "duration": 14,
    "start_time": "2021-07-27T18:29:59.312Z"
   },
   {
    "duration": 8,
    "start_time": "2021-07-27T18:29:59.328Z"
   },
   {
    "duration": 29,
    "start_time": "2021-07-27T18:29:59.339Z"
   },
   {
    "duration": 5,
    "start_time": "2021-07-27T18:29:59.371Z"
   },
   {
    "duration": 12,
    "start_time": "2021-07-27T18:29:59.379Z"
   },
   {
    "duration": 9,
    "start_time": "2021-07-27T18:29:59.393Z"
   },
   {
    "duration": 373,
    "start_time": "2021-07-27T18:29:59.405Z"
   },
   {
    "duration": 268,
    "start_time": "2021-07-27T18:29:59.780Z"
   },
   {
    "duration": 17,
    "start_time": "2021-07-27T18:30:00.050Z"
   },
   {
    "duration": 588,
    "start_time": "2021-07-27T18:30:00.069Z"
   },
   {
    "duration": 576,
    "start_time": "2021-07-27T18:30:00.666Z"
   },
   {
    "duration": 22,
    "start_time": "2021-07-27T18:30:01.245Z"
   },
   {
    "duration": 729,
    "start_time": "2021-07-27T18:30:01.270Z"
   },
   {
    "duration": 609,
    "start_time": "2021-07-27T18:30:02.001Z"
   },
   {
    "duration": 13,
    "start_time": "2021-07-27T18:30:02.612Z"
   },
   {
    "duration": 660,
    "start_time": "2021-07-27T18:30:02.627Z"
   },
   {
    "duration": 290,
    "start_time": "2021-07-27T18:30:03.289Z"
   },
   {
    "duration": 488,
    "start_time": "2021-07-27T18:30:03.582Z"
   },
   {
    "duration": 8,
    "start_time": "2021-07-27T18:30:04.073Z"
   },
   {
    "duration": 635,
    "start_time": "2021-07-27T18:30:04.083Z"
   },
   {
    "duration": 9,
    "start_time": "2021-07-27T18:30:04.722Z"
   },
   {
    "duration": 40,
    "start_time": "2021-07-27T18:30:04.734Z"
   },
   {
    "duration": 540,
    "start_time": "2021-07-27T18:30:04.777Z"
   },
   {
    "duration": 628,
    "start_time": "2021-07-27T18:30:05.320Z"
   },
   {
    "duration": 17,
    "start_time": "2021-07-27T18:30:05.950Z"
   },
   {
    "duration": 39,
    "start_time": "2021-07-27T18:30:05.970Z"
   },
   {
    "duration": 10,
    "start_time": "2021-07-27T18:30:06.011Z"
   },
   {
    "duration": 18,
    "start_time": "2021-07-27T18:30:06.023Z"
   },
   {
    "duration": 26,
    "start_time": "2021-07-27T18:30:06.044Z"
   },
   {
    "duration": 17,
    "start_time": "2021-07-27T18:30:06.072Z"
   },
   {
    "duration": 115,
    "start_time": "2021-07-27T18:30:06.091Z"
   },
   {
    "duration": 31,
    "start_time": "2021-07-27T18:30:06.208Z"
   },
   {
    "duration": 238,
    "start_time": "2021-07-27T18:30:06.241Z"
   },
   {
    "duration": 9,
    "start_time": "2021-07-27T18:30:06.482Z"
   },
   {
    "duration": 26,
    "start_time": "2021-07-27T18:30:06.493Z"
   },
   {
    "duration": 28,
    "start_time": "2021-07-27T18:30:06.522Z"
   },
   {
    "duration": 24,
    "start_time": "2021-07-27T18:30:06.553Z"
   },
   {
    "duration": 10,
    "start_time": "2021-07-27T18:30:06.580Z"
   },
   {
    "duration": 28,
    "start_time": "2021-07-27T18:30:06.593Z"
   },
   {
    "duration": 37,
    "start_time": "2021-07-27T18:30:06.624Z"
   },
   {
    "duration": 27,
    "start_time": "2021-07-27T18:30:06.664Z"
   },
   {
    "duration": 31,
    "start_time": "2021-07-27T18:30:06.694Z"
   },
   {
    "duration": 13,
    "start_time": "2021-07-27T18:44:42.964Z"
   },
   {
    "duration": 13,
    "start_time": "2021-07-27T18:45:17.484Z"
   },
   {
    "duration": 20,
    "start_time": "2021-07-27T18:49:12.352Z"
   },
   {
    "duration": 13,
    "start_time": "2021-07-27T18:49:25.684Z"
   },
   {
    "duration": 13,
    "start_time": "2021-07-27T18:51:25.949Z"
   },
   {
    "duration": 13,
    "start_time": "2021-07-27T18:51:28.296Z"
   },
   {
    "duration": 1438,
    "start_time": "2021-07-27T18:51:41.193Z"
   },
   {
    "duration": 29,
    "start_time": "2021-07-27T18:51:42.633Z"
   },
   {
    "duration": 9,
    "start_time": "2021-07-27T18:51:42.667Z"
   },
   {
    "duration": 6,
    "start_time": "2021-07-27T18:51:42.678Z"
   },
   {
    "duration": 20,
    "start_time": "2021-07-27T18:51:42.686Z"
   },
   {
    "duration": 15,
    "start_time": "2021-07-27T18:51:42.708Z"
   },
   {
    "duration": 73,
    "start_time": "2021-07-27T18:51:42.725Z"
   },
   {
    "duration": 9,
    "start_time": "2021-07-27T18:51:42.801Z"
   },
   {
    "duration": 9,
    "start_time": "2021-07-27T18:51:42.813Z"
   },
   {
    "duration": 21,
    "start_time": "2021-07-27T18:51:42.824Z"
   },
   {
    "duration": 30,
    "start_time": "2021-07-27T18:51:42.847Z"
   },
   {
    "duration": 14,
    "start_time": "2021-07-27T18:51:42.879Z"
   },
   {
    "duration": 15,
    "start_time": "2021-07-27T18:51:42.895Z"
   },
   {
    "duration": 14,
    "start_time": "2021-07-27T18:51:42.912Z"
   },
   {
    "duration": 8,
    "start_time": "2021-07-27T18:51:42.929Z"
   },
   {
    "duration": 27,
    "start_time": "2021-07-27T18:51:42.940Z"
   },
   {
    "duration": 10,
    "start_time": "2021-07-27T18:51:42.970Z"
   },
   {
    "duration": 12,
    "start_time": "2021-07-27T18:51:42.983Z"
   },
   {
    "duration": 12,
    "start_time": "2021-07-27T18:51:42.997Z"
   },
   {
    "duration": 14,
    "start_time": "2021-07-27T18:51:43.011Z"
   },
   {
    "duration": 482,
    "start_time": "2021-07-27T18:51:43.028Z"
   },
   {
    "duration": 714,
    "start_time": "2021-07-27T18:51:42.801Z"
   },
   {
    "duration": 707,
    "start_time": "2021-07-27T18:51:42.809Z"
   },
   {
    "duration": 702,
    "start_time": "2021-07-27T18:51:42.816Z"
   },
   {
    "duration": 693,
    "start_time": "2021-07-27T18:51:42.826Z"
   },
   {
    "duration": 685,
    "start_time": "2021-07-27T18:51:42.835Z"
   },
   {
    "duration": 680,
    "start_time": "2021-07-27T18:51:42.842Z"
   },
   {
    "duration": 673,
    "start_time": "2021-07-27T18:51:42.850Z"
   },
   {
    "duration": 665,
    "start_time": "2021-07-27T18:51:42.859Z"
   },
   {
    "duration": 648,
    "start_time": "2021-07-27T18:51:42.878Z"
   },
   {
    "duration": 642,
    "start_time": "2021-07-27T18:51:42.885Z"
   },
   {
    "duration": 636,
    "start_time": "2021-07-27T18:51:42.893Z"
   },
   {
    "duration": 630,
    "start_time": "2021-07-27T18:51:42.900Z"
   },
   {
    "duration": 624,
    "start_time": "2021-07-27T18:51:42.907Z"
   },
   {
    "duration": 619,
    "start_time": "2021-07-27T18:51:42.913Z"
   },
   {
    "duration": 610,
    "start_time": "2021-07-27T18:51:42.923Z"
   },
   {
    "duration": 606,
    "start_time": "2021-07-27T18:51:42.929Z"
   },
   {
    "duration": 598,
    "start_time": "2021-07-27T18:51:42.938Z"
   },
   {
    "duration": 592,
    "start_time": "2021-07-27T18:51:42.945Z"
   },
   {
    "duration": 585,
    "start_time": "2021-07-27T18:51:42.953Z"
   },
   {
    "duration": 579,
    "start_time": "2021-07-27T18:51:42.961Z"
   },
   {
    "duration": 572,
    "start_time": "2021-07-27T18:51:42.969Z"
   },
   {
    "duration": 567,
    "start_time": "2021-07-27T18:51:42.975Z"
   },
   {
    "duration": 549,
    "start_time": "2021-07-27T18:51:42.994Z"
   },
   {
    "duration": 543,
    "start_time": "2021-07-27T18:51:43.002Z"
   },
   {
    "duration": 537,
    "start_time": "2021-07-27T18:51:43.009Z"
   },
   {
    "duration": 532,
    "start_time": "2021-07-27T18:51:43.015Z"
   },
   {
    "duration": 525,
    "start_time": "2021-07-27T18:51:43.024Z"
   },
   {
    "duration": 536,
    "start_time": "2021-07-27T18:51:43.030Z"
   },
   {
    "duration": 529,
    "start_time": "2021-07-27T18:51:43.038Z"
   },
   {
    "duration": 523,
    "start_time": "2021-07-27T18:51:43.045Z"
   },
   {
    "duration": 517,
    "start_time": "2021-07-27T18:51:43.053Z"
   },
   {
    "duration": 512,
    "start_time": "2021-07-27T18:51:43.059Z"
   },
   {
    "duration": 506,
    "start_time": "2021-07-27T18:51:43.066Z"
   },
   {
    "duration": 502,
    "start_time": "2021-07-27T18:51:43.072Z"
   },
   {
    "duration": 496,
    "start_time": "2021-07-27T18:51:43.079Z"
   },
   {
    "duration": 489,
    "start_time": "2021-07-27T18:51:43.088Z"
   },
   {
    "duration": 10,
    "start_time": "2021-07-27T19:02:37.694Z"
   },
   {
    "duration": 13,
    "start_time": "2021-07-27T19:08:46.438Z"
   },
   {
    "duration": 361,
    "start_time": "2021-07-27T19:10:41.894Z"
   },
   {
    "duration": 9,
    "start_time": "2021-07-27T19:12:08.598Z"
   },
   {
    "duration": 17,
    "start_time": "2021-07-27T19:12:15.446Z"
   },
   {
    "duration": 1368,
    "start_time": "2021-07-27T19:13:02.378Z"
   },
   {
    "duration": 28,
    "start_time": "2021-07-27T19:13:03.749Z"
   },
   {
    "duration": 20,
    "start_time": "2021-07-27T19:13:03.780Z"
   },
   {
    "duration": 5,
    "start_time": "2021-07-27T19:13:03.803Z"
   },
   {
    "duration": 18,
    "start_time": "2021-07-27T19:13:03.812Z"
   },
   {
    "duration": 47,
    "start_time": "2021-07-27T19:13:03.833Z"
   },
   {
    "duration": 56,
    "start_time": "2021-07-27T19:13:03.883Z"
   },
   {
    "duration": 9,
    "start_time": "2021-07-27T19:13:03.943Z"
   },
   {
    "duration": 10,
    "start_time": "2021-07-27T19:13:03.955Z"
   },
   {
    "duration": 20,
    "start_time": "2021-07-27T19:13:03.967Z"
   },
   {
    "duration": 10,
    "start_time": "2021-07-27T19:13:03.989Z"
   },
   {
    "duration": 28,
    "start_time": "2021-07-27T19:13:04.001Z"
   },
   {
    "duration": 22,
    "start_time": "2021-07-27T19:13:04.031Z"
   },
   {
    "duration": 9,
    "start_time": "2021-07-27T19:13:04.068Z"
   },
   {
    "duration": 11,
    "start_time": "2021-07-27T19:13:04.080Z"
   },
   {
    "duration": 13,
    "start_time": "2021-07-27T19:13:04.094Z"
   },
   {
    "duration": 9,
    "start_time": "2021-07-27T19:13:04.109Z"
   },
   {
    "duration": 13,
    "start_time": "2021-07-27T19:13:04.120Z"
   },
   {
    "duration": 21,
    "start_time": "2021-07-27T19:13:04.168Z"
   },
   {
    "duration": 13,
    "start_time": "2021-07-27T19:13:04.192Z"
   },
   {
    "duration": 17,
    "start_time": "2021-07-27T19:13:04.208Z"
   },
   {
    "duration": 43,
    "start_time": "2021-07-27T19:13:04.229Z"
   },
   {
    "duration": 459,
    "start_time": "2021-07-27T19:13:04.279Z"
   },
   {
    "duration": 280,
    "start_time": "2021-07-27T19:13:04.742Z"
   },
   {
    "duration": 11,
    "start_time": "2021-07-27T19:13:05.025Z"
   },
   {
    "duration": 584,
    "start_time": "2021-07-27T19:13:05.038Z"
   },
   {
    "duration": 560,
    "start_time": "2021-07-27T19:13:05.626Z"
   },
   {
    "duration": 13,
    "start_time": "2021-07-27T19:13:06.189Z"
   },
   {
    "duration": 703,
    "start_time": "2021-07-27T19:13:06.205Z"
   },
   {
    "duration": 564,
    "start_time": "2021-07-27T19:13:06.910Z"
   },
   {
    "duration": 12,
    "start_time": "2021-07-27T19:13:07.477Z"
   },
   {
    "duration": 621,
    "start_time": "2021-07-27T19:13:07.491Z"
   },
   {
    "duration": 218,
    "start_time": "2021-07-27T19:13:08.115Z"
   },
   {
    "duration": 506,
    "start_time": "2021-07-27T19:13:08.335Z"
   },
   {
    "duration": 23,
    "start_time": "2021-07-27T19:13:08.843Z"
   },
   {
    "duration": 568,
    "start_time": "2021-07-27T19:13:08.868Z"
   },
   {
    "duration": 9,
    "start_time": "2021-07-27T19:13:09.439Z"
   },
   {
    "duration": 13,
    "start_time": "2021-07-27T19:13:09.468Z"
   },
   {
    "duration": 642,
    "start_time": "2021-07-27T19:13:09.485Z"
   },
   {
    "duration": 710,
    "start_time": "2021-07-27T19:13:10.130Z"
   },
   {
    "duration": 7,
    "start_time": "2021-07-27T19:13:10.842Z"
   },
   {
    "duration": 61,
    "start_time": "2021-07-27T19:13:10.851Z"
   },
   {
    "duration": 9,
    "start_time": "2021-07-27T19:13:10.915Z"
   },
   {
    "duration": 40,
    "start_time": "2021-07-27T19:13:10.927Z"
   },
   {
    "duration": 8,
    "start_time": "2021-07-27T19:13:10.970Z"
   },
   {
    "duration": 11,
    "start_time": "2021-07-27T19:13:10.980Z"
   },
   {
    "duration": 28,
    "start_time": "2021-07-27T19:13:10.993Z"
   },
   {
    "duration": 43,
    "start_time": "2021-07-27T19:13:11.024Z"
   },
   {
    "duration": 261,
    "start_time": "2021-07-27T19:13:11.070Z"
   },
   {
    "duration": 8,
    "start_time": "2021-07-27T19:13:11.333Z"
   },
   {
    "duration": 33,
    "start_time": "2021-07-27T19:13:11.344Z"
   },
   {
    "duration": 20,
    "start_time": "2021-07-27T19:13:11.379Z"
   },
   {
    "duration": 11,
    "start_time": "2021-07-27T19:13:11.401Z"
   },
   {
    "duration": 15,
    "start_time": "2021-07-27T19:13:11.414Z"
   },
   {
    "duration": 12,
    "start_time": "2021-07-27T19:13:11.468Z"
   },
   {
    "duration": 14,
    "start_time": "2021-07-27T19:13:11.482Z"
   },
   {
    "duration": 31,
    "start_time": "2021-07-27T19:13:11.499Z"
   },
   {
    "duration": 501,
    "start_time": "2021-07-27T19:18:18.742Z"
   },
   {
    "duration": 1470,
    "start_time": "2021-07-27T19:18:32.675Z"
   },
   {
    "duration": 37,
    "start_time": "2021-07-27T19:18:34.148Z"
   },
   {
    "duration": 8,
    "start_time": "2021-07-27T19:18:34.188Z"
   },
   {
    "duration": 8,
    "start_time": "2021-07-27T19:18:34.199Z"
   },
   {
    "duration": 16,
    "start_time": "2021-07-27T19:18:34.209Z"
   },
   {
    "duration": 14,
    "start_time": "2021-07-27T19:18:34.227Z"
   },
   {
    "duration": 72,
    "start_time": "2021-07-27T19:18:34.267Z"
   },
   {
    "duration": 9,
    "start_time": "2021-07-27T19:18:34.343Z"
   },
   {
    "duration": 16,
    "start_time": "2021-07-27T19:18:34.355Z"
   },
   {
    "duration": 24,
    "start_time": "2021-07-27T19:18:34.376Z"
   },
   {
    "duration": 10,
    "start_time": "2021-07-27T19:18:34.403Z"
   },
   {
    "duration": 23,
    "start_time": "2021-07-27T19:18:34.415Z"
   },
   {
    "duration": 34,
    "start_time": "2021-07-27T19:18:34.440Z"
   },
   {
    "duration": 11,
    "start_time": "2021-07-27T19:18:34.478Z"
   },
   {
    "duration": 8,
    "start_time": "2021-07-27T19:18:34.492Z"
   },
   {
    "duration": 7,
    "start_time": "2021-07-27T19:18:34.502Z"
   },
   {
    "duration": 7,
    "start_time": "2021-07-27T19:18:34.512Z"
   },
   {
    "duration": 64,
    "start_time": "2021-07-27T19:18:34.521Z"
   },
   {
    "duration": 7,
    "start_time": "2021-07-27T19:18:34.588Z"
   },
   {
    "duration": 385,
    "start_time": "2021-07-27T19:18:34.598Z"
   },
   {
    "duration": 272,
    "start_time": "2021-07-27T19:18:34.986Z"
   },
   {
    "duration": 16,
    "start_time": "2021-07-27T19:18:35.260Z"
   },
   {
    "duration": 578,
    "start_time": "2021-07-27T19:18:35.283Z"
   },
   {
    "duration": 571,
    "start_time": "2021-07-27T19:18:35.869Z"
   },
   {
    "duration": 11,
    "start_time": "2021-07-27T19:18:36.443Z"
   },
   {
    "duration": 663,
    "start_time": "2021-07-27T19:18:36.457Z"
   },
   {
    "duration": 581,
    "start_time": "2021-07-27T19:18:37.123Z"
   },
   {
    "duration": 12,
    "start_time": "2021-07-27T19:18:37.706Z"
   },
   {
    "duration": 680,
    "start_time": "2021-07-27T19:18:37.721Z"
   },
   {
    "duration": 290,
    "start_time": "2021-07-27T19:18:38.403Z"
   },
   {
    "duration": 515,
    "start_time": "2021-07-27T19:18:38.696Z"
   },
   {
    "duration": 7,
    "start_time": "2021-07-27T19:18:39.213Z"
   },
   {
    "duration": 663,
    "start_time": "2021-07-27T19:18:39.222Z"
   },
   {
    "duration": 9,
    "start_time": "2021-07-27T19:18:39.888Z"
   },
   {
    "duration": 25,
    "start_time": "2021-07-27T19:18:39.899Z"
   },
   {
    "duration": 560,
    "start_time": "2021-07-27T19:18:39.927Z"
   },
   {
    "duration": 677,
    "start_time": "2021-07-27T19:18:40.490Z"
   },
   {
    "duration": 11,
    "start_time": "2021-07-27T19:18:41.171Z"
   },
   {
    "duration": 48,
    "start_time": "2021-07-27T19:18:41.186Z"
   },
   {
    "duration": 42,
    "start_time": "2021-07-27T19:18:41.237Z"
   },
   {
    "duration": 14,
    "start_time": "2021-07-27T19:18:41.282Z"
   },
   {
    "duration": 8,
    "start_time": "2021-07-27T19:18:41.298Z"
   },
   {
    "duration": 12,
    "start_time": "2021-07-27T19:18:41.308Z"
   },
   {
    "duration": 71,
    "start_time": "2021-07-27T19:18:41.322Z"
   },
   {
    "duration": 17,
    "start_time": "2021-07-27T19:18:41.396Z"
   },
   {
    "duration": 288,
    "start_time": "2021-07-27T19:18:41.416Z"
   },
   {
    "duration": 9,
    "start_time": "2021-07-27T19:18:41.706Z"
   },
   {
    "duration": 13,
    "start_time": "2021-07-27T19:18:41.718Z"
   },
   {
    "duration": 49,
    "start_time": "2021-07-27T19:18:41.733Z"
   },
   {
    "duration": 10,
    "start_time": "2021-07-27T19:18:41.784Z"
   },
   {
    "duration": 11,
    "start_time": "2021-07-27T19:18:41.796Z"
   },
   {
    "duration": 12,
    "start_time": "2021-07-27T19:18:41.809Z"
   },
   {
    "duration": 50,
    "start_time": "2021-07-27T19:18:41.824Z"
   },
   {
    "duration": 31,
    "start_time": "2021-07-27T19:18:41.878Z"
   },
   {
    "duration": 1425,
    "start_time": "2021-07-27T19:28:57.118Z"
   },
   {
    "duration": 30,
    "start_time": "2021-07-27T19:28:58.546Z"
   },
   {
    "duration": 11,
    "start_time": "2021-07-27T19:28:58.578Z"
   },
   {
    "duration": 8,
    "start_time": "2021-07-27T19:28:58.593Z"
   },
   {
    "duration": 21,
    "start_time": "2021-07-27T19:28:58.603Z"
   },
   {
    "duration": 46,
    "start_time": "2021-07-27T19:28:58.628Z"
   },
   {
    "duration": 57,
    "start_time": "2021-07-27T19:28:58.677Z"
   },
   {
    "duration": 9,
    "start_time": "2021-07-27T19:28:58.740Z"
   },
   {
    "duration": 11,
    "start_time": "2021-07-27T19:28:58.753Z"
   },
   {
    "duration": 21,
    "start_time": "2021-07-27T19:28:58.768Z"
   },
   {
    "duration": 10,
    "start_time": "2021-07-27T19:28:58.793Z"
   },
   {
    "duration": 28,
    "start_time": "2021-07-27T19:28:58.806Z"
   },
   {
    "duration": 34,
    "start_time": "2021-07-27T19:28:58.837Z"
   },
   {
    "duration": 9,
    "start_time": "2021-07-27T19:28:58.874Z"
   },
   {
    "duration": 8,
    "start_time": "2021-07-27T19:28:58.886Z"
   },
   {
    "duration": 8,
    "start_time": "2021-07-27T19:28:58.896Z"
   },
   {
    "duration": 8,
    "start_time": "2021-07-27T19:28:58.906Z"
   },
   {
    "duration": 59,
    "start_time": "2021-07-27T19:28:58.916Z"
   },
   {
    "duration": 7,
    "start_time": "2021-07-27T19:28:58.978Z"
   },
   {
    "duration": 362,
    "start_time": "2021-07-27T19:28:58.987Z"
   },
   {
    "duration": 283,
    "start_time": "2021-07-27T19:28:59.351Z"
   },
   {
    "duration": 13,
    "start_time": "2021-07-27T19:28:59.637Z"
   },
   {
    "duration": 582,
    "start_time": "2021-07-27T19:28:59.669Z"
   },
   {
    "duration": 565,
    "start_time": "2021-07-27T19:29:00.268Z"
   },
   {
    "duration": 13,
    "start_time": "2021-07-27T19:29:00.835Z"
   },
   {
    "duration": 640,
    "start_time": "2021-07-27T19:29:00.866Z"
   },
   {
    "duration": 561,
    "start_time": "2021-07-27T19:29:01.509Z"
   },
   {
    "duration": 12,
    "start_time": "2021-07-27T19:29:02.072Z"
   },
   {
    "duration": 648,
    "start_time": "2021-07-27T19:29:02.087Z"
   },
   {
    "duration": 233,
    "start_time": "2021-07-27T19:29:02.738Z"
   },
   {
    "duration": 485,
    "start_time": "2021-07-27T19:29:02.974Z"
   },
   {
    "duration": 12,
    "start_time": "2021-07-27T19:29:03.461Z"
   },
   {
    "duration": 582,
    "start_time": "2021-07-27T19:29:03.476Z"
   },
   {
    "duration": 13,
    "start_time": "2021-07-27T19:29:04.061Z"
   },
   {
    "duration": 17,
    "start_time": "2021-07-27T19:29:04.077Z"
   },
   {
    "duration": 550,
    "start_time": "2021-07-27T19:29:04.097Z"
   },
   {
    "duration": 699,
    "start_time": "2021-07-27T19:29:04.650Z"
   },
   {
    "duration": 16,
    "start_time": "2021-07-27T19:29:05.352Z"
   },
   {
    "duration": 44,
    "start_time": "2021-07-27T19:29:05.371Z"
   },
   {
    "duration": 8,
    "start_time": "2021-07-27T19:29:05.418Z"
   },
   {
    "duration": 39,
    "start_time": "2021-07-27T19:29:05.429Z"
   },
   {
    "duration": 9,
    "start_time": "2021-07-27T19:29:05.470Z"
   },
   {
    "duration": 10,
    "start_time": "2021-07-27T19:29:05.482Z"
   },
   {
    "duration": 41,
    "start_time": "2021-07-27T19:29:05.494Z"
   },
   {
    "duration": 16,
    "start_time": "2021-07-27T19:29:05.537Z"
   },
   {
    "duration": 240,
    "start_time": "2021-07-27T19:29:05.567Z"
   },
   {
    "duration": 8,
    "start_time": "2021-07-27T19:29:05.809Z"
   },
   {
    "duration": 12,
    "start_time": "2021-07-27T19:29:05.820Z"
   },
   {
    "duration": 45,
    "start_time": "2021-07-27T19:29:05.835Z"
   },
   {
    "duration": 9,
    "start_time": "2021-07-27T19:29:05.883Z"
   },
   {
    "duration": 10,
    "start_time": "2021-07-27T19:29:05.894Z"
   },
   {
    "duration": 11,
    "start_time": "2021-07-27T19:29:05.907Z"
   },
   {
    "duration": 46,
    "start_time": "2021-07-27T19:29:05.921Z"
   },
   {
    "duration": 30,
    "start_time": "2021-07-27T19:29:05.970Z"
   },
   {
    "duration": 465,
    "start_time": "2021-07-27T19:30:47.036Z"
   },
   {
    "duration": 13,
    "start_time": "2021-07-27T19:58:47.772Z"
   },
   {
    "duration": 33,
    "start_time": "2021-07-27T19:59:26.321Z"
   },
   {
    "duration": 11,
    "start_time": "2021-07-27T20:00:31.813Z"
   },
   {
    "duration": 1366,
    "start_time": "2021-07-27T20:01:33.816Z"
   },
   {
    "duration": 29,
    "start_time": "2021-07-27T20:01:35.185Z"
   },
   {
    "duration": 9,
    "start_time": "2021-07-27T20:01:35.217Z"
   },
   {
    "duration": 8,
    "start_time": "2021-07-27T20:01:35.228Z"
   },
   {
    "duration": 41,
    "start_time": "2021-07-27T20:01:35.238Z"
   },
   {
    "duration": 15,
    "start_time": "2021-07-27T20:01:35.281Z"
   },
   {
    "duration": 82,
    "start_time": "2021-07-27T20:01:35.299Z"
   },
   {
    "duration": 9,
    "start_time": "2021-07-27T20:01:35.385Z"
   },
   {
    "duration": 10,
    "start_time": "2021-07-27T20:01:35.397Z"
   },
   {
    "duration": 20,
    "start_time": "2021-07-27T20:01:35.409Z"
   },
   {
    "duration": 18,
    "start_time": "2021-07-27T20:01:35.471Z"
   },
   {
    "duration": 40,
    "start_time": "2021-07-27T20:01:35.492Z"
   },
   {
    "duration": 19,
    "start_time": "2021-07-27T20:01:35.534Z"
   },
   {
    "duration": 17,
    "start_time": "2021-07-27T20:01:35.557Z"
   },
   {
    "duration": 12,
    "start_time": "2021-07-27T20:01:35.577Z"
   },
   {
    "duration": 24,
    "start_time": "2021-07-27T20:01:35.591Z"
   },
   {
    "duration": 22,
    "start_time": "2021-07-27T20:01:35.617Z"
   },
   {
    "duration": 26,
    "start_time": "2021-07-27T20:01:35.642Z"
   },
   {
    "duration": 8,
    "start_time": "2021-07-27T20:01:35.671Z"
   },
   {
    "duration": 352,
    "start_time": "2021-07-27T20:01:35.681Z"
   },
   {
    "duration": 306,
    "start_time": "2021-07-27T20:01:36.036Z"
   },
   {
    "duration": 23,
    "start_time": "2021-07-27T20:01:36.344Z"
   },
   {
    "duration": 564,
    "start_time": "2021-07-27T20:01:36.373Z"
   },
   {
    "duration": 564,
    "start_time": "2021-07-27T20:01:36.941Z"
   },
   {
    "duration": 12,
    "start_time": "2021-07-27T20:01:37.508Z"
   },
   {
    "duration": 653,
    "start_time": "2021-07-27T20:01:37.523Z"
   },
   {
    "duration": 646,
    "start_time": "2021-07-27T20:01:38.179Z"
   },
   {
    "duration": 11,
    "start_time": "2021-07-27T20:01:38.828Z"
   },
   {
    "duration": 640,
    "start_time": "2021-07-27T20:01:38.841Z"
   },
   {
    "duration": 286,
    "start_time": "2021-07-27T20:01:39.483Z"
   },
   {
    "duration": 480,
    "start_time": "2021-07-27T20:01:39.771Z"
   },
   {
    "duration": 15,
    "start_time": "2021-07-27T20:01:40.254Z"
   },
   {
    "duration": 588,
    "start_time": "2021-07-27T20:01:40.271Z"
   },
   {
    "duration": 9,
    "start_time": "2021-07-27T20:01:40.862Z"
   },
   {
    "duration": 17,
    "start_time": "2021-07-27T20:01:40.873Z"
   },
   {
    "duration": 533,
    "start_time": "2021-07-27T20:01:40.892Z"
   },
   {
    "duration": 708,
    "start_time": "2021-07-27T20:01:41.427Z"
   },
   {
    "duration": 8,
    "start_time": "2021-07-27T20:01:42.138Z"
   },
   {
    "duration": 47,
    "start_time": "2021-07-27T20:01:42.168Z"
   },
   {
    "duration": 11,
    "start_time": "2021-07-27T20:01:42.217Z"
   },
   {
    "duration": 44,
    "start_time": "2021-07-27T20:01:42.231Z"
   },
   {
    "duration": 25,
    "start_time": "2021-07-27T20:01:42.277Z"
   },
   {
    "duration": 24,
    "start_time": "2021-07-27T20:01:42.304Z"
   },
   {
    "duration": 38,
    "start_time": "2021-07-27T20:01:42.330Z"
   },
   {
    "duration": 17,
    "start_time": "2021-07-27T20:01:42.370Z"
   },
   {
    "duration": 217,
    "start_time": "2021-07-27T20:01:42.389Z"
   },
   {
    "duration": 7,
    "start_time": "2021-07-27T20:01:42.609Z"
   },
   {
    "duration": 31,
    "start_time": "2021-07-27T20:01:42.618Z"
   },
   {
    "duration": 36,
    "start_time": "2021-07-27T20:01:42.651Z"
   },
   {
    "duration": 40,
    "start_time": "2021-07-27T20:01:42.689Z"
   },
   {
    "duration": 34,
    "start_time": "2021-07-27T20:01:42.732Z"
   },
   {
    "duration": 27,
    "start_time": "2021-07-27T20:01:42.769Z"
   },
   {
    "duration": 42,
    "start_time": "2021-07-27T20:01:42.799Z"
   },
   {
    "duration": 46,
    "start_time": "2021-07-27T20:01:42.844Z"
   },
   {
    "duration": 1453,
    "start_time": "2021-07-27T20:03:32.984Z"
   },
   {
    "duration": 37,
    "start_time": "2021-07-27T20:03:34.440Z"
   },
   {
    "duration": 13,
    "start_time": "2021-07-27T20:03:34.480Z"
   },
   {
    "duration": 8,
    "start_time": "2021-07-27T20:03:34.496Z"
   },
   {
    "duration": 21,
    "start_time": "2021-07-27T20:03:34.506Z"
   },
   {
    "duration": 16,
    "start_time": "2021-07-27T20:03:34.530Z"
   },
   {
    "duration": 72,
    "start_time": "2021-07-27T20:03:34.568Z"
   },
   {
    "duration": 9,
    "start_time": "2021-07-27T20:03:34.644Z"
   },
   {
    "duration": 9,
    "start_time": "2021-07-27T20:03:34.656Z"
   },
   {
    "duration": 23,
    "start_time": "2021-07-27T20:03:34.667Z"
   },
   {
    "duration": 13,
    "start_time": "2021-07-27T20:03:34.693Z"
   },
   {
    "duration": 29,
    "start_time": "2021-07-27T20:03:34.708Z"
   },
   {
    "duration": 9,
    "start_time": "2021-07-27T20:03:34.768Z"
   },
   {
    "duration": 11,
    "start_time": "2021-07-27T20:03:34.780Z"
   },
   {
    "duration": 15,
    "start_time": "2021-07-27T20:03:34.793Z"
   },
   {
    "duration": 10,
    "start_time": "2021-07-27T20:03:34.810Z"
   },
   {
    "duration": 18,
    "start_time": "2021-07-27T20:03:34.822Z"
   },
   {
    "duration": 36,
    "start_time": "2021-07-27T20:03:34.842Z"
   },
   {
    "duration": 7,
    "start_time": "2021-07-27T20:03:34.881Z"
   },
   {
    "duration": 370,
    "start_time": "2021-07-27T20:03:34.890Z"
   },
   {
    "duration": 286,
    "start_time": "2021-07-27T20:03:35.262Z"
   },
   {
    "duration": 16,
    "start_time": "2021-07-27T20:03:35.551Z"
   },
   {
    "duration": 555,
    "start_time": "2021-07-27T20:03:35.572Z"
   },
   {
    "duration": 536,
    "start_time": "2021-07-27T20:03:36.131Z"
   },
   {
    "duration": 13,
    "start_time": "2021-07-27T20:03:36.671Z"
   },
   {
    "duration": 657,
    "start_time": "2021-07-27T20:03:36.687Z"
   },
   {
    "duration": 537,
    "start_time": "2021-07-27T20:03:37.347Z"
   },
   {
    "duration": 11,
    "start_time": "2021-07-27T20:03:37.887Z"
   },
   {
    "duration": 690,
    "start_time": "2021-07-27T20:03:37.901Z"
   },
   {
    "duration": 242,
    "start_time": "2021-07-27T20:03:38.593Z"
   },
   {
    "duration": 479,
    "start_time": "2021-07-27T20:03:38.837Z"
   },
   {
    "duration": 7,
    "start_time": "2021-07-27T20:03:39.319Z"
   },
   {
    "duration": 622,
    "start_time": "2021-07-27T20:03:39.329Z"
   },
   {
    "duration": 15,
    "start_time": "2021-07-27T20:03:39.953Z"
   },
   {
    "duration": 14,
    "start_time": "2021-07-27T20:03:39.972Z"
   },
   {
    "duration": 538,
    "start_time": "2021-07-27T20:03:39.990Z"
   },
   {
    "duration": 697,
    "start_time": "2021-07-27T20:03:40.531Z"
   },
   {
    "duration": 9,
    "start_time": "2021-07-27T20:03:41.231Z"
   },
   {
    "duration": 62,
    "start_time": "2021-07-27T20:03:41.243Z"
   },
   {
    "duration": 10,
    "start_time": "2021-07-27T20:03:41.308Z"
   },
   {
    "duration": 47,
    "start_time": "2021-07-27T20:03:41.322Z"
   },
   {
    "duration": 8,
    "start_time": "2021-07-27T20:03:41.372Z"
   },
   {
    "duration": 14,
    "start_time": "2021-07-27T20:03:41.382Z"
   },
   {
    "duration": 30,
    "start_time": "2021-07-27T20:03:41.399Z"
   },
   {
    "duration": 38,
    "start_time": "2021-07-27T20:03:41.432Z"
   },
   {
    "duration": 238,
    "start_time": "2021-07-27T20:03:41.472Z"
   },
   {
    "duration": 9,
    "start_time": "2021-07-27T20:03:41.712Z"
   },
   {
    "duration": 14,
    "start_time": "2021-07-27T20:03:41.723Z"
   },
   {
    "duration": 41,
    "start_time": "2021-07-27T20:03:41.739Z"
   },
   {
    "duration": 9,
    "start_time": "2021-07-27T20:03:41.782Z"
   },
   {
    "duration": 11,
    "start_time": "2021-07-27T20:03:41.794Z"
   },
   {
    "duration": 11,
    "start_time": "2021-07-27T20:03:41.808Z"
   },
   {
    "duration": 49,
    "start_time": "2021-07-27T20:03:41.822Z"
   },
   {
    "duration": 31,
    "start_time": "2021-07-27T20:03:41.874Z"
   },
   {
    "duration": 1573,
    "start_time": "2021-07-27T20:11:08.061Z"
   },
   {
    "duration": 30,
    "start_time": "2021-07-27T20:11:09.637Z"
   },
   {
    "duration": 9,
    "start_time": "2021-07-27T20:11:09.669Z"
   },
   {
    "duration": 5,
    "start_time": "2021-07-27T20:11:09.681Z"
   },
   {
    "duration": 21,
    "start_time": "2021-07-27T20:11:09.688Z"
   },
   {
    "duration": 14,
    "start_time": "2021-07-27T20:11:09.711Z"
   },
   {
    "duration": 52,
    "start_time": "2021-07-27T20:11:09.727Z"
   },
   {
    "duration": 9,
    "start_time": "2021-07-27T20:11:09.784Z"
   },
   {
    "duration": 11,
    "start_time": "2021-07-27T20:11:09.798Z"
   },
   {
    "duration": 63,
    "start_time": "2021-07-27T20:11:09.812Z"
   },
   {
    "duration": 10,
    "start_time": "2021-07-27T20:11:09.878Z"
   },
   {
    "duration": 27,
    "start_time": "2021-07-27T20:11:09.892Z"
   },
   {
    "duration": 10,
    "start_time": "2021-07-27T20:11:09.921Z"
   },
   {
    "duration": 37,
    "start_time": "2021-07-27T20:11:09.934Z"
   },
   {
    "duration": 8,
    "start_time": "2021-07-27T20:11:09.973Z"
   },
   {
    "duration": 4,
    "start_time": "2021-07-27T20:11:09.984Z"
   },
   {
    "duration": 9,
    "start_time": "2021-07-27T20:11:09.991Z"
   },
   {
    "duration": 22,
    "start_time": "2021-07-27T20:11:10.002Z"
   },
   {
    "duration": 7,
    "start_time": "2021-07-27T20:11:10.027Z"
   },
   {
    "duration": 389,
    "start_time": "2021-07-27T20:11:10.036Z"
   },
   {
    "duration": 288,
    "start_time": "2021-07-27T20:11:10.428Z"
   },
   {
    "duration": 11,
    "start_time": "2021-07-27T20:11:10.719Z"
   },
   {
    "duration": 565,
    "start_time": "2021-07-27T20:11:10.735Z"
   },
   {
    "duration": 547,
    "start_time": "2021-07-27T20:11:11.304Z"
   },
   {
    "duration": 19,
    "start_time": "2021-07-27T20:11:11.853Z"
   },
   {
    "duration": 627,
    "start_time": "2021-07-27T20:11:11.875Z"
   },
   {
    "duration": 541,
    "start_time": "2021-07-27T20:11:12.504Z"
   },
   {
    "duration": 22,
    "start_time": "2021-07-27T20:11:13.047Z"
   },
   {
    "duration": 645,
    "start_time": "2021-07-27T20:11:13.071Z"
   },
   {
    "duration": 300,
    "start_time": "2021-07-27T20:11:13.719Z"
   },
   {
    "duration": 488,
    "start_time": "2021-07-27T20:11:14.022Z"
   },
   {
    "duration": 7,
    "start_time": "2021-07-27T20:11:14.513Z"
   },
   {
    "duration": 608,
    "start_time": "2021-07-27T20:11:14.522Z"
   },
   {
    "duration": 7,
    "start_time": "2021-07-27T20:11:15.133Z"
   },
   {
    "duration": 27,
    "start_time": "2021-07-27T20:11:15.142Z"
   },
   {
    "duration": 521,
    "start_time": "2021-07-27T20:11:15.171Z"
   },
   {
    "duration": 656,
    "start_time": "2021-07-27T20:11:15.694Z"
   },
   {
    "duration": 16,
    "start_time": "2021-07-27T20:11:16.353Z"
   },
   {
    "duration": 46,
    "start_time": "2021-07-27T20:11:16.372Z"
   },
   {
    "duration": 9,
    "start_time": "2021-07-27T20:11:16.421Z"
   },
   {
    "duration": 40,
    "start_time": "2021-07-27T20:11:16.432Z"
   },
   {
    "duration": 10,
    "start_time": "2021-07-27T20:11:16.475Z"
   },
   {
    "duration": 11,
    "start_time": "2021-07-27T20:11:16.488Z"
   },
   {
    "duration": 30,
    "start_time": "2021-07-27T20:11:16.502Z"
   },
   {
    "duration": 38,
    "start_time": "2021-07-27T20:11:16.534Z"
   },
   {
    "duration": 314,
    "start_time": "2021-07-27T20:11:16.574Z"
   },
   {
    "duration": 8,
    "start_time": "2021-07-27T20:11:16.891Z"
   },
   {
    "duration": 14,
    "start_time": "2021-07-27T20:11:16.902Z"
   },
   {
    "duration": 48,
    "start_time": "2021-07-27T20:11:16.919Z"
   },
   {
    "duration": 7,
    "start_time": "2021-07-27T20:11:16.969Z"
   },
   {
    "duration": 18,
    "start_time": "2021-07-27T20:11:16.978Z"
   },
   {
    "duration": 15,
    "start_time": "2021-07-27T20:11:16.999Z"
   },
   {
    "duration": 449,
    "start_time": "2021-07-27T20:11:17.016Z"
   },
   {
    "duration": 1373,
    "start_time": "2021-07-27T20:18:25.260Z"
   },
   {
    "duration": 32,
    "start_time": "2021-07-27T20:18:26.636Z"
   },
   {
    "duration": 14,
    "start_time": "2021-07-27T20:18:26.671Z"
   },
   {
    "duration": 8,
    "start_time": "2021-07-27T20:18:26.688Z"
   },
   {
    "duration": 21,
    "start_time": "2021-07-27T20:18:26.698Z"
   },
   {
    "duration": 16,
    "start_time": "2021-07-27T20:18:26.721Z"
   },
   {
    "duration": 43,
    "start_time": "2021-07-27T20:18:26.739Z"
   },
   {
    "duration": 9,
    "start_time": "2021-07-27T20:18:26.786Z"
   },
   {
    "duration": 12,
    "start_time": "2021-07-27T20:18:26.797Z"
   },
   {
    "duration": 20,
    "start_time": "2021-07-27T20:18:26.811Z"
   },
   {
    "duration": 57,
    "start_time": "2021-07-27T20:18:26.833Z"
   },
   {
    "duration": 13,
    "start_time": "2021-07-27T20:18:26.893Z"
   },
   {
    "duration": 10,
    "start_time": "2021-07-27T20:18:26.909Z"
   },
   {
    "duration": 10,
    "start_time": "2021-07-27T20:18:26.922Z"
   },
   {
    "duration": 32,
    "start_time": "2021-07-27T20:18:26.935Z"
   },
   {
    "duration": 6,
    "start_time": "2021-07-27T20:18:26.970Z"
   },
   {
    "duration": 35,
    "start_time": "2021-07-27T20:18:26.979Z"
   },
   {
    "duration": 12,
    "start_time": "2021-07-27T20:18:27.016Z"
   },
   {
    "duration": 379,
    "start_time": "2021-07-27T20:18:27.031Z"
   },
   {
    "duration": 277,
    "start_time": "2021-07-27T20:18:27.413Z"
   },
   {
    "duration": 11,
    "start_time": "2021-07-27T20:18:27.693Z"
   },
   {
    "duration": 567,
    "start_time": "2021-07-27T20:18:27.706Z"
   },
   {
    "duration": 565,
    "start_time": "2021-07-27T20:18:28.279Z"
   },
   {
    "duration": 20,
    "start_time": "2021-07-27T20:18:28.847Z"
   },
   {
    "duration": 616,
    "start_time": "2021-07-27T20:18:28.870Z"
   },
   {
    "duration": 566,
    "start_time": "2021-07-27T20:18:29.488Z"
   },
   {
    "duration": 20,
    "start_time": "2021-07-27T20:18:30.056Z"
   },
   {
    "duration": 628,
    "start_time": "2021-07-27T20:18:30.078Z"
   },
   {
    "duration": 316,
    "start_time": "2021-07-27T20:18:30.709Z"
   },
   {
    "duration": 485,
    "start_time": "2021-07-27T20:18:31.028Z"
   },
   {
    "duration": 7,
    "start_time": "2021-07-27T20:18:31.515Z"
   },
   {
    "duration": 654,
    "start_time": "2021-07-27T20:18:31.525Z"
   },
   {
    "duration": 7,
    "start_time": "2021-07-27T20:18:32.181Z"
   },
   {
    "duration": 17,
    "start_time": "2021-07-27T20:18:32.190Z"
   },
   {
    "duration": 535,
    "start_time": "2021-07-27T20:18:32.209Z"
   },
   {
    "duration": 685,
    "start_time": "2021-07-27T20:18:32.746Z"
   },
   {
    "duration": 7,
    "start_time": "2021-07-27T20:18:33.434Z"
   },
   {
    "duration": 60,
    "start_time": "2021-07-27T20:18:33.443Z"
   },
   {
    "duration": 10,
    "start_time": "2021-07-27T20:18:33.506Z"
   },
   {
    "duration": 22,
    "start_time": "2021-07-27T20:18:33.518Z"
   },
   {
    "duration": 7,
    "start_time": "2021-07-27T20:18:33.542Z"
   },
   {
    "duration": 23,
    "start_time": "2021-07-27T20:18:33.551Z"
   },
   {
    "duration": 30,
    "start_time": "2021-07-27T20:18:33.576Z"
   },
   {
    "duration": 17,
    "start_time": "2021-07-27T20:18:33.609Z"
   },
   {
    "duration": 273,
    "start_time": "2021-07-27T20:18:33.629Z"
   },
   {
    "duration": 8,
    "start_time": "2021-07-27T20:18:33.905Z"
   },
   {
    "duration": 13,
    "start_time": "2021-07-27T20:18:33.916Z"
   },
   {
    "duration": 48,
    "start_time": "2021-07-27T20:18:33.931Z"
   },
   {
    "duration": 6,
    "start_time": "2021-07-27T20:18:33.981Z"
   },
   {
    "duration": 17,
    "start_time": "2021-07-27T20:18:33.990Z"
   },
   {
    "duration": 18,
    "start_time": "2021-07-27T20:18:34.010Z"
   },
   {
    "duration": 429,
    "start_time": "2021-07-27T20:18:34.031Z"
   },
   {
    "duration": 30,
    "start_time": "2021-07-27T20:26:57.333Z"
   },
   {
    "duration": 1327,
    "start_time": "2021-07-27T20:31:39.010Z"
   },
   {
    "duration": 30,
    "start_time": "2021-07-27T20:31:40.340Z"
   },
   {
    "duration": 9,
    "start_time": "2021-07-27T20:31:40.373Z"
   },
   {
    "duration": 4,
    "start_time": "2021-07-27T20:31:40.385Z"
   },
   {
    "duration": 17,
    "start_time": "2021-07-27T20:31:40.392Z"
   },
   {
    "duration": 55,
    "start_time": "2021-07-27T20:31:40.412Z"
   },
   {
    "duration": 80,
    "start_time": "2021-07-27T20:31:40.470Z"
   },
   {
    "duration": 9,
    "start_time": "2021-07-27T20:31:40.556Z"
   },
   {
    "duration": 11,
    "start_time": "2021-07-27T20:31:40.569Z"
   },
   {
    "duration": 22,
    "start_time": "2021-07-27T20:31:40.583Z"
   },
   {
    "duration": 25,
    "start_time": "2021-07-27T20:31:40.608Z"
   },
   {
    "duration": 8,
    "start_time": "2021-07-27T20:31:40.667Z"
   },
   {
    "duration": 13,
    "start_time": "2021-07-27T20:31:40.678Z"
   },
   {
    "duration": 9,
    "start_time": "2021-07-27T20:31:40.693Z"
   },
   {
    "duration": 11,
    "start_time": "2021-07-27T20:31:40.705Z"
   },
   {
    "duration": 7,
    "start_time": "2021-07-27T20:31:40.718Z"
   },
   {
    "duration": 53,
    "start_time": "2021-07-27T20:31:40.727Z"
   },
   {
    "duration": 7,
    "start_time": "2021-07-27T20:31:40.783Z"
   },
   {
    "duration": 381,
    "start_time": "2021-07-27T20:31:40.792Z"
   },
   {
    "duration": 294,
    "start_time": "2021-07-27T20:31:41.176Z"
   },
   {
    "duration": 14,
    "start_time": "2021-07-27T20:31:41.472Z"
   },
   {
    "duration": 555,
    "start_time": "2021-07-27T20:31:41.488Z"
   },
   {
    "duration": 544,
    "start_time": "2021-07-27T20:31:42.048Z"
   },
   {
    "duration": 12,
    "start_time": "2021-07-27T20:31:42.595Z"
   },
   {
    "duration": 660,
    "start_time": "2021-07-27T20:31:42.610Z"
   },
   {
    "duration": 548,
    "start_time": "2021-07-27T20:31:43.273Z"
   },
   {
    "duration": 11,
    "start_time": "2021-07-27T20:31:43.824Z"
   },
   {
    "duration": 641,
    "start_time": "2021-07-27T20:31:43.838Z"
   },
   {
    "duration": 252,
    "start_time": "2021-07-27T20:31:44.482Z"
   },
   {
    "duration": 483,
    "start_time": "2021-07-27T20:31:44.736Z"
   },
   {
    "duration": 7,
    "start_time": "2021-07-27T20:31:45.221Z"
   },
   {
    "duration": 589,
    "start_time": "2021-07-27T20:31:45.231Z"
   },
   {
    "duration": 7,
    "start_time": "2021-07-27T20:31:45.822Z"
   },
   {
    "duration": 16,
    "start_time": "2021-07-27T20:31:45.832Z"
   },
   {
    "duration": 521,
    "start_time": "2021-07-27T20:31:45.850Z"
   },
   {
    "duration": 818,
    "start_time": "2021-07-27T20:31:46.374Z"
   },
   {
    "duration": 6,
    "start_time": "2021-07-27T20:31:47.195Z"
   },
   {
    "duration": 97,
    "start_time": "2021-07-27T20:31:47.203Z"
   },
   {
    "duration": 65,
    "start_time": "2021-07-27T20:31:47.302Z"
   },
   {
    "duration": 13,
    "start_time": "2021-07-27T20:31:47.369Z"
   },
   {
    "duration": 18,
    "start_time": "2021-07-27T20:31:47.384Z"
   },
   {
    "duration": 64,
    "start_time": "2021-07-27T20:31:47.404Z"
   },
   {
    "duration": 101,
    "start_time": "2021-07-27T20:31:47.471Z"
   },
   {
    "duration": 24,
    "start_time": "2021-07-27T20:31:47.575Z"
   },
   {
    "duration": 515,
    "start_time": "2021-07-27T20:31:47.602Z"
   },
   {
    "duration": 8,
    "start_time": "2021-07-27T20:31:48.119Z"
   },
   {
    "duration": 22,
    "start_time": "2021-07-27T20:31:48.129Z"
   },
   {
    "duration": 29,
    "start_time": "2021-07-27T20:31:48.154Z"
   },
   {
    "duration": 12,
    "start_time": "2021-07-27T20:31:48.185Z"
   },
   {
    "duration": 30,
    "start_time": "2021-07-27T20:31:48.199Z"
   },
   {
    "duration": 39,
    "start_time": "2021-07-27T20:31:48.232Z"
   },
   {
    "duration": 31,
    "start_time": "2021-07-27T20:31:48.274Z"
   },
   {
    "duration": 1430,
    "start_time": "2021-07-28T05:49:54.206Z"
   },
   {
    "duration": 30,
    "start_time": "2021-07-28T05:49:55.639Z"
   },
   {
    "duration": 10,
    "start_time": "2021-07-28T05:49:55.673Z"
   },
   {
    "duration": 5,
    "start_time": "2021-07-28T05:49:55.687Z"
   },
   {
    "duration": 18,
    "start_time": "2021-07-28T05:49:55.695Z"
   },
   {
    "duration": 60,
    "start_time": "2021-07-28T05:49:55.717Z"
   },
   {
    "duration": 64,
    "start_time": "2021-07-28T05:49:55.780Z"
   },
   {
    "duration": 8,
    "start_time": "2021-07-28T05:49:55.850Z"
   },
   {
    "duration": 11,
    "start_time": "2021-07-28T05:49:55.862Z"
   },
   {
    "duration": 20,
    "start_time": "2021-07-28T05:49:55.876Z"
   },
   {
    "duration": 25,
    "start_time": "2021-07-28T05:49:55.899Z"
   },
   {
    "duration": 40,
    "start_time": "2021-07-28T05:49:55.927Z"
   },
   {
    "duration": 13,
    "start_time": "2021-07-28T05:49:55.970Z"
   },
   {
    "duration": 14,
    "start_time": "2021-07-28T05:49:55.986Z"
   },
   {
    "duration": 9,
    "start_time": "2021-07-28T05:49:56.002Z"
   },
   {
    "duration": 9,
    "start_time": "2021-07-28T05:49:56.014Z"
   },
   {
    "duration": 47,
    "start_time": "2021-07-28T05:49:56.026Z"
   },
   {
    "duration": 9,
    "start_time": "2021-07-28T05:49:56.076Z"
   },
   {
    "duration": 374,
    "start_time": "2021-07-28T05:49:56.088Z"
   },
   {
    "duration": 277,
    "start_time": "2021-07-28T05:49:56.467Z"
   },
   {
    "duration": 32,
    "start_time": "2021-07-28T05:49:56.746Z"
   },
   {
    "duration": 543,
    "start_time": "2021-07-28T05:49:56.780Z"
   },
   {
    "duration": 558,
    "start_time": "2021-07-28T05:49:57.331Z"
   },
   {
    "duration": 11,
    "start_time": "2021-07-28T05:49:57.894Z"
   },
   {
    "duration": 660,
    "start_time": "2021-07-28T05:49:57.909Z"
   },
   {
    "duration": 547,
    "start_time": "2021-07-28T05:49:58.572Z"
   },
   {
    "duration": 13,
    "start_time": "2021-07-28T05:49:59.122Z"
   },
   {
    "duration": 642,
    "start_time": "2021-07-28T05:49:59.137Z"
   },
   {
    "duration": 226,
    "start_time": "2021-07-28T05:49:59.781Z"
   },
   {
    "duration": 478,
    "start_time": "2021-07-28T05:50:00.009Z"
   },
   {
    "duration": 7,
    "start_time": "2021-07-28T05:50:00.489Z"
   },
   {
    "duration": 585,
    "start_time": "2021-07-28T05:50:00.499Z"
   },
   {
    "duration": 7,
    "start_time": "2021-07-28T05:50:01.086Z"
   },
   {
    "duration": 27,
    "start_time": "2021-07-28T05:50:01.096Z"
   },
   {
    "duration": 536,
    "start_time": "2021-07-28T05:50:01.126Z"
   },
   {
    "duration": 775,
    "start_time": "2021-07-28T05:50:01.667Z"
   },
   {
    "duration": 6,
    "start_time": "2021-07-28T05:50:02.445Z"
   },
   {
    "duration": 42,
    "start_time": "2021-07-28T05:50:02.467Z"
   },
   {
    "duration": 10,
    "start_time": "2021-07-28T05:50:02.511Z"
   },
   {
    "duration": 17,
    "start_time": "2021-07-28T05:50:02.523Z"
   },
   {
    "duration": 25,
    "start_time": "2021-07-28T05:50:02.542Z"
   },
   {
    "duration": 24,
    "start_time": "2021-07-28T05:50:02.569Z"
   },
   {
    "duration": 32,
    "start_time": "2021-07-28T05:50:02.596Z"
   },
   {
    "duration": 23,
    "start_time": "2021-07-28T05:50:02.631Z"
   },
   {
    "duration": 266,
    "start_time": "2021-07-28T05:50:02.667Z"
   },
   {
    "duration": 9,
    "start_time": "2021-07-28T05:50:02.936Z"
   },
   {
    "duration": 34,
    "start_time": "2021-07-28T05:50:02.947Z"
   },
   {
    "duration": 21,
    "start_time": "2021-07-28T05:50:02.984Z"
   },
   {
    "duration": 8,
    "start_time": "2021-07-28T05:50:03.008Z"
   },
   {
    "duration": 13,
    "start_time": "2021-07-28T05:50:03.018Z"
   },
   {
    "duration": 41,
    "start_time": "2021-07-28T05:50:03.034Z"
   },
   {
    "duration": 30,
    "start_time": "2021-07-28T05:50:03.077Z"
   },
   {
    "duration": 360,
    "start_time": "2021-07-30T08:10:32.995Z"
   },
   {
    "duration": 1358,
    "start_time": "2021-07-30T08:10:41.058Z"
   },
   {
    "duration": 32,
    "start_time": "2021-07-30T08:10:42.419Z"
   },
   {
    "duration": 19,
    "start_time": "2021-07-30T08:10:42.454Z"
   },
   {
    "duration": 13,
    "start_time": "2021-07-30T08:10:42.476Z"
   },
   {
    "duration": 25,
    "start_time": "2021-07-30T08:10:42.492Z"
   },
   {
    "duration": 21,
    "start_time": "2021-07-30T08:10:42.519Z"
   },
   {
    "duration": 74,
    "start_time": "2021-07-30T08:10:42.562Z"
   },
   {
    "duration": 9,
    "start_time": "2021-07-30T08:10:42.639Z"
   },
   {
    "duration": 15,
    "start_time": "2021-07-30T08:10:42.650Z"
   },
   {
    "duration": 23,
    "start_time": "2021-07-30T08:10:42.669Z"
   },
   {
    "duration": 24,
    "start_time": "2021-07-30T08:10:42.695Z"
   },
   {
    "duration": 12,
    "start_time": "2021-07-30T08:10:42.722Z"
   },
   {
    "duration": 9,
    "start_time": "2021-07-30T08:10:42.762Z"
   },
   {
    "duration": 13,
    "start_time": "2021-07-30T08:10:42.773Z"
   },
   {
    "duration": 13,
    "start_time": "2021-07-30T08:10:42.788Z"
   },
   {
    "duration": 10,
    "start_time": "2021-07-30T08:10:42.803Z"
   },
   {
    "duration": 37,
    "start_time": "2021-07-30T08:10:42.816Z"
   },
   {
    "duration": 16,
    "start_time": "2021-07-30T08:10:42.862Z"
   },
   {
    "duration": 375,
    "start_time": "2021-07-30T08:10:42.881Z"
   },
   {
    "duration": 270,
    "start_time": "2021-07-30T08:10:43.258Z"
   },
   {
    "duration": 32,
    "start_time": "2021-07-30T08:10:43.530Z"
   },
   {
    "duration": 560,
    "start_time": "2021-07-30T08:10:43.564Z"
   },
   {
    "duration": 553,
    "start_time": "2021-07-30T08:10:44.130Z"
   },
   {
    "duration": 11,
    "start_time": "2021-07-30T08:10:44.686Z"
   },
   {
    "duration": 665,
    "start_time": "2021-07-30T08:10:44.700Z"
   },
   {
    "duration": 641,
    "start_time": "2021-07-30T08:10:45.367Z"
   },
   {
    "duration": 12,
    "start_time": "2021-07-30T08:10:46.010Z"
   },
   {
    "duration": 645,
    "start_time": "2021-07-30T08:10:46.024Z"
   },
   {
    "duration": 222,
    "start_time": "2021-07-30T08:10:46.672Z"
   },
   {
    "duration": 469,
    "start_time": "2021-07-30T08:10:46.896Z"
   },
   {
    "duration": 7,
    "start_time": "2021-07-30T08:10:47.367Z"
   },
   {
    "duration": 557,
    "start_time": "2021-07-30T08:10:47.376Z"
   },
   {
    "duration": 7,
    "start_time": "2021-07-30T08:10:47.935Z"
   },
   {
    "duration": 33,
    "start_time": "2021-07-30T08:10:47.944Z"
   },
   {
    "duration": 505,
    "start_time": "2021-07-30T08:10:47.980Z"
   },
   {
    "duration": 646,
    "start_time": "2021-07-30T08:10:48.488Z"
   },
   {
    "duration": 7,
    "start_time": "2021-07-30T08:10:49.136Z"
   },
   {
    "duration": 56,
    "start_time": "2021-07-30T08:10:49.145Z"
   },
   {
    "duration": 8,
    "start_time": "2021-07-30T08:10:49.203Z"
   },
   {
    "duration": 12,
    "start_time": "2021-07-30T08:10:49.214Z"
   },
   {
    "duration": 33,
    "start_time": "2021-07-30T08:10:49.229Z"
   },
   {
    "duration": 15,
    "start_time": "2021-07-30T08:10:49.264Z"
   },
   {
    "duration": 27,
    "start_time": "2021-07-30T08:10:49.281Z"
   },
   {
    "duration": 15,
    "start_time": "2021-07-30T08:10:49.310Z"
   },
   {
    "duration": 215,
    "start_time": "2021-07-30T08:10:49.327Z"
   },
   {
    "duration": 7,
    "start_time": "2021-07-30T08:10:49.545Z"
   },
   {
    "duration": 16,
    "start_time": "2021-07-30T08:10:49.563Z"
   },
   {
    "duration": 24,
    "start_time": "2021-07-30T08:10:49.581Z"
   },
   {
    "duration": 29,
    "start_time": "2021-07-30T08:10:49.607Z"
   },
   {
    "duration": 19,
    "start_time": "2021-07-30T08:10:49.638Z"
   },
   {
    "duration": 30,
    "start_time": "2021-07-30T08:10:49.661Z"
   },
   {
    "duration": 30,
    "start_time": "2021-07-30T08:10:49.693Z"
   },
   {
    "duration": 477,
    "start_time": "2021-07-30T08:10:49.726Z"
   },
   {
    "duration": 4,
    "start_time": "2021-07-30T08:11:40.777Z"
   },
   {
    "duration": 11,
    "start_time": "2021-07-30T08:13:27.815Z"
   },
   {
    "duration": 11,
    "start_time": "2021-07-30T08:13:59.971Z"
   },
   {
    "duration": 6,
    "start_time": "2021-07-30T08:14:22.821Z"
   },
   {
    "duration": 13,
    "start_time": "2021-07-30T08:14:34.003Z"
   },
   {
    "duration": 976,
    "start_time": "2021-07-30T08:38:54.307Z"
   },
   {
    "duration": 667,
    "start_time": "2021-07-30T08:40:34.308Z"
   },
   {
    "duration": 723,
    "start_time": "2021-07-30T08:40:50.001Z"
   },
   {
    "duration": 6,
    "start_time": "2021-07-30T08:43:25.367Z"
   },
   {
    "duration": 6,
    "start_time": "2021-07-30T08:44:32.457Z"
   },
   {
    "duration": 8,
    "start_time": "2021-07-30T08:45:18.703Z"
   },
   {
    "duration": 9,
    "start_time": "2021-07-30T08:45:49.363Z"
   },
   {
    "duration": 71,
    "start_time": "2021-07-30T08:48:29.334Z"
   },
   {
    "duration": 4,
    "start_time": "2021-07-30T08:48:46.001Z"
   },
   {
    "duration": 3,
    "start_time": "2021-07-30T08:54:41.913Z"
   },
   {
    "duration": 5,
    "start_time": "2021-07-30T08:54:43.249Z"
   },
   {
    "duration": 5,
    "start_time": "2021-07-30T08:54:45.056Z"
   },
   {
    "duration": 6,
    "start_time": "2021-07-30T08:54:46.181Z"
   },
   {
    "duration": 5,
    "start_time": "2021-07-30T08:54:47.318Z"
   },
   {
    "duration": 6,
    "start_time": "2021-07-30T08:54:49.752Z"
   },
   {
    "duration": 4,
    "start_time": "2021-07-30T08:57:29.595Z"
   },
   {
    "duration": 5,
    "start_time": "2021-07-30T08:57:30.504Z"
   },
   {
    "duration": 9,
    "start_time": "2021-07-30T08:57:33.504Z"
   },
   {
    "duration": 6,
    "start_time": "2021-07-30T08:58:59.517Z"
   },
   {
    "duration": 5,
    "start_time": "2021-07-30T09:33:27.256Z"
   },
   {
    "duration": 6,
    "start_time": "2021-07-30T09:33:28.237Z"
   },
   {
    "duration": 6,
    "start_time": "2021-07-30T09:34:31.241Z"
   },
   {
    "duration": 13,
    "start_time": "2021-07-30T09:34:43.955Z"
   },
   {
    "duration": 7,
    "start_time": "2021-07-30T09:52:43.057Z"
   },
   {
    "duration": 6,
    "start_time": "2021-07-30T09:52:53.790Z"
   },
   {
    "duration": 4,
    "start_time": "2021-07-30T10:05:18.407Z"
   },
   {
    "duration": 6,
    "start_time": "2021-07-30T10:05:22.114Z"
   },
   {
    "duration": 4,
    "start_time": "2021-07-30T10:05:23.702Z"
   },
   {
    "duration": 11,
    "start_time": "2021-07-30T10:05:26.126Z"
   },
   {
    "duration": 490,
    "start_time": "2021-07-30T10:05:28.706Z"
   },
   {
    "duration": 514,
    "start_time": "2021-07-30T10:10:52.179Z"
   },
   {
    "duration": 6,
    "start_time": "2021-07-30T10:12:39.776Z"
   },
   {
    "duration": 4,
    "start_time": "2021-07-30T10:12:40.621Z"
   },
   {
    "duration": 12,
    "start_time": "2021-07-30T10:12:41.803Z"
   },
   {
    "duration": 510,
    "start_time": "2021-07-30T10:12:43.270Z"
   },
   {
    "duration": 444,
    "start_time": "2021-07-30T10:14:22.565Z"
   },
   {
    "duration": 525,
    "start_time": "2021-07-30T10:14:29.855Z"
   },
   {
    "duration": 1343,
    "start_time": "2021-07-30T10:14:56.973Z"
   },
   {
    "duration": 5,
    "start_time": "2021-07-30T10:15:19.822Z"
   },
   {
    "duration": 10,
    "start_time": "2021-07-30T10:18:14.266Z"
   },
   {
    "duration": 7,
    "start_time": "2021-07-30T10:18:30.079Z"
   },
   {
    "duration": 5,
    "start_time": "2021-07-30T10:18:48.412Z"
   },
   {
    "duration": 7,
    "start_time": "2021-07-30T10:18:51.807Z"
   },
   {
    "duration": 8,
    "start_time": "2021-07-30T10:19:41.546Z"
   },
   {
    "duration": 4,
    "start_time": "2021-07-30T10:20:24.832Z"
   },
   {
    "duration": 5,
    "start_time": "2021-07-30T10:20:30.226Z"
   },
   {
    "duration": 4,
    "start_time": "2021-07-30T10:20:59.309Z"
   },
   {
    "duration": 359,
    "start_time": "2021-07-30T10:21:15.784Z"
   },
   {
    "duration": 4,
    "start_time": "2021-07-30T10:22:24.675Z"
   },
   {
    "duration": 6,
    "start_time": "2021-07-30T10:22:34.010Z"
   },
   {
    "duration": 4,
    "start_time": "2021-07-30T10:24:38.947Z"
   },
   {
    "duration": 7,
    "start_time": "2021-07-30T10:25:01.415Z"
   },
   {
    "duration": 6,
    "start_time": "2021-07-30T10:26:09.755Z"
   },
   {
    "duration": 6,
    "start_time": "2021-07-30T10:26:21.116Z"
   },
   {
    "duration": 5,
    "start_time": "2021-07-30T10:27:24.416Z"
   },
   {
    "duration": 16,
    "start_time": "2021-07-30T10:29:38.303Z"
   },
   {
    "duration": 14,
    "start_time": "2021-07-30T10:38:19.900Z"
   },
   {
    "duration": 5,
    "start_time": "2021-07-30T10:39:09.668Z"
   },
   {
    "duration": 5,
    "start_time": "2021-07-30T10:39:16.136Z"
   },
   {
    "duration": 20,
    "start_time": "2021-07-30T10:39:20.074Z"
   },
   {
    "duration": 428,
    "start_time": "2021-07-30T12:02:06.236Z"
   },
   {
    "duration": 1433,
    "start_time": "2021-07-30T12:02:18.397Z"
   },
   {
    "duration": 33,
    "start_time": "2021-07-30T12:02:19.833Z"
   },
   {
    "duration": 10,
    "start_time": "2021-07-30T12:02:19.870Z"
   },
   {
    "duration": 19,
    "start_time": "2021-07-30T12:02:19.884Z"
   },
   {
    "duration": 19,
    "start_time": "2021-07-30T12:02:19.906Z"
   },
   {
    "duration": 14,
    "start_time": "2021-07-30T12:02:19.928Z"
   },
   {
    "duration": 72,
    "start_time": "2021-07-30T12:02:19.945Z"
   },
   {
    "duration": 8,
    "start_time": "2021-07-30T12:02:20.022Z"
   },
   {
    "duration": 14,
    "start_time": "2021-07-30T12:02:20.033Z"
   },
   {
    "duration": 51,
    "start_time": "2021-07-30T12:02:20.050Z"
   },
   {
    "duration": 27,
    "start_time": "2021-07-30T12:02:20.104Z"
   },
   {
    "duration": 10,
    "start_time": "2021-07-30T12:02:20.134Z"
   },
   {
    "duration": 10,
    "start_time": "2021-07-30T12:02:20.146Z"
   },
   {
    "duration": 42,
    "start_time": "2021-07-30T12:02:20.158Z"
   },
   {
    "duration": 10,
    "start_time": "2021-07-30T12:02:20.203Z"
   },
   {
    "duration": 8,
    "start_time": "2021-07-30T12:02:20.215Z"
   },
   {
    "duration": 28,
    "start_time": "2021-07-30T12:02:20.226Z"
   },
   {
    "duration": 9,
    "start_time": "2021-07-30T12:02:20.257Z"
   },
   {
    "duration": 358,
    "start_time": "2021-07-30T12:02:20.268Z"
   },
   {
    "duration": 277,
    "start_time": "2021-07-30T12:02:20.629Z"
   },
   {
    "duration": 10,
    "start_time": "2021-07-30T12:02:20.909Z"
   },
   {
    "duration": 539,
    "start_time": "2021-07-30T12:02:20.922Z"
   },
   {
    "duration": 525,
    "start_time": "2021-07-30T12:02:21.468Z"
   },
   {
    "duration": 11,
    "start_time": "2021-07-30T12:02:21.997Z"
   },
   {
    "duration": 595,
    "start_time": "2021-07-30T12:02:22.010Z"
   },
   {
    "duration": 525,
    "start_time": "2021-07-30T12:02:22.608Z"
   },
   {
    "duration": 13,
    "start_time": "2021-07-30T12:02:23.136Z"
   },
   {
    "duration": 637,
    "start_time": "2021-07-30T12:02:23.153Z"
   },
   {
    "duration": 252,
    "start_time": "2021-07-30T12:02:23.801Z"
   },
   {
    "duration": 478,
    "start_time": "2021-07-30T12:02:24.056Z"
   },
   {
    "duration": 8,
    "start_time": "2021-07-30T12:02:24.537Z"
   },
   {
    "duration": 589,
    "start_time": "2021-07-30T12:02:24.548Z"
   },
   {
    "duration": 7,
    "start_time": "2021-07-30T12:02:25.140Z"
   },
   {
    "duration": 14,
    "start_time": "2021-07-30T12:02:25.150Z"
   },
   {
    "duration": 539,
    "start_time": "2021-07-30T12:02:25.167Z"
   },
   {
    "duration": 745,
    "start_time": "2021-07-30T12:02:25.709Z"
   },
   {
    "duration": 7,
    "start_time": "2021-07-30T12:02:26.456Z"
   },
   {
    "duration": 63,
    "start_time": "2021-07-30T12:02:26.465Z"
   },
   {
    "duration": 9,
    "start_time": "2021-07-30T12:02:26.531Z"
   },
   {
    "duration": 15,
    "start_time": "2021-07-30T12:02:26.543Z"
   },
   {
    "duration": 8,
    "start_time": "2021-07-30T12:02:26.561Z"
   },
   {
    "duration": 35,
    "start_time": "2021-07-30T12:02:26.571Z"
   },
   {
    "duration": 39,
    "start_time": "2021-07-30T12:02:26.608Z"
   },
   {
    "duration": 16,
    "start_time": "2021-07-30T12:02:26.650Z"
   },
   {
    "duration": 292,
    "start_time": "2021-07-30T12:02:26.668Z"
   },
   {
    "duration": 8,
    "start_time": "2021-07-30T12:02:26.963Z"
   },
   {
    "duration": 30,
    "start_time": "2021-07-30T12:02:26.973Z"
   },
   {
    "duration": 20,
    "start_time": "2021-07-30T12:02:27.006Z"
   },
   {
    "duration": 7,
    "start_time": "2021-07-30T12:02:27.029Z"
   },
   {
    "duration": 11,
    "start_time": "2021-07-30T12:02:27.039Z"
   },
   {
    "duration": 54,
    "start_time": "2021-07-30T12:02:27.053Z"
   },
   {
    "duration": 30,
    "start_time": "2021-07-30T12:02:27.109Z"
   },
   {
    "duration": 9,
    "start_time": "2021-07-30T12:02:27.143Z"
   },
   {
    "duration": 11,
    "start_time": "2021-07-30T12:02:27.155Z"
   },
   {
    "duration": 10,
    "start_time": "2021-07-30T12:02:48.346Z"
   },
   {
    "duration": 110,
    "start_time": "2021-07-30T12:02:57.819Z"
   },
   {
    "duration": 8,
    "start_time": "2021-07-30T12:03:07.814Z"
   },
   {
    "duration": 10,
    "start_time": "2021-07-30T12:03:09.321Z"
   },
   {
    "duration": 5,
    "start_time": "2021-07-30T12:03:35.263Z"
   },
   {
    "duration": 10,
    "start_time": "2021-07-30T12:03:37.051Z"
   },
   {
    "duration": 5,
    "start_time": "2021-07-30T12:08:43.315Z"
   },
   {
    "duration": 9,
    "start_time": "2021-07-30T12:08:48.420Z"
   },
   {
    "duration": 1406,
    "start_time": "2021-07-30T12:09:07.986Z"
   },
   {
    "duration": 32,
    "start_time": "2021-07-30T12:09:09.395Z"
   },
   {
    "duration": 10,
    "start_time": "2021-07-30T12:09:09.430Z"
   },
   {
    "duration": 10,
    "start_time": "2021-07-30T12:09:09.443Z"
   },
   {
    "duration": 21,
    "start_time": "2021-07-30T12:09:09.455Z"
   },
   {
    "duration": 37,
    "start_time": "2021-07-30T12:09:09.479Z"
   },
   {
    "duration": 60,
    "start_time": "2021-07-30T12:09:09.518Z"
   },
   {
    "duration": 8,
    "start_time": "2021-07-30T12:09:09.582Z"
   },
   {
    "duration": 12,
    "start_time": "2021-07-30T12:09:09.593Z"
   },
   {
    "duration": 19,
    "start_time": "2021-07-30T12:09:09.607Z"
   },
   {
    "duration": 24,
    "start_time": "2021-07-30T12:09:09.629Z"
   },
   {
    "duration": 9,
    "start_time": "2021-07-30T12:09:09.656Z"
   },
   {
    "duration": 35,
    "start_time": "2021-07-30T12:09:09.667Z"
   },
   {
    "duration": 10,
    "start_time": "2021-07-30T12:09:09.705Z"
   },
   {
    "duration": 7,
    "start_time": "2021-07-30T12:09:09.717Z"
   },
   {
    "duration": 8,
    "start_time": "2021-07-30T12:09:09.727Z"
   },
   {
    "duration": 24,
    "start_time": "2021-07-30T12:09:09.737Z"
   },
   {
    "duration": 42,
    "start_time": "2021-07-30T12:09:09.763Z"
   },
   {
    "duration": 348,
    "start_time": "2021-07-30T12:09:09.808Z"
   },
   {
    "duration": 272,
    "start_time": "2021-07-30T12:09:10.158Z"
   },
   {
    "duration": 11,
    "start_time": "2021-07-30T12:09:10.432Z"
   },
   {
    "duration": 534,
    "start_time": "2021-07-30T12:09:10.446Z"
   },
   {
    "duration": 539,
    "start_time": "2021-07-30T12:09:10.988Z"
   },
   {
    "duration": 13,
    "start_time": "2021-07-30T12:09:11.531Z"
   },
   {
    "duration": 668,
    "start_time": "2021-07-30T12:09:11.547Z"
   },
   {
    "duration": 528,
    "start_time": "2021-07-30T12:09:12.217Z"
   },
   {
    "duration": 11,
    "start_time": "2021-07-30T12:09:12.748Z"
   },
   {
    "duration": 624,
    "start_time": "2021-07-30T12:09:12.761Z"
   },
   {
    "duration": 281,
    "start_time": "2021-07-30T12:09:13.388Z"
   },
   {
    "duration": 469,
    "start_time": "2021-07-30T12:09:13.672Z"
   },
   {
    "duration": 8,
    "start_time": "2021-07-30T12:09:14.144Z"
   },
   {
    "duration": 590,
    "start_time": "2021-07-30T12:09:14.154Z"
   },
   {
    "duration": 7,
    "start_time": "2021-07-30T12:09:14.747Z"
   },
   {
    "duration": 18,
    "start_time": "2021-07-30T12:09:14.757Z"
   },
   {
    "duration": 504,
    "start_time": "2021-07-30T12:09:14.802Z"
   },
   {
    "duration": 665,
    "start_time": "2021-07-30T12:09:15.308Z"
   },
   {
    "duration": 6,
    "start_time": "2021-07-30T12:09:15.976Z"
   },
   {
    "duration": 52,
    "start_time": "2021-07-30T12:09:16.000Z"
   },
   {
    "duration": 9,
    "start_time": "2021-07-30T12:09:16.055Z"
   },
   {
    "duration": 37,
    "start_time": "2021-07-30T12:09:16.066Z"
   },
   {
    "duration": 13,
    "start_time": "2021-07-30T12:09:16.105Z"
   },
   {
    "duration": 17,
    "start_time": "2021-07-30T12:09:16.121Z"
   },
   {
    "duration": 29,
    "start_time": "2021-07-30T12:09:16.140Z"
   },
   {
    "duration": 34,
    "start_time": "2021-07-30T12:09:16.171Z"
   },
   {
    "duration": 256,
    "start_time": "2021-07-30T12:09:16.208Z"
   },
   {
    "duration": 9,
    "start_time": "2021-07-30T12:09:16.467Z"
   },
   {
    "duration": 30,
    "start_time": "2021-07-30T12:09:16.479Z"
   },
   {
    "duration": 21,
    "start_time": "2021-07-30T12:09:16.512Z"
   },
   {
    "duration": 7,
    "start_time": "2021-07-30T12:09:16.536Z"
   },
   {
    "duration": 13,
    "start_time": "2021-07-30T12:09:16.545Z"
   },
   {
    "duration": 51,
    "start_time": "2021-07-30T12:09:16.562Z"
   },
   {
    "duration": 35,
    "start_time": "2021-07-30T12:09:16.616Z"
   },
   {
    "duration": 9,
    "start_time": "2021-07-30T12:09:16.654Z"
   },
   {
    "duration": 42,
    "start_time": "2021-07-30T12:09:16.665Z"
   },
   {
    "duration": 22,
    "start_time": "2021-07-30T12:09:16.710Z"
   },
   {
    "duration": 482,
    "start_time": "2021-07-30T12:09:59.474Z"
   },
   {
    "duration": 362,
    "start_time": "2021-07-30T12:10:42.508Z"
   },
   {
    "duration": 376,
    "start_time": "2021-07-30T12:10:58.553Z"
   },
   {
    "duration": 403,
    "start_time": "2021-07-30T12:11:18.911Z"
   },
   {
    "duration": 424,
    "start_time": "2021-07-30T12:12:30.385Z"
   },
   {
    "duration": 369,
    "start_time": "2021-07-30T12:21:28.783Z"
   },
   {
    "duration": 10,
    "start_time": "2021-07-30T12:24:56.126Z"
   },
   {
    "duration": 8,
    "start_time": "2021-07-30T12:25:36.129Z"
   },
   {
    "duration": 366,
    "start_time": "2021-07-30T13:11:02.186Z"
   },
   {
    "duration": 359,
    "start_time": "2021-07-30T13:13:31.686Z"
   },
   {
    "duration": 7,
    "start_time": "2021-07-30T13:15:11.978Z"
   },
   {
    "duration": 360,
    "start_time": "2021-07-30T13:15:13.882Z"
   },
   {
    "duration": 10,
    "start_time": "2021-07-30T13:15:45.828Z"
   },
   {
    "duration": 11,
    "start_time": "2021-07-30T13:16:01.370Z"
   },
   {
    "duration": 15,
    "start_time": "2021-07-30T13:16:38.924Z"
   },
   {
    "duration": 7,
    "start_time": "2021-07-30T13:17:06.388Z"
   },
   {
    "duration": 17,
    "start_time": "2021-07-30T13:17:07.950Z"
   },
   {
    "duration": 14,
    "start_time": "2021-07-30T13:17:26.290Z"
   },
   {
    "duration": 8,
    "start_time": "2021-07-30T13:17:32.225Z"
   },
   {
    "duration": 16,
    "start_time": "2021-07-30T13:17:34.330Z"
   },
   {
    "duration": 1329,
    "start_time": "2021-08-22T01:43:21.373Z"
   },
   {
    "duration": 33,
    "start_time": "2021-08-22T01:43:22.705Z"
   },
   {
    "duration": 13,
    "start_time": "2021-08-22T01:43:22.741Z"
   },
   {
    "duration": 11,
    "start_time": "2021-08-22T01:43:22.758Z"
   },
   {
    "duration": 30,
    "start_time": "2021-08-22T01:43:22.771Z"
   },
   {
    "duration": 15,
    "start_time": "2021-08-22T01:43:22.803Z"
   },
   {
    "duration": 58,
    "start_time": "2021-08-22T01:43:22.820Z"
   },
   {
    "duration": 9,
    "start_time": "2021-08-22T01:43:22.882Z"
   },
   {
    "duration": 9,
    "start_time": "2021-08-22T01:43:22.894Z"
   },
   {
    "duration": 20,
    "start_time": "2021-08-22T01:43:22.905Z"
   },
   {
    "duration": 36,
    "start_time": "2021-08-22T01:43:22.927Z"
   },
   {
    "duration": 12,
    "start_time": "2021-08-22T01:43:22.965Z"
   },
   {
    "duration": 9,
    "start_time": "2021-08-22T01:43:22.980Z"
   },
   {
    "duration": 7,
    "start_time": "2021-08-22T01:43:22.992Z"
   },
   {
    "duration": 9,
    "start_time": "2021-08-22T01:43:23.001Z"
   },
   {
    "duration": 42,
    "start_time": "2021-08-22T01:43:23.013Z"
   },
   {
    "duration": 19,
    "start_time": "2021-08-22T01:43:23.058Z"
   },
   {
    "duration": 8,
    "start_time": "2021-08-22T01:43:23.079Z"
   },
   {
    "duration": 365,
    "start_time": "2021-08-22T01:43:23.090Z"
   },
   {
    "duration": 275,
    "start_time": "2021-08-22T01:43:23.458Z"
   },
   {
    "duration": 25,
    "start_time": "2021-08-22T01:43:23.736Z"
   },
   {
    "duration": 561,
    "start_time": "2021-08-22T01:43:23.763Z"
   },
   {
    "duration": 536,
    "start_time": "2021-08-22T01:43:24.330Z"
   },
   {
    "duration": 11,
    "start_time": "2021-08-22T01:43:24.869Z"
   },
   {
    "duration": 643,
    "start_time": "2021-08-22T01:43:24.883Z"
   },
   {
    "duration": 536,
    "start_time": "2021-08-22T01:43:25.528Z"
   },
   {
    "duration": 13,
    "start_time": "2021-08-22T01:43:26.067Z"
   },
   {
    "duration": 679,
    "start_time": "2021-08-22T01:43:26.082Z"
   },
   {
    "duration": 245,
    "start_time": "2021-08-22T01:43:26.763Z"
   },
   {
    "duration": 590,
    "start_time": "2021-08-22T01:43:27.011Z"
   },
   {
    "duration": 7,
    "start_time": "2021-08-22T01:43:27.603Z"
   },
   {
    "duration": 606,
    "start_time": "2021-08-22T01:43:27.612Z"
   },
   {
    "duration": 7,
    "start_time": "2021-08-22T01:43:28.220Z"
   },
   {
    "duration": 19,
    "start_time": "2021-08-22T01:43:28.229Z"
   },
   {
    "duration": 712,
    "start_time": "2021-08-22T01:43:28.250Z"
   },
   {
    "duration": 757,
    "start_time": "2021-08-22T01:43:28.964Z"
   },
   {
    "duration": 7,
    "start_time": "2021-08-22T01:43:29.724Z"
   },
   {
    "duration": 59,
    "start_time": "2021-08-22T01:43:29.733Z"
   },
   {
    "duration": 9,
    "start_time": "2021-08-22T01:43:29.794Z"
   },
   {
    "duration": 23,
    "start_time": "2021-08-22T01:43:29.806Z"
   },
   {
    "duration": 13,
    "start_time": "2021-08-22T01:43:29.831Z"
   },
   {
    "duration": 13,
    "start_time": "2021-08-22T01:43:29.854Z"
   },
   {
    "duration": 33,
    "start_time": "2021-08-22T01:43:29.869Z"
   },
   {
    "duration": 16,
    "start_time": "2021-08-22T01:43:29.905Z"
   },
   {
    "duration": 198,
    "start_time": "2021-08-22T01:43:29.924Z"
   },
   {
    "duration": 8,
    "start_time": "2021-08-22T01:43:30.124Z"
   },
   {
    "duration": 35,
    "start_time": "2021-08-22T01:43:30.135Z"
   },
   {
    "duration": 33,
    "start_time": "2021-08-22T01:43:30.172Z"
   },
   {
    "duration": 24,
    "start_time": "2021-08-22T01:43:30.207Z"
   },
   {
    "duration": 43,
    "start_time": "2021-08-22T01:43:30.233Z"
   },
   {
    "duration": 36,
    "start_time": "2021-08-22T01:43:30.278Z"
   },
   {
    "duration": 22,
    "start_time": "2021-08-22T01:43:30.316Z"
   },
   {
    "duration": 47,
    "start_time": "2021-08-22T01:43:30.341Z"
   },
   {
    "duration": 1333,
    "start_time": "2021-08-22T01:45:46.089Z"
   },
   {
    "duration": 31,
    "start_time": "2021-08-22T01:45:47.425Z"
   },
   {
    "duration": 22,
    "start_time": "2021-08-22T01:45:47.460Z"
   },
   {
    "duration": 8,
    "start_time": "2021-08-22T01:45:47.484Z"
   },
   {
    "duration": 19,
    "start_time": "2021-08-22T01:45:47.494Z"
   },
   {
    "duration": 38,
    "start_time": "2021-08-22T01:45:47.516Z"
   },
   {
    "duration": 48,
    "start_time": "2021-08-22T01:45:47.557Z"
   },
   {
    "duration": 8,
    "start_time": "2021-08-22T01:45:47.609Z"
   },
   {
    "duration": 11,
    "start_time": "2021-08-22T01:45:47.621Z"
   },
   {
    "duration": 25,
    "start_time": "2021-08-22T01:45:47.635Z"
   },
   {
    "duration": 26,
    "start_time": "2021-08-22T01:45:47.662Z"
   },
   {
    "duration": 14,
    "start_time": "2021-08-22T01:45:47.691Z"
   },
   {
    "duration": 24,
    "start_time": "2021-08-22T01:45:47.707Z"
   },
   {
    "duration": 24,
    "start_time": "2021-08-22T01:45:47.733Z"
   },
   {
    "duration": 16,
    "start_time": "2021-08-22T01:45:47.759Z"
   },
   {
    "duration": 14,
    "start_time": "2021-08-22T01:45:47.777Z"
   },
   {
    "duration": 32,
    "start_time": "2021-08-22T01:45:47.793Z"
   },
   {
    "duration": 23,
    "start_time": "2021-08-22T01:45:47.828Z"
   },
   {
    "duration": 345,
    "start_time": "2021-08-22T01:45:47.854Z"
   },
   {
    "duration": 281,
    "start_time": "2021-08-22T01:45:48.202Z"
   },
   {
    "duration": 11,
    "start_time": "2021-08-22T01:45:48.486Z"
   },
   {
    "duration": 534,
    "start_time": "2021-08-22T01:45:48.500Z"
   },
   {
    "duration": 581,
    "start_time": "2021-08-22T01:45:49.040Z"
   },
   {
    "duration": 30,
    "start_time": "2021-08-22T01:45:49.626Z"
   },
   {
    "duration": 596,
    "start_time": "2021-08-22T01:45:49.658Z"
   },
   {
    "duration": 564,
    "start_time": "2021-08-22T01:45:50.257Z"
   },
   {
    "duration": 13,
    "start_time": "2021-08-22T01:45:50.823Z"
   },
   {
    "duration": 616,
    "start_time": "2021-08-22T01:45:50.838Z"
   },
   {
    "duration": 244,
    "start_time": "2021-08-22T01:45:51.457Z"
   },
   {
    "duration": 461,
    "start_time": "2021-08-22T01:45:51.704Z"
   },
   {
    "duration": 7,
    "start_time": "2021-08-22T01:45:52.167Z"
   },
   {
    "duration": 546,
    "start_time": "2021-08-22T01:45:52.176Z"
   },
   {
    "duration": 8,
    "start_time": "2021-08-22T01:45:52.724Z"
   },
   {
    "duration": 30,
    "start_time": "2021-08-22T01:45:52.735Z"
   },
   {
    "duration": 501,
    "start_time": "2021-08-22T01:45:52.768Z"
   },
   {
    "duration": 644,
    "start_time": "2021-08-22T01:45:53.272Z"
   },
   {
    "duration": 8,
    "start_time": "2021-08-22T01:45:53.919Z"
   },
   {
    "duration": 61,
    "start_time": "2021-08-22T01:45:53.930Z"
   },
   {
    "duration": 10,
    "start_time": "2021-08-22T01:45:53.994Z"
   },
   {
    "duration": 14,
    "start_time": "2021-08-22T01:45:54.006Z"
   },
   {
    "duration": 8,
    "start_time": "2021-08-22T01:45:54.023Z"
   },
   {
    "duration": 11,
    "start_time": "2021-08-22T01:45:54.056Z"
   },
   {
    "duration": 31,
    "start_time": "2021-08-22T01:45:54.070Z"
   },
   {
    "duration": 16,
    "start_time": "2021-08-22T01:45:54.103Z"
   },
   {
    "duration": 233,
    "start_time": "2021-08-22T01:45:54.121Z"
   },
   {
    "duration": 9,
    "start_time": "2021-08-22T01:45:54.356Z"
   },
   {
    "duration": 12,
    "start_time": "2021-08-22T01:45:54.367Z"
   },
   {
    "duration": 22,
    "start_time": "2021-08-22T01:45:54.382Z"
   },
   {
    "duration": 7,
    "start_time": "2021-08-22T01:45:54.407Z"
   },
   {
    "duration": 13,
    "start_time": "2021-08-22T01:45:54.456Z"
   },
   {
    "duration": 12,
    "start_time": "2021-08-22T01:45:54.472Z"
   },
   {
    "duration": 17,
    "start_time": "2021-08-22T01:45:54.487Z"
   },
   {
    "duration": 67,
    "start_time": "2021-08-22T01:45:54.507Z"
   }
  ],
  "kernelspec": {
   "display_name": "Python 3",
   "language": "python",
   "name": "python3"
  },
  "language_info": {
   "codemirror_mode": {
    "name": "ipython",
    "version": 3
   },
   "file_extension": ".py",
   "mimetype": "text/x-python",
   "name": "python",
   "nbconvert_exporter": "python",
   "pygments_lexer": "ipython3",
   "version": "3.7.8"
  },
  "toc": {
   "base_numbering": 1,
   "nav_menu": {},
   "number_sections": true,
   "sideBar": true,
   "skip_h1_title": true,
   "title_cell": "Table of Contents",
   "title_sidebar": "Contents",
   "toc_cell": true,
   "toc_position": {
    "height": "calc(100% - 180px)",
    "left": "10px",
    "top": "150px",
    "width": "327px"
   },
   "toc_section_display": true,
   "toc_window_display": true
  }
 },
 "nbformat": 4,
 "nbformat_minor": 2
}
